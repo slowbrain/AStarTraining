{
 "cells": [
  {
   "cell_type": "markdown",
   "metadata": {},
   "source": [
    "# Using Immutables for Efficiency"
   ]
  },
  {
   "cell_type": "markdown",
   "metadata": {
    "collapsed": true
   },
   "source": [
    "Memory hierarchy chrash course\n",
    "\n",
    "1. When CPU runs an instruction it operates on things in the registers. There are very few of these in a computer, these are the %1s and %2s when you run @code_llvm. If something is not in the CPU registers, the CPU needs to fetch the data from memory: this is SLOW!!!\n",
    "2. The CPU first looks at L1 cache, then L2 cache then Main memory and then Swap space - L1, L2 caches are still small (order of megabytes), but hitting them often will give orders of magnitude performance gain as compared to hitting main memory that often\n",
    "3. The computer optimistically brings things from main memory onto the caches when you access a chunk of data. Hence if you access data that is continuous in memory, they all get asynchronously brought into the cache and your program will be really fast."
   ]
  },
  {
   "cell_type": "markdown",
   "metadata": {},
   "source": [
    "## Memory layout of an array of mutable `type` objects"
   ]
  },
  {
   "cell_type": "code",
   "execution_count": 1,
   "metadata": {
    "collapsed": true
   },
   "outputs": [],
   "source": [
    "abstract TestType"
   ]
  },
  {
   "cell_type": "code",
   "execution_count": 2,
   "metadata": {
    "collapsed": false
   },
   "outputs": [],
   "source": [
    "type Typ <: TestType\n",
    "    x::Int16\n",
    "    y::Int16\n",
    "end"
   ]
  },
  {
   "cell_type": "code",
   "execution_count": 3,
   "metadata": {
    "collapsed": false
   },
   "outputs": [],
   "source": [
    "Base.:+{T<:TestType}(a::T, b::T) = T(a.x+b.x, a.y+b.y)"
   ]
  },
  {
   "cell_type": "code",
   "execution_count": 4,
   "metadata": {
    "collapsed": false
   },
   "outputs": [
    {
     "data": {
      "text/plain": [
       "Typ(6,6)"
      ]
     },
     "execution_count": 4,
     "metadata": {},
     "output_type": "execute_result"
    }
   ],
   "source": [
    "Typ(2,2) + Typ(4,4)"
   ]
  },
  {
   "cell_type": "markdown",
   "metadata": {},
   "source": [
    "The size of `Typ` is 4 bytes."
   ]
  },
  {
   "cell_type": "code",
   "execution_count": 5,
   "metadata": {
    "collapsed": false
   },
   "outputs": [
    {
     "data": {
      "text/plain": [
       "4"
      ]
     },
     "execution_count": 5,
     "metadata": {},
     "output_type": "execute_result"
    }
   ],
   "source": [
    "sizeof(Typ(2,2))"
   ]
  },
  {
   "cell_type": "code",
   "execution_count": 6,
   "metadata": {
    "collapsed": false
   },
   "outputs": [
    {
     "name": "stdout",
     "output_type": "stream",
     "text": [
      "  0.093991 seconds (1.02 M allocations: 23.710 MB, 13.26% gc time)\n"
     ]
    }
   ],
   "source": [
    "@time typ_arr = [Typ(i%127,i%127) for i=1:10^6];"
   ]
  },
  {
   "cell_type": "markdown",
   "metadata": {},
   "source": [
    "Notice the allocation. And then notice that this array is 2x bigger than it should be!!"
   ]
  },
  {
   "cell_type": "code",
   "execution_count": 7,
   "metadata": {
    "collapsed": false
   },
   "outputs": [
    {
     "data": {
      "text/plain": [
       "8000000"
      ]
     },
     "execution_count": 7,
     "metadata": {},
     "output_type": "execute_result"
    }
   ],
   "source": [
    "sizeof(typ_arr)"
   ]
  },
  {
   "cell_type": "code",
   "execution_count": 8,
   "metadata": {
    "collapsed": false
   },
   "outputs": [
    {
     "data": {
      "text/plain": [
       "8.0"
      ]
     },
     "execution_count": 8,
     "metadata": {},
     "output_type": "execute_result"
    }
   ],
   "source": [
    "sizeof(typ_arr) / 10^6 # bytes per object"
   ]
  },
  {
   "cell_type": "markdown",
   "metadata": {},
   "source": [
    "This is because mutable objects are **passed by reference**!! The objects are being \"boxed\"."
   ]
  },
  {
   "cell_type": "markdown",
   "metadata": {},
   "source": [
    "This is to make the following possible:"
   ]
  },
  {
   "cell_type": "code",
   "execution_count": 9,
   "metadata": {
    "collapsed": false
   },
   "outputs": [
    {
     "data": {
      "text/plain": [
       "Typ(42,3)"
      ]
     },
     "execution_count": 9,
     "metadata": {},
     "output_type": "execute_result"
    }
   ],
   "source": [
    "function someone_else_doing_something_else(a::Typ)\n",
    "    a.x = 42\n",
    "end\n",
    "\n",
    "someone_else_doing_something_else(typ_arr[3])\n",
    "typ_arr[3]"
   ]
  },
  {
   "cell_type": "markdown",
   "metadata": {},
   "source": [
    "Sum could also have been much more efficient...."
   ]
  },
  {
   "cell_type": "code",
   "execution_count": 10,
   "metadata": {
    "collapsed": false
   },
   "outputs": [
    {
     "name": "stdout",
     "output_type": "stream",
     "text": [
      "  0.106341 seconds (1.02 M allocations: 15.939 MB, 43.44% gc time)\n"
     ]
    },
    {
     "data": {
      "text/plain": [
       "Typ(19820,19781)"
      ]
     },
     "execution_count": 10,
     "metadata": {},
     "output_type": "execute_result"
    }
   ],
   "source": [
    "@time sum(typ_arr)"
   ]
  },
  {
   "cell_type": "markdown",
   "metadata": {},
   "source": [
    "## Memory layout of an array of Immutables"
   ]
  },
  {
   "cell_type": "code",
   "execution_count": 11,
   "metadata": {
    "collapsed": false
   },
   "outputs": [],
   "source": [
    "immutable Imm <: TestType\n",
    "    x::Int16\n",
    "    y::Int16\n",
    "end"
   ]
  },
  {
   "cell_type": "code",
   "execution_count": 12,
   "metadata": {
    "collapsed": false
   },
   "outputs": [
    {
     "data": {
      "text/plain": [
       "4"
      ]
     },
     "execution_count": 12,
     "metadata": {},
     "output_type": "execute_result"
    }
   ],
   "source": [
    "sizeof(Imm(2,2))"
   ]
  },
  {
   "cell_type": "code",
   "execution_count": 13,
   "metadata": {
    "collapsed": false
   },
   "outputs": [
    {
     "name": "stdout",
     "output_type": "stream",
     "text": [
      "  0.095490 seconds (18.44 k allocations: 4.649 MB)\n"
     ]
    }
   ],
   "source": [
    "@time imm_arr = [Imm(i%127,i%127) for i=1:10^6];"
   ]
  },
  {
   "cell_type": "code",
   "execution_count": 14,
   "metadata": {
    "collapsed": false
   },
   "outputs": [
    {
     "data": {
      "text/plain": [
       "4000000"
      ]
     },
     "execution_count": 14,
     "metadata": {},
     "output_type": "execute_result"
    }
   ],
   "source": [
    "sizeof(imm_arr)"
   ]
  },
  {
   "cell_type": "markdown",
   "metadata": {},
   "source": [
    "**Seems correct!**"
   ]
  },
  {
   "cell_type": "markdown",
   "metadata": {},
   "source": [
    "Since immutables can never be changed, their value _is_ their identity, the compiler can **pass them by value**"
   ]
  },
  {
   "cell_type": "code",
   "execution_count": 15,
   "metadata": {
    "collapsed": true
   },
   "outputs": [],
   "source": [
    "Base.:+(a::Imm, b::Imm) = Imm(a.x+b.x, a.y+b.y)"
   ]
  },
  {
   "cell_type": "code",
   "execution_count": 16,
   "metadata": {
    "collapsed": false
   },
   "outputs": [
    {
     "name": "stdout",
     "output_type": "stream",
     "text": [
      "  0.110667 seconds (1.00 M allocations: 15.259 MB, 58.57% gc time)\n"
     ]
    },
    {
     "data": {
      "text/plain": [
       "Typ(19820,19781)"
      ]
     },
     "execution_count": 16,
     "metadata": {},
     "output_type": "execute_result"
    }
   ],
   "source": [
    "@time sum(typ_arr)"
   ]
  },
  {
   "cell_type": "markdown",
   "metadata": {},
   "source": [
    "The allocation is the same as adding Float *values*"
   ]
  },
  {
   "cell_type": "code",
   "execution_count": 17,
   "metadata": {
    "collapsed": false
   },
   "outputs": [
    {
     "name": "stdout",
     "output_type": "stream",
     "text": [
      "  0.058288 seconds (13.57 k allocations: 635.952 KB)\n"
     ]
    },
    {
     "data": {
      "text/plain": [
       "499822.0221539438"
      ]
     },
     "execution_count": 17,
     "metadata": {},
     "output_type": "execute_result"
    }
   ],
   "source": [
    "x = rand(10^6)\n",
    "\n",
    "@time sum(x)"
   ]
  },
  {
   "cell_type": "markdown",
   "metadata": {},
   "source": [
    "The compiler can do this optimization because it knows someone else won't be changing the insides of the `Imm` object!"
   ]
  },
  {
   "cell_type": "code",
   "execution_count": 18,
   "metadata": {
    "collapsed": false
   },
   "outputs": [
    {
     "ename": "LoadError",
     "evalue": "type is immutable",
     "output_type": "error",
     "traceback": [
      "type is immutable",
      "",
      " in someone_else_doing_something_else(::Imm) at ./In[18]:2",
      " in execute_request(::ZMQ.Socket, ::IJulia.Msg) at /home/shashi/.julia/v0.5/IJulia/src/execute_request.jl:175",
      " in eventloop(::ZMQ.Socket) at /home/shashi/.julia/v0.5/IJulia/src/eventloop.jl:8",
      " in (::IJulia.##13#19)() at ./task.jl:360"
     ]
    }
   ],
   "source": [
    "function someone_else_doing_something_else(a::Imm)\n",
    "    a.x = 42 # This is not allowed!!\n",
    "end\n",
    "\n",
    "someone_else_doing_something_else(imm_arr[3])"
   ]
  },
  {
   "cell_type": "markdown",
   "metadata": {},
   "source": [
    "If you don't know the type of the insides of an immutable type, you can tack on a type parameter.\n",
    "\n",
    "For example"
   ]
  },
  {
   "cell_type": "code",
   "execution_count": 19,
   "metadata": {
    "collapsed": false
   },
   "outputs": [],
   "source": [
    "immutable ImmParam{T} <: TestType\n",
    "    x::T\n",
    "    y::T\n",
    "end"
   ]
  },
  {
   "cell_type": "code",
   "execution_count": 20,
   "metadata": {
    "collapsed": false
   },
   "outputs": [
    {
     "data": {
      "text/plain": [
       "32"
      ]
     },
     "execution_count": 20,
     "metadata": {},
     "output_type": "execute_result"
    }
   ],
   "source": [
    "sizeof(ImmParam{Int128}) # sizeof also works on the "
   ]
  },
  {
   "cell_type": "code",
   "execution_count": 21,
   "metadata": {
    "collapsed": false
   },
   "outputs": [
    {
     "data": {
      "text/plain": [
       "2"
      ]
     },
     "execution_count": 21,
     "metadata": {},
     "output_type": "execute_result"
    }
   ],
   "source": [
    "sizeof(ImmParam{Int8})"
   ]
  },
  {
   "cell_type": "code",
   "execution_count": 22,
   "metadata": {
    "collapsed": false
   },
   "outputs": [
    {
     "data": {
      "text/plain": [
       "false"
      ]
     },
     "execution_count": 22,
     "metadata": {},
     "output_type": "execute_result"
    }
   ],
   "source": [
    "ImmParam{Int8} == ImmParam{Int64}"
   ]
  },
  {
   "cell_type": "code",
   "execution_count": 23,
   "metadata": {
    "collapsed": false
   },
   "outputs": [
    {
     "data": {
      "text/plain": [
       "ImmParam{Float64}(1.0,2.0)"
      ]
     },
     "execution_count": 23,
     "metadata": {},
     "output_type": "execute_result"
    }
   ],
   "source": [
    "ImmParam(1.0,2.0) # Julia can automatically infer this"
   ]
  },
  {
   "cell_type": "code",
   "execution_count": 24,
   "metadata": {
    "collapsed": false
   },
   "outputs": [
    {
     "data": {
      "text/plain": [
       "ImmParam{Int64}(1,2)"
      ]
     },
     "execution_count": 24,
     "metadata": {},
     "output_type": "execute_result"
    }
   ],
   "source": [
    "ImmParam(1,2)"
   ]
  },
  {
   "cell_type": "code",
   "execution_count": 25,
   "metadata": {
    "collapsed": false
   },
   "outputs": [
    {
     "ename": "LoadError",
     "evalue": "MethodError: no method matching ImmParam{T}(::Float64, ::Int64)\u001b[0m\nClosest candidates are:\n  ImmParam{T}{T}(::T, \u001b[1m\u001b[31m::T\u001b[0m) at In[19]:2\n  ImmParam{T}{T}(::Any) at sysimg.jl:53\u001b[0m",
     "output_type": "error",
     "traceback": [
      "MethodError: no method matching ImmParam{T}(::Float64, ::Int64)\u001b[0m\nClosest candidates are:\n  ImmParam{T}{T}(::T, \u001b[1m\u001b[31m::T\u001b[0m) at In[19]:2\n  ImmParam{T}{T}(::Any) at sysimg.jl:53\u001b[0m",
      "",
      " in execute_request(::ZMQ.Socket, ::IJulia.Msg) at /home/shashi/.julia/v0.5/IJulia/src/execute_request.jl:175",
      " in eventloop(::ZMQ.Socket) at /home/shashi/.julia/v0.5/IJulia/src/eventloop.jl:8",
      " in (::IJulia.##13#19)() at ./task.jl:360"
     ]
    }
   ],
   "source": [
    "ImmParam(1.0,2)"
   ]
  },
  {
   "cell_type": "markdown",
   "metadata": {},
   "source": [
    "### And! It is aligned tightly!"
   ]
  },
  {
   "cell_type": "code",
   "execution_count": 26,
   "metadata": {
    "collapsed": false
   },
   "outputs": [
    {
     "name": "stdout",
     "output_type": "stream",
     "text": [
      "  0.026584 seconds (20.36 k allocations: 4.710 MB)\n"
     ]
    }
   ],
   "source": [
    "@time imm_par_array_int16 = [ImmParam{Int16}(2,3) for i = 1:10^6];"
   ]
  },
  {
   "cell_type": "code",
   "execution_count": 30,
   "metadata": {
    "collapsed": false
   },
   "outputs": [
    {
     "data": {
      "text/plain": [
       "4000000"
      ]
     },
     "execution_count": 30,
     "metadata": {},
     "output_type": "execute_result"
    }
   ],
   "source": [
    "sizeof(imm_par_array_int16)"
   ]
  },
  {
   "cell_type": "code",
   "execution_count": 31,
   "metadata": {
    "collapsed": false
   },
   "outputs": [
    {
     "name": "stdout",
     "output_type": "stream",
     "text": [
      "  0.042599 seconds (20.35 k allocations: 2.804 MB)\n"
     ]
    }
   ],
   "source": [
    "@time imm_par_array_int8 = [ImmParam{Int8}(2,3) for i = 1:10^6];"
   ]
  },
  {
   "cell_type": "code",
   "execution_count": 32,
   "metadata": {
    "collapsed": false
   },
   "outputs": [
    {
     "data": {
      "text/plain": [
       "2000000"
      ]
     },
     "execution_count": 32,
     "metadata": {},
     "output_type": "execute_result"
    }
   ],
   "source": [
    "sizeof(imm_par_array_int8)"
   ]
  },
  {
   "cell_type": "code",
   "execution_count": 33,
   "metadata": {
    "collapsed": false
   },
   "outputs": [
    {
     "name": "stdout",
     "output_type": "stream",
     "text": [
      "  0.186704 seconds (13.98 k allocations: 31.117 MB, 47.48% gc time)\n"
     ]
    }
   ],
   "source": [
    "@time imm_par_array_cplx = [ImmParam(2+3im,3+2im) for i = 1:10^6];"
   ]
  },
  {
   "cell_type": "code",
   "execution_count": 34,
   "metadata": {
    "collapsed": false
   },
   "outputs": [
    {
     "data": {
      "text/plain": [
       "32000000"
      ]
     },
     "execution_count": 34,
     "metadata": {},
     "output_type": "execute_result"
    }
   ],
   "source": [
    "sizeof(imm_par_array_cplx)"
   ]
  },
  {
   "cell_type": "code",
   "execution_count": 35,
   "metadata": {
    "collapsed": false
   },
   "outputs": [],
   "source": [
    "Base.:+(a::ImmParam, b::ImmParam) = ImmParam(a.x+b.x, a.y+b.y)"
   ]
  },
  {
   "cell_type": "code",
   "execution_count": 36,
   "metadata": {
    "collapsed": false
   },
   "outputs": [
    {
     "name": "stdout",
     "output_type": "stream",
     "text": [
      "  0.055637 seconds (17.70 k allocations: 814.603 KB)\n"
     ]
    },
    {
     "data": {
      "text/plain": [
       "ImmParam{Complex{Int64}}(2000000 + 3000000im,3000000 + 2000000im)"
      ]
     },
     "execution_count": 36,
     "metadata": {},
     "output_type": "execute_result"
    }
   ],
   "source": [
    "@time sum(imm_par_array_cplx)"
   ]
  },
  {
   "cell_type": "code",
   "execution_count": 37,
   "metadata": {
    "collapsed": false
   },
   "outputs": [
    {
     "data": {
      "text/html": [
       "<div id=\"interact-js-shim\">\n",
       "    <script charset=\"utf-8\">\n",
       "(function (IPython, $, _, MathJax) {\n",
       "    $.event.special.destroyed = {\n",
       "\tremove: function(o) {\n",
       "\t    if (o.handler) {\n",
       "\t\to.handler.apply(this, arguments)\n",
       "\t    }\n",
       "\t}\n",
       "    }\n",
       "\n",
       "    var OutputArea = IPython.version >= \"4.0.0\" ? require(\"notebook/js/outputarea\").OutputArea : IPython.OutputArea;\n",
       "\n",
       "    var redrawValue = function (container, type, val) {\n",
       "\tvar selector = $(\"<div/>\");\n",
       "\tvar oa = new OutputArea(_.extend(selector, {\n",
       "\t    selector: selector,\n",
       "\t    prompt_area: true,\n",
       "\t    events: IPython.events,\n",
       "\t    keyboard_manager: IPython.keyboard_manager\n",
       "\t})); // Hack to work with IPython 2.1.0\n",
       "\n",
       "\tswitch (type) {\n",
       "\tcase \"image/png\":\n",
       "            var _src = 'data:' + type + ';base64,' + val;\n",
       "\t    $(container).find(\"img\").attr('src', _src);\n",
       "\t    break;\n",
       "\tcase \"text/latex\":\n",
       "\t\tif (MathJax){\n",
       "\t\t\tvar math = MathJax.Hub.getAllJax(container)[0];\n",
       "\t\t\tMathJax.Hub.Queue([\"Text\", math, val.replace(/^\\${1,2}|\\${1,2}$/g, '')]);\n",
       "\t\t\tbreak;\n",
       "\t\t}\n",
       "\tdefault:\n",
       "\t    var toinsert = OutputArea.append_map[type].apply(\n",
       "\t\toa, [val, {}, selector]\n",
       "\t    );\n",
       "\t    $(container).empty().append(toinsert.contents());\n",
       "\t    selector.remove();\n",
       "\t}\n",
       "    }\n",
       "\n",
       "\n",
       "    $(document).ready(function() {\n",
       "\tfunction initComm(evt, data) {\n",
       "\t    var comm_manager = data.kernel.comm_manager;\n",
       "        //_.extend(comm_manager.targets, require(\"widgets/js/widget\"))\n",
       "\t    comm_manager.register_target(\"Signal\", function (comm) {\n",
       "            comm.on_msg(function (msg) {\n",
       "                var val = msg.content.data.value;\n",
       "                $(\".signal-\" + comm.comm_id).each(function() {\n",
       "                var type = $(this).data(\"type\");\n",
       "                if (typeof(val[type]) !== \"undefined\" && val[type] !== null) {\n",
       "                    redrawValue(this, type, val[type], type);\n",
       "                }\n",
       "                });\n",
       "                delete val;\n",
       "                delete msg.content.data.value;\n",
       "            });\n",
       "\t    });\n",
       "\n",
       "\t    // coordingate with Comm and redraw Signals\n",
       "\t    // XXX: Test using Reactive here to improve performance\n",
       "\t    $([IPython.events]).on(\n",
       "\t\t'output_appended.OutputArea', function (event, type, value, md, toinsert) {\n",
       "\t\t    if (md && md.reactive) {\n",
       "                // console.log(md.comm_id);\n",
       "                toinsert.addClass(\"signal-\" + md.comm_id);\n",
       "                toinsert.data(\"type\", type);\n",
       "                // Signal back indicating the mimetype required\n",
       "                var comm_manager = IPython.notebook.kernel.comm_manager;\n",
       "                var comm = comm_manager.comms[md.comm_id];\n",
       "                comm.then(function (c) {\n",
       "                    c.send({action: \"subscribe_mime\",\n",
       "                       mime: type});\n",
       "                    toinsert.bind(\"destroyed\", function() {\n",
       "                        c.send({action: \"unsubscribe_mime\",\n",
       "                               mime: type});\n",
       "                    });\n",
       "                })\n",
       "\t\t    }\n",
       "\t    });\n",
       "\t}\n",
       "\n",
       "\ttry {\n",
       "\t    // try to initialize right away. otherwise, wait on the status_started event.\n",
       "\t    initComm(undefined, IPython.notebook);\n",
       "\t} catch (e) {\n",
       "\t    $([IPython.events]).on('kernel_created.Kernel kernel_created.Session', initComm);\n",
       "\t}\n",
       "    });\n",
       "})(IPython, jQuery, _, MathJax);\n",
       "</script>\n",
       "    <script>\n",
       "        window.interactLoadedFlag = true\n",
       "       $(\"#interact-js-shim\").bind(\"destroyed\", function () {\n",
       "           if (window.interactLoadedFlag) {\n",
       "               console.warn(\"JavaScript required by Interact will be removed if you remove this cell or run using Interact more than once.\")\n",
       "           }\n",
       "       })\n",
       "       $([IPython.events]).on(\"kernel_starting.Kernel kernel_restarting.Kernel\", function () { window.interactLoadedFlag = false })\n",
       "   </script>\n",
       "</div>"
      ]
     },
     "metadata": {},
     "output_type": "display_data"
    }
   ],
   "source": [
    "using Interact"
   ]
  },
  {
   "cell_type": "code",
   "execution_count": 38,
   "metadata": {
    "collapsed": true
   },
   "outputs": [],
   "source": [
    "type TypParam{T} <: TestType\n",
    "    x::T\n",
    "    y::T\n",
    "end"
   ]
  },
  {
   "cell_type": "code",
   "execution_count": 39,
   "metadata": {
    "collapsed": false
   },
   "outputs": [
    {
     "data": {
      "text/html": [],
      "text/plain": [
       "Interact.Options{:ToggleButtons,DataType}(Signal{DataType}(Int8, nactions=1),\"param\",Int8,\"Int8\",Interact.OptionDict(DataStructures.OrderedDict(\"Int8\"=>Int8,\"Int16\"=>Int16,\"Int32\"=>Int32,\"Int64\"=>Int64,\"Float16\"=>Float16,\"Float32\"=>Float32,\"Float64\"=>Float64),Dict(Float32=>\"Float32\",Int8=>\"Int8\",Int64=>\"Int64\",Float64=>\"Float64\",Int16=>\"Int16\",Int32=>\"Int32\",Float16=>\"Float16\")),Any[],Any[],true,\"horizontal\")"
      ]
     },
     "metadata": {},
     "output_type": "display_data"
    },
    {
     "data": {
      "text/html": [],
      "text/plain": [
       "Interact.Checkbox(Signal{Bool}(true, nactions=0),\"complex\",true)"
      ]
     },
     "metadata": {},
     "output_type": "display_data"
    },
    {
     "data": {
      "text/html": [
       "<table><tbody>\n",
       "        <thead>\n",
       "        <tr>\n",
       "            <th colspan=4>mutable</th> \n",
       "            <th colspan=4>immutable</th>\n",
       "        </tr>\n",
       "        <tr>\n",
       "            <th colspan=2>create</th> \n",
       "            <th colspan=2>sum</th>\n",
       "            <th colspan=2>create</th> \n",
       "            <th colspan=2>sum</th>\n",
       "        </tr>\n",
       "        <tr>\n",
       "            <th>time</th>\n",
       "            <th>memory</th>\n",
       "            <th>time</th>\n",
       "            <th>memory</th>\n",
       "            <th>time</th>\n",
       "            <th>memory</th>\n",
       "            <th>time</th>\n",
       "            <th>memory</th>\n",
       "        </tr>\n",
       "        </thead>\n",
       "        <tr>\n",
       "            <td>0.005514257</td>\n",
       "            <td>4000112</td>\n",
       "            <td>0.13557686</td>\n",
       "            <td>877753</td>\n",
       "            <td>0.052743957</td>\n",
       "            <td>24000112</td>\n",
       "            <td>0.127548603</td>\n",
       "            <td>16788577</td>\n",
       "        </tr>\n",
       "        </tbody></table>"
      ],
      "text/plain": [
       "HTML{String}(\"<table><tbody>\\n        <thead>\\n        <tr>\\n            <th colspan=4>mutable</th> \\n            <th colspan=4>immutable</th>\\n        </tr>\\n        <tr>\\n            <th colspan=2>create</th> \\n            <th colspan=2>sum</th>\\n            <th colspan=2>create</th> \\n            <th colspan=2>sum</th>\\n        </tr>\\n        <tr>\\n            <th>time</th>\\n            <th>memory</th>\\n            <th>time</th>\\n            <th>memory</th>\\n            <th>time</th>\\n            <th>memory</th>\\n            <th>time</th>\\n            <th>memory</th>\\n        </tr>\\n        </thead>\\n        <tr>\\n            <td>0.005514257</td>\\n            <td>4000112</td>\\n            <td>0.13557686</td>\\n            <td>877753</td>\\n            <td>0.052743957</td>\\n            <td>24000112</td>\\n            <td>0.127548603</td>\\n            <td>16788577</td>\\n        </tr>\\n        </tbody></table>\")"
      ]
     },
     "execution_count": 39,
     "metadata": {
      "comm_id": "c6b8b72b-c6e8-4028-9789-ca2d03ac1178",
      "reactive": true
     },
     "output_type": "execute_result"
    }
   ],
   "source": [
    "@manipulate for param = [Int8,Int16,Int32,Int64,Float16,Float32,Float64], complex=true\n",
    "    T = complex ? Complex{param} : param\n",
    "    a = zero(T)\n",
    "    b = one(T)\n",
    "\n",
    "    gc()  \n",
    "    local arr,t_create,arr_t,t_create_t,t_sum,t_sum_t\n",
    "\n",
    "    alloc_create = @allocated begin\n",
    "        t_create = @elapsed begin\n",
    "            arr = [ImmParam(a,b) for i=1:10^6]\n",
    "        end\n",
    "    end\n",
    "\n",
    "    alloc_create_t = @allocated begin\n",
    "        t_create_t = @elapsed begin\n",
    "            arr_t = [TypParam(a,b) for i=1:10^6]\n",
    "        end\n",
    "    end\n",
    "\n",
    "    gc()\n",
    "    \n",
    "    alloc_sum = @allocated begin\n",
    "        t_sum = @elapsed begin\n",
    "            s = sum(arr)\n",
    "        end\n",
    "    end/10^6\n",
    "\n",
    "    alloc_sum_t = @allocated begin\n",
    "        t_sum_t = @elapsed begin\n",
    "            s_t = sum(arr_t)\n",
    "        end\n",
    "    end/10^6\n",
    "    HTML(\"<table><tbody>\n",
    "        <thead>\n",
    "        <tr>\n",
    "            <th colspan=4>mutable</th> \n",
    "            <th colspan=4>immutable</th>\n",
    "        </tr>\n",
    "        <tr>\n",
    "            <th colspan=2>create</th> \n",
    "            <th colspan=2>sum</th>\n",
    "            <th colspan=2>create</th> \n",
    "            <th colspan=2>sum</th>\n",
    "        </tr>\n",
    "        <tr>\n",
    "            <th>time</th>\n",
    "            <th>memory</th>\n",
    "            <th>time</th>\n",
    "            <th>memory</th>\n",
    "            <th>time</th>\n",
    "            <th>memory</th>\n",
    "            <th>time</th>\n",
    "            <th>memory</th>\n",
    "        </tr>\n",
    "        </thead>\n",
    "        <tr>\n",
    "            <td>$t_create</td>\n",
    "            <td>$alloc_create</td>\n",
    "            <td>$t_sum</td>\n",
    "            <td>$alloc_sum</td>\n",
    "            <td>$t_create_t</td>\n",
    "            <td>$alloc_create_t</td>\n",
    "            <td>$t_sum_t</td>\n",
    "            <td>$alloc_sum_t</td>\n",
    "        </tr>\n",
    "        </tbody></table>\")\n",
    "end"
   ]
  },
  {
   "cell_type": "markdown",
   "metadata": {},
   "source": [
    "## But be careful! Vectors of Heterogeneous types force boxing!"
   ]
  },
  {
   "cell_type": "code",
   "execution_count": 40,
   "metadata": {
    "collapsed": false
   },
   "outputs": [
    {
     "data": {
      "text/plain": [
       "4-element Array{Any,1}:\n",
       "   \"xyzabc\"\n",
       " 1+2im     \n",
       "  1        \n",
       "  1.0      "
      ]
     },
     "execution_count": 40,
     "metadata": {},
     "output_type": "execute_result"
    }
   ],
   "source": [
    "[\"xyzabc\", 1+2im, 1, 1.0]"
   ]
  },
  {
   "cell_type": "code",
   "execution_count": 41,
   "metadata": {
    "collapsed": false
   },
   "outputs": [
    {
     "data": {
      "text/plain": [
       "16"
      ]
     },
     "execution_count": 41,
     "metadata": {},
     "output_type": "execute_result"
    }
   ],
   "source": [
    "[ImmParam(UInt8(1),UInt8(1)), ImmParam(1.0,1.0)] |> sizeof"
   ]
  },
  {
   "cell_type": "code",
   "execution_count": 42,
   "metadata": {
    "collapsed": false
   },
   "outputs": [
    {
     "name": "stdout",
     "output_type": "stream",
     "text": [
      "  0.753073 seconds (3.25 M allocations: 94.942 MB, 8.93% gc time)\n"
     ]
    },
    {
     "data": {
      "text/plain": [
       "1000000-element Array{ImmParam,1}:\n",
       " ImmParam{Float64}(1.0,1.0)\n",
       " ImmParam{UInt8}(0x01,0x01)\n",
       " ImmParam{Float64}(1.0,1.0)\n",
       " ImmParam{UInt8}(0x01,0x01)\n",
       " ImmParam{Float64}(1.0,1.0)\n",
       " ImmParam{UInt8}(0x01,0x01)\n",
       " ImmParam{Float64}(1.0,1.0)\n",
       " ImmParam{UInt8}(0x01,0x01)\n",
       " ImmParam{Float64}(1.0,1.0)\n",
       " ImmParam{UInt8}(0x01,0x01)\n",
       " ImmParam{Float64}(1.0,1.0)\n",
       " ImmParam{UInt8}(0x01,0x01)\n",
       " ImmParam{Float64}(1.0,1.0)\n",
       " ⋮                         \n",
       " ImmParam{Float64}(1.0,1.0)\n",
       " ImmParam{UInt8}(0x01,0x01)\n",
       " ImmParam{Float64}(1.0,1.0)\n",
       " ImmParam{UInt8}(0x01,0x01)\n",
       " ImmParam{Float64}(1.0,1.0)\n",
       " ImmParam{UInt8}(0x01,0x01)\n",
       " ImmParam{Float64}(1.0,1.0)\n",
       " ImmParam{UInt8}(0x01,0x01)\n",
       " ImmParam{Float64}(1.0,1.0)\n",
       " ImmParam{UInt8}(0x01,0x01)\n",
       " ImmParam{Float64}(1.0,1.0)\n",
       " ImmParam{UInt8}(0x01,0x01)"
      ]
     },
     "execution_count": 42,
     "metadata": {},
     "output_type": "execute_result"
    }
   ],
   "source": [
    "@time heter_arr = [i%2 == 0 ? ImmParam(UInt8(1),UInt8(1)) : ImmParam(1.0,1.0) for i = 1:10^6]"
   ]
  },
  {
   "cell_type": "code",
   "execution_count": 43,
   "metadata": {
    "collapsed": false
   },
   "outputs": [
    {
     "name": "stdout",
     "output_type": "stream",
     "text": [
      "  0.251862 seconds (1.03 M allocations: 31.825 MB, 23.39% gc time)\n"
     ]
    },
    {
     "data": {
      "text/plain": [
       "ImmParam{Float64}(1.0e6,1.0e6)"
      ]
     },
     "execution_count": 43,
     "metadata": {},
     "output_type": "execute_result"
    }
   ],
   "source": [
    "@time sum(heter_arr)"
   ]
  },
  {
   "cell_type": "markdown",
   "metadata": {},
   "source": [
    "## Summary\n",
    "\n",
    "- Use immutables wherever you consider something to be a *value*. Use type when something is a *state*.\n",
    "- Never create a large array of mutable objects! Each one is heap-allocated, this kills performance and gives the GC a hard time.\n",
    "- Parameterize if you need to change types\n",
    "- In the wizard's own words: http://julialang.org/blog/2013/03/efficient-aggregates"
   ]
  },
  {
   "cell_type": "code",
   "execution_count": null,
   "metadata": {
    "collapsed": true
   },
   "outputs": [],
   "source": []
  }
 ],
 "metadata": {
  "anaconda-cloud": {},
  "kernelspec": {
   "display_name": "Julia 0.5.0",
   "language": "julia",
   "name": "julia-0.5"
  },
  "language_info": {
   "file_extension": ".jl",
   "mimetype": "application/julia",
   "name": "julia",
   "version": "0.5.0"
  },
  "widgets": {
   "state": {
    "06b3b3aa-cbce-41e2-ab63-f05628200b61": {
     "views": [
      {
       "cell_index": 50
      }
     ]
    },
    "14840d53-8dac-41bd-9541-c746084e7043": {
     "views": [
      {
       "cell_index": 47
      }
     ]
    },
    "14bc3b19-1dc4-4fa4-b85c-db37659dd665": {
     "views": [
      {
       "cell_index": 48
      }
     ]
    },
    "1f8110b9-f977-4579-bfe0-fe33e7beb7e9": {
     "views": [
      {
       "cell_index": 48
      }
     ]
    },
    "545c7eb4-63d3-4ef4-aead-51dc25a0f6ca": {
     "views": [
      {
       "cell_index": 48
      }
     ]
    },
    "607dce9a-5f2f-48af-8f5d-44114a23f5bd": {
     "views": [
      {
       "cell_index": 48
      }
     ]
    },
    "67a94c4a-b3aa-4330-99b5-e2dca38a0817": {
     "views": [
      {
       "cell_index": 48
      }
     ]
    },
    "7d382349-e348-4c75-a3b7-3d0f1414fa90": {
     "views": [
      {
       "cell_index": 48
      }
     ]
    },
    "870c59ee-1176-4008-be72-bd63d3a419c5": {
     "views": [
      {
       "cell_index": 48
      }
     ]
    },
    "89d79212-97ce-4385-b9db-b3a43ca970e3": {
     "views": [
      {
       "cell_index": 48
      }
     ]
    },
    "981ab0c3-eae8-4359-9b26-2093c5837930": {
     "views": [
      {
       "cell_index": 47
      }
     ]
    },
    "a824ce1e-ad80-493e-bf80-03bb5810a535": {
     "views": [
      {
       "cell_index": 48
      }
     ]
    },
    "aa6232ed-9ef8-43ec-843e-23a45db3a366": {
     "views": [
      {
       "cell_index": 48
      }
     ]
    },
    "cc860e28-a5af-4395-83fc-0f0f90f742cb": {
     "views": [
      {
       "cell_index": 50
      }
     ]
    },
    "daf044dc-6dd6-4509-9f67-feb64ec0aaa8": {
     "views": [
      {
       "cell_index": 48
      }
     ]
    },
    "e7cc1310-b729-448b-b264-35c1219d94fc": {
     "views": [
      {
       "cell_index": 47
      }
     ]
    },
    "f4d5d365-801d-4f0b-ab62-2db364918702": {
     "views": [
      {
       "cell_index": 48
      }
     ]
    }
   },
   "version": "1.2.0"
  }
 },
 "nbformat": 4,
 "nbformat_minor": 2
}
