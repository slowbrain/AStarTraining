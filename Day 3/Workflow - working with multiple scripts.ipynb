{
 "cells": [
  {
   "cell_type": "markdown",
   "metadata": {},
   "source": [
    "# Refactoring Julia scripts into an application"
   ]
  },
  {
   "cell_type": "markdown",
   "metadata": {},
   "source": [
    "We will see how to refactor (i.e., rewrite and improve) code, using a prototype at https://github.com/PoisonAlien/julia_maftools, to be more usable. This is an example of one way to think about making things more usable in Julia.\n",
    "\n",
    "In that repository (kindly provided by Anand, one of the participants of the workshop), there are two `.jl` scripts that are currently designed to be run separately from the command line. \n",
    "\n",
    "Each of the scripts reads a command-line argument, which is an input file (containing genomic data), processes the data, and prints out the result of a calculation.\n",
    "\n",
    "The question posed by Anand was how to integrate these into a single Julia command-line application that could execute either of these files."
   ]
  },
  {
   "cell_type": "markdown",
   "metadata": {},
   "source": [
    "We will first do what Anand asked, and then discuss how Julia can improve beyond the standard command-line application."
   ]
  }
 ],
 "metadata": {
  "kernelspec": {
   "display_name": "Julia 0.5.0",
   "language": "julia",
   "name": "julia-0.5"
  },
  "language_info": {
   "file_extension": ".jl",
   "mimetype": "application/julia",
   "name": "julia",
   "version": "0.5.0"
  },
  "toc": {
   "nav_menu": {
    "height": "30px",
    "width": "252px"
   },
   "navigate_menu": true,
   "number_sections": true,
   "sideBar": true,
   "threshold": "2",
   "toc_cell": false,
   "toc_section_display": "block",
   "toc_window_display": false
  }
 },
 "nbformat": 4,
 "nbformat_minor": 2
}
