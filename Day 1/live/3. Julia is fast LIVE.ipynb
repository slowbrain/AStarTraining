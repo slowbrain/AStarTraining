{
 "cells": [
  {
   "cell_type": "markdown",
   "metadata": {},
   "source": [
    "# Julia is fast\n",
    "\n",
    "Very often, benchmarks are used to compare languages.  These benchmarks can lead to long discussions, first as to exactly what is being benchmarked and secondly what explains the differences.  These simple questions can sometimes get more complicated than you at first might imagine.\n",
    "\n",
    "The purpose of this notebook is for you to see a simple benchmark for yourself.  One can read the notebook and see what happened on the author's Macbook Pro with a 4-core Intel Core I7, or run the notebook yourself.\n",
    "\n",
    "(This material began life as a wonderful lecture by Steven Johnson at MIT: https://github.com/stevengj/18S096-iap17/blob/master/lecture1/Boxes-and-registers.ipynb.)"
   ]
  },
  {
   "cell_type": "markdown",
   "metadata": {},
   "source": [
    "# `sum`: An easy enough function to understand"
   ]
  },
  {
   "cell_type": "markdown",
   "metadata": {},
   "source": [
    "Consider the  **sum** function `sum(a)`, which computes\n",
    "\n",
    "$$\n",
    "\\mathrm{sum}(a) = \\sum_{i=1}^n a_i.\n",
    "$$"
   ]
  },
  {
   "cell_type": "code",
   "execution_count": 1,
   "metadata": {
    "collapsed": false,
    "scrolled": true
   },
   "outputs": [
    {
     "data": {
      "text/plain": [
       "10000000-element Array{Float64,1}:\n",
       " 0.264427  \n",
       " 0.244391  \n",
       " 0.649658  \n",
       " 0.0697313 \n",
       " 0.0310463 \n",
       " 0.0774908 \n",
       " 0.669535  \n",
       " 0.00744002\n",
       " 0.482669  \n",
       " 0.694787  \n",
       " 0.92626   \n",
       " 0.480593  \n",
       " 0.123968  \n",
       " ⋮         \n",
       " 0.91111   \n",
       " 0.319946  \n",
       " 0.368318  \n",
       " 0.840289  \n",
       " 0.461357  \n",
       " 0.282798  \n",
       " 0.444721  \n",
       " 0.70132   \n",
       " 0.531112  \n",
       " 0.562241  \n",
       " 0.247051  \n",
       " 0.144536  "
      ]
     },
     "execution_count": 1,
     "metadata": {},
     "output_type": "execute_result"
    }
   ],
   "source": [
    "a = rand(10^7) # array of random numbers, uniform on [0,1)"
   ]
  },
  {
   "cell_type": "code",
   "execution_count": 2,
   "metadata": {
    "collapsed": false,
    "scrolled": true
   },
   "outputs": [
    {
     "data": {
      "text/plain": [
       "5.001161073666024e6"
      ]
     },
     "execution_count": 2,
     "metadata": {},
     "output_type": "execute_result"
    }
   ],
   "source": [
    "sum(a) # one expects this is 10^7 * .5 , since the mean of each entry is .5"
   ]
  },
  {
   "cell_type": "markdown",
   "metadata": {},
   "source": [
    "# Benchmarking a few ways in a few languages"
   ]
  },
  {
   "cell_type": "code",
   "execution_count": 3,
   "metadata": {
    "collapsed": false,
    "scrolled": true
   },
   "outputs": [
    {
     "name": "stderr",
     "output_type": "stream",
     "text": [
      "\u001b[1m\u001b[34mINFO: Recompiling stale cache file /home/juser/.julia/lib/v0.5/Blosc.ji for module Blosc.\n",
      "\u001b[0m\u001b[1m\u001b[34mINFO: Recompiling stale cache file /home/juser/.julia/lib/v0.5/JLD.ji for module JLD.\n",
      "\u001b[0m"
     ]
    }
   ],
   "source": [
    "using BenchmarkTools  # Julia package for benchmarking"
   ]
  },
  {
   "cell_type": "markdown",
   "metadata": {},
   "source": [
    "#  1. The C language: (8.1 msecs)\n",
    "\n",
    "C is fften considered the gold standard: difficult on the human, nice for the machine. Getting within a factor of 2 of C is often satisfying. Nonetheless, even within C, there are many kinds of optimizations possible that a naive C writer may or may not get the advantage of.\n",
    "\n",
    "The current author does not speak C, so he does not read the cell below, but is happy to know that you can put C code in a Julia session, compile it, and run it."
   ]
  },
  {
   "cell_type": "code",
   "execution_count": 9,
   "metadata": {
    "collapsed": false,
    "scrolled": true
   },
   "outputs": [
    {
     "name": "stderr",
     "output_type": "stream",
     "text": [
      "WARNING: redefining constant Clib\n",
      "WARNING: Method definition c_sum(Array{Float64, N<:Any}) in module Main at In[7]:23 overwritten at In[9]:23.\n"
     ]
    },
    {
     "data": {
      "text/plain": [
       "c_sum (generic function with 1 method)"
      ]
     },
     "execution_count": 9,
     "metadata": {},
     "output_type": "execute_result"
    }
   ],
   "source": [
    "C_code = \"\"\"\n",
    "#include <stddef.h>\n",
    "double c_sum(size_t n, double *X) {\n",
    "    double s = 0.0;\n",
    "    for (size_t i = 0; i < n; ++i) {\n",
    "        s += X[i];\n",
    "    }\n",
    "    return s;\n",
    "}\n",
    "\"\"\"\n",
    "\n",
    "const Clib = tempname()   # make a temporary file\n",
    "\n",
    "\n",
    "# compile to a shared library by piping C_code to gcc\n",
    "# (works only if you have gcc installed):\n",
    "\n",
    "open(`gcc -fPIC -std=c99  -O3 -msse3 -xc -shared -o $(Clib * \".\" * Libdl.dlext) -`, \"w\") do f\n",
    "    print(f, C_code) \n",
    "end\n",
    "\n",
    "# define a Julia function that calls the C function:\n",
    "c_sum(X::Array{Float64}) = ccall((\"c_sum\", Clib), Float64, (Csize_t, Ptr{Float64}), length(X), X)"
   ]
  },
  {
   "cell_type": "code",
   "execution_count": 11,
   "metadata": {
    "collapsed": false,
    "scrolled": true
   },
   "outputs": [
    {
     "data": {
      "text/plain": [
       "(5.001161073665754e6,5.001161073666024e6)"
      ]
     },
     "execution_count": 11,
     "metadata": {},
     "output_type": "execute_result"
    }
   ],
   "source": [
    "c_sum(a), sum(a)"
   ]
  },
  {
   "cell_type": "code",
   "execution_count": 15,
   "metadata": {
    "collapsed": false,
    "scrolled": true
   },
   "outputs": [
    {
     "data": {
      "text/plain": [
       "true"
      ]
     },
     "execution_count": 15,
     "metadata": {},
     "output_type": "execute_result"
    }
   ],
   "source": [
    "c_sum(a) ≈ sum(a) # type \\approx and then <TAB> to get the ≈ symbol"
   ]
  },
  {
   "cell_type": "markdown",
   "metadata": {},
   "source": [
    "We can now benchmark the C code directly from Julia:"
   ]
  },
  {
   "cell_type": "code",
   "execution_count": 16,
   "metadata": {
    "collapsed": false,
    "scrolled": true
   },
   "outputs": [
    {
     "data": {
      "text/plain": [
       "BenchmarkTools.Trial: \n",
       "  memory estimate:  0.00 bytes\n",
       "  allocs estimate:  0\n",
       "  --------------\n",
       "  minimum time:     10.161 ms (0.00% GC)\n",
       "  median time:      10.318 ms (0.00% GC)\n",
       "  mean time:        10.394 ms (0.00% GC)\n",
       "  maximum time:     11.419 ms (0.00% GC)\n",
       "  --------------\n",
       "  samples:          481\n",
       "  evals/sample:     1\n",
       "  time tolerance:   5.00%\n",
       "  memory tolerance: 1.00%"
      ]
     },
     "execution_count": 16,
     "metadata": {},
     "output_type": "execute_result"
    }
   ],
   "source": [
    "c_bench = @benchmark c_sum($a)"
   ]
  },
  {
   "cell_type": "code",
   "execution_count": 23,
   "metadata": {
    "collapsed": false
   },
   "outputs": [
    {
     "data": {
      "text/plain": [
       "(10.393588723492723,10.161124,11.419066)"
      ]
     },
     "execution_count": 23,
     "metadata": {},
     "output_type": "execute_result"
    }
   ],
   "source": [
    "data = c_bench.times/1e6\n",
    "mean(data), minimum(data), maximum(data)"
   ]
  },
  {
   "cell_type": "code",
   "execution_count": 24,
   "metadata": {
    "collapsed": false
   },
   "outputs": [
    {
     "name": "stderr",
     "output_type": "stream",
     "text": [
      "\u001b[1m\u001b[34mINFO: Precompiling module FixedSizeArrays.\n",
      "\u001b[0m\u001b[1m\u001b[34mINFO: Precompiling module PlotUtils.\n",
      "\u001b[0m\u001b[1m\u001b[34mINFO: Precompiling module PlotThemes.\n",
      "\u001b[0m\u001b[1m\u001b[34mINFO: Precompiling module Showoff.\n",
      "\u001b[0m\u001b[1m\u001b[34mINFO: Precompiling module Measures.\n",
      "\u001b[0m"
     ]
    }
   ],
   "source": [
    "using  Plots"
   ]
  },
  {
   "cell_type": "code",
   "execution_count": 26,
   "metadata": {
    "collapsed": false
   },
   "outputs": [
    {
     "name": "stderr",
     "output_type": "stream",
     "text": [
      "\u001b[1m\u001b[34mINFO: Precompiling module GR.\n",
      "\u001b[0m"
     ]
    },
    {
     "data": {
      "text/plain": [
       "Plots.GRBackend()"
      ]
     },
     "execution_count": 26,
     "metadata": {},
     "output_type": "execute_result"
    }
   ],
   "source": [
    "gr()"
   ]
  },
  {
   "cell_type": "code",
   "execution_count": 49,
   "metadata": {
    "collapsed": false
   },
   "outputs": [
    {
     "data": {
      "text/html": [
       "<?xml version=\"1.0\" encoding=\"utf-8\"?>\n",
       "<svg xmlns=\"http://www.w3.org/2000/svg\" xmlns:xlink=\"http://www.w3.org/1999/xlink\" width=\"600\" height=\"400\" viewBox=\"0 0 600 400\">\n",
       "<defs>\n",
       "  <clipPath id=\"clip00\">\n",
       "    <rect x=\"0\" y=\"0\" width=\"600\" height=\"400\"/>\n",
       "  </clipPath>\n",
       "</defs>\n",
       "<polygon clip-path=\"url(#clip00)\" points=\"\n",
       "0,400 600,400 600,0 0,0 \n",
       "  \" fill=\"#ffffff\" fill-opacity=\"1\"/>\n",
       "<defs>\n",
       "  <clipPath id=\"clip01\">\n",
       "    <rect x=\"120\" y=\"0\" width=\"421\" height=\"400\"/>\n",
       "  </clipPath>\n",
       "</defs>\n",
       "<polygon clip-path=\"url(#clip00)\" points=\"\n",
       "21.7148,384.952 596.063,384.952 596.063,23.3815 21.7148,23.3815 \n",
       "  \" fill=\"#ffffff\" fill-opacity=\"1\"/>\n",
       "<defs>\n",
       "  <clipPath id=\"clip02\">\n",
       "    <rect x=\"21\" y=\"23\" width=\"575\" height=\"362\"/>\n",
       "  </clipPath>\n",
       "</defs>\n",
       "<polyline clip-path=\"url(#clip02)\" style=\"stroke:#00002d; stroke-width:0.8; stroke-opacity:0.5; fill:none\" stroke-dasharray=\"1, 2\" points=\"\n",
       "  183.935,379.528 183.935,28.805 \n",
       "  \"/>\n",
       "<polyline clip-path=\"url(#clip02)\" style=\"stroke:#00002d; stroke-width:0.8; stroke-opacity:0.5; fill:none\" stroke-dasharray=\"1, 2\" points=\"\n",
       "  399.302,379.528 399.302,28.805 \n",
       "  \"/>\n",
       "<polyline clip-path=\"url(#clip02)\" style=\"stroke:#00002d; stroke-width:0.8; stroke-opacity:0.5; fill:none\" stroke-dasharray=\"1, 2\" points=\"\n",
       "  30.33,384.952 587.448,384.952 \n",
       "  \"/>\n",
       "<polyline clip-path=\"url(#clip02)\" style=\"stroke:#00002d; stroke-width:0.8; stroke-opacity:0.5; fill:none\" stroke-dasharray=\"1, 2\" points=\"\n",
       "  30.33,333.299 587.448,333.299 \n",
       "  \"/>\n",
       "<polyline clip-path=\"url(#clip02)\" style=\"stroke:#00002d; stroke-width:0.8; stroke-opacity:0.5; fill:none\" stroke-dasharray=\"1, 2\" points=\"\n",
       "  30.33,281.646 587.448,281.646 \n",
       "  \"/>\n",
       "<polyline clip-path=\"url(#clip02)\" style=\"stroke:#00002d; stroke-width:0.8; stroke-opacity:0.5; fill:none\" stroke-dasharray=\"1, 2\" points=\"\n",
       "  30.33,229.993 587.448,229.993 \n",
       "  \"/>\n",
       "<polyline clip-path=\"url(#clip02)\" style=\"stroke:#00002d; stroke-width:0.8; stroke-opacity:0.5; fill:none\" stroke-dasharray=\"1, 2\" points=\"\n",
       "  30.33,178.34 587.448,178.34 \n",
       "  \"/>\n",
       "<polyline clip-path=\"url(#clip02)\" style=\"stroke:#00002d; stroke-width:0.8; stroke-opacity:0.5; fill:none\" stroke-dasharray=\"1, 2\" points=\"\n",
       "  30.33,126.687 587.448,126.687 \n",
       "  \"/>\n",
       "<polyline clip-path=\"url(#clip02)\" style=\"stroke:#00002d; stroke-width:0.8; stroke-opacity:0.5; fill:none\" stroke-dasharray=\"1, 2\" points=\"\n",
       "  30.33,75.0344 587.448,75.0344 \n",
       "  \"/>\n",
       "<polyline clip-path=\"url(#clip02)\" style=\"stroke:#00002d; stroke-width:0.8; stroke-opacity:0.5; fill:none\" stroke-dasharray=\"1, 2\" points=\"\n",
       "  30.33,23.3815 587.448,23.3815 \n",
       "  \"/>\n",
       "<polyline clip-path=\"url(#clip02)\" style=\"stroke:#00002d; stroke-width:0.8; stroke-opacity:1; fill:none\" points=\"\n",
       "  21.7148,384.952 596.063,384.952 \n",
       "  \"/>\n",
       "<polyline clip-path=\"url(#clip02)\" style=\"stroke:#00002d; stroke-width:0.8; stroke-opacity:1; fill:none\" points=\"\n",
       "  183.935,384.952 183.935,379.528 \n",
       "  \"/>\n",
       "<polyline clip-path=\"url(#clip02)\" style=\"stroke:#00002d; stroke-width:0.8; stroke-opacity:1; fill:none\" points=\"\n",
       "  399.302,384.952 399.302,379.528 \n",
       "  \"/>\n",
       "<polyline clip-path=\"url(#clip02)\" style=\"stroke:#00002d; stroke-width:0.8; stroke-opacity:1; fill:none\" points=\"\n",
       "  21.7148,384.952 21.7148,23.3815 \n",
       "  \"/>\n",
       "<polyline clip-path=\"url(#clip02)\" style=\"stroke:#00002d; stroke-width:0.8; stroke-opacity:1; fill:none\" points=\"\n",
       "  21.7148,384.952 30.33,384.952 \n",
       "  \"/>\n",
       "<polyline clip-path=\"url(#clip02)\" style=\"stroke:#00002d; stroke-width:0.8; stroke-opacity:1; fill:none\" points=\"\n",
       "  21.7148,333.299 30.33,333.299 \n",
       "  \"/>\n",
       "<polyline clip-path=\"url(#clip02)\" style=\"stroke:#00002d; stroke-width:0.8; stroke-opacity:1; fill:none\" points=\"\n",
       "  21.7148,281.646 30.33,281.646 \n",
       "  \"/>\n",
       "<polyline clip-path=\"url(#clip02)\" style=\"stroke:#00002d; stroke-width:0.8; stroke-opacity:1; fill:none\" points=\"\n",
       "  21.7148,229.993 30.33,229.993 \n",
       "  \"/>\n",
       "<polyline clip-path=\"url(#clip02)\" style=\"stroke:#00002d; stroke-width:0.8; stroke-opacity:1; fill:none\" points=\"\n",
       "  21.7148,178.34 30.33,178.34 \n",
       "  \"/>\n",
       "<polyline clip-path=\"url(#clip02)\" style=\"stroke:#00002d; stroke-width:0.8; stroke-opacity:1; fill:none\" points=\"\n",
       "  21.7148,126.687 30.33,126.687 \n",
       "  \"/>\n",
       "<polyline clip-path=\"url(#clip02)\" style=\"stroke:#00002d; stroke-width:0.8; stroke-opacity:1; fill:none\" points=\"\n",
       "  21.7148,75.0344 30.33,75.0344 \n",
       "  \"/>\n",
       "<polyline clip-path=\"url(#clip02)\" style=\"stroke:#00002d; stroke-width:0.8; stroke-opacity:1; fill:none\" points=\"\n",
       "  21.7148,23.3815 30.33,23.3815 \n",
       "  \"/>\n",
       "<g clip-path=\"url(#clip00)\">\n",
       "<text style=\"fill:#00002d; fill-opacity:1; font-family:Arial,Helvetica Neue,Helvetica,sans-serif; font-size:12; text-anchor:middle;\" transform=\"rotate(0, 183.935, 396.952)\" x=\"183.935\" y=\"396.952\">10.5</text>\n",
       "</g>\n",
       "<g clip-path=\"url(#clip00)\">\n",
       "<text style=\"fill:#00002d; fill-opacity:1; font-family:Arial,Helvetica Neue,Helvetica,sans-serif; font-size:12; text-anchor:middle;\" transform=\"rotate(0, 399.302, 396.952)\" x=\"399.302\" y=\"396.952\">11.0</text>\n",
       "</g>\n",
       "<g clip-path=\"url(#clip00)\">\n",
       "<text style=\"fill:#00002d; fill-opacity:1; font-family:Arial,Helvetica Neue,Helvetica,sans-serif; font-size:12; text-anchor:end;\" transform=\"rotate(0, 20.5148, 389.452)\" x=\"20.5148\" y=\"389.452\">0</text>\n",
       "</g>\n",
       "<g clip-path=\"url(#clip00)\">\n",
       "<text style=\"fill:#00002d; fill-opacity:1; font-family:Arial,Helvetica Neue,Helvetica,sans-serif; font-size:12; text-anchor:end;\" transform=\"rotate(0, 20.5148, 337.799)\" x=\"20.5148\" y=\"337.799\">3</text>\n",
       "</g>\n",
       "<g clip-path=\"url(#clip00)\">\n",
       "<text style=\"fill:#00002d; fill-opacity:1; font-family:Arial,Helvetica Neue,Helvetica,sans-serif; font-size:12; text-anchor:end;\" transform=\"rotate(0, 20.5148, 286.146)\" x=\"20.5148\" y=\"286.146\">6</text>\n",
       "</g>\n",
       "<g clip-path=\"url(#clip00)\">\n",
       "<text style=\"fill:#00002d; fill-opacity:1; font-family:Arial,Helvetica Neue,Helvetica,sans-serif; font-size:12; text-anchor:end;\" transform=\"rotate(0, 20.5148, 234.493)\" x=\"20.5148\" y=\"234.493\">9</text>\n",
       "</g>\n",
       "<g clip-path=\"url(#clip00)\">\n",
       "<text style=\"fill:#00002d; fill-opacity:1; font-family:Arial,Helvetica Neue,Helvetica,sans-serif; font-size:12; text-anchor:end;\" transform=\"rotate(0, 20.5148, 182.84)\" x=\"20.5148\" y=\"182.84\">12</text>\n",
       "</g>\n",
       "<g clip-path=\"url(#clip00)\">\n",
       "<text style=\"fill:#00002d; fill-opacity:1; font-family:Arial,Helvetica Neue,Helvetica,sans-serif; font-size:12; text-anchor:end;\" transform=\"rotate(0, 20.5148, 131.187)\" x=\"20.5148\" y=\"131.187\">15</text>\n",
       "</g>\n",
       "<g clip-path=\"url(#clip00)\">\n",
       "<text style=\"fill:#00002d; fill-opacity:1; font-family:Arial,Helvetica Neue,Helvetica,sans-serif; font-size:12; text-anchor:end;\" transform=\"rotate(0, 20.5148, 79.5344)\" x=\"20.5148\" y=\"79.5344\">18</text>\n",
       "</g>\n",
       "<g clip-path=\"url(#clip00)\">\n",
       "<text style=\"fill:#00002d; fill-opacity:1; font-family:Arial,Helvetica Neue,Helvetica,sans-serif; font-size:12; text-anchor:end;\" transform=\"rotate(0, 20.5148, 27.8815)\" x=\"20.5148\" y=\"27.8815\">21</text>\n",
       "</g>\n",
       "<g clip-path=\"url(#clip00)\">\n",
       "<text style=\"fill:#00002d; fill-opacity:1; font-family:Arial,Helvetica Neue,Helvetica,sans-serif; font-size:21; text-anchor:middle;\" transform=\"rotate(0, 308.889, 18)\" x=\"308.889\" y=\"18\">Timing Histogram</text>\n",
       "</g>\n",
       "<polygon clip-path=\"url(#clip02)\" points=\"\n",
       "37.9699,367.734 37.9699,384.952 39.7761,384.952 39.7761,367.734 37.9699,367.734 37.9699,367.734 \n",
       "  \" fill=\"#0099ff\" fill-opacity=\"1\"/>\n",
       "<polyline clip-path=\"url(#clip02)\" style=\"stroke:#00002d; stroke-width:0.8; stroke-opacity:1; fill:none\" points=\"\n",
       "  37.9699,367.734 37.9699,384.952 39.7761,384.952 39.7761,367.734 37.9699,367.734 \n",
       "  \"/>\n",
       "<polygon clip-path=\"url(#clip02)\" points=\"\n",
       "39.7761,384.952 39.7761,384.952 41.5822,384.952 41.5822,384.952 39.7761,384.952 39.7761,384.952 \n",
       "  \" fill=\"#0099ff\" fill-opacity=\"1\"/>\n",
       "<polyline clip-path=\"url(#clip02)\" style=\"stroke:#00002d; stroke-width:0.8; stroke-opacity:1; fill:none\" points=\"\n",
       "  39.7761,384.952 39.7761,384.952 41.5822,384.952 39.7761,384.952 \n",
       "  \"/>\n",
       "<polygon clip-path=\"url(#clip02)\" points=\"\n",
       "41.5822,384.952 41.5822,384.952 43.3883,384.952 43.3883,384.952 41.5822,384.952 41.5822,384.952 \n",
       "  \" fill=\"#0099ff\" fill-opacity=\"1\"/>\n",
       "<polyline clip-path=\"url(#clip02)\" style=\"stroke:#00002d; stroke-width:0.8; stroke-opacity:1; fill:none\" points=\"\n",
       "  41.5822,384.952 41.5822,384.952 43.3883,384.952 41.5822,384.952 \n",
       "  \"/>\n",
       "<polygon clip-path=\"url(#clip02)\" points=\"\n",
       "43.3883,384.952 43.3883,384.952 45.1944,384.952 45.1944,384.952 43.3883,384.952 43.3883,384.952 \n",
       "  \" fill=\"#0099ff\" fill-opacity=\"1\"/>\n",
       "<polyline clip-path=\"url(#clip02)\" style=\"stroke:#00002d; stroke-width:0.8; stroke-opacity:1; fill:none\" points=\"\n",
       "  43.3883,384.952 43.3883,384.952 45.1944,384.952 43.3883,384.952 \n",
       "  \"/>\n",
       "<polygon clip-path=\"url(#clip02)\" points=\"\n",
       "45.1944,384.952 45.1944,384.952 47.0006,384.952 47.0006,384.952 45.1944,384.952 45.1944,384.952 \n",
       "  \" fill=\"#0099ff\" fill-opacity=\"1\"/>\n",
       "<polyline clip-path=\"url(#clip02)\" style=\"stroke:#00002d; stroke-width:0.8; stroke-opacity:1; fill:none\" points=\"\n",
       "  45.1944,384.952 45.1944,384.952 47.0006,384.952 45.1944,384.952 \n",
       "  \"/>\n",
       "<polygon clip-path=\"url(#clip02)\" points=\"\n",
       "47.0006,384.952 47.0006,384.952 48.8067,384.952 48.8067,384.952 47.0006,384.952 47.0006,384.952 \n",
       "  \" fill=\"#0099ff\" fill-opacity=\"1\"/>\n",
       "<polyline clip-path=\"url(#clip02)\" style=\"stroke:#00002d; stroke-width:0.8; stroke-opacity:1; fill:none\" points=\"\n",
       "  47.0006,384.952 47.0006,384.952 48.8067,384.952 47.0006,384.952 \n",
       "  \"/>\n",
       "<polygon clip-path=\"url(#clip02)\" points=\"\n",
       "48.8067,384.952 48.8067,384.952 50.6128,384.952 50.6128,384.952 48.8067,384.952 48.8067,384.952 \n",
       "  \" fill=\"#0099ff\" fill-opacity=\"1\"/>\n",
       "<polyline clip-path=\"url(#clip02)\" style=\"stroke:#00002d; stroke-width:0.8; stroke-opacity:1; fill:none\" points=\"\n",
       "  48.8067,384.952 48.8067,384.952 50.6128,384.952 48.8067,384.952 \n",
       "  \"/>\n",
       "<polygon clip-path=\"url(#clip02)\" points=\"\n",
       "50.6128,384.952 50.6128,384.952 52.4189,384.952 52.4189,384.952 50.6128,384.952 50.6128,384.952 \n",
       "  \" fill=\"#0099ff\" fill-opacity=\"1\"/>\n",
       "<polyline clip-path=\"url(#clip02)\" style=\"stroke:#00002d; stroke-width:0.8; stroke-opacity:1; fill:none\" points=\"\n",
       "  50.6128,384.952 50.6128,384.952 52.4189,384.952 50.6128,384.952 \n",
       "  \"/>\n",
       "<polygon clip-path=\"url(#clip02)\" points=\"\n",
       "52.4189,384.952 52.4189,384.952 54.2251,384.952 54.2251,384.952 52.4189,384.952 52.4189,384.952 \n",
       "  \" fill=\"#0099ff\" fill-opacity=\"1\"/>\n",
       "<polyline clip-path=\"url(#clip02)\" style=\"stroke:#00002d; stroke-width:0.8; stroke-opacity:1; fill:none\" points=\"\n",
       "  52.4189,384.952 52.4189,384.952 54.2251,384.952 52.4189,384.952 \n",
       "  \"/>\n",
       "<polygon clip-path=\"url(#clip02)\" points=\"\n",
       "54.2251,384.952 54.2251,384.952 56.0312,384.952 56.0312,384.952 54.2251,384.952 54.2251,384.952 \n",
       "  \" fill=\"#0099ff\" fill-opacity=\"1\"/>\n",
       "<polyline clip-path=\"url(#clip02)\" style=\"stroke:#00002d; stroke-width:0.8; stroke-opacity:1; fill:none\" points=\"\n",
       "  54.2251,384.952 54.2251,384.952 56.0312,384.952 54.2251,384.952 \n",
       "  \"/>\n",
       "<polygon clip-path=\"url(#clip02)\" points=\"\n",
       "56.0312,384.952 56.0312,384.952 57.8373,384.952 57.8373,384.952 56.0312,384.952 56.0312,384.952 \n",
       "  \" fill=\"#0099ff\" fill-opacity=\"1\"/>\n",
       "<polyline clip-path=\"url(#clip02)\" style=\"stroke:#00002d; stroke-width:0.8; stroke-opacity:1; fill:none\" points=\"\n",
       "  56.0312,384.952 56.0312,384.952 57.8373,384.952 56.0312,384.952 \n",
       "  \"/>\n",
       "<polygon clip-path=\"url(#clip02)\" points=\"\n",
       "57.8373,367.734 57.8373,384.952 59.6434,384.952 59.6434,367.734 57.8373,367.734 57.8373,367.734 \n",
       "  \" fill=\"#0099ff\" fill-opacity=\"1\"/>\n",
       "<polyline clip-path=\"url(#clip02)\" style=\"stroke:#00002d; stroke-width:0.8; stroke-opacity:1; fill:none\" points=\"\n",
       "  57.8373,367.734 57.8373,384.952 59.6434,384.952 59.6434,367.734 57.8373,367.734 \n",
       "  \"/>\n",
       "<polygon clip-path=\"url(#clip02)\" points=\"\n",
       "59.6434,367.734 59.6434,384.952 61.4496,384.952 61.4496,367.734 59.6434,367.734 59.6434,367.734 \n",
       "  \" fill=\"#0099ff\" fill-opacity=\"1\"/>\n",
       "<polyline clip-path=\"url(#clip02)\" style=\"stroke:#00002d; stroke-width:0.8; stroke-opacity:1; fill:none\" points=\"\n",
       "  59.6434,367.734 59.6434,384.952 61.4496,384.952 61.4496,367.734 59.6434,367.734 \n",
       "  \"/>\n",
       "<polygon clip-path=\"url(#clip02)\" points=\"\n",
       "61.4496,316.081 61.4496,384.952 63.2557,384.952 63.2557,316.081 61.4496,316.081 61.4496,316.081 \n",
       "  \" fill=\"#0099ff\" fill-opacity=\"1\"/>\n",
       "<polyline clip-path=\"url(#clip02)\" style=\"stroke:#00002d; stroke-width:0.8; stroke-opacity:1; fill:none\" points=\"\n",
       "  61.4496,316.081 61.4496,384.952 63.2557,384.952 63.2557,316.081 61.4496,316.081 \n",
       "  \"/>\n",
       "<polygon clip-path=\"url(#clip02)\" points=\"\n",
       "63.2557,316.081 63.2557,384.952 65.0618,384.952 65.0618,316.081 63.2557,316.081 63.2557,316.081 \n",
       "  \" fill=\"#0099ff\" fill-opacity=\"1\"/>\n",
       "<polyline clip-path=\"url(#clip02)\" style=\"stroke:#00002d; stroke-width:0.8; stroke-opacity:1; fill:none\" points=\"\n",
       "  63.2557,316.081 63.2557,384.952 65.0618,384.952 65.0618,316.081 63.2557,316.081 \n",
       "  \"/>\n",
       "<polygon clip-path=\"url(#clip02)\" points=\"\n",
       "65.0618,281.646 65.0618,384.952 66.8679,384.952 66.8679,281.646 65.0618,281.646 65.0618,281.646 \n",
       "  \" fill=\"#0099ff\" fill-opacity=\"1\"/>\n",
       "<polyline clip-path=\"url(#clip02)\" style=\"stroke:#00002d; stroke-width:0.8; stroke-opacity:1; fill:none\" points=\"\n",
       "  65.0618,281.646 65.0618,384.952 66.8679,384.952 66.8679,281.646 65.0618,281.646 \n",
       "  \"/>\n",
       "<polygon clip-path=\"url(#clip02)\" points=\"\n",
       "66.8679,298.864 66.8679,384.952 68.6741,384.952 68.6741,298.864 66.8679,298.864 66.8679,298.864 \n",
       "  \" fill=\"#0099ff\" fill-opacity=\"1\"/>\n",
       "<polyline clip-path=\"url(#clip02)\" style=\"stroke:#00002d; stroke-width:0.8; stroke-opacity:1; fill:none\" points=\"\n",
       "  66.8679,298.864 66.8679,384.952 68.6741,384.952 68.6741,298.864 66.8679,298.864 \n",
       "  \"/>\n",
       "<polygon clip-path=\"url(#clip02)\" points=\"\n",
       "68.6741,178.34 68.6741,384.952 70.4802,384.952 70.4802,178.34 68.6741,178.34 68.6741,178.34 \n",
       "  \" fill=\"#0099ff\" fill-opacity=\"1\"/>\n",
       "<polyline clip-path=\"url(#clip02)\" style=\"stroke:#00002d; stroke-width:0.8; stroke-opacity:1; fill:none\" points=\"\n",
       "  68.6741,178.34 68.6741,384.952 70.4802,384.952 70.4802,178.34 68.6741,178.34 \n",
       "  \"/>\n",
       "<polygon clip-path=\"url(#clip02)\" points=\"\n",
       "70.4802,229.993 70.4802,384.952 72.2863,384.952 72.2863,229.993 70.4802,229.993 70.4802,229.993 \n",
       "  \" fill=\"#0099ff\" fill-opacity=\"1\"/>\n",
       "<polyline clip-path=\"url(#clip02)\" style=\"stroke:#00002d; stroke-width:0.8; stroke-opacity:1; fill:none\" points=\"\n",
       "  70.4802,229.993 70.4802,384.952 72.2863,384.952 72.2863,229.993 70.4802,229.993 \n",
       "  \"/>\n",
       "<polygon clip-path=\"url(#clip02)\" points=\"\n",
       "72.2863,178.34 72.2863,384.952 74.0925,384.952 74.0925,178.34 72.2863,178.34 72.2863,178.34 \n",
       "  \" fill=\"#0099ff\" fill-opacity=\"1\"/>\n",
       "<polyline clip-path=\"url(#clip02)\" style=\"stroke:#00002d; stroke-width:0.8; stroke-opacity:1; fill:none\" points=\"\n",
       "  72.2863,178.34 72.2863,384.952 74.0925,384.952 74.0925,178.34 72.2863,178.34 \n",
       "  \"/>\n",
       "<polygon clip-path=\"url(#clip02)\" points=\"\n",
       "74.0925,161.123 74.0925,384.952 75.8986,384.952 75.8986,161.123 74.0925,161.123 74.0925,161.123 \n",
       "  \" fill=\"#0099ff\" fill-opacity=\"1\"/>\n",
       "<polyline clip-path=\"url(#clip02)\" style=\"stroke:#00002d; stroke-width:0.8; stroke-opacity:1; fill:none\" points=\"\n",
       "  74.0925,161.123 74.0925,384.952 75.8986,384.952 75.8986,161.123 74.0925,161.123 \n",
       "  \"/>\n",
       "<polygon clip-path=\"url(#clip02)\" points=\"\n",
       "75.8986,75.0344 75.8986,384.952 77.7047,384.952 77.7047,75.0344 75.8986,75.0344 75.8986,75.0344 \n",
       "  \" fill=\"#0099ff\" fill-opacity=\"1\"/>\n",
       "<polyline clip-path=\"url(#clip02)\" style=\"stroke:#00002d; stroke-width:0.8; stroke-opacity:1; fill:none\" points=\"\n",
       "  75.8986,75.0344 75.8986,384.952 77.7047,384.952 77.7047,75.0344 75.8986,75.0344 \n",
       "  \"/>\n",
       "<polygon clip-path=\"url(#clip02)\" points=\"\n",
       "77.7047,126.687 77.7047,384.952 79.5108,384.952 79.5108,126.687 77.7047,126.687 77.7047,126.687 \n",
       "  \" fill=\"#0099ff\" fill-opacity=\"1\"/>\n",
       "<polyline clip-path=\"url(#clip02)\" style=\"stroke:#00002d; stroke-width:0.8; stroke-opacity:1; fill:none\" points=\"\n",
       "  77.7047,126.687 77.7047,384.952 79.5108,384.952 79.5108,126.687 77.7047,126.687 \n",
       "  \"/>\n",
       "<polygon clip-path=\"url(#clip02)\" points=\"\n",
       "79.5108,178.34 79.5108,384.952 81.317,384.952 81.317,178.34 79.5108,178.34 79.5108,178.34 \n",
       "  \" fill=\"#0099ff\" fill-opacity=\"1\"/>\n",
       "<polyline clip-path=\"url(#clip02)\" style=\"stroke:#00002d; stroke-width:0.8; stroke-opacity:1; fill:none\" points=\"\n",
       "  79.5108,178.34 79.5108,384.952 81.317,384.952 81.317,178.34 79.5108,178.34 \n",
       "  \"/>\n",
       "<polygon clip-path=\"url(#clip02)\" points=\"\n",
       "81.317,23.3815 81.317,384.952 83.1231,384.952 83.1231,23.3815 81.317,23.3815 81.317,23.3815 \n",
       "  \" fill=\"#0099ff\" fill-opacity=\"1\"/>\n",
       "<polyline clip-path=\"url(#clip02)\" style=\"stroke:#00002d; stroke-width:0.8; stroke-opacity:1; fill:none\" points=\"\n",
       "  81.317,23.3815 81.317,384.952 83.1231,384.952 83.1231,23.3815 81.317,23.3815 \n",
       "  \"/>\n",
       "<polygon clip-path=\"url(#clip02)\" points=\"\n",
       "83.1231,247.211 83.1231,384.952 84.9292,384.952 84.9292,247.211 83.1231,247.211 83.1231,247.211 \n",
       "  \" fill=\"#0099ff\" fill-opacity=\"1\"/>\n",
       "<polyline clip-path=\"url(#clip02)\" style=\"stroke:#00002d; stroke-width:0.8; stroke-opacity:1; fill:none\" points=\"\n",
       "  83.1231,247.211 83.1231,384.952 84.9292,384.952 84.9292,247.211 83.1231,247.211 \n",
       "  \"/>\n",
       "<polygon clip-path=\"url(#clip02)\" points=\"\n",
       "84.9292,109.47 84.9292,384.952 86.7353,384.952 86.7353,109.47 84.9292,109.47 84.9292,109.47 \n",
       "  \" fill=\"#0099ff\" fill-opacity=\"1\"/>\n",
       "<polyline clip-path=\"url(#clip02)\" style=\"stroke:#00002d; stroke-width:0.8; stroke-opacity:1; fill:none\" points=\"\n",
       "  84.9292,109.47 84.9292,384.952 86.7353,384.952 86.7353,109.47 84.9292,109.47 \n",
       "  \"/>\n",
       "<polygon clip-path=\"url(#clip02)\" points=\"\n",
       "86.7353,247.211 86.7353,384.952 88.5415,384.952 88.5415,247.211 86.7353,247.211 86.7353,247.211 \n",
       "  \" fill=\"#0099ff\" fill-opacity=\"1\"/>\n",
       "<polyline clip-path=\"url(#clip02)\" style=\"stroke:#00002d; stroke-width:0.8; stroke-opacity:1; fill:none\" points=\"\n",
       "  86.7353,247.211 86.7353,384.952 88.5415,384.952 88.5415,247.211 86.7353,247.211 \n",
       "  \"/>\n",
       "<polygon clip-path=\"url(#clip02)\" points=\"\n",
       "88.5415,195.558 88.5415,384.952 90.3476,384.952 90.3476,195.558 88.5415,195.558 88.5415,195.558 \n",
       "  \" fill=\"#0099ff\" fill-opacity=\"1\"/>\n",
       "<polyline clip-path=\"url(#clip02)\" style=\"stroke:#00002d; stroke-width:0.8; stroke-opacity:1; fill:none\" points=\"\n",
       "  88.5415,195.558 88.5415,384.952 90.3476,384.952 90.3476,195.558 88.5415,195.558 \n",
       "  \"/>\n",
       "<polygon clip-path=\"url(#clip02)\" points=\"\n",
       "90.3476,247.211 90.3476,384.952 92.1537,384.952 92.1537,247.211 90.3476,247.211 90.3476,247.211 \n",
       "  \" fill=\"#0099ff\" fill-opacity=\"1\"/>\n",
       "<polyline clip-path=\"url(#clip02)\" style=\"stroke:#00002d; stroke-width:0.8; stroke-opacity:1; fill:none\" points=\"\n",
       "  90.3476,247.211 90.3476,384.952 92.1537,384.952 92.1537,247.211 90.3476,247.211 \n",
       "  \"/>\n",
       "<polygon clip-path=\"url(#clip02)\" points=\"\n",
       "92.1537,229.993 92.1537,384.952 93.9598,384.952 93.9598,229.993 92.1537,229.993 92.1537,229.993 \n",
       "  \" fill=\"#0099ff\" fill-opacity=\"1\"/>\n",
       "<polyline clip-path=\"url(#clip02)\" style=\"stroke:#00002d; stroke-width:0.8; stroke-opacity:1; fill:none\" points=\"\n",
       "  92.1537,229.993 92.1537,384.952 93.9598,384.952 93.9598,229.993 92.1537,229.993 \n",
       "  \"/>\n",
       "<polygon clip-path=\"url(#clip02)\" points=\"\n",
       "93.9598,264.428 93.9598,384.952 95.766,384.952 95.766,264.428 93.9598,264.428 93.9598,264.428 \n",
       "  \" fill=\"#0099ff\" fill-opacity=\"1\"/>\n",
       "<polyline clip-path=\"url(#clip02)\" style=\"stroke:#00002d; stroke-width:0.8; stroke-opacity:1; fill:none\" points=\"\n",
       "  93.9598,264.428 93.9598,384.952 95.766,384.952 95.766,264.428 93.9598,264.428 \n",
       "  \"/>\n",
       "<polygon clip-path=\"url(#clip02)\" points=\"\n",
       "95.766,229.993 95.766,384.952 97.5721,384.952 97.5721,229.993 95.766,229.993 95.766,229.993 \n",
       "  \" fill=\"#0099ff\" fill-opacity=\"1\"/>\n",
       "<polyline clip-path=\"url(#clip02)\" style=\"stroke:#00002d; stroke-width:0.8; stroke-opacity:1; fill:none\" points=\"\n",
       "  95.766,229.993 95.766,384.952 97.5721,384.952 97.5721,229.993 95.766,229.993 \n",
       "  \"/>\n",
       "<polygon clip-path=\"url(#clip02)\" points=\"\n",
       "97.5721,247.211 97.5721,384.952 99.3782,384.952 99.3782,247.211 97.5721,247.211 97.5721,247.211 \n",
       "  \" fill=\"#0099ff\" fill-opacity=\"1\"/>\n",
       "<polyline clip-path=\"url(#clip02)\" style=\"stroke:#00002d; stroke-width:0.8; stroke-opacity:1; fill:none\" points=\"\n",
       "  97.5721,247.211 97.5721,384.952 99.3782,384.952 99.3782,247.211 97.5721,247.211 \n",
       "  \"/>\n",
       "<polygon clip-path=\"url(#clip02)\" points=\"\n",
       "99.3782,229.993 99.3782,384.952 101.184,384.952 101.184,229.993 99.3782,229.993 99.3782,229.993 \n",
       "  \" fill=\"#0099ff\" fill-opacity=\"1\"/>\n",
       "<polyline clip-path=\"url(#clip02)\" style=\"stroke:#00002d; stroke-width:0.8; stroke-opacity:1; fill:none\" points=\"\n",
       "  99.3782,229.993 99.3782,384.952 101.184,384.952 101.184,229.993 99.3782,229.993 \n",
       "  \"/>\n",
       "<polygon clip-path=\"url(#clip02)\" points=\"\n",
       "101.184,264.428 101.184,384.952 102.99,384.952 102.99,264.428 101.184,264.428 101.184,264.428 \n",
       "  \" fill=\"#0099ff\" fill-opacity=\"1\"/>\n",
       "<polyline clip-path=\"url(#clip02)\" style=\"stroke:#00002d; stroke-width:0.8; stroke-opacity:1; fill:none\" points=\"\n",
       "  101.184,264.428 101.184,384.952 102.99,384.952 102.99,264.428 101.184,264.428 \n",
       "  \"/>\n",
       "<polygon clip-path=\"url(#clip02)\" points=\"\n",
       "102.99,316.081 102.99,384.952 104.797,384.952 104.797,316.081 102.99,316.081 102.99,316.081 \n",
       "  \" fill=\"#0099ff\" fill-opacity=\"1\"/>\n",
       "<polyline clip-path=\"url(#clip02)\" style=\"stroke:#00002d; stroke-width:0.8; stroke-opacity:1; fill:none\" points=\"\n",
       "  102.99,316.081 102.99,384.952 104.797,384.952 104.797,316.081 102.99,316.081 \n",
       "  \"/>\n",
       "<polygon clip-path=\"url(#clip02)\" points=\"\n",
       "104.797,229.993 104.797,384.952 106.603,384.952 106.603,229.993 104.797,229.993 104.797,229.993 \n",
       "  \" fill=\"#0099ff\" fill-opacity=\"1\"/>\n",
       "<polyline clip-path=\"url(#clip02)\" style=\"stroke:#00002d; stroke-width:0.8; stroke-opacity:1; fill:none\" points=\"\n",
       "  104.797,229.993 104.797,384.952 106.603,384.952 106.603,229.993 104.797,229.993 \n",
       "  \"/>\n",
       "<polygon clip-path=\"url(#clip02)\" points=\"\n",
       "106.603,264.428 106.603,384.952 108.409,384.952 108.409,264.428 106.603,264.428 106.603,264.428 \n",
       "  \" fill=\"#0099ff\" fill-opacity=\"1\"/>\n",
       "<polyline clip-path=\"url(#clip02)\" style=\"stroke:#00002d; stroke-width:0.8; stroke-opacity:1; fill:none\" points=\"\n",
       "  106.603,264.428 106.603,384.952 108.409,384.952 108.409,264.428 106.603,264.428 \n",
       "  \"/>\n",
       "<polygon clip-path=\"url(#clip02)\" points=\"\n",
       "108.409,264.428 108.409,384.952 110.215,384.952 110.215,264.428 108.409,264.428 108.409,264.428 \n",
       "  \" fill=\"#0099ff\" fill-opacity=\"1\"/>\n",
       "<polyline clip-path=\"url(#clip02)\" style=\"stroke:#00002d; stroke-width:0.8; stroke-opacity:1; fill:none\" points=\"\n",
       "  108.409,264.428 108.409,384.952 110.215,384.952 110.215,264.428 108.409,264.428 \n",
       "  \"/>\n",
       "<polygon clip-path=\"url(#clip02)\" points=\"\n",
       "110.215,316.081 110.215,384.952 112.021,384.952 112.021,316.081 110.215,316.081 110.215,316.081 \n",
       "  \" fill=\"#0099ff\" fill-opacity=\"1\"/>\n",
       "<polyline clip-path=\"url(#clip02)\" style=\"stroke:#00002d; stroke-width:0.8; stroke-opacity:1; fill:none\" points=\"\n",
       "  110.215,316.081 110.215,384.952 112.021,384.952 112.021,316.081 110.215,316.081 \n",
       "  \"/>\n",
       "<polygon clip-path=\"url(#clip02)\" points=\"\n",
       "112.021,333.299 112.021,384.952 113.827,384.952 113.827,333.299 112.021,333.299 112.021,333.299 \n",
       "  \" fill=\"#0099ff\" fill-opacity=\"1\"/>\n",
       "<polyline clip-path=\"url(#clip02)\" style=\"stroke:#00002d; stroke-width:0.8; stroke-opacity:1; fill:none\" points=\"\n",
       "  112.021,333.299 112.021,384.952 113.827,384.952 113.827,333.299 112.021,333.299 \n",
       "  \"/>\n",
       "<polygon clip-path=\"url(#clip02)\" points=\"\n",
       "113.827,281.646 113.827,384.952 115.633,384.952 115.633,281.646 113.827,281.646 113.827,281.646 \n",
       "  \" fill=\"#0099ff\" fill-opacity=\"1\"/>\n",
       "<polyline clip-path=\"url(#clip02)\" style=\"stroke:#00002d; stroke-width:0.8; stroke-opacity:1; fill:none\" points=\"\n",
       "  113.827,281.646 113.827,384.952 115.633,384.952 115.633,281.646 113.827,281.646 \n",
       "  \"/>\n",
       "<polygon clip-path=\"url(#clip02)\" points=\"\n",
       "115.633,247.211 115.633,384.952 117.439,384.952 117.439,247.211 115.633,247.211 115.633,247.211 \n",
       "  \" fill=\"#0099ff\" fill-opacity=\"1\"/>\n",
       "<polyline clip-path=\"url(#clip02)\" style=\"stroke:#00002d; stroke-width:0.8; stroke-opacity:1; fill:none\" points=\"\n",
       "  115.633,247.211 115.633,384.952 117.439,384.952 117.439,247.211 115.633,247.211 \n",
       "  \"/>\n",
       "<polygon clip-path=\"url(#clip02)\" points=\"\n",
       "117.439,281.646 117.439,384.952 119.246,384.952 119.246,281.646 117.439,281.646 117.439,281.646 \n",
       "  \" fill=\"#0099ff\" fill-opacity=\"1\"/>\n",
       "<polyline clip-path=\"url(#clip02)\" style=\"stroke:#00002d; stroke-width:0.8; stroke-opacity:1; fill:none\" points=\"\n",
       "  117.439,281.646 117.439,384.952 119.246,384.952 119.246,281.646 117.439,281.646 \n",
       "  \"/>\n",
       "<polygon clip-path=\"url(#clip02)\" points=\"\n",
       "119.246,316.081 119.246,384.952 121.052,384.952 121.052,316.081 119.246,316.081 119.246,316.081 \n",
       "  \" fill=\"#0099ff\" fill-opacity=\"1\"/>\n",
       "<polyline clip-path=\"url(#clip02)\" style=\"stroke:#00002d; stroke-width:0.8; stroke-opacity:1; fill:none\" points=\"\n",
       "  119.246,316.081 119.246,384.952 121.052,384.952 121.052,316.081 119.246,316.081 \n",
       "  \"/>\n",
       "<polygon clip-path=\"url(#clip02)\" points=\"\n",
       "121.052,316.081 121.052,384.952 122.858,384.952 122.858,316.081 121.052,316.081 121.052,316.081 \n",
       "  \" fill=\"#0099ff\" fill-opacity=\"1\"/>\n",
       "<polyline clip-path=\"url(#clip02)\" style=\"stroke:#00002d; stroke-width:0.8; stroke-opacity:1; fill:none\" points=\"\n",
       "  121.052,316.081 121.052,384.952 122.858,384.952 122.858,316.081 121.052,316.081 \n",
       "  \"/>\n",
       "<polygon clip-path=\"url(#clip02)\" points=\"\n",
       "122.858,316.081 122.858,384.952 124.664,384.952 124.664,316.081 122.858,316.081 122.858,316.081 \n",
       "  \" fill=\"#0099ff\" fill-opacity=\"1\"/>\n",
       "<polyline clip-path=\"url(#clip02)\" style=\"stroke:#00002d; stroke-width:0.8; stroke-opacity:1; fill:none\" points=\"\n",
       "  122.858,316.081 122.858,384.952 124.664,384.952 124.664,316.081 122.858,316.081 \n",
       "  \"/>\n",
       "<polygon clip-path=\"url(#clip02)\" points=\"\n",
       "124.664,333.299 124.664,384.952 126.47,384.952 126.47,333.299 124.664,333.299 124.664,333.299 \n",
       "  \" fill=\"#0099ff\" fill-opacity=\"1\"/>\n",
       "<polyline clip-path=\"url(#clip02)\" style=\"stroke:#00002d; stroke-width:0.8; stroke-opacity:1; fill:none\" points=\"\n",
       "  124.664,333.299 124.664,384.952 126.47,384.952 126.47,333.299 124.664,333.299 \n",
       "  \"/>\n",
       "<polygon clip-path=\"url(#clip02)\" points=\"\n",
       "126.47,384.952 126.47,384.952 128.276,384.952 128.276,384.952 126.47,384.952 126.47,384.952 \n",
       "  \" fill=\"#0099ff\" fill-opacity=\"1\"/>\n",
       "<polyline clip-path=\"url(#clip02)\" style=\"stroke:#00002d; stroke-width:0.8; stroke-opacity:1; fill:none\" points=\"\n",
       "  126.47,384.952 126.47,384.952 128.276,384.952 126.47,384.952 \n",
       "  \"/>\n",
       "<polygon clip-path=\"url(#clip02)\" points=\"\n",
       "128.276,333.299 128.276,384.952 130.082,384.952 130.082,333.299 128.276,333.299 128.276,333.299 \n",
       "  \" fill=\"#0099ff\" fill-opacity=\"1\"/>\n",
       "<polyline clip-path=\"url(#clip02)\" style=\"stroke:#00002d; stroke-width:0.8; stroke-opacity:1; fill:none\" points=\"\n",
       "  128.276,333.299 128.276,384.952 130.082,384.952 130.082,333.299 128.276,333.299 \n",
       "  \"/>\n",
       "<polygon clip-path=\"url(#clip02)\" points=\"\n",
       "130.082,316.081 130.082,384.952 131.888,384.952 131.888,316.081 130.082,316.081 130.082,316.081 \n",
       "  \" fill=\"#0099ff\" fill-opacity=\"1\"/>\n",
       "<polyline clip-path=\"url(#clip02)\" style=\"stroke:#00002d; stroke-width:0.8; stroke-opacity:1; fill:none\" points=\"\n",
       "  130.082,316.081 130.082,384.952 131.888,384.952 131.888,316.081 130.082,316.081 \n",
       "  \"/>\n",
       "<polygon clip-path=\"url(#clip02)\" points=\"\n",
       "131.888,281.646 131.888,384.952 133.695,384.952 133.695,281.646 131.888,281.646 131.888,281.646 \n",
       "  \" fill=\"#0099ff\" fill-opacity=\"1\"/>\n",
       "<polyline clip-path=\"url(#clip02)\" style=\"stroke:#00002d; stroke-width:0.8; stroke-opacity:1; fill:none\" points=\"\n",
       "  131.888,281.646 131.888,384.952 133.695,384.952 133.695,281.646 131.888,281.646 \n",
       "  \"/>\n",
       "<polygon clip-path=\"url(#clip02)\" points=\"\n",
       "133.695,350.517 133.695,384.952 135.501,384.952 135.501,350.517 133.695,350.517 133.695,350.517 \n",
       "  \" fill=\"#0099ff\" fill-opacity=\"1\"/>\n",
       "<polyline clip-path=\"url(#clip02)\" style=\"stroke:#00002d; stroke-width:0.8; stroke-opacity:1; fill:none\" points=\"\n",
       "  133.695,350.517 133.695,384.952 135.501,384.952 135.501,350.517 133.695,350.517 \n",
       "  \"/>\n",
       "<polygon clip-path=\"url(#clip02)\" points=\"\n",
       "135.501,350.517 135.501,384.952 137.307,384.952 137.307,350.517 135.501,350.517 135.501,350.517 \n",
       "  \" fill=\"#0099ff\" fill-opacity=\"1\"/>\n",
       "<polyline clip-path=\"url(#clip02)\" style=\"stroke:#00002d; stroke-width:0.8; stroke-opacity:1; fill:none\" points=\"\n",
       "  135.501,350.517 135.501,384.952 137.307,384.952 137.307,350.517 135.501,350.517 \n",
       "  \"/>\n",
       "<polygon clip-path=\"url(#clip02)\" points=\"\n",
       "137.307,367.734 137.307,384.952 139.113,384.952 139.113,367.734 137.307,367.734 137.307,367.734 \n",
       "  \" fill=\"#0099ff\" fill-opacity=\"1\"/>\n",
       "<polyline clip-path=\"url(#clip02)\" style=\"stroke:#00002d; stroke-width:0.8; stroke-opacity:1; fill:none\" points=\"\n",
       "  137.307,367.734 137.307,384.952 139.113,384.952 139.113,367.734 137.307,367.734 \n",
       "  \"/>\n",
       "<polygon clip-path=\"url(#clip02)\" points=\"\n",
       "139.113,298.864 139.113,384.952 140.919,384.952 140.919,298.864 139.113,298.864 139.113,298.864 \n",
       "  \" fill=\"#0099ff\" fill-opacity=\"1\"/>\n",
       "<polyline clip-path=\"url(#clip02)\" style=\"stroke:#00002d; stroke-width:0.8; stroke-opacity:1; fill:none\" points=\"\n",
       "  139.113,298.864 139.113,384.952 140.919,384.952 140.919,298.864 139.113,298.864 \n",
       "  \"/>\n",
       "<polygon clip-path=\"url(#clip02)\" points=\"\n",
       "140.919,350.517 140.919,384.952 142.725,384.952 142.725,350.517 140.919,350.517 140.919,350.517 \n",
       "  \" fill=\"#0099ff\" fill-opacity=\"1\"/>\n",
       "<polyline clip-path=\"url(#clip02)\" style=\"stroke:#00002d; stroke-width:0.8; stroke-opacity:1; fill:none\" points=\"\n",
       "  140.919,350.517 140.919,384.952 142.725,384.952 142.725,350.517 140.919,350.517 \n",
       "  \"/>\n",
       "<polygon clip-path=\"url(#clip02)\" points=\"\n",
       "142.725,350.517 142.725,384.952 144.531,384.952 144.531,350.517 142.725,350.517 142.725,350.517 \n",
       "  \" fill=\"#0099ff\" fill-opacity=\"1\"/>\n",
       "<polyline clip-path=\"url(#clip02)\" style=\"stroke:#00002d; stroke-width:0.8; stroke-opacity:1; fill:none\" points=\"\n",
       "  142.725,350.517 142.725,384.952 144.531,384.952 144.531,350.517 142.725,350.517 \n",
       "  \"/>\n",
       "<polygon clip-path=\"url(#clip02)\" points=\"\n",
       "144.531,350.517 144.531,384.952 146.338,384.952 146.338,350.517 144.531,350.517 144.531,350.517 \n",
       "  \" fill=\"#0099ff\" fill-opacity=\"1\"/>\n",
       "<polyline clip-path=\"url(#clip02)\" style=\"stroke:#00002d; stroke-width:0.8; stroke-opacity:1; fill:none\" points=\"\n",
       "  144.531,350.517 144.531,384.952 146.338,384.952 146.338,350.517 144.531,350.517 \n",
       "  \"/>\n",
       "<polygon clip-path=\"url(#clip02)\" points=\"\n",
       "146.338,350.517 146.338,384.952 148.144,384.952 148.144,350.517 146.338,350.517 146.338,350.517 \n",
       "  \" fill=\"#0099ff\" fill-opacity=\"1\"/>\n",
       "<polyline clip-path=\"url(#clip02)\" style=\"stroke:#00002d; stroke-width:0.8; stroke-opacity:1; fill:none\" points=\"\n",
       "  146.338,350.517 146.338,384.952 148.144,384.952 148.144,350.517 146.338,350.517 \n",
       "  \"/>\n",
       "<polygon clip-path=\"url(#clip02)\" points=\"\n",
       "148.144,350.517 148.144,384.952 149.95,384.952 149.95,350.517 148.144,350.517 148.144,350.517 \n",
       "  \" fill=\"#0099ff\" fill-opacity=\"1\"/>\n",
       "<polyline clip-path=\"url(#clip02)\" style=\"stroke:#00002d; stroke-width:0.8; stroke-opacity:1; fill:none\" points=\"\n",
       "  148.144,350.517 148.144,384.952 149.95,384.952 149.95,350.517 148.144,350.517 \n",
       "  \"/>\n",
       "<polygon clip-path=\"url(#clip02)\" points=\"\n",
       "149.95,316.081 149.95,384.952 151.756,384.952 151.756,316.081 149.95,316.081 149.95,316.081 \n",
       "  \" fill=\"#0099ff\" fill-opacity=\"1\"/>\n",
       "<polyline clip-path=\"url(#clip02)\" style=\"stroke:#00002d; stroke-width:0.8; stroke-opacity:1; fill:none\" points=\"\n",
       "  149.95,316.081 149.95,384.952 151.756,384.952 151.756,316.081 149.95,316.081 \n",
       "  \"/>\n",
       "<polygon clip-path=\"url(#clip02)\" points=\"\n",
       "151.756,333.299 151.756,384.952 153.562,384.952 153.562,333.299 151.756,333.299 151.756,333.299 \n",
       "  \" fill=\"#0099ff\" fill-opacity=\"1\"/>\n",
       "<polyline clip-path=\"url(#clip02)\" style=\"stroke:#00002d; stroke-width:0.8; stroke-opacity:1; fill:none\" points=\"\n",
       "  151.756,333.299 151.756,384.952 153.562,384.952 153.562,333.299 151.756,333.299 \n",
       "  \"/>\n",
       "<polygon clip-path=\"url(#clip02)\" points=\"\n",
       "153.562,298.864 153.562,384.952 155.368,384.952 155.368,298.864 153.562,298.864 153.562,298.864 \n",
       "  \" fill=\"#0099ff\" fill-opacity=\"1\"/>\n",
       "<polyline clip-path=\"url(#clip02)\" style=\"stroke:#00002d; stroke-width:0.8; stroke-opacity:1; fill:none\" points=\"\n",
       "  153.562,298.864 153.562,384.952 155.368,384.952 155.368,298.864 153.562,298.864 \n",
       "  \"/>\n",
       "<polygon clip-path=\"url(#clip02)\" points=\"\n",
       "155.368,316.081 155.368,384.952 157.174,384.952 157.174,316.081 155.368,316.081 155.368,316.081 \n",
       "  \" fill=\"#0099ff\" fill-opacity=\"1\"/>\n",
       "<polyline clip-path=\"url(#clip02)\" style=\"stroke:#00002d; stroke-width:0.8; stroke-opacity:1; fill:none\" points=\"\n",
       "  155.368,316.081 155.368,384.952 157.174,384.952 157.174,316.081 155.368,316.081 \n",
       "  \"/>\n",
       "<polygon clip-path=\"url(#clip02)\" points=\"\n",
       "157.174,367.734 157.174,384.952 158.98,384.952 158.98,367.734 157.174,367.734 157.174,367.734 \n",
       "  \" fill=\"#0099ff\" fill-opacity=\"1\"/>\n",
       "<polyline clip-path=\"url(#clip02)\" style=\"stroke:#00002d; stroke-width:0.8; stroke-opacity:1; fill:none\" points=\"\n",
       "  157.174,367.734 157.174,384.952 158.98,384.952 158.98,367.734 157.174,367.734 \n",
       "  \"/>\n",
       "<polygon clip-path=\"url(#clip02)\" points=\"\n",
       "158.98,350.517 158.98,384.952 160.787,384.952 160.787,350.517 158.98,350.517 158.98,350.517 \n",
       "  \" fill=\"#0099ff\" fill-opacity=\"1\"/>\n",
       "<polyline clip-path=\"url(#clip02)\" style=\"stroke:#00002d; stroke-width:0.8; stroke-opacity:1; fill:none\" points=\"\n",
       "  158.98,350.517 158.98,384.952 160.787,384.952 160.787,350.517 158.98,350.517 \n",
       "  \"/>\n",
       "<polygon clip-path=\"url(#clip02)\" points=\"\n",
       "160.787,333.299 160.787,384.952 162.593,384.952 162.593,333.299 160.787,333.299 160.787,333.299 \n",
       "  \" fill=\"#0099ff\" fill-opacity=\"1\"/>\n",
       "<polyline clip-path=\"url(#clip02)\" style=\"stroke:#00002d; stroke-width:0.8; stroke-opacity:1; fill:none\" points=\"\n",
       "  160.787,333.299 160.787,384.952 162.593,384.952 162.593,333.299 160.787,333.299 \n",
       "  \"/>\n",
       "<polygon clip-path=\"url(#clip02)\" points=\"\n",
       "162.593,281.646 162.593,384.952 164.399,384.952 164.399,281.646 162.593,281.646 162.593,281.646 \n",
       "  \" fill=\"#0099ff\" fill-opacity=\"1\"/>\n",
       "<polyline clip-path=\"url(#clip02)\" style=\"stroke:#00002d; stroke-width:0.8; stroke-opacity:1; fill:none\" points=\"\n",
       "  162.593,281.646 162.593,384.952 164.399,384.952 164.399,281.646 162.593,281.646 \n",
       "  \"/>\n",
       "<polygon clip-path=\"url(#clip02)\" points=\"\n",
       "164.399,367.734 164.399,384.952 166.205,384.952 166.205,367.734 164.399,367.734 164.399,367.734 \n",
       "  \" fill=\"#0099ff\" fill-opacity=\"1\"/>\n",
       "<polyline clip-path=\"url(#clip02)\" style=\"stroke:#00002d; stroke-width:0.8; stroke-opacity:1; fill:none\" points=\"\n",
       "  164.399,367.734 164.399,384.952 166.205,384.952 166.205,367.734 164.399,367.734 \n",
       "  \"/>\n",
       "<polygon clip-path=\"url(#clip02)\" points=\"\n",
       "166.205,367.734 166.205,384.952 168.011,384.952 168.011,367.734 166.205,367.734 166.205,367.734 \n",
       "  \" fill=\"#0099ff\" fill-opacity=\"1\"/>\n",
       "<polyline clip-path=\"url(#clip02)\" style=\"stroke:#00002d; stroke-width:0.8; stroke-opacity:1; fill:none\" points=\"\n",
       "  166.205,367.734 166.205,384.952 168.011,384.952 168.011,367.734 166.205,367.734 \n",
       "  \"/>\n",
       "<polygon clip-path=\"url(#clip02)\" points=\"\n",
       "168.011,367.734 168.011,384.952 169.817,384.952 169.817,367.734 168.011,367.734 168.011,367.734 \n",
       "  \" fill=\"#0099ff\" fill-opacity=\"1\"/>\n",
       "<polyline clip-path=\"url(#clip02)\" style=\"stroke:#00002d; stroke-width:0.8; stroke-opacity:1; fill:none\" points=\"\n",
       "  168.011,367.734 168.011,384.952 169.817,384.952 169.817,367.734 168.011,367.734 \n",
       "  \"/>\n",
       "<polygon clip-path=\"url(#clip02)\" points=\"\n",
       "169.817,350.517 169.817,384.952 171.623,384.952 171.623,350.517 169.817,350.517 169.817,350.517 \n",
       "  \" fill=\"#0099ff\" fill-opacity=\"1\"/>\n",
       "<polyline clip-path=\"url(#clip02)\" style=\"stroke:#00002d; stroke-width:0.8; stroke-opacity:1; fill:none\" points=\"\n",
       "  169.817,350.517 169.817,384.952 171.623,384.952 171.623,350.517 169.817,350.517 \n",
       "  \"/>\n",
       "<polygon clip-path=\"url(#clip02)\" points=\"\n",
       "171.623,298.864 171.623,384.952 173.429,384.952 173.429,298.864 171.623,298.864 171.623,298.864 \n",
       "  \" fill=\"#0099ff\" fill-opacity=\"1\"/>\n",
       "<polyline clip-path=\"url(#clip02)\" style=\"stroke:#00002d; stroke-width:0.8; stroke-opacity:1; fill:none\" points=\"\n",
       "  171.623,298.864 171.623,384.952 173.429,384.952 173.429,298.864 171.623,298.864 \n",
       "  \"/>\n",
       "<polygon clip-path=\"url(#clip02)\" points=\"\n",
       "173.429,350.517 173.429,384.952 175.236,384.952 175.236,350.517 173.429,350.517 173.429,350.517 \n",
       "  \" fill=\"#0099ff\" fill-opacity=\"1\"/>\n",
       "<polyline clip-path=\"url(#clip02)\" style=\"stroke:#00002d; stroke-width:0.8; stroke-opacity:1; fill:none\" points=\"\n",
       "  173.429,350.517 173.429,384.952 175.236,384.952 175.236,350.517 173.429,350.517 \n",
       "  \"/>\n",
       "<polygon clip-path=\"url(#clip02)\" points=\"\n",
       "175.236,367.734 175.236,384.952 177.042,384.952 177.042,367.734 175.236,367.734 175.236,367.734 \n",
       "  \" fill=\"#0099ff\" fill-opacity=\"1\"/>\n",
       "<polyline clip-path=\"url(#clip02)\" style=\"stroke:#00002d; stroke-width:0.8; stroke-opacity:1; fill:none\" points=\"\n",
       "  175.236,367.734 175.236,384.952 177.042,384.952 177.042,367.734 175.236,367.734 \n",
       "  \"/>\n",
       "<polygon clip-path=\"url(#clip02)\" points=\"\n",
       "177.042,384.952 177.042,384.952 178.848,384.952 178.848,384.952 177.042,384.952 177.042,384.952 \n",
       "  \" fill=\"#0099ff\" fill-opacity=\"1\"/>\n",
       "<polyline clip-path=\"url(#clip02)\" style=\"stroke:#00002d; stroke-width:0.8; stroke-opacity:1; fill:none\" points=\"\n",
       "  177.042,384.952 177.042,384.952 178.848,384.952 177.042,384.952 \n",
       "  \"/>\n",
       "<polygon clip-path=\"url(#clip02)\" points=\"\n",
       "178.848,316.081 178.848,384.952 180.654,384.952 180.654,316.081 178.848,316.081 178.848,316.081 \n",
       "  \" fill=\"#0099ff\" fill-opacity=\"1\"/>\n",
       "<polyline clip-path=\"url(#clip02)\" style=\"stroke:#00002d; stroke-width:0.8; stroke-opacity:1; fill:none\" points=\"\n",
       "  178.848,316.081 178.848,384.952 180.654,384.952 180.654,316.081 178.848,316.081 \n",
       "  \"/>\n",
       "<polygon clip-path=\"url(#clip02)\" points=\"\n",
       "180.654,367.734 180.654,384.952 182.46,384.952 182.46,367.734 180.654,367.734 180.654,367.734 \n",
       "  \" fill=\"#0099ff\" fill-opacity=\"1\"/>\n",
       "<polyline clip-path=\"url(#clip02)\" style=\"stroke:#00002d; stroke-width:0.8; stroke-opacity:1; fill:none\" points=\"\n",
       "  180.654,367.734 180.654,384.952 182.46,384.952 182.46,367.734 180.654,367.734 \n",
       "  \"/>\n",
       "<polygon clip-path=\"url(#clip02)\" points=\"\n",
       "182.46,350.517 182.46,384.952 184.266,384.952 184.266,350.517 182.46,350.517 182.46,350.517 \n",
       "  \" fill=\"#0099ff\" fill-opacity=\"1\"/>\n",
       "<polyline clip-path=\"url(#clip02)\" style=\"stroke:#00002d; stroke-width:0.8; stroke-opacity:1; fill:none\" points=\"\n",
       "  182.46,350.517 182.46,384.952 184.266,384.952 184.266,350.517 182.46,350.517 \n",
       "  \"/>\n",
       "<polygon clip-path=\"url(#clip02)\" points=\"\n",
       "184.266,367.734 184.266,384.952 186.072,384.952 186.072,367.734 184.266,367.734 184.266,367.734 \n",
       "  \" fill=\"#0099ff\" fill-opacity=\"1\"/>\n",
       "<polyline clip-path=\"url(#clip02)\" style=\"stroke:#00002d; stroke-width:0.8; stroke-opacity:1; fill:none\" points=\"\n",
       "  184.266,367.734 184.266,384.952 186.072,384.952 186.072,367.734 184.266,367.734 \n",
       "  \"/>\n",
       "<polygon clip-path=\"url(#clip02)\" points=\"\n",
       "186.072,350.517 186.072,384.952 187.878,384.952 187.878,350.517 186.072,350.517 186.072,350.517 \n",
       "  \" fill=\"#0099ff\" fill-opacity=\"1\"/>\n",
       "<polyline clip-path=\"url(#clip02)\" style=\"stroke:#00002d; stroke-width:0.8; stroke-opacity:1; fill:none\" points=\"\n",
       "  186.072,350.517 186.072,384.952 187.878,384.952 187.878,350.517 186.072,350.517 \n",
       "  \"/>\n",
       "<polygon clip-path=\"url(#clip02)\" points=\"\n",
       "187.878,384.952 187.878,384.952 189.685,384.952 189.685,384.952 187.878,384.952 187.878,384.952 \n",
       "  \" fill=\"#0099ff\" fill-opacity=\"1\"/>\n",
       "<polyline clip-path=\"url(#clip02)\" style=\"stroke:#00002d; stroke-width:0.8; stroke-opacity:1; fill:none\" points=\"\n",
       "  187.878,384.952 187.878,384.952 189.685,384.952 187.878,384.952 \n",
       "  \"/>\n",
       "<polygon clip-path=\"url(#clip02)\" points=\"\n",
       "189.685,350.517 189.685,384.952 191.491,384.952 191.491,350.517 189.685,350.517 189.685,350.517 \n",
       "  \" fill=\"#0099ff\" fill-opacity=\"1\"/>\n",
       "<polyline clip-path=\"url(#clip02)\" style=\"stroke:#00002d; stroke-width:0.8; stroke-opacity:1; fill:none\" points=\"\n",
       "  189.685,350.517 189.685,384.952 191.491,384.952 191.491,350.517 189.685,350.517 \n",
       "  \"/>\n",
       "<polygon clip-path=\"url(#clip02)\" points=\"\n",
       "191.491,350.517 191.491,384.952 193.297,384.952 193.297,350.517 191.491,350.517 191.491,350.517 \n",
       "  \" fill=\"#0099ff\" fill-opacity=\"1\"/>\n",
       "<polyline clip-path=\"url(#clip02)\" style=\"stroke:#00002d; stroke-width:0.8; stroke-opacity:1; fill:none\" points=\"\n",
       "  191.491,350.517 191.491,384.952 193.297,384.952 193.297,350.517 191.491,350.517 \n",
       "  \"/>\n",
       "<polygon clip-path=\"url(#clip02)\" points=\"\n",
       "193.297,367.734 193.297,384.952 195.103,384.952 195.103,367.734 193.297,367.734 193.297,367.734 \n",
       "  \" fill=\"#0099ff\" fill-opacity=\"1\"/>\n",
       "<polyline clip-path=\"url(#clip02)\" style=\"stroke:#00002d; stroke-width:0.8; stroke-opacity:1; fill:none\" points=\"\n",
       "  193.297,367.734 193.297,384.952 195.103,384.952 195.103,367.734 193.297,367.734 \n",
       "  \"/>\n",
       "<polygon clip-path=\"url(#clip02)\" points=\"\n",
       "195.103,350.517 195.103,384.952 196.909,384.952 196.909,350.517 195.103,350.517 195.103,350.517 \n",
       "  \" fill=\"#0099ff\" fill-opacity=\"1\"/>\n",
       "<polyline clip-path=\"url(#clip02)\" style=\"stroke:#00002d; stroke-width:0.8; stroke-opacity:1; fill:none\" points=\"\n",
       "  195.103,350.517 195.103,384.952 196.909,384.952 196.909,350.517 195.103,350.517 \n",
       "  \"/>\n",
       "<polygon clip-path=\"url(#clip02)\" points=\"\n",
       "196.909,384.952 196.909,384.952 198.715,384.952 198.715,384.952 196.909,384.952 196.909,384.952 \n",
       "  \" fill=\"#0099ff\" fill-opacity=\"1\"/>\n",
       "<polyline clip-path=\"url(#clip02)\" style=\"stroke:#00002d; stroke-width:0.8; stroke-opacity:1; fill:none\" points=\"\n",
       "  196.909,384.952 196.909,384.952 198.715,384.952 196.909,384.952 \n",
       "  \"/>\n",
       "<polygon clip-path=\"url(#clip02)\" points=\"\n",
       "198.715,367.734 198.715,384.952 200.521,384.952 200.521,367.734 198.715,367.734 198.715,367.734 \n",
       "  \" fill=\"#0099ff\" fill-opacity=\"1\"/>\n",
       "<polyline clip-path=\"url(#clip02)\" style=\"stroke:#00002d; stroke-width:0.8; stroke-opacity:1; fill:none\" points=\"\n",
       "  198.715,367.734 198.715,384.952 200.521,384.952 200.521,367.734 198.715,367.734 \n",
       "  \"/>\n",
       "<polygon clip-path=\"url(#clip02)\" points=\"\n",
       "200.521,367.734 200.521,384.952 202.327,384.952 202.327,367.734 200.521,367.734 200.521,367.734 \n",
       "  \" fill=\"#0099ff\" fill-opacity=\"1\"/>\n",
       "<polyline clip-path=\"url(#clip02)\" style=\"stroke:#00002d; stroke-width:0.8; stroke-opacity:1; fill:none\" points=\"\n",
       "  200.521,367.734 200.521,384.952 202.327,384.952 202.327,367.734 200.521,367.734 \n",
       "  \"/>\n",
       "<polygon clip-path=\"url(#clip02)\" points=\"\n",
       "202.327,384.952 202.327,384.952 204.134,384.952 204.134,384.952 202.327,384.952 202.327,384.952 \n",
       "  \" fill=\"#0099ff\" fill-opacity=\"1\"/>\n",
       "<polyline clip-path=\"url(#clip02)\" style=\"stroke:#00002d; stroke-width:0.8; stroke-opacity:1; fill:none\" points=\"\n",
       "  202.327,384.952 202.327,384.952 204.134,384.952 202.327,384.952 \n",
       "  \"/>\n",
       "<polygon clip-path=\"url(#clip02)\" points=\"\n",
       "204.134,384.952 204.134,384.952 205.94,384.952 205.94,384.952 204.134,384.952 204.134,384.952 \n",
       "  \" fill=\"#0099ff\" fill-opacity=\"1\"/>\n",
       "<polyline clip-path=\"url(#clip02)\" style=\"stroke:#00002d; stroke-width:0.8; stroke-opacity:1; fill:none\" points=\"\n",
       "  204.134,384.952 204.134,384.952 205.94,384.952 204.134,384.952 \n",
       "  \"/>\n",
       "<polygon clip-path=\"url(#clip02)\" points=\"\n",
       "205.94,316.081 205.94,384.952 207.746,384.952 207.746,316.081 205.94,316.081 205.94,316.081 \n",
       "  \" fill=\"#0099ff\" fill-opacity=\"1\"/>\n",
       "<polyline clip-path=\"url(#clip02)\" style=\"stroke:#00002d; stroke-width:0.8; stroke-opacity:1; fill:none\" points=\"\n",
       "  205.94,316.081 205.94,384.952 207.746,384.952 207.746,316.081 205.94,316.081 \n",
       "  \"/>\n",
       "<polygon clip-path=\"url(#clip02)\" points=\"\n",
       "207.746,367.734 207.746,384.952 209.552,384.952 209.552,367.734 207.746,367.734 207.746,367.734 \n",
       "  \" fill=\"#0099ff\" fill-opacity=\"1\"/>\n",
       "<polyline clip-path=\"url(#clip02)\" style=\"stroke:#00002d; stroke-width:0.8; stroke-opacity:1; fill:none\" points=\"\n",
       "  207.746,367.734 207.746,384.952 209.552,384.952 209.552,367.734 207.746,367.734 \n",
       "  \"/>\n",
       "<polygon clip-path=\"url(#clip02)\" points=\"\n",
       "209.552,384.952 209.552,384.952 211.358,384.952 211.358,384.952 209.552,384.952 209.552,384.952 \n",
       "  \" fill=\"#0099ff\" fill-opacity=\"1\"/>\n",
       "<polyline clip-path=\"url(#clip02)\" style=\"stroke:#00002d; stroke-width:0.8; stroke-opacity:1; fill:none\" points=\"\n",
       "  209.552,384.952 209.552,384.952 211.358,384.952 209.552,384.952 \n",
       "  \"/>\n",
       "<polygon clip-path=\"url(#clip02)\" points=\"\n",
       "211.358,350.517 211.358,384.952 213.164,384.952 213.164,350.517 211.358,350.517 211.358,350.517 \n",
       "  \" fill=\"#0099ff\" fill-opacity=\"1\"/>\n",
       "<polyline clip-path=\"url(#clip02)\" style=\"stroke:#00002d; stroke-width:0.8; stroke-opacity:1; fill:none\" points=\"\n",
       "  211.358,350.517 211.358,384.952 213.164,384.952 213.164,350.517 211.358,350.517 \n",
       "  \"/>\n",
       "<polygon clip-path=\"url(#clip02)\" points=\"\n",
       "213.164,384.952 213.164,384.952 214.97,384.952 214.97,384.952 213.164,384.952 213.164,384.952 \n",
       "  \" fill=\"#0099ff\" fill-opacity=\"1\"/>\n",
       "<polyline clip-path=\"url(#clip02)\" style=\"stroke:#00002d; stroke-width:0.8; stroke-opacity:1; fill:none\" points=\"\n",
       "  213.164,384.952 213.164,384.952 214.97,384.952 213.164,384.952 \n",
       "  \"/>\n",
       "<polygon clip-path=\"url(#clip02)\" points=\"\n",
       "214.97,367.734 214.97,384.952 216.776,384.952 216.776,367.734 214.97,367.734 214.97,367.734 \n",
       "  \" fill=\"#0099ff\" fill-opacity=\"1\"/>\n",
       "<polyline clip-path=\"url(#clip02)\" style=\"stroke:#00002d; stroke-width:0.8; stroke-opacity:1; fill:none\" points=\"\n",
       "  214.97,367.734 214.97,384.952 216.776,384.952 216.776,367.734 214.97,367.734 \n",
       "  \"/>\n",
       "<polygon clip-path=\"url(#clip02)\" points=\"\n",
       "216.776,384.952 216.776,384.952 218.583,384.952 218.583,384.952 216.776,384.952 216.776,384.952 \n",
       "  \" fill=\"#0099ff\" fill-opacity=\"1\"/>\n",
       "<polyline clip-path=\"url(#clip02)\" style=\"stroke:#00002d; stroke-width:0.8; stroke-opacity:1; fill:none\" points=\"\n",
       "  216.776,384.952 216.776,384.952 218.583,384.952 216.776,384.952 \n",
       "  \"/>\n",
       "<polygon clip-path=\"url(#clip02)\" points=\"\n",
       "218.583,333.299 218.583,384.952 220.389,384.952 220.389,333.299 218.583,333.299 218.583,333.299 \n",
       "  \" fill=\"#0099ff\" fill-opacity=\"1\"/>\n",
       "<polyline clip-path=\"url(#clip02)\" style=\"stroke:#00002d; stroke-width:0.8; stroke-opacity:1; fill:none\" points=\"\n",
       "  218.583,333.299 218.583,384.952 220.389,384.952 220.389,333.299 218.583,333.299 \n",
       "  \"/>\n",
       "<polygon clip-path=\"url(#clip02)\" points=\"\n",
       "220.389,350.517 220.389,384.952 222.195,384.952 222.195,350.517 220.389,350.517 220.389,350.517 \n",
       "  \" fill=\"#0099ff\" fill-opacity=\"1\"/>\n",
       "<polyline clip-path=\"url(#clip02)\" style=\"stroke:#00002d; stroke-width:0.8; stroke-opacity:1; fill:none\" points=\"\n",
       "  220.389,350.517 220.389,384.952 222.195,384.952 222.195,350.517 220.389,350.517 \n",
       "  \"/>\n",
       "<polygon clip-path=\"url(#clip02)\" points=\"\n",
       "222.195,333.299 222.195,384.952 224.001,384.952 224.001,333.299 222.195,333.299 222.195,333.299 \n",
       "  \" fill=\"#0099ff\" fill-opacity=\"1\"/>\n",
       "<polyline clip-path=\"url(#clip02)\" style=\"stroke:#00002d; stroke-width:0.8; stroke-opacity:1; fill:none\" points=\"\n",
       "  222.195,333.299 222.195,384.952 224.001,384.952 224.001,333.299 222.195,333.299 \n",
       "  \"/>\n",
       "<polygon clip-path=\"url(#clip02)\" points=\"\n",
       "224.001,367.734 224.001,384.952 225.807,384.952 225.807,367.734 224.001,367.734 224.001,367.734 \n",
       "  \" fill=\"#0099ff\" fill-opacity=\"1\"/>\n",
       "<polyline clip-path=\"url(#clip02)\" style=\"stroke:#00002d; stroke-width:0.8; stroke-opacity:1; fill:none\" points=\"\n",
       "  224.001,367.734 224.001,384.952 225.807,384.952 225.807,367.734 224.001,367.734 \n",
       "  \"/>\n",
       "<polygon clip-path=\"url(#clip02)\" points=\"\n",
       "225.807,367.734 225.807,384.952 227.613,384.952 227.613,367.734 225.807,367.734 225.807,367.734 \n",
       "  \" fill=\"#0099ff\" fill-opacity=\"1\"/>\n",
       "<polyline clip-path=\"url(#clip02)\" style=\"stroke:#00002d; stroke-width:0.8; stroke-opacity:1; fill:none\" points=\"\n",
       "  225.807,367.734 225.807,384.952 227.613,384.952 227.613,367.734 225.807,367.734 \n",
       "  \"/>\n",
       "<polygon clip-path=\"url(#clip02)\" points=\"\n",
       "227.613,384.952 227.613,384.952 229.419,384.952 229.419,384.952 227.613,384.952 227.613,384.952 \n",
       "  \" fill=\"#0099ff\" fill-opacity=\"1\"/>\n",
       "<polyline clip-path=\"url(#clip02)\" style=\"stroke:#00002d; stroke-width:0.8; stroke-opacity:1; fill:none\" points=\"\n",
       "  227.613,384.952 227.613,384.952 229.419,384.952 227.613,384.952 \n",
       "  \"/>\n",
       "<polygon clip-path=\"url(#clip02)\" points=\"\n",
       "229.419,367.734 229.419,384.952 231.225,384.952 231.225,367.734 229.419,367.734 229.419,367.734 \n",
       "  \" fill=\"#0099ff\" fill-opacity=\"1\"/>\n",
       "<polyline clip-path=\"url(#clip02)\" style=\"stroke:#00002d; stroke-width:0.8; stroke-opacity:1; fill:none\" points=\"\n",
       "  229.419,367.734 229.419,384.952 231.225,384.952 231.225,367.734 229.419,367.734 \n",
       "  \"/>\n",
       "<polygon clip-path=\"url(#clip02)\" points=\"\n",
       "231.225,384.952 231.225,384.952 233.032,384.952 233.032,384.952 231.225,384.952 231.225,384.952 \n",
       "  \" fill=\"#0099ff\" fill-opacity=\"1\"/>\n",
       "<polyline clip-path=\"url(#clip02)\" style=\"stroke:#00002d; stroke-width:0.8; stroke-opacity:1; fill:none\" points=\"\n",
       "  231.225,384.952 231.225,384.952 233.032,384.952 231.225,384.952 \n",
       "  \"/>\n",
       "<polygon clip-path=\"url(#clip02)\" points=\"\n",
       "233.032,367.734 233.032,384.952 234.838,384.952 234.838,367.734 233.032,367.734 233.032,367.734 \n",
       "  \" fill=\"#0099ff\" fill-opacity=\"1\"/>\n",
       "<polyline clip-path=\"url(#clip02)\" style=\"stroke:#00002d; stroke-width:0.8; stroke-opacity:1; fill:none\" points=\"\n",
       "  233.032,367.734 233.032,384.952 234.838,384.952 234.838,367.734 233.032,367.734 \n",
       "  \"/>\n",
       "<polygon clip-path=\"url(#clip02)\" points=\"\n",
       "234.838,384.952 234.838,384.952 236.644,384.952 236.644,384.952 234.838,384.952 234.838,384.952 \n",
       "  \" fill=\"#0099ff\" fill-opacity=\"1\"/>\n",
       "<polyline clip-path=\"url(#clip02)\" style=\"stroke:#00002d; stroke-width:0.8; stroke-opacity:1; fill:none\" points=\"\n",
       "  234.838,384.952 234.838,384.952 236.644,384.952 234.838,384.952 \n",
       "  \"/>\n",
       "<polygon clip-path=\"url(#clip02)\" points=\"\n",
       "236.644,384.952 236.644,384.952 238.45,384.952 238.45,384.952 236.644,384.952 236.644,384.952 \n",
       "  \" fill=\"#0099ff\" fill-opacity=\"1\"/>\n",
       "<polyline clip-path=\"url(#clip02)\" style=\"stroke:#00002d; stroke-width:0.8; stroke-opacity:1; fill:none\" points=\"\n",
       "  236.644,384.952 236.644,384.952 238.45,384.952 236.644,384.952 \n",
       "  \"/>\n",
       "<polygon clip-path=\"url(#clip02)\" points=\"\n",
       "238.45,350.517 238.45,384.952 240.256,384.952 240.256,350.517 238.45,350.517 238.45,350.517 \n",
       "  \" fill=\"#0099ff\" fill-opacity=\"1\"/>\n",
       "<polyline clip-path=\"url(#clip02)\" style=\"stroke:#00002d; stroke-width:0.8; stroke-opacity:1; fill:none\" points=\"\n",
       "  238.45,350.517 238.45,384.952 240.256,384.952 240.256,350.517 238.45,350.517 \n",
       "  \"/>\n",
       "<polygon clip-path=\"url(#clip02)\" points=\"\n",
       "240.256,384.952 240.256,384.952 242.062,384.952 242.062,384.952 240.256,384.952 240.256,384.952 \n",
       "  \" fill=\"#0099ff\" fill-opacity=\"1\"/>\n",
       "<polyline clip-path=\"url(#clip02)\" style=\"stroke:#00002d; stroke-width:0.8; stroke-opacity:1; fill:none\" points=\"\n",
       "  240.256,384.952 240.256,384.952 242.062,384.952 240.256,384.952 \n",
       "  \"/>\n",
       "<polygon clip-path=\"url(#clip02)\" points=\"\n",
       "242.062,367.734 242.062,384.952 243.868,384.952 243.868,367.734 242.062,367.734 242.062,367.734 \n",
       "  \" fill=\"#0099ff\" fill-opacity=\"1\"/>\n",
       "<polyline clip-path=\"url(#clip02)\" style=\"stroke:#00002d; stroke-width:0.8; stroke-opacity:1; fill:none\" points=\"\n",
       "  242.062,367.734 242.062,384.952 243.868,384.952 243.868,367.734 242.062,367.734 \n",
       "  \"/>\n",
       "<polygon clip-path=\"url(#clip02)\" points=\"\n",
       "243.868,367.734 243.868,384.952 245.674,384.952 245.674,367.734 243.868,367.734 243.868,367.734 \n",
       "  \" fill=\"#0099ff\" fill-opacity=\"1\"/>\n",
       "<polyline clip-path=\"url(#clip02)\" style=\"stroke:#00002d; stroke-width:0.8; stroke-opacity:1; fill:none\" points=\"\n",
       "  243.868,367.734 243.868,384.952 245.674,384.952 245.674,367.734 243.868,367.734 \n",
       "  \"/>\n",
       "<polygon clip-path=\"url(#clip02)\" points=\"\n",
       "245.674,350.517 245.674,384.952 247.481,384.952 247.481,350.517 245.674,350.517 245.674,350.517 \n",
       "  \" fill=\"#0099ff\" fill-opacity=\"1\"/>\n",
       "<polyline clip-path=\"url(#clip02)\" style=\"stroke:#00002d; stroke-width:0.8; stroke-opacity:1; fill:none\" points=\"\n",
       "  245.674,350.517 245.674,384.952 247.481,384.952 247.481,350.517 245.674,350.517 \n",
       "  \"/>\n",
       "<polygon clip-path=\"url(#clip02)\" points=\"\n",
       "247.481,350.517 247.481,384.952 249.287,384.952 249.287,350.517 247.481,350.517 247.481,350.517 \n",
       "  \" fill=\"#0099ff\" fill-opacity=\"1\"/>\n",
       "<polyline clip-path=\"url(#clip02)\" style=\"stroke:#00002d; stroke-width:0.8; stroke-opacity:1; fill:none\" points=\"\n",
       "  247.481,350.517 247.481,384.952 249.287,384.952 249.287,350.517 247.481,350.517 \n",
       "  \"/>\n",
       "<polygon clip-path=\"url(#clip02)\" points=\"\n",
       "249.287,367.734 249.287,384.952 251.093,384.952 251.093,367.734 249.287,367.734 249.287,367.734 \n",
       "  \" fill=\"#0099ff\" fill-opacity=\"1\"/>\n",
       "<polyline clip-path=\"url(#clip02)\" style=\"stroke:#00002d; stroke-width:0.8; stroke-opacity:1; fill:none\" points=\"\n",
       "  249.287,367.734 249.287,384.952 251.093,384.952 251.093,367.734 249.287,367.734 \n",
       "  \"/>\n",
       "<polygon clip-path=\"url(#clip02)\" points=\"\n",
       "251.093,367.734 251.093,384.952 252.899,384.952 252.899,367.734 251.093,367.734 251.093,367.734 \n",
       "  \" fill=\"#0099ff\" fill-opacity=\"1\"/>\n",
       "<polyline clip-path=\"url(#clip02)\" style=\"stroke:#00002d; stroke-width:0.8; stroke-opacity:1; fill:none\" points=\"\n",
       "  251.093,367.734 251.093,384.952 252.899,384.952 252.899,367.734 251.093,367.734 \n",
       "  \"/>\n",
       "<polygon clip-path=\"url(#clip02)\" points=\"\n",
       "252.899,350.517 252.899,384.952 254.705,384.952 254.705,350.517 252.899,350.517 252.899,350.517 \n",
       "  \" fill=\"#0099ff\" fill-opacity=\"1\"/>\n",
       "<polyline clip-path=\"url(#clip02)\" style=\"stroke:#00002d; stroke-width:0.8; stroke-opacity:1; fill:none\" points=\"\n",
       "  252.899,350.517 252.899,384.952 254.705,384.952 254.705,350.517 252.899,350.517 \n",
       "  \"/>\n",
       "<polygon clip-path=\"url(#clip02)\" points=\"\n",
       "254.705,367.734 254.705,384.952 256.511,384.952 256.511,367.734 254.705,367.734 254.705,367.734 \n",
       "  \" fill=\"#0099ff\" fill-opacity=\"1\"/>\n",
       "<polyline clip-path=\"url(#clip02)\" style=\"stroke:#00002d; stroke-width:0.8; stroke-opacity:1; fill:none\" points=\"\n",
       "  254.705,367.734 254.705,384.952 256.511,384.952 256.511,367.734 254.705,367.734 \n",
       "  \"/>\n",
       "<polygon clip-path=\"url(#clip02)\" points=\"\n",
       "256.511,350.517 256.511,384.952 258.317,384.952 258.317,350.517 256.511,350.517 256.511,350.517 \n",
       "  \" fill=\"#0099ff\" fill-opacity=\"1\"/>\n",
       "<polyline clip-path=\"url(#clip02)\" style=\"stroke:#00002d; stroke-width:0.8; stroke-opacity:1; fill:none\" points=\"\n",
       "  256.511,350.517 256.511,384.952 258.317,384.952 258.317,350.517 256.511,350.517 \n",
       "  \"/>\n",
       "<polygon clip-path=\"url(#clip02)\" points=\"\n",
       "258.317,350.517 258.317,384.952 260.123,384.952 260.123,350.517 258.317,350.517 258.317,350.517 \n",
       "  \" fill=\"#0099ff\" fill-opacity=\"1\"/>\n",
       "<polyline clip-path=\"url(#clip02)\" style=\"stroke:#00002d; stroke-width:0.8; stroke-opacity:1; fill:none\" points=\"\n",
       "  258.317,350.517 258.317,384.952 260.123,384.952 260.123,350.517 258.317,350.517 \n",
       "  \"/>\n",
       "<polygon clip-path=\"url(#clip02)\" points=\"\n",
       "260.123,384.952 260.123,384.952 261.93,384.952 261.93,384.952 260.123,384.952 260.123,384.952 \n",
       "  \" fill=\"#0099ff\" fill-opacity=\"1\"/>\n",
       "<polyline clip-path=\"url(#clip02)\" style=\"stroke:#00002d; stroke-width:0.8; stroke-opacity:1; fill:none\" points=\"\n",
       "  260.123,384.952 260.123,384.952 261.93,384.952 260.123,384.952 \n",
       "  \"/>\n",
       "<polygon clip-path=\"url(#clip02)\" points=\"\n",
       "261.93,384.952 261.93,384.952 263.736,384.952 263.736,384.952 261.93,384.952 261.93,384.952 \n",
       "  \" fill=\"#0099ff\" fill-opacity=\"1\"/>\n",
       "<polyline clip-path=\"url(#clip02)\" style=\"stroke:#00002d; stroke-width:0.8; stroke-opacity:1; fill:none\" points=\"\n",
       "  261.93,384.952 261.93,384.952 263.736,384.952 261.93,384.952 \n",
       "  \"/>\n",
       "<polygon clip-path=\"url(#clip02)\" points=\"\n",
       "263.736,384.952 263.736,384.952 265.542,384.952 265.542,384.952 263.736,384.952 263.736,384.952 \n",
       "  \" fill=\"#0099ff\" fill-opacity=\"1\"/>\n",
       "<polyline clip-path=\"url(#clip02)\" style=\"stroke:#00002d; stroke-width:0.8; stroke-opacity:1; fill:none\" points=\"\n",
       "  263.736,384.952 263.736,384.952 265.542,384.952 263.736,384.952 \n",
       "  \"/>\n",
       "<polygon clip-path=\"url(#clip02)\" points=\"\n",
       "265.542,367.734 265.542,384.952 267.348,384.952 267.348,367.734 265.542,367.734 265.542,367.734 \n",
       "  \" fill=\"#0099ff\" fill-opacity=\"1\"/>\n",
       "<polyline clip-path=\"url(#clip02)\" style=\"stroke:#00002d; stroke-width:0.8; stroke-opacity:1; fill:none\" points=\"\n",
       "  265.542,367.734 265.542,384.952 267.348,384.952 267.348,367.734 265.542,367.734 \n",
       "  \"/>\n",
       "<polygon clip-path=\"url(#clip02)\" points=\"\n",
       "267.348,384.952 267.348,384.952 269.154,384.952 269.154,384.952 267.348,384.952 267.348,384.952 \n",
       "  \" fill=\"#0099ff\" fill-opacity=\"1\"/>\n",
       "<polyline clip-path=\"url(#clip02)\" style=\"stroke:#00002d; stroke-width:0.8; stroke-opacity:1; fill:none\" points=\"\n",
       "  267.348,384.952 267.348,384.952 269.154,384.952 267.348,384.952 \n",
       "  \"/>\n",
       "<polygon clip-path=\"url(#clip02)\" points=\"\n",
       "269.154,367.734 269.154,384.952 270.96,384.952 270.96,367.734 269.154,367.734 269.154,367.734 \n",
       "  \" fill=\"#0099ff\" fill-opacity=\"1\"/>\n",
       "<polyline clip-path=\"url(#clip02)\" style=\"stroke:#00002d; stroke-width:0.8; stroke-opacity:1; fill:none\" points=\"\n",
       "  269.154,367.734 269.154,384.952 270.96,384.952 270.96,367.734 269.154,367.734 \n",
       "  \"/>\n",
       "<polygon clip-path=\"url(#clip02)\" points=\"\n",
       "270.96,384.952 270.96,384.952 272.766,384.952 272.766,384.952 270.96,384.952 270.96,384.952 \n",
       "  \" fill=\"#0099ff\" fill-opacity=\"1\"/>\n",
       "<polyline clip-path=\"url(#clip02)\" style=\"stroke:#00002d; stroke-width:0.8; stroke-opacity:1; fill:none\" points=\"\n",
       "  270.96,384.952 270.96,384.952 272.766,384.952 270.96,384.952 \n",
       "  \"/>\n",
       "<polygon clip-path=\"url(#clip02)\" points=\"\n",
       "272.766,367.734 272.766,384.952 274.572,384.952 274.572,367.734 272.766,367.734 272.766,367.734 \n",
       "  \" fill=\"#0099ff\" fill-opacity=\"1\"/>\n",
       "<polyline clip-path=\"url(#clip02)\" style=\"stroke:#00002d; stroke-width:0.8; stroke-opacity:1; fill:none\" points=\"\n",
       "  272.766,367.734 272.766,384.952 274.572,384.952 274.572,367.734 272.766,367.734 \n",
       "  \"/>\n",
       "<polygon clip-path=\"url(#clip02)\" points=\"\n",
       "274.572,367.734 274.572,384.952 276.379,384.952 276.379,367.734 274.572,367.734 274.572,367.734 \n",
       "  \" fill=\"#0099ff\" fill-opacity=\"1\"/>\n",
       "<polyline clip-path=\"url(#clip02)\" style=\"stroke:#00002d; stroke-width:0.8; stroke-opacity:1; fill:none\" points=\"\n",
       "  274.572,367.734 274.572,384.952 276.379,384.952 276.379,367.734 274.572,367.734 \n",
       "  \"/>\n",
       "<polygon clip-path=\"url(#clip02)\" points=\"\n",
       "276.379,367.734 276.379,384.952 278.185,384.952 278.185,367.734 276.379,367.734 276.379,367.734 \n",
       "  \" fill=\"#0099ff\" fill-opacity=\"1\"/>\n",
       "<polyline clip-path=\"url(#clip02)\" style=\"stroke:#00002d; stroke-width:0.8; stroke-opacity:1; fill:none\" points=\"\n",
       "  276.379,367.734 276.379,384.952 278.185,384.952 278.185,367.734 276.379,367.734 \n",
       "  \"/>\n",
       "<polygon clip-path=\"url(#clip02)\" points=\"\n",
       "278.185,367.734 278.185,384.952 279.991,384.952 279.991,367.734 278.185,367.734 278.185,367.734 \n",
       "  \" fill=\"#0099ff\" fill-opacity=\"1\"/>\n",
       "<polyline clip-path=\"url(#clip02)\" style=\"stroke:#00002d; stroke-width:0.8; stroke-opacity:1; fill:none\" points=\"\n",
       "  278.185,367.734 278.185,384.952 279.991,384.952 279.991,367.734 278.185,367.734 \n",
       "  \"/>\n",
       "<polygon clip-path=\"url(#clip02)\" points=\"\n",
       "279.991,384.952 279.991,384.952 281.797,384.952 281.797,384.952 279.991,384.952 279.991,384.952 \n",
       "  \" fill=\"#0099ff\" fill-opacity=\"1\"/>\n",
       "<polyline clip-path=\"url(#clip02)\" style=\"stroke:#00002d; stroke-width:0.8; stroke-opacity:1; fill:none\" points=\"\n",
       "  279.991,384.952 279.991,384.952 281.797,384.952 279.991,384.952 \n",
       "  \"/>\n",
       "<polygon clip-path=\"url(#clip02)\" points=\"\n",
       "281.797,384.952 281.797,384.952 283.603,384.952 283.603,384.952 281.797,384.952 281.797,384.952 \n",
       "  \" fill=\"#0099ff\" fill-opacity=\"1\"/>\n",
       "<polyline clip-path=\"url(#clip02)\" style=\"stroke:#00002d; stroke-width:0.8; stroke-opacity:1; fill:none\" points=\"\n",
       "  281.797,384.952 281.797,384.952 283.603,384.952 281.797,384.952 \n",
       "  \"/>\n",
       "<polygon clip-path=\"url(#clip02)\" points=\"\n",
       "283.603,350.517 283.603,384.952 285.409,384.952 285.409,350.517 283.603,350.517 283.603,350.517 \n",
       "  \" fill=\"#0099ff\" fill-opacity=\"1\"/>\n",
       "<polyline clip-path=\"url(#clip02)\" style=\"stroke:#00002d; stroke-width:0.8; stroke-opacity:1; fill:none\" points=\"\n",
       "  283.603,350.517 283.603,384.952 285.409,384.952 285.409,350.517 283.603,350.517 \n",
       "  \"/>\n",
       "<polygon clip-path=\"url(#clip02)\" points=\"\n",
       "285.409,367.734 285.409,384.952 287.215,384.952 287.215,367.734 285.409,367.734 285.409,367.734 \n",
       "  \" fill=\"#0099ff\" fill-opacity=\"1\"/>\n",
       "<polyline clip-path=\"url(#clip02)\" style=\"stroke:#00002d; stroke-width:0.8; stroke-opacity:1; fill:none\" points=\"\n",
       "  285.409,367.734 285.409,384.952 287.215,384.952 287.215,367.734 285.409,367.734 \n",
       "  \"/>\n",
       "<polygon clip-path=\"url(#clip02)\" points=\"\n",
       "287.215,384.952 287.215,384.952 289.021,384.952 289.021,384.952 287.215,384.952 287.215,384.952 \n",
       "  \" fill=\"#0099ff\" fill-opacity=\"1\"/>\n",
       "<polyline clip-path=\"url(#clip02)\" style=\"stroke:#00002d; stroke-width:0.8; stroke-opacity:1; fill:none\" points=\"\n",
       "  287.215,384.952 287.215,384.952 289.021,384.952 287.215,384.952 \n",
       "  \"/>\n",
       "<polygon clip-path=\"url(#clip02)\" points=\"\n",
       "289.021,367.734 289.021,384.952 290.828,384.952 290.828,367.734 289.021,367.734 289.021,367.734 \n",
       "  \" fill=\"#0099ff\" fill-opacity=\"1\"/>\n",
       "<polyline clip-path=\"url(#clip02)\" style=\"stroke:#00002d; stroke-width:0.8; stroke-opacity:1; fill:none\" points=\"\n",
       "  289.021,367.734 289.021,384.952 290.828,384.952 290.828,367.734 289.021,367.734 \n",
       "  \"/>\n",
       "<polygon clip-path=\"url(#clip02)\" points=\"\n",
       "290.828,384.952 290.828,384.952 292.634,384.952 292.634,384.952 290.828,384.952 290.828,384.952 \n",
       "  \" fill=\"#0099ff\" fill-opacity=\"1\"/>\n",
       "<polyline clip-path=\"url(#clip02)\" style=\"stroke:#00002d; stroke-width:0.8; stroke-opacity:1; fill:none\" points=\"\n",
       "  290.828,384.952 290.828,384.952 292.634,384.952 290.828,384.952 \n",
       "  \"/>\n",
       "<polygon clip-path=\"url(#clip02)\" points=\"\n",
       "292.634,367.734 292.634,384.952 294.44,384.952 294.44,367.734 292.634,367.734 292.634,367.734 \n",
       "  \" fill=\"#0099ff\" fill-opacity=\"1\"/>\n",
       "<polyline clip-path=\"url(#clip02)\" style=\"stroke:#00002d; stroke-width:0.8; stroke-opacity:1; fill:none\" points=\"\n",
       "  292.634,367.734 292.634,384.952 294.44,384.952 294.44,367.734 292.634,367.734 \n",
       "  \"/>\n",
       "<polygon clip-path=\"url(#clip02)\" points=\"\n",
       "294.44,367.734 294.44,384.952 296.246,384.952 296.246,367.734 294.44,367.734 294.44,367.734 \n",
       "  \" fill=\"#0099ff\" fill-opacity=\"1\"/>\n",
       "<polyline clip-path=\"url(#clip02)\" style=\"stroke:#00002d; stroke-width:0.8; stroke-opacity:1; fill:none\" points=\"\n",
       "  294.44,367.734 294.44,384.952 296.246,384.952 296.246,367.734 294.44,367.734 \n",
       "  \"/>\n",
       "<polygon clip-path=\"url(#clip02)\" points=\"\n",
       "296.246,367.734 296.246,384.952 298.052,384.952 298.052,367.734 296.246,367.734 296.246,367.734 \n",
       "  \" fill=\"#0099ff\" fill-opacity=\"1\"/>\n",
       "<polyline clip-path=\"url(#clip02)\" style=\"stroke:#00002d; stroke-width:0.8; stroke-opacity:1; fill:none\" points=\"\n",
       "  296.246,367.734 296.246,384.952 298.052,384.952 298.052,367.734 296.246,367.734 \n",
       "  \"/>\n",
       "<polygon clip-path=\"url(#clip02)\" points=\"\n",
       "298.052,350.517 298.052,384.952 299.858,384.952 299.858,350.517 298.052,350.517 298.052,350.517 \n",
       "  \" fill=\"#0099ff\" fill-opacity=\"1\"/>\n",
       "<polyline clip-path=\"url(#clip02)\" style=\"stroke:#00002d; stroke-width:0.8; stroke-opacity:1; fill:none\" points=\"\n",
       "  298.052,350.517 298.052,384.952 299.858,384.952 299.858,350.517 298.052,350.517 \n",
       "  \"/>\n",
       "<polygon clip-path=\"url(#clip02)\" points=\"\n",
       "299.858,384.952 299.858,384.952 301.664,384.952 301.664,384.952 299.858,384.952 299.858,384.952 \n",
       "  \" fill=\"#0099ff\" fill-opacity=\"1\"/>\n",
       "<polyline clip-path=\"url(#clip02)\" style=\"stroke:#00002d; stroke-width:0.8; stroke-opacity:1; fill:none\" points=\"\n",
       "  299.858,384.952 299.858,384.952 301.664,384.952 299.858,384.952 \n",
       "  \"/>\n",
       "<polygon clip-path=\"url(#clip02)\" points=\"\n",
       "301.664,367.734 301.664,384.952 303.471,384.952 303.471,367.734 301.664,367.734 301.664,367.734 \n",
       "  \" fill=\"#0099ff\" fill-opacity=\"1\"/>\n",
       "<polyline clip-path=\"url(#clip02)\" style=\"stroke:#00002d; stroke-width:0.8; stroke-opacity:1; fill:none\" points=\"\n",
       "  301.664,367.734 301.664,384.952 303.471,384.952 303.471,367.734 301.664,367.734 \n",
       "  \"/>\n",
       "<polygon clip-path=\"url(#clip02)\" points=\"\n",
       "303.471,384.952 303.471,384.952 305.277,384.952 305.277,384.952 303.471,384.952 303.471,384.952 \n",
       "  \" fill=\"#0099ff\" fill-opacity=\"1\"/>\n",
       "<polyline clip-path=\"url(#clip02)\" style=\"stroke:#00002d; stroke-width:0.8; stroke-opacity:1; fill:none\" points=\"\n",
       "  303.471,384.952 303.471,384.952 305.277,384.952 303.471,384.952 \n",
       "  \"/>\n",
       "<polygon clip-path=\"url(#clip02)\" points=\"\n",
       "305.277,333.299 305.277,384.952 307.083,384.952 307.083,333.299 305.277,333.299 305.277,333.299 \n",
       "  \" fill=\"#0099ff\" fill-opacity=\"1\"/>\n",
       "<polyline clip-path=\"url(#clip02)\" style=\"stroke:#00002d; stroke-width:0.8; stroke-opacity:1; fill:none\" points=\"\n",
       "  305.277,333.299 305.277,384.952 307.083,384.952 307.083,333.299 305.277,333.299 \n",
       "  \"/>\n",
       "<polygon clip-path=\"url(#clip02)\" points=\"\n",
       "307.083,367.734 307.083,384.952 308.889,384.952 308.889,367.734 307.083,367.734 307.083,367.734 \n",
       "  \" fill=\"#0099ff\" fill-opacity=\"1\"/>\n",
       "<polyline clip-path=\"url(#clip02)\" style=\"stroke:#00002d; stroke-width:0.8; stroke-opacity:1; fill:none\" points=\"\n",
       "  307.083,367.734 307.083,384.952 308.889,384.952 308.889,367.734 307.083,367.734 \n",
       "  \"/>\n",
       "<polygon clip-path=\"url(#clip02)\" points=\"\n",
       "308.889,367.734 308.889,384.952 310.695,384.952 310.695,367.734 308.889,367.734 308.889,367.734 \n",
       "  \" fill=\"#0099ff\" fill-opacity=\"1\"/>\n",
       "<polyline clip-path=\"url(#clip02)\" style=\"stroke:#00002d; stroke-width:0.8; stroke-opacity:1; fill:none\" points=\"\n",
       "  308.889,367.734 308.889,384.952 310.695,384.952 310.695,367.734 308.889,367.734 \n",
       "  \"/>\n",
       "<polygon clip-path=\"url(#clip02)\" points=\"\n",
       "310.695,384.952 310.695,384.952 312.501,384.952 312.501,384.952 310.695,384.952 310.695,384.952 \n",
       "  \" fill=\"#0099ff\" fill-opacity=\"1\"/>\n",
       "<polyline clip-path=\"url(#clip02)\" style=\"stroke:#00002d; stroke-width:0.8; stroke-opacity:1; fill:none\" points=\"\n",
       "  310.695,384.952 310.695,384.952 312.501,384.952 310.695,384.952 \n",
       "  \"/>\n",
       "<polygon clip-path=\"url(#clip02)\" points=\"\n",
       "312.501,367.734 312.501,384.952 314.307,384.952 314.307,367.734 312.501,367.734 312.501,367.734 \n",
       "  \" fill=\"#0099ff\" fill-opacity=\"1\"/>\n",
       "<polyline clip-path=\"url(#clip02)\" style=\"stroke:#00002d; stroke-width:0.8; stroke-opacity:1; fill:none\" points=\"\n",
       "  312.501,367.734 312.501,384.952 314.307,384.952 314.307,367.734 312.501,367.734 \n",
       "  \"/>\n",
       "<polygon clip-path=\"url(#clip02)\" points=\"\n",
       "314.307,367.734 314.307,384.952 316.113,384.952 316.113,367.734 314.307,367.734 314.307,367.734 \n",
       "  \" fill=\"#0099ff\" fill-opacity=\"1\"/>\n",
       "<polyline clip-path=\"url(#clip02)\" style=\"stroke:#00002d; stroke-width:0.8; stroke-opacity:1; fill:none\" points=\"\n",
       "  314.307,367.734 314.307,384.952 316.113,384.952 316.113,367.734 314.307,367.734 \n",
       "  \"/>\n",
       "<polygon clip-path=\"url(#clip02)\" points=\"\n",
       "316.113,367.734 316.113,384.952 317.92,384.952 317.92,367.734 316.113,367.734 316.113,367.734 \n",
       "  \" fill=\"#0099ff\" fill-opacity=\"1\"/>\n",
       "<polyline clip-path=\"url(#clip02)\" style=\"stroke:#00002d; stroke-width:0.8; stroke-opacity:1; fill:none\" points=\"\n",
       "  316.113,367.734 316.113,384.952 317.92,384.952 317.92,367.734 316.113,367.734 \n",
       "  \"/>\n",
       "<polygon clip-path=\"url(#clip02)\" points=\"\n",
       "317.92,367.734 317.92,384.952 319.726,384.952 319.726,367.734 317.92,367.734 317.92,367.734 \n",
       "  \" fill=\"#0099ff\" fill-opacity=\"1\"/>\n",
       "<polyline clip-path=\"url(#clip02)\" style=\"stroke:#00002d; stroke-width:0.8; stroke-opacity:1; fill:none\" points=\"\n",
       "  317.92,367.734 317.92,384.952 319.726,384.952 319.726,367.734 317.92,367.734 \n",
       "  \"/>\n",
       "<polygon clip-path=\"url(#clip02)\" points=\"\n",
       "319.726,350.517 319.726,384.952 321.532,384.952 321.532,350.517 319.726,350.517 319.726,350.517 \n",
       "  \" fill=\"#0099ff\" fill-opacity=\"1\"/>\n",
       "<polyline clip-path=\"url(#clip02)\" style=\"stroke:#00002d; stroke-width:0.8; stroke-opacity:1; fill:none\" points=\"\n",
       "  319.726,350.517 319.726,384.952 321.532,384.952 321.532,350.517 319.726,350.517 \n",
       "  \"/>\n",
       "<polygon clip-path=\"url(#clip02)\" points=\"\n",
       "321.532,384.952 321.532,384.952 323.338,384.952 323.338,384.952 321.532,384.952 321.532,384.952 \n",
       "  \" fill=\"#0099ff\" fill-opacity=\"1\"/>\n",
       "<polyline clip-path=\"url(#clip02)\" style=\"stroke:#00002d; stroke-width:0.8; stroke-opacity:1; fill:none\" points=\"\n",
       "  321.532,384.952 321.532,384.952 323.338,384.952 321.532,384.952 \n",
       "  \"/>\n",
       "<polygon clip-path=\"url(#clip02)\" points=\"\n",
       "323.338,367.734 323.338,384.952 325.144,384.952 325.144,367.734 323.338,367.734 323.338,367.734 \n",
       "  \" fill=\"#0099ff\" fill-opacity=\"1\"/>\n",
       "<polyline clip-path=\"url(#clip02)\" style=\"stroke:#00002d; stroke-width:0.8; stroke-opacity:1; fill:none\" points=\"\n",
       "  323.338,367.734 323.338,384.952 325.144,384.952 325.144,367.734 323.338,367.734 \n",
       "  \"/>\n",
       "<polygon clip-path=\"url(#clip02)\" points=\"\n",
       "325.144,384.952 325.144,384.952 326.95,384.952 326.95,384.952 325.144,384.952 325.144,384.952 \n",
       "  \" fill=\"#0099ff\" fill-opacity=\"1\"/>\n",
       "<polyline clip-path=\"url(#clip02)\" style=\"stroke:#00002d; stroke-width:0.8; stroke-opacity:1; fill:none\" points=\"\n",
       "  325.144,384.952 325.144,384.952 326.95,384.952 325.144,384.952 \n",
       "  \"/>\n",
       "<polygon clip-path=\"url(#clip02)\" points=\"\n",
       "326.95,384.952 326.95,384.952 328.756,384.952 328.756,384.952 326.95,384.952 326.95,384.952 \n",
       "  \" fill=\"#0099ff\" fill-opacity=\"1\"/>\n",
       "<polyline clip-path=\"url(#clip02)\" style=\"stroke:#00002d; stroke-width:0.8; stroke-opacity:1; fill:none\" points=\"\n",
       "  326.95,384.952 326.95,384.952 328.756,384.952 326.95,384.952 \n",
       "  \"/>\n",
       "<polygon clip-path=\"url(#clip02)\" points=\"\n",
       "328.756,350.517 328.756,384.952 330.562,384.952 330.562,350.517 328.756,350.517 328.756,350.517 \n",
       "  \" fill=\"#0099ff\" fill-opacity=\"1\"/>\n",
       "<polyline clip-path=\"url(#clip02)\" style=\"stroke:#00002d; stroke-width:0.8; stroke-opacity:1; fill:none\" points=\"\n",
       "  328.756,350.517 328.756,384.952 330.562,384.952 330.562,350.517 328.756,350.517 \n",
       "  \"/>\n",
       "<polygon clip-path=\"url(#clip02)\" points=\"\n",
       "330.562,384.952 330.562,384.952 332.369,384.952 332.369,384.952 330.562,384.952 330.562,384.952 \n",
       "  \" fill=\"#0099ff\" fill-opacity=\"1\"/>\n",
       "<polyline clip-path=\"url(#clip02)\" style=\"stroke:#00002d; stroke-width:0.8; stroke-opacity:1; fill:none\" points=\"\n",
       "  330.562,384.952 330.562,384.952 332.369,384.952 330.562,384.952 \n",
       "  \"/>\n",
       "<polygon clip-path=\"url(#clip02)\" points=\"\n",
       "332.369,384.952 332.369,384.952 334.175,384.952 334.175,384.952 332.369,384.952 332.369,384.952 \n",
       "  \" fill=\"#0099ff\" fill-opacity=\"1\"/>\n",
       "<polyline clip-path=\"url(#clip02)\" style=\"stroke:#00002d; stroke-width:0.8; stroke-opacity:1; fill:none\" points=\"\n",
       "  332.369,384.952 332.369,384.952 334.175,384.952 332.369,384.952 \n",
       "  \"/>\n",
       "<polygon clip-path=\"url(#clip02)\" points=\"\n",
       "334.175,384.952 334.175,384.952 335.981,384.952 335.981,384.952 334.175,384.952 334.175,384.952 \n",
       "  \" fill=\"#0099ff\" fill-opacity=\"1\"/>\n",
       "<polyline clip-path=\"url(#clip02)\" style=\"stroke:#00002d; stroke-width:0.8; stroke-opacity:1; fill:none\" points=\"\n",
       "  334.175,384.952 334.175,384.952 335.981,384.952 334.175,384.952 \n",
       "  \"/>\n",
       "<polygon clip-path=\"url(#clip02)\" points=\"\n",
       "335.981,384.952 335.981,384.952 337.787,384.952 337.787,384.952 335.981,384.952 335.981,384.952 \n",
       "  \" fill=\"#0099ff\" fill-opacity=\"1\"/>\n",
       "<polyline clip-path=\"url(#clip02)\" style=\"stroke:#00002d; stroke-width:0.8; stroke-opacity:1; fill:none\" points=\"\n",
       "  335.981,384.952 335.981,384.952 337.787,384.952 335.981,384.952 \n",
       "  \"/>\n",
       "<polygon clip-path=\"url(#clip02)\" points=\"\n",
       "337.787,367.734 337.787,384.952 339.593,384.952 339.593,367.734 337.787,367.734 337.787,367.734 \n",
       "  \" fill=\"#0099ff\" fill-opacity=\"1\"/>\n",
       "<polyline clip-path=\"url(#clip02)\" style=\"stroke:#00002d; stroke-width:0.8; stroke-opacity:1; fill:none\" points=\"\n",
       "  337.787,367.734 337.787,384.952 339.593,384.952 339.593,367.734 337.787,367.734 \n",
       "  \"/>\n",
       "<polygon clip-path=\"url(#clip02)\" points=\"\n",
       "339.593,384.952 339.593,384.952 341.399,384.952 341.399,384.952 339.593,384.952 339.593,384.952 \n",
       "  \" fill=\"#0099ff\" fill-opacity=\"1\"/>\n",
       "<polyline clip-path=\"url(#clip02)\" style=\"stroke:#00002d; stroke-width:0.8; stroke-opacity:1; fill:none\" points=\"\n",
       "  339.593,384.952 339.593,384.952 341.399,384.952 339.593,384.952 \n",
       "  \"/>\n",
       "<polygon clip-path=\"url(#clip02)\" points=\"\n",
       "341.399,384.952 341.399,384.952 343.205,384.952 343.205,384.952 341.399,384.952 341.399,384.952 \n",
       "  \" fill=\"#0099ff\" fill-opacity=\"1\"/>\n",
       "<polyline clip-path=\"url(#clip02)\" style=\"stroke:#00002d; stroke-width:0.8; stroke-opacity:1; fill:none\" points=\"\n",
       "  341.399,384.952 341.399,384.952 343.205,384.952 341.399,384.952 \n",
       "  \"/>\n",
       "<polygon clip-path=\"url(#clip02)\" points=\"\n",
       "343.205,367.734 343.205,384.952 345.011,384.952 345.011,367.734 343.205,367.734 343.205,367.734 \n",
       "  \" fill=\"#0099ff\" fill-opacity=\"1\"/>\n",
       "<polyline clip-path=\"url(#clip02)\" style=\"stroke:#00002d; stroke-width:0.8; stroke-opacity:1; fill:none\" points=\"\n",
       "  343.205,367.734 343.205,384.952 345.011,384.952 345.011,367.734 343.205,367.734 \n",
       "  \"/>\n",
       "<polygon clip-path=\"url(#clip02)\" points=\"\n",
       "345.011,350.517 345.011,384.952 346.818,384.952 346.818,350.517 345.011,350.517 345.011,350.517 \n",
       "  \" fill=\"#0099ff\" fill-opacity=\"1\"/>\n",
       "<polyline clip-path=\"url(#clip02)\" style=\"stroke:#00002d; stroke-width:0.8; stroke-opacity:1; fill:none\" points=\"\n",
       "  345.011,350.517 345.011,384.952 346.818,384.952 346.818,350.517 345.011,350.517 \n",
       "  \"/>\n",
       "<polygon clip-path=\"url(#clip02)\" points=\"\n",
       "346.818,384.952 346.818,384.952 348.624,384.952 348.624,384.952 346.818,384.952 346.818,384.952 \n",
       "  \" fill=\"#0099ff\" fill-opacity=\"1\"/>\n",
       "<polyline clip-path=\"url(#clip02)\" style=\"stroke:#00002d; stroke-width:0.8; stroke-opacity:1; fill:none\" points=\"\n",
       "  346.818,384.952 346.818,384.952 348.624,384.952 346.818,384.952 \n",
       "  \"/>\n",
       "<polygon clip-path=\"url(#clip02)\" points=\"\n",
       "348.624,384.952 348.624,384.952 350.43,384.952 350.43,384.952 348.624,384.952 348.624,384.952 \n",
       "  \" fill=\"#0099ff\" fill-opacity=\"1\"/>\n",
       "<polyline clip-path=\"url(#clip02)\" style=\"stroke:#00002d; stroke-width:0.8; stroke-opacity:1; fill:none\" points=\"\n",
       "  348.624,384.952 348.624,384.952 350.43,384.952 348.624,384.952 \n",
       "  \"/>\n",
       "<polygon clip-path=\"url(#clip02)\" points=\"\n",
       "350.43,384.952 350.43,384.952 352.236,384.952 352.236,384.952 350.43,384.952 350.43,384.952 \n",
       "  \" fill=\"#0099ff\" fill-opacity=\"1\"/>\n",
       "<polyline clip-path=\"url(#clip02)\" style=\"stroke:#00002d; stroke-width:0.8; stroke-opacity:1; fill:none\" points=\"\n",
       "  350.43,384.952 350.43,384.952 352.236,384.952 350.43,384.952 \n",
       "  \"/>\n",
       "<polygon clip-path=\"url(#clip02)\" points=\"\n",
       "352.236,384.952 352.236,384.952 354.042,384.952 354.042,384.952 352.236,384.952 352.236,384.952 \n",
       "  \" fill=\"#0099ff\" fill-opacity=\"1\"/>\n",
       "<polyline clip-path=\"url(#clip02)\" style=\"stroke:#00002d; stroke-width:0.8; stroke-opacity:1; fill:none\" points=\"\n",
       "  352.236,384.952 352.236,384.952 354.042,384.952 352.236,384.952 \n",
       "  \"/>\n",
       "<polygon clip-path=\"url(#clip02)\" points=\"\n",
       "354.042,367.734 354.042,384.952 355.848,384.952 355.848,367.734 354.042,367.734 354.042,367.734 \n",
       "  \" fill=\"#0099ff\" fill-opacity=\"1\"/>\n",
       "<polyline clip-path=\"url(#clip02)\" style=\"stroke:#00002d; stroke-width:0.8; stroke-opacity:1; fill:none\" points=\"\n",
       "  354.042,367.734 354.042,384.952 355.848,384.952 355.848,367.734 354.042,367.734 \n",
       "  \"/>\n",
       "<polygon clip-path=\"url(#clip02)\" points=\"\n",
       "355.848,384.952 355.848,384.952 357.654,384.952 357.654,384.952 355.848,384.952 355.848,384.952 \n",
       "  \" fill=\"#0099ff\" fill-opacity=\"1\"/>\n",
       "<polyline clip-path=\"url(#clip02)\" style=\"stroke:#00002d; stroke-width:0.8; stroke-opacity:1; fill:none\" points=\"\n",
       "  355.848,384.952 355.848,384.952 357.654,384.952 355.848,384.952 \n",
       "  \"/>\n",
       "<polygon clip-path=\"url(#clip02)\" points=\"\n",
       "357.654,384.952 357.654,384.952 359.46,384.952 359.46,384.952 357.654,384.952 357.654,384.952 \n",
       "  \" fill=\"#0099ff\" fill-opacity=\"1\"/>\n",
       "<polyline clip-path=\"url(#clip02)\" style=\"stroke:#00002d; stroke-width:0.8; stroke-opacity:1; fill:none\" points=\"\n",
       "  357.654,384.952 357.654,384.952 359.46,384.952 357.654,384.952 \n",
       "  \"/>\n",
       "<polygon clip-path=\"url(#clip02)\" points=\"\n",
       "359.46,367.734 359.46,384.952 361.267,384.952 361.267,367.734 359.46,367.734 359.46,367.734 \n",
       "  \" fill=\"#0099ff\" fill-opacity=\"1\"/>\n",
       "<polyline clip-path=\"url(#clip02)\" style=\"stroke:#00002d; stroke-width:0.8; stroke-opacity:1; fill:none\" points=\"\n",
       "  359.46,367.734 359.46,384.952 361.267,384.952 361.267,367.734 359.46,367.734 \n",
       "  \"/>\n",
       "<polygon clip-path=\"url(#clip02)\" points=\"\n",
       "361.267,367.734 361.267,384.952 363.073,384.952 363.073,367.734 361.267,367.734 361.267,367.734 \n",
       "  \" fill=\"#0099ff\" fill-opacity=\"1\"/>\n",
       "<polyline clip-path=\"url(#clip02)\" style=\"stroke:#00002d; stroke-width:0.8; stroke-opacity:1; fill:none\" points=\"\n",
       "  361.267,367.734 361.267,384.952 363.073,384.952 363.073,367.734 361.267,367.734 \n",
       "  \"/>\n",
       "<polygon clip-path=\"url(#clip02)\" points=\"\n",
       "363.073,384.952 363.073,384.952 364.879,384.952 364.879,384.952 363.073,384.952 363.073,384.952 \n",
       "  \" fill=\"#0099ff\" fill-opacity=\"1\"/>\n",
       "<polyline clip-path=\"url(#clip02)\" style=\"stroke:#00002d; stroke-width:0.8; stroke-opacity:1; fill:none\" points=\"\n",
       "  363.073,384.952 363.073,384.952 364.879,384.952 363.073,384.952 \n",
       "  \"/>\n",
       "<polygon clip-path=\"url(#clip02)\" points=\"\n",
       "364.879,384.952 364.879,384.952 366.685,384.952 366.685,384.952 364.879,384.952 364.879,384.952 \n",
       "  \" fill=\"#0099ff\" fill-opacity=\"1\"/>\n",
       "<polyline clip-path=\"url(#clip02)\" style=\"stroke:#00002d; stroke-width:0.8; stroke-opacity:1; fill:none\" points=\"\n",
       "  364.879,384.952 364.879,384.952 366.685,384.952 364.879,384.952 \n",
       "  \"/>\n",
       "<polygon clip-path=\"url(#clip02)\" points=\"\n",
       "366.685,350.517 366.685,384.952 368.491,384.952 368.491,350.517 366.685,350.517 366.685,350.517 \n",
       "  \" fill=\"#0099ff\" fill-opacity=\"1\"/>\n",
       "<polyline clip-path=\"url(#clip02)\" style=\"stroke:#00002d; stroke-width:0.8; stroke-opacity:1; fill:none\" points=\"\n",
       "  366.685,350.517 366.685,384.952 368.491,384.952 368.491,350.517 366.685,350.517 \n",
       "  \"/>\n",
       "<polygon clip-path=\"url(#clip02)\" points=\"\n",
       "368.491,384.952 368.491,384.952 370.297,384.952 370.297,384.952 368.491,384.952 368.491,384.952 \n",
       "  \" fill=\"#0099ff\" fill-opacity=\"1\"/>\n",
       "<polyline clip-path=\"url(#clip02)\" style=\"stroke:#00002d; stroke-width:0.8; stroke-opacity:1; fill:none\" points=\"\n",
       "  368.491,384.952 368.491,384.952 370.297,384.952 368.491,384.952 \n",
       "  \"/>\n",
       "<polygon clip-path=\"url(#clip02)\" points=\"\n",
       "370.297,384.952 370.297,384.952 372.103,384.952 372.103,384.952 370.297,384.952 370.297,384.952 \n",
       "  \" fill=\"#0099ff\" fill-opacity=\"1\"/>\n",
       "<polyline clip-path=\"url(#clip02)\" style=\"stroke:#00002d; stroke-width:0.8; stroke-opacity:1; fill:none\" points=\"\n",
       "  370.297,384.952 370.297,384.952 372.103,384.952 370.297,384.952 \n",
       "  \"/>\n",
       "<polygon clip-path=\"url(#clip02)\" points=\"\n",
       "372.103,367.734 372.103,384.952 373.909,384.952 373.909,367.734 372.103,367.734 372.103,367.734 \n",
       "  \" fill=\"#0099ff\" fill-opacity=\"1\"/>\n",
       "<polyline clip-path=\"url(#clip02)\" style=\"stroke:#00002d; stroke-width:0.8; stroke-opacity:1; fill:none\" points=\"\n",
       "  372.103,367.734 372.103,384.952 373.909,384.952 373.909,367.734 372.103,367.734 \n",
       "  \"/>\n",
       "<polygon clip-path=\"url(#clip02)\" points=\"\n",
       "373.909,350.517 373.909,384.952 375.716,384.952 375.716,350.517 373.909,350.517 373.909,350.517 \n",
       "  \" fill=\"#0099ff\" fill-opacity=\"1\"/>\n",
       "<polyline clip-path=\"url(#clip02)\" style=\"stroke:#00002d; stroke-width:0.8; stroke-opacity:1; fill:none\" points=\"\n",
       "  373.909,350.517 373.909,384.952 375.716,384.952 375.716,350.517 373.909,350.517 \n",
       "  \"/>\n",
       "<polygon clip-path=\"url(#clip02)\" points=\"\n",
       "375.716,384.952 375.716,384.952 377.522,384.952 377.522,384.952 375.716,384.952 375.716,384.952 \n",
       "  \" fill=\"#0099ff\" fill-opacity=\"1\"/>\n",
       "<polyline clip-path=\"url(#clip02)\" style=\"stroke:#00002d; stroke-width:0.8; stroke-opacity:1; fill:none\" points=\"\n",
       "  375.716,384.952 375.716,384.952 377.522,384.952 375.716,384.952 \n",
       "  \"/>\n",
       "<polygon clip-path=\"url(#clip02)\" points=\"\n",
       "377.522,384.952 377.522,384.952 379.328,384.952 379.328,384.952 377.522,384.952 377.522,384.952 \n",
       "  \" fill=\"#0099ff\" fill-opacity=\"1\"/>\n",
       "<polyline clip-path=\"url(#clip02)\" style=\"stroke:#00002d; stroke-width:0.8; stroke-opacity:1; fill:none\" points=\"\n",
       "  377.522,384.952 377.522,384.952 379.328,384.952 377.522,384.952 \n",
       "  \"/>\n",
       "<polygon clip-path=\"url(#clip02)\" points=\"\n",
       "379.328,384.952 379.328,384.952 381.134,384.952 381.134,384.952 379.328,384.952 379.328,384.952 \n",
       "  \" fill=\"#0099ff\" fill-opacity=\"1\"/>\n",
       "<polyline clip-path=\"url(#clip02)\" style=\"stroke:#00002d; stroke-width:0.8; stroke-opacity:1; fill:none\" points=\"\n",
       "  379.328,384.952 379.328,384.952 381.134,384.952 379.328,384.952 \n",
       "  \"/>\n",
       "<polygon clip-path=\"url(#clip02)\" points=\"\n",
       "381.134,384.952 381.134,384.952 382.94,384.952 382.94,384.952 381.134,384.952 381.134,384.952 \n",
       "  \" fill=\"#0099ff\" fill-opacity=\"1\"/>\n",
       "<polyline clip-path=\"url(#clip02)\" style=\"stroke:#00002d; stroke-width:0.8; stroke-opacity:1; fill:none\" points=\"\n",
       "  381.134,384.952 381.134,384.952 382.94,384.952 381.134,384.952 \n",
       "  \"/>\n",
       "<polygon clip-path=\"url(#clip02)\" points=\"\n",
       "382.94,367.734 382.94,384.952 384.746,384.952 384.746,367.734 382.94,367.734 382.94,367.734 \n",
       "  \" fill=\"#0099ff\" fill-opacity=\"1\"/>\n",
       "<polyline clip-path=\"url(#clip02)\" style=\"stroke:#00002d; stroke-width:0.8; stroke-opacity:1; fill:none\" points=\"\n",
       "  382.94,367.734 382.94,384.952 384.746,384.952 384.746,367.734 382.94,367.734 \n",
       "  \"/>\n",
       "<polygon clip-path=\"url(#clip02)\" points=\"\n",
       "384.746,384.952 384.746,384.952 386.552,384.952 386.552,384.952 384.746,384.952 384.746,384.952 \n",
       "  \" fill=\"#0099ff\" fill-opacity=\"1\"/>\n",
       "<polyline clip-path=\"url(#clip02)\" style=\"stroke:#00002d; stroke-width:0.8; stroke-opacity:1; fill:none\" points=\"\n",
       "  384.746,384.952 384.746,384.952 386.552,384.952 384.746,384.952 \n",
       "  \"/>\n",
       "<polygon clip-path=\"url(#clip02)\" points=\"\n",
       "386.552,384.952 386.552,384.952 388.358,384.952 388.358,384.952 386.552,384.952 386.552,384.952 \n",
       "  \" fill=\"#0099ff\" fill-opacity=\"1\"/>\n",
       "<polyline clip-path=\"url(#clip02)\" style=\"stroke:#00002d; stroke-width:0.8; stroke-opacity:1; fill:none\" points=\"\n",
       "  386.552,384.952 386.552,384.952 388.358,384.952 386.552,384.952 \n",
       "  \"/>\n",
       "<polygon clip-path=\"url(#clip02)\" points=\"\n",
       "388.358,367.734 388.358,384.952 390.165,384.952 390.165,367.734 388.358,367.734 388.358,367.734 \n",
       "  \" fill=\"#0099ff\" fill-opacity=\"1\"/>\n",
       "<polyline clip-path=\"url(#clip02)\" style=\"stroke:#00002d; stroke-width:0.8; stroke-opacity:1; fill:none\" points=\"\n",
       "  388.358,367.734 388.358,384.952 390.165,384.952 390.165,367.734 388.358,367.734 \n",
       "  \"/>\n",
       "<polygon clip-path=\"url(#clip02)\" points=\"\n",
       "390.165,384.952 390.165,384.952 391.971,384.952 391.971,384.952 390.165,384.952 390.165,384.952 \n",
       "  \" fill=\"#0099ff\" fill-opacity=\"1\"/>\n",
       "<polyline clip-path=\"url(#clip02)\" style=\"stroke:#00002d; stroke-width:0.8; stroke-opacity:1; fill:none\" points=\"\n",
       "  390.165,384.952 390.165,384.952 391.971,384.952 390.165,384.952 \n",
       "  \"/>\n",
       "<polygon clip-path=\"url(#clip02)\" points=\"\n",
       "391.971,384.952 391.971,384.952 393.777,384.952 393.777,384.952 391.971,384.952 391.971,384.952 \n",
       "  \" fill=\"#0099ff\" fill-opacity=\"1\"/>\n",
       "<polyline clip-path=\"url(#clip02)\" style=\"stroke:#00002d; stroke-width:0.8; stroke-opacity:1; fill:none\" points=\"\n",
       "  391.971,384.952 391.971,384.952 393.777,384.952 391.971,384.952 \n",
       "  \"/>\n",
       "<polygon clip-path=\"url(#clip02)\" points=\"\n",
       "393.777,384.952 393.777,384.952 395.583,384.952 395.583,384.952 393.777,384.952 393.777,384.952 \n",
       "  \" fill=\"#0099ff\" fill-opacity=\"1\"/>\n",
       "<polyline clip-path=\"url(#clip02)\" style=\"stroke:#00002d; stroke-width:0.8; stroke-opacity:1; fill:none\" points=\"\n",
       "  393.777,384.952 393.777,384.952 395.583,384.952 393.777,384.952 \n",
       "  \"/>\n",
       "<polygon clip-path=\"url(#clip02)\" points=\"\n",
       "395.583,384.952 395.583,384.952 397.389,384.952 397.389,384.952 395.583,384.952 395.583,384.952 \n",
       "  \" fill=\"#0099ff\" fill-opacity=\"1\"/>\n",
       "<polyline clip-path=\"url(#clip02)\" style=\"stroke:#00002d; stroke-width:0.8; stroke-opacity:1; fill:none\" points=\"\n",
       "  395.583,384.952 395.583,384.952 397.389,384.952 395.583,384.952 \n",
       "  \"/>\n",
       "<polygon clip-path=\"url(#clip02)\" points=\"\n",
       "397.389,384.952 397.389,384.952 399.195,384.952 399.195,384.952 397.389,384.952 397.389,384.952 \n",
       "  \" fill=\"#0099ff\" fill-opacity=\"1\"/>\n",
       "<polyline clip-path=\"url(#clip02)\" style=\"stroke:#00002d; stroke-width:0.8; stroke-opacity:1; fill:none\" points=\"\n",
       "  397.389,384.952 397.389,384.952 399.195,384.952 397.389,384.952 \n",
       "  \"/>\n",
       "<polygon clip-path=\"url(#clip02)\" points=\"\n",
       "399.195,384.952 399.195,384.952 401.001,384.952 401.001,384.952 399.195,384.952 399.195,384.952 \n",
       "  \" fill=\"#0099ff\" fill-opacity=\"1\"/>\n",
       "<polyline clip-path=\"url(#clip02)\" style=\"stroke:#00002d; stroke-width:0.8; stroke-opacity:1; fill:none\" points=\"\n",
       "  399.195,384.952 399.195,384.952 401.001,384.952 399.195,384.952 \n",
       "  \"/>\n",
       "<polygon clip-path=\"url(#clip02)\" points=\"\n",
       "401.001,384.952 401.001,384.952 402.807,384.952 402.807,384.952 401.001,384.952 401.001,384.952 \n",
       "  \" fill=\"#0099ff\" fill-opacity=\"1\"/>\n",
       "<polyline clip-path=\"url(#clip02)\" style=\"stroke:#00002d; stroke-width:0.8; stroke-opacity:1; fill:none\" points=\"\n",
       "  401.001,384.952 401.001,384.952 402.807,384.952 401.001,384.952 \n",
       "  \"/>\n",
       "<polygon clip-path=\"url(#clip02)\" points=\"\n",
       "402.807,384.952 402.807,384.952 404.614,384.952 404.614,384.952 402.807,384.952 402.807,384.952 \n",
       "  \" fill=\"#0099ff\" fill-opacity=\"1\"/>\n",
       "<polyline clip-path=\"url(#clip02)\" style=\"stroke:#00002d; stroke-width:0.8; stroke-opacity:1; fill:none\" points=\"\n",
       "  402.807,384.952 402.807,384.952 404.614,384.952 402.807,384.952 \n",
       "  \"/>\n",
       "<polygon clip-path=\"url(#clip02)\" points=\"\n",
       "404.614,384.952 404.614,384.952 406.42,384.952 406.42,384.952 404.614,384.952 404.614,384.952 \n",
       "  \" fill=\"#0099ff\" fill-opacity=\"1\"/>\n",
       "<polyline clip-path=\"url(#clip02)\" style=\"stroke:#00002d; stroke-width:0.8; stroke-opacity:1; fill:none\" points=\"\n",
       "  404.614,384.952 404.614,384.952 406.42,384.952 404.614,384.952 \n",
       "  \"/>\n",
       "<polygon clip-path=\"url(#clip02)\" points=\"\n",
       "406.42,384.952 406.42,384.952 408.226,384.952 408.226,384.952 406.42,384.952 406.42,384.952 \n",
       "  \" fill=\"#0099ff\" fill-opacity=\"1\"/>\n",
       "<polyline clip-path=\"url(#clip02)\" style=\"stroke:#00002d; stroke-width:0.8; stroke-opacity:1; fill:none\" points=\"\n",
       "  406.42,384.952 406.42,384.952 408.226,384.952 406.42,384.952 \n",
       "  \"/>\n",
       "<polygon clip-path=\"url(#clip02)\" points=\"\n",
       "408.226,384.952 408.226,384.952 410.032,384.952 410.032,384.952 408.226,384.952 408.226,384.952 \n",
       "  \" fill=\"#0099ff\" fill-opacity=\"1\"/>\n",
       "<polyline clip-path=\"url(#clip02)\" style=\"stroke:#00002d; stroke-width:0.8; stroke-opacity:1; fill:none\" points=\"\n",
       "  408.226,384.952 408.226,384.952 410.032,384.952 408.226,384.952 \n",
       "  \"/>\n",
       "<polygon clip-path=\"url(#clip02)\" points=\"\n",
       "410.032,367.734 410.032,384.952 411.838,384.952 411.838,367.734 410.032,367.734 410.032,367.734 \n",
       "  \" fill=\"#0099ff\" fill-opacity=\"1\"/>\n",
       "<polyline clip-path=\"url(#clip02)\" style=\"stroke:#00002d; stroke-width:0.8; stroke-opacity:1; fill:none\" points=\"\n",
       "  410.032,367.734 410.032,384.952 411.838,384.952 411.838,367.734 410.032,367.734 \n",
       "  \"/>\n",
       "<polygon clip-path=\"url(#clip02)\" points=\"\n",
       "411.838,384.952 411.838,384.952 413.644,384.952 413.644,384.952 411.838,384.952 411.838,384.952 \n",
       "  \" fill=\"#0099ff\" fill-opacity=\"1\"/>\n",
       "<polyline clip-path=\"url(#clip02)\" style=\"stroke:#00002d; stroke-width:0.8; stroke-opacity:1; fill:none\" points=\"\n",
       "  411.838,384.952 411.838,384.952 413.644,384.952 411.838,384.952 \n",
       "  \"/>\n",
       "<polygon clip-path=\"url(#clip02)\" points=\"\n",
       "413.644,384.952 413.644,384.952 415.45,384.952 415.45,384.952 413.644,384.952 413.644,384.952 \n",
       "  \" fill=\"#0099ff\" fill-opacity=\"1\"/>\n",
       "<polyline clip-path=\"url(#clip02)\" style=\"stroke:#00002d; stroke-width:0.8; stroke-opacity:1; fill:none\" points=\"\n",
       "  413.644,384.952 413.644,384.952 415.45,384.952 413.644,384.952 \n",
       "  \"/>\n",
       "<polygon clip-path=\"url(#clip02)\" points=\"\n",
       "415.45,384.952 415.45,384.952 417.256,384.952 417.256,384.952 415.45,384.952 415.45,384.952 \n",
       "  \" fill=\"#0099ff\" fill-opacity=\"1\"/>\n",
       "<polyline clip-path=\"url(#clip02)\" style=\"stroke:#00002d; stroke-width:0.8; stroke-opacity:1; fill:none\" points=\"\n",
       "  415.45,384.952 415.45,384.952 417.256,384.952 415.45,384.952 \n",
       "  \"/>\n",
       "<polygon clip-path=\"url(#clip02)\" points=\"\n",
       "417.256,384.952 417.256,384.952 419.063,384.952 419.063,384.952 417.256,384.952 417.256,384.952 \n",
       "  \" fill=\"#0099ff\" fill-opacity=\"1\"/>\n",
       "<polyline clip-path=\"url(#clip02)\" style=\"stroke:#00002d; stroke-width:0.8; stroke-opacity:1; fill:none\" points=\"\n",
       "  417.256,384.952 417.256,384.952 419.063,384.952 417.256,384.952 \n",
       "  \"/>\n",
       "<polygon clip-path=\"url(#clip02)\" points=\"\n",
       "419.063,384.952 419.063,384.952 420.869,384.952 420.869,384.952 419.063,384.952 419.063,384.952 \n",
       "  \" fill=\"#0099ff\" fill-opacity=\"1\"/>\n",
       "<polyline clip-path=\"url(#clip02)\" style=\"stroke:#00002d; stroke-width:0.8; stroke-opacity:1; fill:none\" points=\"\n",
       "  419.063,384.952 419.063,384.952 420.869,384.952 419.063,384.952 \n",
       "  \"/>\n",
       "<polygon clip-path=\"url(#clip02)\" points=\"\n",
       "420.869,384.952 420.869,384.952 422.675,384.952 422.675,384.952 420.869,384.952 420.869,384.952 \n",
       "  \" fill=\"#0099ff\" fill-opacity=\"1\"/>\n",
       "<polyline clip-path=\"url(#clip02)\" style=\"stroke:#00002d; stroke-width:0.8; stroke-opacity:1; fill:none\" points=\"\n",
       "  420.869,384.952 420.869,384.952 422.675,384.952 420.869,384.952 \n",
       "  \"/>\n",
       "<polygon clip-path=\"url(#clip02)\" points=\"\n",
       "422.675,384.952 422.675,384.952 424.481,384.952 424.481,384.952 422.675,384.952 422.675,384.952 \n",
       "  \" fill=\"#0099ff\" fill-opacity=\"1\"/>\n",
       "<polyline clip-path=\"url(#clip02)\" style=\"stroke:#00002d; stroke-width:0.8; stroke-opacity:1; fill:none\" points=\"\n",
       "  422.675,384.952 422.675,384.952 424.481,384.952 422.675,384.952 \n",
       "  \"/>\n",
       "<polygon clip-path=\"url(#clip02)\" points=\"\n",
       "424.481,384.952 424.481,384.952 426.287,384.952 426.287,384.952 424.481,384.952 424.481,384.952 \n",
       "  \" fill=\"#0099ff\" fill-opacity=\"1\"/>\n",
       "<polyline clip-path=\"url(#clip02)\" style=\"stroke:#00002d; stroke-width:0.8; stroke-opacity:1; fill:none\" points=\"\n",
       "  424.481,384.952 424.481,384.952 426.287,384.952 424.481,384.952 \n",
       "  \"/>\n",
       "<polygon clip-path=\"url(#clip02)\" points=\"\n",
       "426.287,384.952 426.287,384.952 428.093,384.952 428.093,384.952 426.287,384.952 426.287,384.952 \n",
       "  \" fill=\"#0099ff\" fill-opacity=\"1\"/>\n",
       "<polyline clip-path=\"url(#clip02)\" style=\"stroke:#00002d; stroke-width:0.8; stroke-opacity:1; fill:none\" points=\"\n",
       "  426.287,384.952 426.287,384.952 428.093,384.952 426.287,384.952 \n",
       "  \"/>\n",
       "<polygon clip-path=\"url(#clip02)\" points=\"\n",
       "428.093,384.952 428.093,384.952 429.899,384.952 429.899,384.952 428.093,384.952 428.093,384.952 \n",
       "  \" fill=\"#0099ff\" fill-opacity=\"1\"/>\n",
       "<polyline clip-path=\"url(#clip02)\" style=\"stroke:#00002d; stroke-width:0.8; stroke-opacity:1; fill:none\" points=\"\n",
       "  428.093,384.952 428.093,384.952 429.899,384.952 428.093,384.952 \n",
       "  \"/>\n",
       "<polygon clip-path=\"url(#clip02)\" points=\"\n",
       "429.899,384.952 429.899,384.952 431.705,384.952 431.705,384.952 429.899,384.952 429.899,384.952 \n",
       "  \" fill=\"#0099ff\" fill-opacity=\"1\"/>\n",
       "<polyline clip-path=\"url(#clip02)\" style=\"stroke:#00002d; stroke-width:0.8; stroke-opacity:1; fill:none\" points=\"\n",
       "  429.899,384.952 429.899,384.952 431.705,384.952 429.899,384.952 \n",
       "  \"/>\n",
       "<polygon clip-path=\"url(#clip02)\" points=\"\n",
       "431.705,384.952 431.705,384.952 433.512,384.952 433.512,384.952 431.705,384.952 431.705,384.952 \n",
       "  \" fill=\"#0099ff\" fill-opacity=\"1\"/>\n",
       "<polyline clip-path=\"url(#clip02)\" style=\"stroke:#00002d; stroke-width:0.8; stroke-opacity:1; fill:none\" points=\"\n",
       "  431.705,384.952 431.705,384.952 433.512,384.952 431.705,384.952 \n",
       "  \"/>\n",
       "<polygon clip-path=\"url(#clip02)\" points=\"\n",
       "433.512,384.952 433.512,384.952 435.318,384.952 435.318,384.952 433.512,384.952 433.512,384.952 \n",
       "  \" fill=\"#0099ff\" fill-opacity=\"1\"/>\n",
       "<polyline clip-path=\"url(#clip02)\" style=\"stroke:#00002d; stroke-width:0.8; stroke-opacity:1; fill:none\" points=\"\n",
       "  433.512,384.952 433.512,384.952 435.318,384.952 433.512,384.952 \n",
       "  \"/>\n",
       "<polygon clip-path=\"url(#clip02)\" points=\"\n",
       "435.318,367.734 435.318,384.952 437.124,384.952 437.124,367.734 435.318,367.734 435.318,367.734 \n",
       "  \" fill=\"#0099ff\" fill-opacity=\"1\"/>\n",
       "<polyline clip-path=\"url(#clip02)\" style=\"stroke:#00002d; stroke-width:0.8; stroke-opacity:1; fill:none\" points=\"\n",
       "  435.318,367.734 435.318,384.952 437.124,384.952 437.124,367.734 435.318,367.734 \n",
       "  \"/>\n",
       "<polygon clip-path=\"url(#clip02)\" points=\"\n",
       "437.124,384.952 437.124,384.952 438.93,384.952 438.93,384.952 437.124,384.952 437.124,384.952 \n",
       "  \" fill=\"#0099ff\" fill-opacity=\"1\"/>\n",
       "<polyline clip-path=\"url(#clip02)\" style=\"stroke:#00002d; stroke-width:0.8; stroke-opacity:1; fill:none\" points=\"\n",
       "  437.124,384.952 437.124,384.952 438.93,384.952 437.124,384.952 \n",
       "  \"/>\n",
       "<polygon clip-path=\"url(#clip02)\" points=\"\n",
       "438.93,384.952 438.93,384.952 440.736,384.952 440.736,384.952 438.93,384.952 438.93,384.952 \n",
       "  \" fill=\"#0099ff\" fill-opacity=\"1\"/>\n",
       "<polyline clip-path=\"url(#clip02)\" style=\"stroke:#00002d; stroke-width:0.8; stroke-opacity:1; fill:none\" points=\"\n",
       "  438.93,384.952 438.93,384.952 440.736,384.952 438.93,384.952 \n",
       "  \"/>\n",
       "<polygon clip-path=\"url(#clip02)\" points=\"\n",
       "440.736,384.952 440.736,384.952 442.542,384.952 442.542,384.952 440.736,384.952 440.736,384.952 \n",
       "  \" fill=\"#0099ff\" fill-opacity=\"1\"/>\n",
       "<polyline clip-path=\"url(#clip02)\" style=\"stroke:#00002d; stroke-width:0.8; stroke-opacity:1; fill:none\" points=\"\n",
       "  440.736,384.952 440.736,384.952 442.542,384.952 440.736,384.952 \n",
       "  \"/>\n",
       "<polygon clip-path=\"url(#clip02)\" points=\"\n",
       "442.542,384.952 442.542,384.952 444.348,384.952 444.348,384.952 442.542,384.952 442.542,384.952 \n",
       "  \" fill=\"#0099ff\" fill-opacity=\"1\"/>\n",
       "<polyline clip-path=\"url(#clip02)\" style=\"stroke:#00002d; stroke-width:0.8; stroke-opacity:1; fill:none\" points=\"\n",
       "  442.542,384.952 442.542,384.952 444.348,384.952 442.542,384.952 \n",
       "  \"/>\n",
       "<polygon clip-path=\"url(#clip02)\" points=\"\n",
       "444.348,384.952 444.348,384.952 446.154,384.952 446.154,384.952 444.348,384.952 444.348,384.952 \n",
       "  \" fill=\"#0099ff\" fill-opacity=\"1\"/>\n",
       "<polyline clip-path=\"url(#clip02)\" style=\"stroke:#00002d; stroke-width:0.8; stroke-opacity:1; fill:none\" points=\"\n",
       "  444.348,384.952 444.348,384.952 446.154,384.952 444.348,384.952 \n",
       "  \"/>\n",
       "<polygon clip-path=\"url(#clip02)\" points=\"\n",
       "446.154,384.952 446.154,384.952 447.961,384.952 447.961,384.952 446.154,384.952 446.154,384.952 \n",
       "  \" fill=\"#0099ff\" fill-opacity=\"1\"/>\n",
       "<polyline clip-path=\"url(#clip02)\" style=\"stroke:#00002d; stroke-width:0.8; stroke-opacity:1; fill:none\" points=\"\n",
       "  446.154,384.952 446.154,384.952 447.961,384.952 446.154,384.952 \n",
       "  \"/>\n",
       "<polygon clip-path=\"url(#clip02)\" points=\"\n",
       "447.961,384.952 447.961,384.952 449.767,384.952 449.767,384.952 447.961,384.952 447.961,384.952 \n",
       "  \" fill=\"#0099ff\" fill-opacity=\"1\"/>\n",
       "<polyline clip-path=\"url(#clip02)\" style=\"stroke:#00002d; stroke-width:0.8; stroke-opacity:1; fill:none\" points=\"\n",
       "  447.961,384.952 447.961,384.952 449.767,384.952 447.961,384.952 \n",
       "  \"/>\n",
       "<polygon clip-path=\"url(#clip02)\" points=\"\n",
       "449.767,384.952 449.767,384.952 451.573,384.952 451.573,384.952 449.767,384.952 449.767,384.952 \n",
       "  \" fill=\"#0099ff\" fill-opacity=\"1\"/>\n",
       "<polyline clip-path=\"url(#clip02)\" style=\"stroke:#00002d; stroke-width:0.8; stroke-opacity:1; fill:none\" points=\"\n",
       "  449.767,384.952 449.767,384.952 451.573,384.952 449.767,384.952 \n",
       "  \"/>\n",
       "<polygon clip-path=\"url(#clip02)\" points=\"\n",
       "451.573,384.952 451.573,384.952 453.379,384.952 453.379,384.952 451.573,384.952 451.573,384.952 \n",
       "  \" fill=\"#0099ff\" fill-opacity=\"1\"/>\n",
       "<polyline clip-path=\"url(#clip02)\" style=\"stroke:#00002d; stroke-width:0.8; stroke-opacity:1; fill:none\" points=\"\n",
       "  451.573,384.952 451.573,384.952 453.379,384.952 451.573,384.952 \n",
       "  \"/>\n",
       "<polygon clip-path=\"url(#clip02)\" points=\"\n",
       "453.379,384.952 453.379,384.952 455.185,384.952 455.185,384.952 453.379,384.952 453.379,384.952 \n",
       "  \" fill=\"#0099ff\" fill-opacity=\"1\"/>\n",
       "<polyline clip-path=\"url(#clip02)\" style=\"stroke:#00002d; stroke-width:0.8; stroke-opacity:1; fill:none\" points=\"\n",
       "  453.379,384.952 453.379,384.952 455.185,384.952 453.379,384.952 \n",
       "  \"/>\n",
       "<polygon clip-path=\"url(#clip02)\" points=\"\n",
       "455.185,384.952 455.185,384.952 456.991,384.952 456.991,384.952 455.185,384.952 455.185,384.952 \n",
       "  \" fill=\"#0099ff\" fill-opacity=\"1\"/>\n",
       "<polyline clip-path=\"url(#clip02)\" style=\"stroke:#00002d; stroke-width:0.8; stroke-opacity:1; fill:none\" points=\"\n",
       "  455.185,384.952 455.185,384.952 456.991,384.952 455.185,384.952 \n",
       "  \"/>\n",
       "<polygon clip-path=\"url(#clip02)\" points=\"\n",
       "456.991,384.952 456.991,384.952 458.797,384.952 458.797,384.952 456.991,384.952 456.991,384.952 \n",
       "  \" fill=\"#0099ff\" fill-opacity=\"1\"/>\n",
       "<polyline clip-path=\"url(#clip02)\" style=\"stroke:#00002d; stroke-width:0.8; stroke-opacity:1; fill:none\" points=\"\n",
       "  456.991,384.952 456.991,384.952 458.797,384.952 456.991,384.952 \n",
       "  \"/>\n",
       "<polygon clip-path=\"url(#clip02)\" points=\"\n",
       "458.797,384.952 458.797,384.952 460.604,384.952 460.604,384.952 458.797,384.952 458.797,384.952 \n",
       "  \" fill=\"#0099ff\" fill-opacity=\"1\"/>\n",
       "<polyline clip-path=\"url(#clip02)\" style=\"stroke:#00002d; stroke-width:0.8; stroke-opacity:1; fill:none\" points=\"\n",
       "  458.797,384.952 458.797,384.952 460.604,384.952 458.797,384.952 \n",
       "  \"/>\n",
       "<polygon clip-path=\"url(#clip02)\" points=\"\n",
       "460.604,384.952 460.604,384.952 462.41,384.952 462.41,384.952 460.604,384.952 460.604,384.952 \n",
       "  \" fill=\"#0099ff\" fill-opacity=\"1\"/>\n",
       "<polyline clip-path=\"url(#clip02)\" style=\"stroke:#00002d; stroke-width:0.8; stroke-opacity:1; fill:none\" points=\"\n",
       "  460.604,384.952 460.604,384.952 462.41,384.952 460.604,384.952 \n",
       "  \"/>\n",
       "<polygon clip-path=\"url(#clip02)\" points=\"\n",
       "462.41,384.952 462.41,384.952 464.216,384.952 464.216,384.952 462.41,384.952 462.41,384.952 \n",
       "  \" fill=\"#0099ff\" fill-opacity=\"1\"/>\n",
       "<polyline clip-path=\"url(#clip02)\" style=\"stroke:#00002d; stroke-width:0.8; stroke-opacity:1; fill:none\" points=\"\n",
       "  462.41,384.952 462.41,384.952 464.216,384.952 462.41,384.952 \n",
       "  \"/>\n",
       "<polygon clip-path=\"url(#clip02)\" points=\"\n",
       "464.216,384.952 464.216,384.952 466.022,384.952 466.022,384.952 464.216,384.952 464.216,384.952 \n",
       "  \" fill=\"#0099ff\" fill-opacity=\"1\"/>\n",
       "<polyline clip-path=\"url(#clip02)\" style=\"stroke:#00002d; stroke-width:0.8; stroke-opacity:1; fill:none\" points=\"\n",
       "  464.216,384.952 464.216,384.952 466.022,384.952 464.216,384.952 \n",
       "  \"/>\n",
       "<polygon clip-path=\"url(#clip02)\" points=\"\n",
       "466.022,384.952 466.022,384.952 467.828,384.952 467.828,384.952 466.022,384.952 466.022,384.952 \n",
       "  \" fill=\"#0099ff\" fill-opacity=\"1\"/>\n",
       "<polyline clip-path=\"url(#clip02)\" style=\"stroke:#00002d; stroke-width:0.8; stroke-opacity:1; fill:none\" points=\"\n",
       "  466.022,384.952 466.022,384.952 467.828,384.952 466.022,384.952 \n",
       "  \"/>\n",
       "<polygon clip-path=\"url(#clip02)\" points=\"\n",
       "467.828,384.952 467.828,384.952 469.634,384.952 469.634,384.952 467.828,384.952 467.828,384.952 \n",
       "  \" fill=\"#0099ff\" fill-opacity=\"1\"/>\n",
       "<polyline clip-path=\"url(#clip02)\" style=\"stroke:#00002d; stroke-width:0.8; stroke-opacity:1; fill:none\" points=\"\n",
       "  467.828,384.952 467.828,384.952 469.634,384.952 467.828,384.952 \n",
       "  \"/>\n",
       "<polygon clip-path=\"url(#clip02)\" points=\"\n",
       "469.634,384.952 469.634,384.952 471.44,384.952 471.44,384.952 469.634,384.952 469.634,384.952 \n",
       "  \" fill=\"#0099ff\" fill-opacity=\"1\"/>\n",
       "<polyline clip-path=\"url(#clip02)\" style=\"stroke:#00002d; stroke-width:0.8; stroke-opacity:1; fill:none\" points=\"\n",
       "  469.634,384.952 469.634,384.952 471.44,384.952 469.634,384.952 \n",
       "  \"/>\n",
       "<polygon clip-path=\"url(#clip02)\" points=\"\n",
       "471.44,384.952 471.44,384.952 473.246,384.952 473.246,384.952 471.44,384.952 471.44,384.952 \n",
       "  \" fill=\"#0099ff\" fill-opacity=\"1\"/>\n",
       "<polyline clip-path=\"url(#clip02)\" style=\"stroke:#00002d; stroke-width:0.8; stroke-opacity:1; fill:none\" points=\"\n",
       "  471.44,384.952 471.44,384.952 473.246,384.952 471.44,384.952 \n",
       "  \"/>\n",
       "<polygon clip-path=\"url(#clip02)\" points=\"\n",
       "473.246,384.952 473.246,384.952 475.053,384.952 475.053,384.952 473.246,384.952 473.246,384.952 \n",
       "  \" fill=\"#0099ff\" fill-opacity=\"1\"/>\n",
       "<polyline clip-path=\"url(#clip02)\" style=\"stroke:#00002d; stroke-width:0.8; stroke-opacity:1; fill:none\" points=\"\n",
       "  473.246,384.952 473.246,384.952 475.053,384.952 473.246,384.952 \n",
       "  \"/>\n",
       "<polygon clip-path=\"url(#clip02)\" points=\"\n",
       "475.053,384.952 475.053,384.952 476.859,384.952 476.859,384.952 475.053,384.952 475.053,384.952 \n",
       "  \" fill=\"#0099ff\" fill-opacity=\"1\"/>\n",
       "<polyline clip-path=\"url(#clip02)\" style=\"stroke:#00002d; stroke-width:0.8; stroke-opacity:1; fill:none\" points=\"\n",
       "  475.053,384.952 475.053,384.952 476.859,384.952 475.053,384.952 \n",
       "  \"/>\n",
       "<polygon clip-path=\"url(#clip02)\" points=\"\n",
       "476.859,384.952 476.859,384.952 478.665,384.952 478.665,384.952 476.859,384.952 476.859,384.952 \n",
       "  \" fill=\"#0099ff\" fill-opacity=\"1\"/>\n",
       "<polyline clip-path=\"url(#clip02)\" style=\"stroke:#00002d; stroke-width:0.8; stroke-opacity:1; fill:none\" points=\"\n",
       "  476.859,384.952 476.859,384.952 478.665,384.952 476.859,384.952 \n",
       "  \"/>\n",
       "<polygon clip-path=\"url(#clip02)\" points=\"\n",
       "478.665,384.952 478.665,384.952 480.471,384.952 480.471,384.952 478.665,384.952 478.665,384.952 \n",
       "  \" fill=\"#0099ff\" fill-opacity=\"1\"/>\n",
       "<polyline clip-path=\"url(#clip02)\" style=\"stroke:#00002d; stroke-width:0.8; stroke-opacity:1; fill:none\" points=\"\n",
       "  478.665,384.952 478.665,384.952 480.471,384.952 478.665,384.952 \n",
       "  \"/>\n",
       "<polygon clip-path=\"url(#clip02)\" points=\"\n",
       "480.471,384.952 480.471,384.952 482.277,384.952 482.277,384.952 480.471,384.952 480.471,384.952 \n",
       "  \" fill=\"#0099ff\" fill-opacity=\"1\"/>\n",
       "<polyline clip-path=\"url(#clip02)\" style=\"stroke:#00002d; stroke-width:0.8; stroke-opacity:1; fill:none\" points=\"\n",
       "  480.471,384.952 480.471,384.952 482.277,384.952 480.471,384.952 \n",
       "  \"/>\n",
       "<polygon clip-path=\"url(#clip02)\" points=\"\n",
       "482.277,384.952 482.277,384.952 484.083,384.952 484.083,384.952 482.277,384.952 482.277,384.952 \n",
       "  \" fill=\"#0099ff\" fill-opacity=\"1\"/>\n",
       "<polyline clip-path=\"url(#clip02)\" style=\"stroke:#00002d; stroke-width:0.8; stroke-opacity:1; fill:none\" points=\"\n",
       "  482.277,384.952 482.277,384.952 484.083,384.952 482.277,384.952 \n",
       "  \"/>\n",
       "<polygon clip-path=\"url(#clip02)\" points=\"\n",
       "484.083,384.952 484.083,384.952 485.889,384.952 485.889,384.952 484.083,384.952 484.083,384.952 \n",
       "  \" fill=\"#0099ff\" fill-opacity=\"1\"/>\n",
       "<polyline clip-path=\"url(#clip02)\" style=\"stroke:#00002d; stroke-width:0.8; stroke-opacity:1; fill:none\" points=\"\n",
       "  484.083,384.952 484.083,384.952 485.889,384.952 484.083,384.952 \n",
       "  \"/>\n",
       "<polygon clip-path=\"url(#clip02)\" points=\"\n",
       "485.889,384.952 485.889,384.952 487.695,384.952 487.695,384.952 485.889,384.952 485.889,384.952 \n",
       "  \" fill=\"#0099ff\" fill-opacity=\"1\"/>\n",
       "<polyline clip-path=\"url(#clip02)\" style=\"stroke:#00002d; stroke-width:0.8; stroke-opacity:1; fill:none\" points=\"\n",
       "  485.889,384.952 485.889,384.952 487.695,384.952 485.889,384.952 \n",
       "  \"/>\n",
       "<polygon clip-path=\"url(#clip02)\" points=\"\n",
       "487.695,384.952 487.695,384.952 489.502,384.952 489.502,384.952 487.695,384.952 487.695,384.952 \n",
       "  \" fill=\"#0099ff\" fill-opacity=\"1\"/>\n",
       "<polyline clip-path=\"url(#clip02)\" style=\"stroke:#00002d; stroke-width:0.8; stroke-opacity:1; fill:none\" points=\"\n",
       "  487.695,384.952 487.695,384.952 489.502,384.952 487.695,384.952 \n",
       "  \"/>\n",
       "<polygon clip-path=\"url(#clip02)\" points=\"\n",
       "489.502,384.952 489.502,384.952 491.308,384.952 491.308,384.952 489.502,384.952 489.502,384.952 \n",
       "  \" fill=\"#0099ff\" fill-opacity=\"1\"/>\n",
       "<polyline clip-path=\"url(#clip02)\" style=\"stroke:#00002d; stroke-width:0.8; stroke-opacity:1; fill:none\" points=\"\n",
       "  489.502,384.952 489.502,384.952 491.308,384.952 489.502,384.952 \n",
       "  \"/>\n",
       "<polygon clip-path=\"url(#clip02)\" points=\"\n",
       "491.308,384.952 491.308,384.952 493.114,384.952 493.114,384.952 491.308,384.952 491.308,384.952 \n",
       "  \" fill=\"#0099ff\" fill-opacity=\"1\"/>\n",
       "<polyline clip-path=\"url(#clip02)\" style=\"stroke:#00002d; stroke-width:0.8; stroke-opacity:1; fill:none\" points=\"\n",
       "  491.308,384.952 491.308,384.952 493.114,384.952 491.308,384.952 \n",
       "  \"/>\n",
       "<polygon clip-path=\"url(#clip02)\" points=\"\n",
       "493.114,384.952 493.114,384.952 494.92,384.952 494.92,384.952 493.114,384.952 493.114,384.952 \n",
       "  \" fill=\"#0099ff\" fill-opacity=\"1\"/>\n",
       "<polyline clip-path=\"url(#clip02)\" style=\"stroke:#00002d; stroke-width:0.8; stroke-opacity:1; fill:none\" points=\"\n",
       "  493.114,384.952 493.114,384.952 494.92,384.952 493.114,384.952 \n",
       "  \"/>\n",
       "<polygon clip-path=\"url(#clip02)\" points=\"\n",
       "494.92,384.952 494.92,384.952 496.726,384.952 496.726,384.952 494.92,384.952 494.92,384.952 \n",
       "  \" fill=\"#0099ff\" fill-opacity=\"1\"/>\n",
       "<polyline clip-path=\"url(#clip02)\" style=\"stroke:#00002d; stroke-width:0.8; stroke-opacity:1; fill:none\" points=\"\n",
       "  494.92,384.952 494.92,384.952 496.726,384.952 494.92,384.952 \n",
       "  \"/>\n",
       "<polygon clip-path=\"url(#clip02)\" points=\"\n",
       "496.726,384.952 496.726,384.952 498.532,384.952 498.532,384.952 496.726,384.952 496.726,384.952 \n",
       "  \" fill=\"#0099ff\" fill-opacity=\"1\"/>\n",
       "<polyline clip-path=\"url(#clip02)\" style=\"stroke:#00002d; stroke-width:0.8; stroke-opacity:1; fill:none\" points=\"\n",
       "  496.726,384.952 496.726,384.952 498.532,384.952 496.726,384.952 \n",
       "  \"/>\n",
       "<polygon clip-path=\"url(#clip02)\" points=\"\n",
       "498.532,384.952 498.532,384.952 500.338,384.952 500.338,384.952 498.532,384.952 498.532,384.952 \n",
       "  \" fill=\"#0099ff\" fill-opacity=\"1\"/>\n",
       "<polyline clip-path=\"url(#clip02)\" style=\"stroke:#00002d; stroke-width:0.8; stroke-opacity:1; fill:none\" points=\"\n",
       "  498.532,384.952 498.532,384.952 500.338,384.952 498.532,384.952 \n",
       "  \"/>\n",
       "<polygon clip-path=\"url(#clip02)\" points=\"\n",
       "500.338,384.952 500.338,384.952 502.144,384.952 502.144,384.952 500.338,384.952 500.338,384.952 \n",
       "  \" fill=\"#0099ff\" fill-opacity=\"1\"/>\n",
       "<polyline clip-path=\"url(#clip02)\" style=\"stroke:#00002d; stroke-width:0.8; stroke-opacity:1; fill:none\" points=\"\n",
       "  500.338,384.952 500.338,384.952 502.144,384.952 500.338,384.952 \n",
       "  \"/>\n",
       "<polygon clip-path=\"url(#clip02)\" points=\"\n",
       "502.144,384.952 502.144,384.952 503.951,384.952 503.951,384.952 502.144,384.952 502.144,384.952 \n",
       "  \" fill=\"#0099ff\" fill-opacity=\"1\"/>\n",
       "<polyline clip-path=\"url(#clip02)\" style=\"stroke:#00002d; stroke-width:0.8; stroke-opacity:1; fill:none\" points=\"\n",
       "  502.144,384.952 502.144,384.952 503.951,384.952 502.144,384.952 \n",
       "  \"/>\n",
       "<polygon clip-path=\"url(#clip02)\" points=\"\n",
       "503.951,367.734 503.951,384.952 505.757,384.952 505.757,367.734 503.951,367.734 503.951,367.734 \n",
       "  \" fill=\"#0099ff\" fill-opacity=\"1\"/>\n",
       "<polyline clip-path=\"url(#clip02)\" style=\"stroke:#00002d; stroke-width:0.8; stroke-opacity:1; fill:none\" points=\"\n",
       "  503.951,367.734 503.951,384.952 505.757,384.952 505.757,367.734 503.951,367.734 \n",
       "  \"/>\n",
       "<polygon clip-path=\"url(#clip02)\" points=\"\n",
       "505.757,384.952 505.757,384.952 507.563,384.952 507.563,384.952 505.757,384.952 505.757,384.952 \n",
       "  \" fill=\"#0099ff\" fill-opacity=\"1\"/>\n",
       "<polyline clip-path=\"url(#clip02)\" style=\"stroke:#00002d; stroke-width:0.8; stroke-opacity:1; fill:none\" points=\"\n",
       "  505.757,384.952 505.757,384.952 507.563,384.952 505.757,384.952 \n",
       "  \"/>\n",
       "<polygon clip-path=\"url(#clip02)\" points=\"\n",
       "507.563,384.952 507.563,384.952 509.369,384.952 509.369,384.952 507.563,384.952 507.563,384.952 \n",
       "  \" fill=\"#0099ff\" fill-opacity=\"1\"/>\n",
       "<polyline clip-path=\"url(#clip02)\" style=\"stroke:#00002d; stroke-width:0.8; stroke-opacity:1; fill:none\" points=\"\n",
       "  507.563,384.952 507.563,384.952 509.369,384.952 507.563,384.952 \n",
       "  \"/>\n",
       "<polygon clip-path=\"url(#clip02)\" points=\"\n",
       "509.369,384.952 509.369,384.952 511.175,384.952 511.175,384.952 509.369,384.952 509.369,384.952 \n",
       "  \" fill=\"#0099ff\" fill-opacity=\"1\"/>\n",
       "<polyline clip-path=\"url(#clip02)\" style=\"stroke:#00002d; stroke-width:0.8; stroke-opacity:1; fill:none\" points=\"\n",
       "  509.369,384.952 509.369,384.952 511.175,384.952 509.369,384.952 \n",
       "  \"/>\n",
       "<polygon clip-path=\"url(#clip02)\" points=\"\n",
       "511.175,384.952 511.175,384.952 512.981,384.952 512.981,384.952 511.175,384.952 511.175,384.952 \n",
       "  \" fill=\"#0099ff\" fill-opacity=\"1\"/>\n",
       "<polyline clip-path=\"url(#clip02)\" style=\"stroke:#00002d; stroke-width:0.8; stroke-opacity:1; fill:none\" points=\"\n",
       "  511.175,384.952 511.175,384.952 512.981,384.952 511.175,384.952 \n",
       "  \"/>\n",
       "<polygon clip-path=\"url(#clip02)\" points=\"\n",
       "512.981,384.952 512.981,384.952 514.787,384.952 514.787,384.952 512.981,384.952 512.981,384.952 \n",
       "  \" fill=\"#0099ff\" fill-opacity=\"1\"/>\n",
       "<polyline clip-path=\"url(#clip02)\" style=\"stroke:#00002d; stroke-width:0.8; stroke-opacity:1; fill:none\" points=\"\n",
       "  512.981,384.952 512.981,384.952 514.787,384.952 512.981,384.952 \n",
       "  \"/>\n",
       "<polygon clip-path=\"url(#clip02)\" points=\"\n",
       "514.787,384.952 514.787,384.952 516.593,384.952 516.593,384.952 514.787,384.952 514.787,384.952 \n",
       "  \" fill=\"#0099ff\" fill-opacity=\"1\"/>\n",
       "<polyline clip-path=\"url(#clip02)\" style=\"stroke:#00002d; stroke-width:0.8; stroke-opacity:1; fill:none\" points=\"\n",
       "  514.787,384.952 514.787,384.952 516.593,384.952 514.787,384.952 \n",
       "  \"/>\n",
       "<polygon clip-path=\"url(#clip02)\" points=\"\n",
       "516.593,384.952 516.593,384.952 518.4,384.952 518.4,384.952 516.593,384.952 516.593,384.952 \n",
       "  \" fill=\"#0099ff\" fill-opacity=\"1\"/>\n",
       "<polyline clip-path=\"url(#clip02)\" style=\"stroke:#00002d; stroke-width:0.8; stroke-opacity:1; fill:none\" points=\"\n",
       "  516.593,384.952 516.593,384.952 518.4,384.952 516.593,384.952 \n",
       "  \"/>\n",
       "<polygon clip-path=\"url(#clip02)\" points=\"\n",
       "518.4,384.952 518.4,384.952 520.206,384.952 520.206,384.952 518.4,384.952 518.4,384.952 \n",
       "  \" fill=\"#0099ff\" fill-opacity=\"1\"/>\n",
       "<polyline clip-path=\"url(#clip02)\" style=\"stroke:#00002d; stroke-width:0.8; stroke-opacity:1; fill:none\" points=\"\n",
       "  518.4,384.952 518.4,384.952 520.206,384.952 518.4,384.952 \n",
       "  \"/>\n",
       "<polygon clip-path=\"url(#clip02)\" points=\"\n",
       "520.206,384.952 520.206,384.952 522.012,384.952 522.012,384.952 520.206,384.952 520.206,384.952 \n",
       "  \" fill=\"#0099ff\" fill-opacity=\"1\"/>\n",
       "<polyline clip-path=\"url(#clip02)\" style=\"stroke:#00002d; stroke-width:0.8; stroke-opacity:1; fill:none\" points=\"\n",
       "  520.206,384.952 520.206,384.952 522.012,384.952 520.206,384.952 \n",
       "  \"/>\n",
       "<polygon clip-path=\"url(#clip02)\" points=\"\n",
       "522.012,384.952 522.012,384.952 523.818,384.952 523.818,384.952 522.012,384.952 522.012,384.952 \n",
       "  \" fill=\"#0099ff\" fill-opacity=\"1\"/>\n",
       "<polyline clip-path=\"url(#clip02)\" style=\"stroke:#00002d; stroke-width:0.8; stroke-opacity:1; fill:none\" points=\"\n",
       "  522.012,384.952 522.012,384.952 523.818,384.952 522.012,384.952 \n",
       "  \"/>\n",
       "<polygon clip-path=\"url(#clip02)\" points=\"\n",
       "523.818,384.952 523.818,384.952 525.624,384.952 525.624,384.952 523.818,384.952 523.818,384.952 \n",
       "  \" fill=\"#0099ff\" fill-opacity=\"1\"/>\n",
       "<polyline clip-path=\"url(#clip02)\" style=\"stroke:#00002d; stroke-width:0.8; stroke-opacity:1; fill:none\" points=\"\n",
       "  523.818,384.952 523.818,384.952 525.624,384.952 523.818,384.952 \n",
       "  \"/>\n",
       "<polygon clip-path=\"url(#clip02)\" points=\"\n",
       "525.624,384.952 525.624,384.952 527.43,384.952 527.43,384.952 525.624,384.952 525.624,384.952 \n",
       "  \" fill=\"#0099ff\" fill-opacity=\"1\"/>\n",
       "<polyline clip-path=\"url(#clip02)\" style=\"stroke:#00002d; stroke-width:0.8; stroke-opacity:1; fill:none\" points=\"\n",
       "  525.624,384.952 525.624,384.952 527.43,384.952 525.624,384.952 \n",
       "  \"/>\n",
       "<polygon clip-path=\"url(#clip02)\" points=\"\n",
       "527.43,384.952 527.43,384.952 529.236,384.952 529.236,384.952 527.43,384.952 527.43,384.952 \n",
       "  \" fill=\"#0099ff\" fill-opacity=\"1\"/>\n",
       "<polyline clip-path=\"url(#clip02)\" style=\"stroke:#00002d; stroke-width:0.8; stroke-opacity:1; fill:none\" points=\"\n",
       "  527.43,384.952 527.43,384.952 529.236,384.952 527.43,384.952 \n",
       "  \"/>\n",
       "<polygon clip-path=\"url(#clip02)\" points=\"\n",
       "529.236,384.952 529.236,384.952 531.042,384.952 531.042,384.952 529.236,384.952 529.236,384.952 \n",
       "  \" fill=\"#0099ff\" fill-opacity=\"1\"/>\n",
       "<polyline clip-path=\"url(#clip02)\" style=\"stroke:#00002d; stroke-width:0.8; stroke-opacity:1; fill:none\" points=\"\n",
       "  529.236,384.952 529.236,384.952 531.042,384.952 529.236,384.952 \n",
       "  \"/>\n",
       "<polygon clip-path=\"url(#clip02)\" points=\"\n",
       "531.042,384.952 531.042,384.952 532.849,384.952 532.849,384.952 531.042,384.952 531.042,384.952 \n",
       "  \" fill=\"#0099ff\" fill-opacity=\"1\"/>\n",
       "<polyline clip-path=\"url(#clip02)\" style=\"stroke:#00002d; stroke-width:0.8; stroke-opacity:1; fill:none\" points=\"\n",
       "  531.042,384.952 531.042,384.952 532.849,384.952 531.042,384.952 \n",
       "  \"/>\n",
       "<polygon clip-path=\"url(#clip02)\" points=\"\n",
       "532.849,384.952 532.849,384.952 534.655,384.952 534.655,384.952 532.849,384.952 532.849,384.952 \n",
       "  \" fill=\"#0099ff\" fill-opacity=\"1\"/>\n",
       "<polyline clip-path=\"url(#clip02)\" style=\"stroke:#00002d; stroke-width:0.8; stroke-opacity:1; fill:none\" points=\"\n",
       "  532.849,384.952 532.849,384.952 534.655,384.952 532.849,384.952 \n",
       "  \"/>\n",
       "<polygon clip-path=\"url(#clip02)\" points=\"\n",
       "534.655,384.952 534.655,384.952 536.461,384.952 536.461,384.952 534.655,384.952 534.655,384.952 \n",
       "  \" fill=\"#0099ff\" fill-opacity=\"1\"/>\n",
       "<polyline clip-path=\"url(#clip02)\" style=\"stroke:#00002d; stroke-width:0.8; stroke-opacity:1; fill:none\" points=\"\n",
       "  534.655,384.952 534.655,384.952 536.461,384.952 534.655,384.952 \n",
       "  \"/>\n",
       "<polygon clip-path=\"url(#clip02)\" points=\"\n",
       "536.461,384.952 536.461,384.952 538.267,384.952 538.267,384.952 536.461,384.952 536.461,384.952 \n",
       "  \" fill=\"#0099ff\" fill-opacity=\"1\"/>\n",
       "<polyline clip-path=\"url(#clip02)\" style=\"stroke:#00002d; stroke-width:0.8; stroke-opacity:1; fill:none\" points=\"\n",
       "  536.461,384.952 536.461,384.952 538.267,384.952 536.461,384.952 \n",
       "  \"/>\n",
       "<polygon clip-path=\"url(#clip02)\" points=\"\n",
       "538.267,384.952 538.267,384.952 540.073,384.952 540.073,384.952 538.267,384.952 538.267,384.952 \n",
       "  \" fill=\"#0099ff\" fill-opacity=\"1\"/>\n",
       "<polyline clip-path=\"url(#clip02)\" style=\"stroke:#00002d; stroke-width:0.8; stroke-opacity:1; fill:none\" points=\"\n",
       "  538.267,384.952 538.267,384.952 540.073,384.952 538.267,384.952 \n",
       "  \"/>\n",
       "<polygon clip-path=\"url(#clip02)\" points=\"\n",
       "540.073,384.952 540.073,384.952 541.879,384.952 541.879,384.952 540.073,384.952 540.073,384.952 \n",
       "  \" fill=\"#0099ff\" fill-opacity=\"1\"/>\n",
       "<polyline clip-path=\"url(#clip02)\" style=\"stroke:#00002d; stroke-width:0.8; stroke-opacity:1; fill:none\" points=\"\n",
       "  540.073,384.952 540.073,384.952 541.879,384.952 540.073,384.952 \n",
       "  \"/>\n",
       "<polygon clip-path=\"url(#clip02)\" points=\"\n",
       "541.879,384.952 541.879,384.952 543.685,384.952 543.685,384.952 541.879,384.952 541.879,384.952 \n",
       "  \" fill=\"#0099ff\" fill-opacity=\"1\"/>\n",
       "<polyline clip-path=\"url(#clip02)\" style=\"stroke:#00002d; stroke-width:0.8; stroke-opacity:1; fill:none\" points=\"\n",
       "  541.879,384.952 541.879,384.952 543.685,384.952 541.879,384.952 \n",
       "  \"/>\n",
       "<polygon clip-path=\"url(#clip02)\" points=\"\n",
       "543.685,384.952 543.685,384.952 545.491,384.952 545.491,384.952 543.685,384.952 543.685,384.952 \n",
       "  \" fill=\"#0099ff\" fill-opacity=\"1\"/>\n",
       "<polyline clip-path=\"url(#clip02)\" style=\"stroke:#00002d; stroke-width:0.8; stroke-opacity:1; fill:none\" points=\"\n",
       "  543.685,384.952 543.685,384.952 545.491,384.952 543.685,384.952 \n",
       "  \"/>\n",
       "<polygon clip-path=\"url(#clip02)\" points=\"\n",
       "545.491,384.952 545.491,384.952 547.298,384.952 547.298,384.952 545.491,384.952 545.491,384.952 \n",
       "  \" fill=\"#0099ff\" fill-opacity=\"1\"/>\n",
       "<polyline clip-path=\"url(#clip02)\" style=\"stroke:#00002d; stroke-width:0.8; stroke-opacity:1; fill:none\" points=\"\n",
       "  545.491,384.952 545.491,384.952 547.298,384.952 545.491,384.952 \n",
       "  \"/>\n",
       "<polygon clip-path=\"url(#clip02)\" points=\"\n",
       "547.298,384.952 547.298,384.952 549.104,384.952 549.104,384.952 547.298,384.952 547.298,384.952 \n",
       "  \" fill=\"#0099ff\" fill-opacity=\"1\"/>\n",
       "<polyline clip-path=\"url(#clip02)\" style=\"stroke:#00002d; stroke-width:0.8; stroke-opacity:1; fill:none\" points=\"\n",
       "  547.298,384.952 547.298,384.952 549.104,384.952 547.298,384.952 \n",
       "  \"/>\n",
       "<polygon clip-path=\"url(#clip02)\" points=\"\n",
       "549.104,384.952 549.104,384.952 550.91,384.952 550.91,384.952 549.104,384.952 549.104,384.952 \n",
       "  \" fill=\"#0099ff\" fill-opacity=\"1\"/>\n",
       "<polyline clip-path=\"url(#clip02)\" style=\"stroke:#00002d; stroke-width:0.8; stroke-opacity:1; fill:none\" points=\"\n",
       "  549.104,384.952 549.104,384.952 550.91,384.952 549.104,384.952 \n",
       "  \"/>\n",
       "<polygon clip-path=\"url(#clip02)\" points=\"\n",
       "550.91,384.952 550.91,384.952 552.716,384.952 552.716,384.952 550.91,384.952 550.91,384.952 \n",
       "  \" fill=\"#0099ff\" fill-opacity=\"1\"/>\n",
       "<polyline clip-path=\"url(#clip02)\" style=\"stroke:#00002d; stroke-width:0.8; stroke-opacity:1; fill:none\" points=\"\n",
       "  550.91,384.952 550.91,384.952 552.716,384.952 550.91,384.952 \n",
       "  \"/>\n",
       "<polygon clip-path=\"url(#clip02)\" points=\"\n",
       "552.716,384.952 552.716,384.952 554.522,384.952 554.522,384.952 552.716,384.952 552.716,384.952 \n",
       "  \" fill=\"#0099ff\" fill-opacity=\"1\"/>\n",
       "<polyline clip-path=\"url(#clip02)\" style=\"stroke:#00002d; stroke-width:0.8; stroke-opacity:1; fill:none\" points=\"\n",
       "  552.716,384.952 552.716,384.952 554.522,384.952 552.716,384.952 \n",
       "  \"/>\n",
       "<polygon clip-path=\"url(#clip02)\" points=\"\n",
       "554.522,384.952 554.522,384.952 556.328,384.952 556.328,384.952 554.522,384.952 554.522,384.952 \n",
       "  \" fill=\"#0099ff\" fill-opacity=\"1\"/>\n",
       "<polyline clip-path=\"url(#clip02)\" style=\"stroke:#00002d; stroke-width:0.8; stroke-opacity:1; fill:none\" points=\"\n",
       "  554.522,384.952 554.522,384.952 556.328,384.952 554.522,384.952 \n",
       "  \"/>\n",
       "<polygon clip-path=\"url(#clip02)\" points=\"\n",
       "556.328,384.952 556.328,384.952 558.134,384.952 558.134,384.952 556.328,384.952 556.328,384.952 \n",
       "  \" fill=\"#0099ff\" fill-opacity=\"1\"/>\n",
       "<polyline clip-path=\"url(#clip02)\" style=\"stroke:#00002d; stroke-width:0.8; stroke-opacity:1; fill:none\" points=\"\n",
       "  556.328,384.952 556.328,384.952 558.134,384.952 556.328,384.952 \n",
       "  \"/>\n",
       "<polygon clip-path=\"url(#clip02)\" points=\"\n",
       "558.134,384.952 558.134,384.952 559.94,384.952 559.94,384.952 558.134,384.952 558.134,384.952 \n",
       "  \" fill=\"#0099ff\" fill-opacity=\"1\"/>\n",
       "<polyline clip-path=\"url(#clip02)\" style=\"stroke:#00002d; stroke-width:0.8; stroke-opacity:1; fill:none\" points=\"\n",
       "  558.134,384.952 558.134,384.952 559.94,384.952 558.134,384.952 \n",
       "  \"/>\n",
       "<polygon clip-path=\"url(#clip02)\" points=\"\n",
       "559.94,384.952 559.94,384.952 561.747,384.952 561.747,384.952 559.94,384.952 559.94,384.952 \n",
       "  \" fill=\"#0099ff\" fill-opacity=\"1\"/>\n",
       "<polyline clip-path=\"url(#clip02)\" style=\"stroke:#00002d; stroke-width:0.8; stroke-opacity:1; fill:none\" points=\"\n",
       "  559.94,384.952 559.94,384.952 561.747,384.952 559.94,384.952 \n",
       "  \"/>\n",
       "<polygon clip-path=\"url(#clip02)\" points=\"\n",
       "561.747,384.952 561.747,384.952 563.553,384.952 563.553,384.952 561.747,384.952 561.747,384.952 \n",
       "  \" fill=\"#0099ff\" fill-opacity=\"1\"/>\n",
       "<polyline clip-path=\"url(#clip02)\" style=\"stroke:#00002d; stroke-width:0.8; stroke-opacity:1; fill:none\" points=\"\n",
       "  561.747,384.952 561.747,384.952 563.553,384.952 561.747,384.952 \n",
       "  \"/>\n",
       "<polygon clip-path=\"url(#clip02)\" points=\"\n",
       "563.553,384.952 563.553,384.952 565.359,384.952 565.359,384.952 563.553,384.952 563.553,384.952 \n",
       "  \" fill=\"#0099ff\" fill-opacity=\"1\"/>\n",
       "<polyline clip-path=\"url(#clip02)\" style=\"stroke:#00002d; stroke-width:0.8; stroke-opacity:1; fill:none\" points=\"\n",
       "  563.553,384.952 563.553,384.952 565.359,384.952 563.553,384.952 \n",
       "  \"/>\n",
       "<polygon clip-path=\"url(#clip02)\" points=\"\n",
       "565.359,384.952 565.359,384.952 567.165,384.952 567.165,384.952 565.359,384.952 565.359,384.952 \n",
       "  \" fill=\"#0099ff\" fill-opacity=\"1\"/>\n",
       "<polyline clip-path=\"url(#clip02)\" style=\"stroke:#00002d; stroke-width:0.8; stroke-opacity:1; fill:none\" points=\"\n",
       "  565.359,384.952 565.359,384.952 567.165,384.952 565.359,384.952 \n",
       "  \"/>\n",
       "<polygon clip-path=\"url(#clip02)\" points=\"\n",
       "567.165,384.952 567.165,384.952 568.971,384.952 568.971,384.952 567.165,384.952 567.165,384.952 \n",
       "  \" fill=\"#0099ff\" fill-opacity=\"1\"/>\n",
       "<polyline clip-path=\"url(#clip02)\" style=\"stroke:#00002d; stroke-width:0.8; stroke-opacity:1; fill:none\" points=\"\n",
       "  567.165,384.952 567.165,384.952 568.971,384.952 567.165,384.952 \n",
       "  \"/>\n",
       "<polygon clip-path=\"url(#clip02)\" points=\"\n",
       "568.971,384.952 568.971,384.952 570.777,384.952 570.777,384.952 568.971,384.952 568.971,384.952 \n",
       "  \" fill=\"#0099ff\" fill-opacity=\"1\"/>\n",
       "<polyline clip-path=\"url(#clip02)\" style=\"stroke:#00002d; stroke-width:0.8; stroke-opacity:1; fill:none\" points=\"\n",
       "  568.971,384.952 568.971,384.952 570.777,384.952 568.971,384.952 \n",
       "  \"/>\n",
       "<polygon clip-path=\"url(#clip02)\" points=\"\n",
       "570.777,384.952 570.777,384.952 572.583,384.952 572.583,384.952 570.777,384.952 570.777,384.952 \n",
       "  \" fill=\"#0099ff\" fill-opacity=\"1\"/>\n",
       "<polyline clip-path=\"url(#clip02)\" style=\"stroke:#00002d; stroke-width:0.8; stroke-opacity:1; fill:none\" points=\"\n",
       "  570.777,384.952 570.777,384.952 572.583,384.952 570.777,384.952 \n",
       "  \"/>\n",
       "<polygon clip-path=\"url(#clip02)\" points=\"\n",
       "572.583,384.952 572.583,384.952 574.389,384.952 574.389,384.952 572.583,384.952 572.583,384.952 \n",
       "  \" fill=\"#0099ff\" fill-opacity=\"1\"/>\n",
       "<polyline clip-path=\"url(#clip02)\" style=\"stroke:#00002d; stroke-width:0.8; stroke-opacity:1; fill:none\" points=\"\n",
       "  572.583,384.952 572.583,384.952 574.389,384.952 572.583,384.952 \n",
       "  \"/>\n",
       "<polygon clip-path=\"url(#clip02)\" points=\"\n",
       "574.389,384.952 574.389,384.952 576.196,384.952 576.196,384.952 574.389,384.952 574.389,384.952 \n",
       "  \" fill=\"#0099ff\" fill-opacity=\"1\"/>\n",
       "<polyline clip-path=\"url(#clip02)\" style=\"stroke:#00002d; stroke-width:0.8; stroke-opacity:1; fill:none\" points=\"\n",
       "  574.389,384.952 574.389,384.952 576.196,384.952 574.389,384.952 \n",
       "  \"/>\n",
       "<polygon clip-path=\"url(#clip02)\" points=\"\n",
       "576.196,384.952 576.196,384.952 578.002,384.952 578.002,384.952 576.196,384.952 576.196,384.952 \n",
       "  \" fill=\"#0099ff\" fill-opacity=\"1\"/>\n",
       "<polyline clip-path=\"url(#clip02)\" style=\"stroke:#00002d; stroke-width:0.8; stroke-opacity:1; fill:none\" points=\"\n",
       "  576.196,384.952 576.196,384.952 578.002,384.952 576.196,384.952 \n",
       "  \"/>\n",
       "<polygon clip-path=\"url(#clip02)\" points=\"\n",
       "578.002,367.734 578.002,384.952 579.808,384.952 579.808,367.734 578.002,367.734 578.002,367.734 \n",
       "  \" fill=\"#0099ff\" fill-opacity=\"1\"/>\n",
       "<polyline clip-path=\"url(#clip02)\" style=\"stroke:#00002d; stroke-width:0.8; stroke-opacity:1; fill:none\" points=\"\n",
       "  578.002,367.734 578.002,384.952 579.808,384.952 579.808,367.734 578.002,367.734 \n",
       "  \"/>\n",
       "<polygon clip-path=\"url(#clip00)\" points=\"\n",
       "505.547,74.5015 578.063,74.5015 578.063,44.2615 505.547,44.2615 \n",
       "  \" fill=\"#ffffff\" fill-opacity=\"1\"/>\n",
       "<polyline clip-path=\"url(#clip00)\" style=\"stroke:#00002d; stroke-width:0.8; stroke-opacity:1; fill:none\" points=\"\n",
       "  505.547,74.5015 578.063,74.5015 578.063,44.2615 505.547,44.2615 505.547,74.5015 \n",
       "  \"/>\n",
       "<polygon clip-path=\"url(#clip00)\" points=\"\n",
       "511.547,65.4295 547.547,65.4295 547.547,53.3335 511.547,53.3335 511.547,65.4295 \n",
       "  \" fill=\"#0099ff\" fill-opacity=\"1\"/>\n",
       "<polyline clip-path=\"url(#clip00)\" style=\"stroke:#00002d; stroke-width:0.8; stroke-opacity:1; fill:none\" points=\"\n",
       "  511.547,65.4295 547.547,65.4295 547.547,53.3335 511.547,53.3335 511.547,65.4295 \n",
       "  \"/>\n",
       "<g clip-path=\"url(#clip00)\">\n",
       "<text style=\"fill:#00002d; fill-opacity:1; font-family:Arial,Helvetica Neue,Helvetica,sans-serif; font-size:12; text-anchor:start;\" transform=\"rotate(0, 553.547, 63.8815)\" x=\"553.547\" y=\"63.8815\">y1</text>\n",
       "</g>\n",
       "</svg>\n"
      ]
     },
     "execution_count": 49,
     "metadata": {},
     "output_type": "execute_result"
    }
   ],
   "source": [
    "#using Interact\n",
    "#n=300\n",
    "h =  histogram(data, nbins=n, title=\"Timing Histogram\")\n",
    "\n",
    " \n",
    "#?savefig"
   ]
  },
  {
   "cell_type": "code",
   "execution_count": 50,
   "metadata": {
    "collapsed": false
   },
   "outputs": [
    {
     "name": "stderr",
     "output_type": "stream",
     "text": [
      "WARNING: Base.writemime is deprecated.\n",
      "  likely near In[50]:1\n",
      "WARNING: Base.writemime is deprecated.\n",
      "  likely near In[50]:1\n",
      "WARNING: Base.writemime is deprecated.\n",
      "  likely near In[50]:1\n",
      "WARNING: Base.writemime is deprecated.\n",
      "  likely near In[50]:1\n",
      "WARNING: Base.writemime is deprecated.\n",
      "  likely near In[50]:1\n",
      "WARNING: Base.writemime is deprecated.\n",
      "  likely near In[50]:1\n",
      "WARNING: Base.writemime is deprecated.\n",
      "  likely near In[50]:1\n",
      "in eps at \n",
      "WARNING: Base.writemime is deprecated.\n",
      "  likely near In[50]:1\n",
      "WARNING: Base.writemime is deprecated.\n",
      "  likely near In[50]:1\n",
      "in eps at /opt/julia_packages/.julia/v0.5/Plots/src/output.jl\n",
      "WARNING: Base.writemime is deprecated.\n",
      "  likely near In[50]:1\n",
      "in eps at /opt/julia_packages/.julia/v0.5/Plots/src/output.jl\n",
      "WARNING: Base.writemime is deprecated.\n",
      "  likely near In[50]:1\n",
      "in eps at /opt/julia_packages/.julia/v0.5/Plots/src/output.jl\n",
      "\u001b[1m\u001b[31mWARNING: _show is not defined for this backend. m=image/eps\u001b[0m\n"
     ]
    }
   ],
   "source": [
    "savefig(h,\"foo.eps\")"
   ]
  },
  {
   "cell_type": "code",
   "execution_count": 52,
   "metadata": {
    "collapsed": false
   },
   "outputs": [
    {
     "name": "stdout",
     "output_type": "stream",
     "text": [
      "-rw-r--r-- 1 juser juser 14637 Jan 17 06:15 foo.png\n",
      "-rw-r--r-- 1 juser juser  7700 Jan 17 06:16 foo.pdf\n",
      "-rw-r--r-- 1 juser juser     0 Jan 17 06:20 foo.eps\n"
     ]
    }
   ],
   "source": [
    ";ls -lrt foo*"
   ]
  },
  {
   "cell_type": "code",
   "execution_count": 47,
   "metadata": {
    "collapsed": false
   },
   "outputs": [
    {
     "data": {
      "image/png": "[encoded data removed]",
      "text/plain": [
       "BGRA Images.Image with:\n",
       "  data: 600×400 Array{ColorTypes.BGRA{FixedPointNumbers.UFixed{UInt8,8}},2}\n",
       "  properties:\n",
       "    colorspace: sRGB\n",
       "    spatialorder:  x y"
      ]
     },
     "execution_count": 47,
     "metadata": {},
     "output_type": "execute_result"
    }
   ],
   "source": [
    "load(\"foo.pdf\")"
   ]
  },
  {
   "cell_type": "code",
   "execution_count": 53,
   "metadata": {
    "collapsed": false
   },
   "outputs": [
    {
     "name": "stdout",
     "output_type": "stream",
     "text": [
      "C: Fastest time was 10.161124 msecs.\n"
     ]
    }
   ],
   "source": [
    "println(\"C: Fastest time was $(minimum(c_bench.times)/1e6) msecs.\")"
   ]
  },
  {
   "cell_type": "markdown",
   "metadata": {},
   "source": [
    "# 2. Python's built in `sum` (68 msecs)"
   ]
  },
  {
   "cell_type": "code",
   "execution_count": 54,
   "metadata": {
    "collapsed": false,
    "scrolled": true
   },
   "outputs": [
    {
     "name": "stderr",
     "output_type": "stream",
     "text": [
      "\u001b[1m\u001b[34mINFO: Recompiling stale cache file /home/juser/.julia/lib/v0.5/Conda.ji for module Conda.\n",
      "\u001b[0m\u001b[1m\u001b[34mINFO: Recompiling stale cache file /home/juser/.julia/lib/v0.5/PyCall.ji for module PyCall.\n",
      "\u001b[0mWARNING: using PyCall.set! in module Main conflicts with an existing identifier.\n"
     ]
    }
   ],
   "source": [
    "# Julia interface to Python:\n",
    "using PyCall"
   ]
  },
  {
   "cell_type": "code",
   "execution_count": 55,
   "metadata": {
    "collapsed": false,
    "scrolled": true
   },
   "outputs": [
    {
     "data": {
      "text/plain": [
       "PyObject <built-in function sum>"
      ]
     },
     "execution_count": 55,
     "metadata": {},
     "output_type": "execute_result"
    }
   ],
   "source": [
    "# call a low-level PyCall function to get a Python list, because\n",
    "# by default PyCall will convert to a NumPy array instead (we benchmark NumPy below):\n",
    "\n",
    "apy_list = PyCall.array2py(a, 1, 1)\n",
    "\n",
    "# get the Python built-in \"sum\" function:\n",
    "pysum = pybuiltin(\"sum\")"
   ]
  },
  {
   "cell_type": "code",
   "execution_count": 56,
   "metadata": {
    "collapsed": false,
    "scrolled": true
   },
   "outputs": [
    {
     "data": {
      "text/plain": [
       "5.001161073665754e6"
      ]
     },
     "execution_count": 56,
     "metadata": {},
     "output_type": "execute_result"
    }
   ],
   "source": [
    "pysum(a)"
   ]
  },
  {
   "cell_type": "code",
   "execution_count": 57,
   "metadata": {
    "collapsed": false,
    "scrolled": true
   },
   "outputs": [
    {
     "data": {
      "text/plain": [
       "true"
      ]
     },
     "execution_count": 57,
     "metadata": {},
     "output_type": "execute_result"
    }
   ],
   "source": [
    "pysum(a) ≈ sum(a)"
   ]
  },
  {
   "cell_type": "code",
   "execution_count": 58,
   "metadata": {
    "collapsed": false,
    "scrolled": true
   },
   "outputs": [
    {
     "data": {
      "text/plain": [
       "BenchmarkTools.Trial: \n",
       "  memory estimate:  672.00 bytes\n",
       "  allocs estimate:  19\n",
       "  --------------\n",
       "  minimum time:     132.689 ms (0.00% GC)\n",
       "  median time:      134.697 ms (0.00% GC)\n",
       "  mean time:        134.532 ms (0.00% GC)\n",
       "  maximum time:     139.764 ms (0.00% GC)\n",
       "  --------------\n",
       "  samples:          38\n",
       "  evals/sample:     1\n",
       "  time tolerance:   5.00%\n",
       "  memory tolerance: 1.00%"
      ]
     },
     "execution_count": 58,
     "metadata": {},
     "output_type": "execute_result"
    }
   ],
   "source": [
    "py_list_bench = @benchmark $pysum($apy_list)"
   ]
  },
  {
   "cell_type": "code",
   "execution_count": 59,
   "metadata": {
    "collapsed": false,
    "scrolled": true
   },
   "outputs": [
    {
     "name": "stdout",
     "output_type": "stream",
     "text": [
      "Python (built in): fastest time was 132.688914 msecs.\n"
     ]
    }
   ],
   "source": [
    "println(\"Python (built in): fastest time was $(minimum(py_list_bench.times)/1e6) msecs.\")"
   ]
  },
  {
   "cell_type": "markdown",
   "metadata": {},
   "source": [
    "# 3. Python: `numpy` (3.9 msec)  \n",
    "\n",
    "## Takes advantage of hardware \"SIMD\", but only works when it works.\n",
    "\n",
    "`numpy` is an optimized C library, callable from Python"
   ]
  },
  {
   "cell_type": "markdown",
   "metadata": {},
   "source": [
    "If it is not installed, install it from Julia as follows:"
   ]
  },
  {
   "cell_type": "code",
   "execution_count": 63,
   "metadata": {
    "collapsed": false,
    "scrolled": true
   },
   "outputs": [
    {
     "ename": "LoadError",
     "evalue": "PyCall is not an installed package",
     "output_type": "error",
     "traceback": [
      "PyCall is not an installed package",
      ""
     ]
    }
   ],
   "source": [
    "# using Conda \n",
    "# Conda.add(\"numpy\")\n",
    "Pkg.build(\"PyCall\")"
   ]
  },
  {
   "cell_type": "code",
   "execution_count": 60,
   "metadata": {
    "collapsed": false,
    "scrolled": true
   },
   "outputs": [
    {
     "data": {
      "text/plain": [
       "BenchmarkTools.Trial: \n",
       "  memory estimate:  960.00 bytes\n",
       "  allocs estimate:  25\n",
       "  --------------\n",
       "  minimum time:     9.810 ms (0.00% GC)\n",
       "  median time:      10.401 ms (0.00% GC)\n",
       "  mean time:        10.347 ms (0.00% GC)\n",
       "  maximum time:     10.936 ms (0.00% GC)\n",
       "  --------------\n",
       "  samples:          484\n",
       "  evals/sample:     1\n",
       "  time tolerance:   5.00%\n",
       "  memory tolerance: 1.00%"
      ]
     },
     "execution_count": 60,
     "metadata": {},
     "output_type": "execute_result"
    }
   ],
   "source": [
    "numpy_sum = pyimport(\"numpy\")[\"sum\"]\n",
    "apy_numpy = PyObject(a) # converts to a numpy array by default\n",
    "\n",
    "py_numpy_bench = @benchmark $numpy_sum($apy_numpy)"
   ]
  },
  {
   "cell_type": "code",
   "execution_count": 61,
   "metadata": {
    "collapsed": false,
    "scrolled": true
   },
   "outputs": [
    {
     "data": {
      "text/plain": [
       "5.001161073665754e6"
      ]
     },
     "execution_count": 61,
     "metadata": {},
     "output_type": "execute_result"
    }
   ],
   "source": [
    "numpy_sum(apy_list) # python thing"
   ]
  },
  {
   "cell_type": "code",
   "execution_count": 62,
   "metadata": {
    "collapsed": false,
    "scrolled": true
   },
   "outputs": [
    {
     "data": {
      "text/plain": [
       "true"
      ]
     },
     "execution_count": 62,
     "metadata": {},
     "output_type": "execute_result"
    }
   ],
   "source": [
    "numpy_sum(apy_list) ≈ sum(a)"
   ]
  },
  {
   "cell_type": "markdown",
   "metadata": {},
   "source": [
    "# 4. Python, hand written (419 msec!)"
   ]
  },
  {
   "cell_type": "code",
   "execution_count": 64,
   "metadata": {
    "collapsed": false,
    "scrolled": true
   },
   "outputs": [
    {
     "data": {
      "text/plain": [
       "PyObject <function mysum at 0x7f4727d1c2a8>"
      ]
     },
     "execution_count": 64,
     "metadata": {},
     "output_type": "execute_result"
    }
   ],
   "source": [
    "# It currently takes a little bit of hackery to define a custom Python function\n",
    "# in a Julia string and call it via PyCall, sorry:\n",
    "\n",
    "syms = PyDict{AbstractString, PyObject}()\n",
    "syms[\"syms\"] = PyObject(Any[])\n",
    "\n",
    "pyeval(\"\"\"\n",
    "def mysum(a):\n",
    "    s = 0.0\n",
    "    for x in a:\n",
    "        s = s + x\n",
    "    return s\n",
    "\n",
    "syms.insert(0, mysum)\n",
    "\"\"\", PyAny, syms, PyCall.Py_file_input)\n",
    "\n",
    "mysum_py = syms[\"syms\"][1] # a reference to the Python mysum function"
   ]
  },
  {
   "cell_type": "code",
   "execution_count": 65,
   "metadata": {
    "collapsed": false,
    "scrolled": true
   },
   "outputs": [
    {
     "data": {
      "text/plain": [
       "BenchmarkTools.Trial: \n",
       "  memory estimate:  672.00 bytes\n",
       "  allocs estimate:  19\n",
       "  --------------\n",
       "  minimum time:     451.740 ms (0.00% GC)\n",
       "  median time:      644.155 ms (0.00% GC)\n",
       "  mean time:        595.004 ms (0.00% GC)\n",
       "  maximum time:     720.880 ms (0.00% GC)\n",
       "  --------------\n",
       "  samples:          9\n",
       "  evals/sample:     1\n",
       "  time tolerance:   5.00%\n",
       "  memory tolerance: 1.00%"
      ]
     },
     "execution_count": 65,
     "metadata": {},
     "output_type": "execute_result"
    }
   ],
   "source": [
    "@benchmark $mysum_py($apy_list)"
   ]
  },
  {
   "cell_type": "code",
   "execution_count": 66,
   "metadata": {
    "collapsed": false,
    "scrolled": true
   },
   "outputs": [
    {
     "data": {
      "text/plain": [
       "5.001161073665754e6"
      ]
     },
     "execution_count": 66,
     "metadata": {},
     "output_type": "execute_result"
    }
   ],
   "source": [
    "mysum_py(apy_list)"
   ]
  },
  {
   "cell_type": "code",
   "execution_count": 67,
   "metadata": {
    "collapsed": false,
    "scrolled": true
   },
   "outputs": [
    {
     "data": {
      "text/plain": [
       "true"
      ]
     },
     "execution_count": 67,
     "metadata": {},
     "output_type": "execute_result"
    }
   ],
   "source": [
    "mysum_py(apy_list) ≈ sum(a)"
   ]
  },
  {
   "cell_type": "markdown",
   "metadata": {},
   "source": [
    "# 5. Julia (built-in) (3.7 msec) \n",
    "\n",
    "## Written directly in Julia, not in C!"
   ]
  },
  {
   "cell_type": "code",
   "execution_count": 68,
   "metadata": {
    "collapsed": false,
    "scrolled": true
   },
   "outputs": [
    {
     "data": {
      "text/html": [
       "sum(a) at <a href=\"https://github.com/JuliaLang/julia/tree/3c9d75391c72d7c32eea75ff187ce77b2d5effc8/base/reduce.jl#L229\" target=\"_blank\">reduce.jl:229</a>"
      ],
      "text/plain": [
       "sum(a) at reduce.jl:229"
      ]
     },
     "execution_count": 68,
     "metadata": {},
     "output_type": "execute_result"
    }
   ],
   "source": [
    "@which sum(a)"
   ]
  },
  {
   "cell_type": "code",
   "execution_count": 69,
   "metadata": {
    "collapsed": false,
    "scrolled": true
   },
   "outputs": [
    {
     "data": {
      "text/plain": [
       "BenchmarkTools.Trial: \n",
       "  memory estimate:  0.00 bytes\n",
       "  allocs estimate:  0\n",
       "  --------------\n",
       "  minimum time:     6.083 ms (0.00% GC)\n",
       "  median time:      6.321 ms (0.00% GC)\n",
       "  mean time:        6.315 ms (0.00% GC)\n",
       "  maximum time:     6.558 ms (0.00% GC)\n",
       "  --------------\n",
       "  samples:          792\n",
       "  evals/sample:     1\n",
       "  time tolerance:   5.00%\n",
       "  memory tolerance: 1.00%"
      ]
     },
     "execution_count": 69,
     "metadata": {},
     "output_type": "execute_result"
    }
   ],
   "source": [
    "j_bench = @benchmark sum($a)"
   ]
  },
  {
   "cell_type": "markdown",
   "metadata": {},
   "source": [
    "# 6. Julia (hand-written) (8.1 msec, same as hand-written C)"
   ]
  },
  {
   "cell_type": "code",
   "execution_count": 76,
   "metadata": {
    "collapsed": false,
    "scrolled": true
   },
   "outputs": [
    {
     "name": "stderr",
     "output_type": "stream",
     "text": [
      "WARNING: Method definition mysum(Any) in module Main at In[72]:2 overwritten at In[76]:2.\n"
     ]
    },
    {
     "data": {
      "text/plain": [
       "mysum (generic function with 1 method)"
      ]
     },
     "execution_count": 76,
     "metadata": {},
     "output_type": "execute_result"
    }
   ],
   "source": [
    "function mysum(A)   \n",
    "    s = A[1]\n",
    "    for a in A[2:end]\n",
    "        s += a\n",
    "    end\n",
    "    s\n",
    "end"
   ]
  },
  {
   "cell_type": "code",
   "execution_count": 73,
   "metadata": {
    "collapsed": false,
    "scrolled": true
   },
   "outputs": [
    {
     "data": {
      "text/plain": [
       "BenchmarkTools.Trial: \n",
       "  memory estimate:  0.00 bytes\n",
       "  allocs estimate:  0\n",
       "  --------------\n",
       "  minimum time:     9.622 ms (0.00% GC)\n",
       "  median time:      10.354 ms (0.00% GC)\n",
       "  mean time:        10.359 ms (0.00% GC)\n",
       "  maximum time:     11.220 ms (0.00% GC)\n",
       "  --------------\n",
       "  samples:          483\n",
       "  evals/sample:     1\n",
       "  time tolerance:   5.00%\n",
       "  memory tolerance: 1.00%"
      ]
     },
     "execution_count": 73,
     "metadata": {},
     "output_type": "execute_result"
    }
   ],
   "source": [
    "j_bench_hand = @benchmark mysum($a)"
   ]
  },
  {
   "cell_type": "markdown",
   "metadata": {},
   "source": [
    "# 7. Julia (with a severe naive mistake)"
   ]
  },
  {
   "cell_type": "code",
   "execution_count": 74,
   "metadata": {
    "collapsed": false
   },
   "outputs": [
    {
     "data": {
      "text/plain": [
       "my_bad_julia (generic function with 1 method)"
      ]
     },
     "execution_count": 74,
     "metadata": {},
     "output_type": "execute_result"
    }
   ],
   "source": [
    "function my_bad_julia(A)   \n",
    "    s = 0  # my kingdom for a decimal point\n",
    "    for a in A\n",
    "        s += a\n",
    "    end\n",
    "    s\n",
    "end"
   ]
  },
  {
   "cell_type": "code",
   "execution_count": 75,
   "metadata": {
    "collapsed": false
   },
   "outputs": [
    {
     "data": {
      "text/plain": [
       "BenchmarkTools.Trial: \n",
       "  memory estimate:  457.76 mb\n",
       "  allocs estimate:  30000000\n",
       "  --------------\n",
       "  minimum time:     226.769 ms (16.61% GC)\n",
       "  median time:      230.351 ms (17.47% GC)\n",
       "  mean time:        230.803 ms (17.41% GC)\n",
       "  maximum time:     237.604 ms (18.05% GC)\n",
       "  --------------\n",
       "  samples:          22\n",
       "  evals/sample:     1\n",
       "  time tolerance:   5.00%\n",
       "  memory tolerance: 1.00%"
      ]
     },
     "execution_count": 75,
     "metadata": {},
     "output_type": "execute_result"
    }
   ],
   "source": [
    "@benchmark my_bad_julia(a)"
   ]
  },
  {
   "cell_type": "code",
   "execution_count": 77,
   "metadata": {
    "collapsed": false
   },
   "outputs": [
    {
     "data": {
      "text/plain": [
       "true"
      ]
     },
     "execution_count": 77,
     "metadata": {},
     "output_type": "execute_result"
    }
   ],
   "source": [
    "my_bad_julia(a) ≈ sum(a)"
   ]
  },
  {
   "cell_type": "code",
   "execution_count": 85,
   "metadata": {
    "collapsed": false
   },
   "outputs": [],
   "source": [
    "a= [ rand(2,2) for i=1:10^7];"
   ]
  },
  {
   "cell_type": "code",
   "execution_count": 86,
   "metadata": {
    "collapsed": false
   },
   "outputs": [
    {
     "data": {
      "text/plain": [
       "2×2 Array{Float64,2}:\n",
       " 0.289872   0.685935\n",
       " 0.0517198  0.953344"
      ]
     },
     "execution_count": 86,
     "metadata": {},
     "output_type": "execute_result"
    }
   ],
   "source": [
    "a[1]"
   ]
  },
  {
   "cell_type": "code",
   "execution_count": 84,
   "metadata": {
    "collapsed": false
   },
   "outputs": [
    {
     "data": {
      "text/plain": [
       "0.0 + 0.0im"
      ]
     },
     "execution_count": 84,
     "metadata": {},
     "output_type": "execute_result"
    }
   ],
   "source": [
    "zero(eltype(a))"
   ]
  },
  {
   "cell_type": "code",
   "execution_count": 87,
   "metadata": {
    "collapsed": false
   },
   "outputs": [
    {
     "data": {
      "text/plain": [
       "2.0"
      ]
     },
     "execution_count": 87,
     "metadata": {},
     "output_type": "execute_result"
    }
   ],
   "source": [
    "x=1\n",
    "y=1.0\n",
    "x+y\n",
    "\n",
    "\n"
   ]
  },
  {
   "cell_type": "code",
   "execution_count": 88,
   "metadata": {
    "collapsed": false
   },
   "outputs": [
    {
     "name": "stdout",
     "output_type": "stream",
     "text": [
      "\t.text\n",
      "Filename: promotion.jl\n",
      "\tpushq\t%rbp\n",
      "\tmovq\t%rsp, %rbp\n",
      "Source line: 190\n",
      "\tcvtsi2sdq\t%rdi, %xmm1\n",
      "\taddsd\t%xmm1, %xmm0\n",
      "\tpopq\t%rbp\n",
      "\tretq\n",
      "\tnop\n"
     ]
    }
   ],
   "source": [
    "@code_native(x+y)"
   ]
  },
  {
   "cell_type": "code",
   "execution_count": 89,
   "metadata": {
    "collapsed": false
   },
   "outputs": [
    {
     "name": "stdout",
     "output_type": "stream",
     "text": [
      "\t.text\n",
      "Filename: int.jl\n",
      "\tpushq\t%rbp\n",
      "\tmovq\t%rsp, %rbp\n",
      "Source line: 32\n",
      "\tleaq\t(%rdi,%rsi), %rax\n",
      "\tpopq\t%rbp\n",
      "\tretq\n",
      "\tnopw\t(%rax,%rax)\n"
     ]
    }
   ],
   "source": [
    "@code_native(1+1)"
   ]
  },
  {
   "cell_type": "code",
   "execution_count": 90,
   "metadata": {
    "collapsed": false
   },
   "outputs": [
    {
     "name": "stdout",
     "output_type": "stream",
     "text": [
      "\t.text\n",
      "Filename: float.jl\n",
      "\tpushq\t%rbp\n",
      "\tmovq\t%rsp, %rbp\n",
      "Source line: 240\n",
      "\taddsd\t%xmm1, %xmm0\n",
      "\tpopq\t%rbp\n",
      "\tretq\n",
      "\tnopw\t(%rax,%rax)\n"
     ]
    }
   ],
   "source": [
    "@code_native(1.0+1.0)"
   ]
  },
  {
   "cell_type": "code",
   "execution_count": 93,
   "metadata": {
    "collapsed": false
   },
   "outputs": [
    {
     "name": "stdout",
     "output_type": "stream",
     "text": [
      "Variables:\n",
      "  #self#::Base.#+\n",
      "  x::Int64\n",
      "  y::Float64\n",
      "\n",
      "Body:\n",
      "  begin \n",
      "      return (Base.box)(Base.Float64,(Base.add_float)((Base.box)(Float64,(Base.sitofp)(Float64,x::Int64)),y::Float64))\n",
      "  end::Float64\n"
     ]
    }
   ],
   "source": [
    "@code_warntype(x+y)"
   ]
  },
  {
   "cell_type": "code",
   "execution_count": 94,
   "metadata": {
    "collapsed": false
   },
   "outputs": [
    {
     "name": "stdout",
     "output_type": "stream",
     "text": [
      "Variables:\n",
      "  #self#::Base.#+\n",
      "  x::Int64\n",
      "  y::Int64\n",
      "\n",
      "Body:\n",
      "  begin \n",
      "      return (Base.box)($(Expr(:static_parameter, 1)),(Base.add_int)(x::Int64,y::Int64))\n",
      "  end::Int64\n"
     ]
    }
   ],
   "source": [
    "a=1\n",
    "b=1\n",
    "@code_warntype(a+b)"
   ]
  },
  {
   "cell_type": "code",
   "execution_count": 97,
   "metadata": {
    "collapsed": false
   },
   "outputs": [
    {
     "name": "stdout",
     "output_type": "stream",
     "text": [
      "Variables:\n",
      "  #self#::#my_bad_julia\n",
      "  A::Array{Int64,1}\n",
      "  s::Int64\n",
      "  #temp#::Int64\n",
      "  a::Int64\n",
      "\n",
      "Body:\n",
      "  begin \n",
      "      s::Int64 = 0 # line 3:\n",
      "      #temp#::Int64 = $(QuoteNode(1))\n",
      "      4: \n",
      "      unless (Base.box)(Base.Bool,(Base.not_int)((#temp#::Int64 === (Base.box)(Int64,(Base.add_int)((Base.arraylen)(A::Array{Int64,1})::Int64,1)))::Bool)) goto 14\n",
      "      SSAValue(2) = (Base.arrayref)(A::Array{Int64,1},#temp#::Int64)::Int64\n",
      "      SSAValue(3) = (Base.box)(Int64,(Base.add_int)(#temp#::Int64,1))\n",
      "      a::Int64 = SSAValue(2)\n",
      "      #temp#::Int64 = SSAValue(3) # line 4:\n",
      "      s::Int64 = (Base.box)(Int64,(Base.add_int)(s::Int64,a::Int64))\n",
      "      12: \n",
      "      goto 4\n",
      "      14:  # line 6:\n",
      "      return s::Int64\n",
      "  end::Int64\n"
     ]
    }
   ],
   "source": [
    "@code_warntype my_bad_julia([1,2,3])"
   ]
  },
  {
   "cell_type": "code",
   "execution_count": 98,
   "metadata": {
    "collapsed": false
   },
   "outputs": [
    {
     "name": "stdout",
     "output_type": "stream",
     "text": [
      "Variables:\n",
      "  #self#::#my_bad_julia\n",
      "  A::Array{Float64,1}\n",
      "  s\u001b[1m\u001b[31m::Any\u001b[0m\n",
      "  #temp#@_4::Int64\n",
      "  a::Float64\n",
      "  #temp#@_6::LambdaInfo\n",
      "  #temp#@_7::Float64\n",
      "\n",
      "Body:\n",
      "  begin \n",
      "      s\u001b[1m\u001b[31m::Any\u001b[0m = 0 # line 3:\n",
      "      #temp#@_4::Int64 = $(QuoteNode(1))\n",
      "      4: \n",
      "      unless (Base.box)(Base.Bool,(Base.not_int)((#temp#@_4::Int64 === (Base.box)(Int64,(Base.add_int)((Base.arraylen)(A::Array{Float64,1})::Int64,1)))::Bool)) goto 29\n",
      "      SSAValue(2) = (Base.arrayref)(A::Array{Float64,1},#temp#@_4::Int64)::Float64\n",
      "      SSAValue(3) = (Base.box)(Int64,(Base.add_int)(#temp#@_4::Int64,1))\n",
      "      a::Float64 = SSAValue(2)\n",
      "      #temp#@_4::Int64 = SSAValue(3) # line 4:\n",
      "      unless (Core.isa)(s\u001b[1m\u001b[31m::Union{Float64,Int64}\u001b[0m,Float64)\u001b[1m\u001b[31m::Any\u001b[0m goto 14\n",
      "      #temp#@_6::LambdaInfo = LambdaInfo for +(::Float64, ::Float64)\n",
      "      goto 23\n",
      "      14: \n",
      "      unless (Core.isa)(s\u001b[1m\u001b[31m::Union{Float64,Int64}\u001b[0m,Int64)\u001b[1m\u001b[31m::Any\u001b[0m goto 18\n",
      "      #temp#@_6::LambdaInfo = LambdaInfo for +(::Int64, ::Float64)\n",
      "      goto 23\n",
      "      18: \n",
      "      goto 20\n",
      "      20: \n",
      "      #temp#@_7::Float64 = (s\u001b[1m\u001b[31m::Union{Float64,Int64}\u001b[0m + a::Float64)::Float64\n",
      "      goto 25\n",
      "      23: \n",
      "      #temp#@_7::Float64 = $(Expr(:invoke, :(#temp#@_6), :(Main.+), :(s::Union{Float64,Int64}), :(a)))\n",
      "      25: \n",
      "      s\u001b[1m\u001b[31m::Any\u001b[0m = #temp#@_7::Float64\n",
      "      27: \n",
      "      goto 4\n",
      "      29:  # line 6:\n",
      "      return s\u001b[1m\u001b[31m::Union{Float64,Int64}\u001b[0m\n",
      "  end\u001b[1m\u001b[31m::Union{Float64,Int64}\u001b[0m\n"
     ]
    }
   ],
   "source": [
    "@code_warntype my_bad_julia([1,2,3.0])"
   ]
  },
  {
   "cell_type": "code",
   "execution_count": 101,
   "metadata": {
    "collapsed": false
   },
   "outputs": [
    {
     "name": "stdout",
     "output_type": "stream",
     "text": [
      "  0.009146 seconds (5 allocations: 176 bytes)\n"
     ]
    },
    {
     "data": {
      "text/plain": [
       "44991452"
      ]
     },
     "execution_count": 101,
     "metadata": {},
     "output_type": "execute_result"
    }
   ],
   "source": [
    "a = rand(0:9,10^7) # 10 million integers\n",
    "b = rand(10^7)   # 10 million floats\n",
    "@time my_bad_julia( a)"
   ]
  },
  {
   "cell_type": "code",
   "execution_count": 103,
   "metadata": {
    "collapsed": false
   },
   "outputs": [
    {
     "name": "stdout",
     "output_type": "stream",
     "text": [
      "  0.232847 seconds (30.00 M allocations: 457.764 MB, 20.98% gc time)\n"
     ]
    },
    {
     "data": {
      "text/plain": [
       "4.999984327813511e6"
      ]
     },
     "execution_count": 103,
     "metadata": {},
     "output_type": "execute_result"
    }
   ],
   "source": [
    "@time my_bad_julia(b )"
   ]
  },
  {
   "cell_type": "code",
   "execution_count": 104,
   "metadata": {
    "collapsed": false
   },
   "outputs": [
    {
     "data": {
      "text/plain": [
       "5-element Array{Int64,1}:\n",
       " 1\n",
       " 9\n",
       " 8\n",
       " 7\n",
       " 7"
      ]
     },
     "execution_count": 104,
     "metadata": {},
     "output_type": "execute_result"
    }
   ],
   "source": [
    "a[1:5]"
   ]
  },
  {
   "cell_type": "code",
   "execution_count": 105,
   "metadata": {
    "collapsed": false
   },
   "outputs": [
    {
     "data": {
      "text/plain": [
       "5-element Array{Float64,1}:\n",
       " 0.349059\n",
       " 0.789886\n",
       " 0.951088\n",
       " 0.464013\n",
       " 0.878426"
      ]
     },
     "execution_count": 105,
     "metadata": {},
     "output_type": "execute_result"
    }
   ],
   "source": [
    "b[1:5]"
   ]
  },
  {
   "cell_type": "code",
   "execution_count": 106,
   "metadata": {
    "collapsed": false
   },
   "outputs": [
    {
     "name": "stdout",
     "output_type": "stream",
     "text": [
      "search: \u001b[1mb\u001b[22m\u001b[1me\u001b[22m\u001b[1ms\u001b[22m\u001b[1ms\u001b[22m\u001b[1me\u001b[22m\u001b[1ml\u001b[22my \u001b[1mb\u001b[22m\u001b[1me\u001b[22m\u001b[1ms\u001b[22m\u001b[1ms\u001b[22m\u001b[1me\u001b[22m\u001b[1ml\u001b[22mk \u001b[1mb\u001b[22m\u001b[1me\u001b[22m\u001b[1ms\u001b[22m\u001b[1ms\u001b[22m\u001b[1me\u001b[22m\u001b[1ml\u001b[22mj \u001b[1mb\u001b[22m\u001b[1me\u001b[22m\u001b[1ms\u001b[22m\u001b[1ms\u001b[22m\u001b[1me\u001b[22m\u001b[1ml\u001b[22mi \u001b[1mb\u001b[22m\u001b[1me\u001b[22m\u001b[1ms\u001b[22m\u001b[1ms\u001b[22m\u001b[1me\u001b[22m\u001b[1ml\u001b[22mh \u001b[1mb\u001b[22m\u001b[1me\u001b[22m\u001b[1ms\u001b[22m\u001b[1ms\u001b[22m\u001b[1me\u001b[22m\u001b[1ml\u001b[22myx \u001b[1mb\u001b[22m\u001b[1me\u001b[22m\u001b[1ms\u001b[22m\u001b[1ms\u001b[22m\u001b[1me\u001b[22m\u001b[1ml\u001b[22my1 \u001b[1mb\u001b[22m\u001b[1me\u001b[22m\u001b[1ms\u001b[22m\u001b[1ms\u001b[22m\u001b[1me\u001b[22m\u001b[1ml\u001b[22my0\n",
      "\n",
      "Couldn't find \u001b[36mbessel\n",
      "\u001b[39mPerhaps you meant besselh, besseli, besselj, besselk, bessely or besselhx\n"
     ]
    },
    {
     "data": {
      "text/markdown": [
       "No documentation found.\n",
       "\n",
       "Binding `bessel` does not exist.\n"
      ],
      "text/plain": [
       "No documentation found.\n",
       "\n",
       "Binding `bessel` does not exist.\n"
      ]
     },
     "execution_count": 106,
     "metadata": {},
     "output_type": "execute_result"
    }
   ],
   "source": [
    "?bessel"
   ]
  },
  {
   "cell_type": "code",
   "execution_count": 107,
   "metadata": {
    "collapsed": false
   },
   "outputs": [
    {
     "name": "stdout",
     "output_type": "stream",
     "text": [
      "search: \u001b[1mg\u001b[22m\u001b[1ma\u001b[22m\u001b[1mm\u001b[22m\u001b[1mm\u001b[22m\u001b[1ma\u001b[22m \u001b[1mg\u001b[22m\u001b[1ma\u001b[22m\u001b[1mm\u001b[22m\u001b[1mm\u001b[22m\u001b[1ma\u001b[22mcovs l\u001b[1mg\u001b[22m\u001b[1ma\u001b[22m\u001b[1mm\u001b[22m\u001b[1mm\u001b[22m\u001b[1ma\u001b[22m di\u001b[1mg\u001b[22m\u001b[1ma\u001b[22m\u001b[1mm\u001b[22m\u001b[1mm\u001b[22m\u001b[1ma\u001b[22m tri\u001b[1mg\u001b[22m\u001b[1ma\u001b[22m\u001b[1mm\u001b[22m\u001b[1mm\u001b[22m\u001b[1ma\u001b[22m poly\u001b[1mg\u001b[22m\u001b[1ma\u001b[22m\u001b[1mm\u001b[22m\u001b[1mm\u001b[22m\u001b[1ma\u001b[22m invdi\u001b[1mg\u001b[22m\u001b[1ma\u001b[22m\u001b[1mm\u001b[22m\u001b[1mm\u001b[22m\u001b[1ma\u001b[22m euler\u001b[1mg\u001b[22m\u001b[1ma\u001b[22m\u001b[1mm\u001b[22m\u001b[1mm\u001b[22m\u001b[1ma\u001b[22m\n",
      "\n"
     ]
    },
    {
     "data": {
      "text/markdown": [
       "```\n",
       "gamma(x)\n",
       "```\n",
       "\n",
       "Compute the gamma function of `x`.\n"
      ],
      "text/plain": [
       "```\n",
       "gamma(x)\n",
       "```\n",
       "\n",
       "Compute the gamma function of `x`.\n"
      ]
     },
     "execution_count": 107,
     "metadata": {},
     "output_type": "execute_result"
    }
   ],
   "source": [
    "?gamma"
   ]
  },
  {
   "cell_type": "code",
   "execution_count": null,
   "metadata": {
    "collapsed": false
   },
   "outputs": [
    {
     "name": "stderr",
     "output_type": "stream",
     "text": [
      "Vim: Warning: Output is not to a terminal\n",
      "Vim: Warning: Input is not from a terminal\n"
     ]
    },
    {
     "name": "stdout",
     "output_type": "stream",
     "text": [
      "\u001b[m\u001b[m\u001b[0m\u001b[H\u001b[2J\u001b[30;1H\"/opt/julia-0.5.0/bin/../share/julia/base/random.jl\"\r",
      "</bin/../share/julia/base/random.jl\" [readonly] 1438L, 69316C\u001b[1;1H# This file is a part of Julia. License is MIT: http://julialang.org/license\r\n",
      "\r\n",
      "module \u001b[33mRandom\u001b[0m\r\n",
      "\r\n",
      "using Base.dSFMT\r\n",
      "using Base.GMP: GMP_VERSION, Limb\r\n",
      "\u001b[33mimport\u001b[0m Base: copymutable, copy, copy!, ==\r\n",
      "\r\n",
      "\u001b[33mexport\u001b[0m srand,\u001b[10;8Hrand, rand!,\u001b[11;8Hrandn, randn!,\u001b[12;8Hrandexp, randexp!,\u001b[13;8Hbitrand,\u001b[14;8Hrandstring,\u001b[15;8Hrandsubseq,randsubseq!,\u001b[16;8Hshuffle,shuffle!,\u001b[17;8Hrandperm, randcycle,\u001b[18;8HAbstractRNG, MersenneTwister, RandomDevice,\u001b[19;8HGLOBAL_RNG, randjump\r\n",
      "\r\n",
      "\r\n",
      "abstract AbstractRNG\r\n",
      "\r\n",
      "abstract FloatInterval\r\n",
      "\u001b[33mtype\u001b[0m CloseOpen <: FloatInterval end\r\n",
      "\u001b[33mtype\u001b[0m Close\u001b[31m1\u001b[0mOpen\u001b[31m2\u001b[0m <: FloatInterval end\r\n",
      "\r\n",
      "\r\n",
      "## RandomDevice\u001b[30;63H1,1\u001b[11CTop\u001b[1;1H"
     ]
    }
   ],
   "source": [
    "@edit rand(1)"
   ]
  },
  {
   "cell_type": "code",
   "execution_count": null,
   "metadata": {
    "collapsed": true
   },
   "outputs": [],
   "source": []
  }
 ],
 "metadata": {
  "anaconda-cloud": {},
  "kernelspec": {
   "display_name": "Julia 0.5.0",
   "language": "julia",
   "name": "julia-0.5"
  },
  "language_info": {
   "file_extension": ".jl",
   "mimetype": "application/julia",
   "name": "julia",
   "version": "0.5.0"
  },
  "toc": {
   "nav_menu": {
    "height": "212px",
    "width": "252px"
   },
   "navigate_menu": true,
   "number_sections": true,
   "sideBar": true,
   "threshold": "2",
   "toc_cell": false,
   "toc_section_display": "block",
   "toc_window_display": false
  }
 },
 "nbformat": 4,
 "nbformat_minor": 2
}
