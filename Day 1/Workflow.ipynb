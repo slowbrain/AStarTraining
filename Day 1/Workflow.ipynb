{
 "cells": [
  {
   "cell_type": "markdown",
   "metadata": {},
   "source": [
    "# Downloading a notebook file"
   ]
  },
  {
   "cell_type": "markdown",
   "metadata": {},
   "source": [
    "- We can download a notebook via the `File->Download` menu item from a notebook\n",
    "\n",
    "- We get a `something.ipynb` on our machine\n",
    "\n",
    "- `.ipynb` stands for \"IPython Notebook\", the old name of what's now the Jupyter notebook."
   ]
  },
  {
   "cell_type": "markdown",
   "metadata": {},
   "source": [
    "`.ipynb` files are in [JSON format (Javascript Object Notation)](https://en.wikipedia.org/wiki/JSON). This contains the *entire* content of a notebook, in machine-readable (and semi-human-readable) form, including images in base-64 encoding.\n",
    "\n",
    "If you get such a file with images in, you should *trust* it (`File->Trust notebook`) to see the images."
   ]
  },
  {
   "cell_type": "markdown",
   "metadata": {
    "collapsed": true
   },
   "source": [
    "## Julia scripts (`.jl`)"
   ]
  },
  {
   "cell_type": "markdown",
   "metadata": {},
   "source": [
    "You can store sequences of Julia commands in a file with `.jl` termination. \n",
    "These can then be run as if you had typed those commands directly in the notebook (or in the REPL), using `include`:"
   ]
  },
  {
   "cell_type": "code",
   "execution_count": 5,
   "metadata": {
    "collapsed": false
   },
   "outputs": [
    {
     "name": "stdout",
     "output_type": "stream",
     "text": [
      "Hello Singapore\n"
     ]
    },
    {
     "name": "stderr",
     "output_type": "stream",
     "text": [
      "WARNING: Method definition sqr(Any) in module Main at /Users/dpsanders/Dropbox/docencia/singapore_jan_2017/AStarTraining/Day 1/hello.jl:7 overwritten at /Users/dpsanders/Dropbox/docencia/singapore_jan_2017/AStarTraining/Day 1/hello.jl:7.\n"
     ]
    },
    {
     "data": {
      "text/plain": [
       "sqr (generic function with 1 method)"
      ]
     },
     "execution_count": 5,
     "metadata": {},
     "output_type": "execute_result"
    }
   ],
   "source": [
    "include(\"hello.jl\")"
   ]
  },
  {
   "cell_type": "code",
   "execution_count": 6,
   "metadata": {
    "collapsed": false
   },
   "outputs": [
    {
     "data": {
      "text/plain": [
       "100"
      ]
     },
     "execution_count": 6,
     "metadata": {},
     "output_type": "execute_result"
    }
   ],
   "source": [
    "sqr(10)"
   ]
  },
  {
   "cell_type": "markdown",
   "metadata": {},
   "source": [
    "## Workflow"
   ]
  },
  {
   "cell_type": "markdown",
   "metadata": {},
   "source": [
    "A suggested workflow:\n",
    "\n",
    "- You can use the terminal (REPL) for \"quick and dirty\", \"back-of-the-envelope\" calculations.\n",
    "\n",
    "\n",
    "- The Notebook is good for interactive exploring and developing small code snippets, as well as presentations.\n",
    "\n",
    "\n",
    "- So start a project by playing around in the Jupyter Notebook.\n",
    "\n",
    "\n",
    "- Once you have defined several functions that work together, extract them from the notebook and put them in a Julia script (`.jl`),\n",
    "which you then `include` in a notebook\n",
    "\n",
    "\n",
    "- Edit Julia source code (`.jl` files) in a Julia-aware editor. One great, modern option is the interactive Juno IDE (Integrated Development Environment), which is based on the Atom editor and included in the JuliaPro distribution.a\n",
    "\n",
    "\n",
    "- Once you have a collection of related scripts, you can create a module and a package; see later in the training."
   ]
  }
 ],
 "metadata": {
  "anaconda-cloud": {},
  "kernelspec": {
   "display_name": "Julia 0.5.0",
   "language": "julia",
   "name": "julia-0.5"
  },
  "language_info": {
   "file_extension": ".jl",
   "mimetype": "application/julia",
   "name": "julia",
   "version": "0.5.0"
  },
  "toc": {
   "nav_menu": {
    "height": "12px",
    "width": "252px"
   },
   "navigate_menu": true,
   "number_sections": true,
   "sideBar": true,
   "threshold": "2",
   "toc_cell": false,
   "toc_section_display": "block",
   "toc_window_display": false
  }
 },
 "nbformat": 4,
 "nbformat_minor": 2
}
