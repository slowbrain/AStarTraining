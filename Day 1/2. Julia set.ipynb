{
 "cells": [
  {
   "cell_type": "markdown",
   "metadata": {},
   "source": [
    "# Exploring the Julia Set in Julia"
   ]
  },
  {
   "cell_type": "code",
   "execution_count": null,
   "metadata": {
    "collapsed": false
   },
   "outputs": [],
   "source": [
    "const maxiter = 100\n",
    "\n",
    "doc\"\"\"\n",
    "Compute the *escape time* of the Julia set at $(z, c)$.  \n",
    "\"\"\"\n",
    "function julia(z::Complex, c::Complex)  # keyword argument\n",
    "    \n",
    "    for n in 1:maxiter\n",
    "        abs2(z) > 4 && return n     # \"short-circuiting\" and = if-then\n",
    "        z = z*z + c\n",
    "    end\n",
    "    \n",
    "    return maxiter\n",
    "end"
   ]
  },
  {
   "cell_type": "code",
   "execution_count": null,
   "metadata": {
    "collapsed": false
   },
   "outputs": [],
   "source": [
    "?Main.julia"
   ]
  },
  {
   "cell_type": "markdown",
   "metadata": {},
   "source": [
    "(Note that we can use Markdown syntax in the docstring, and LaTeX when using `doc\"\"\"...\"\"\"` instead of \"\"\"...\"\"\".)"
   ]
  },
  {
   "cell_type": "code",
   "execution_count": null,
   "metadata": {
    "collapsed": false
   },
   "outputs": [],
   "source": [
    "julia(-0.06 + 0.665im, -0.06 + 0.665im)"
   ]
  },
  {
   "cell_type": "code",
   "execution_count": null,
   "metadata": {
    "collapsed": false
   },
   "outputs": [],
   "source": [
    "@code_native julia(-0.02 + 0.7im, -0.06 + 0.665im)"
   ]
  },
  {
   "cell_type": "code",
   "execution_count": null,
   "metadata": {
    "collapsed": false
   },
   "outputs": [],
   "source": [
    "[julia(r + i*im, -0.06 + 0.665im) for r in -1:0.002:1, i in -0.5:0.002:0.5]"
   ]
  },
  {
   "cell_type": "markdown",
   "metadata": {},
   "source": [
    "## Adding some colour"
   ]
  },
  {
   "cell_type": "code",
   "execution_count": null,
   "metadata": {
    "collapsed": false
   },
   "outputs": [],
   "source": [
    "# Install required packages:\n",
    "# Pkg.add(\"Images\")\n",
    "# Pkg.add(\"ImageMagick\")\n",
    "# Pkg.add(\"QuartzImageIO\")"
   ]
  },
  {
   "cell_type": "code",
   "execution_count": null,
   "metadata": {
    "collapsed": false
   },
   "outputs": [],
   "source": [
    "using Colors, Images, ImageMagick"
   ]
  },
  {
   "cell_type": "code",
   "execution_count": null,
   "metadata": {
    "collapsed": false
   },
   "outputs": [],
   "source": [
    "const cmap = colormap(\"RdBu\", 100)"
   ]
  },
  {
   "cell_type": "code",
   "execution_count": null,
   "metadata": {
    "collapsed": false
   },
   "outputs": [],
   "source": [
    "?colormap"
   ]
  },
  {
   "cell_type": "code",
   "execution_count": null,
   "metadata": {
    "collapsed": false
   },
   "outputs": [],
   "source": [
    "# const cmap = convert(Vector{RGB{U8}}, colormap(\"RdBu\", 100))"
   ]
  },
  {
   "cell_type": "code",
   "execution_count": null,
   "metadata": {
    "collapsed": false
   },
   "outputs": [],
   "source": [
    "cmap[1]"
   ]
  },
  {
   "cell_type": "code",
   "execution_count": null,
   "metadata": {
    "collapsed": false
   },
   "outputs": [],
   "source": [
    "typeof(cmap)"
   ]
  },
  {
   "cell_type": "code",
   "execution_count": null,
   "metadata": {
    "collapsed": false
   },
   "outputs": [],
   "source": [
    "typeof(cmap[1])"
   ]
  },
  {
   "cell_type": "code",
   "execution_count": null,
   "metadata": {
    "collapsed": false
   },
   "outputs": [],
   "source": [
    "?RGB"
   ]
  },
  {
   "cell_type": "code",
   "execution_count": null,
   "metadata": {
    "collapsed": false
   },
   "outputs": [],
   "source": [
    "julia(-1.5+0.05im, -0.07+0.66im)"
   ]
  },
  {
   "cell_type": "code",
   "execution_count": null,
   "metadata": {
    "collapsed": false
   },
   "outputs": [],
   "source": [
    "domain = -1.5 : 0.005 : 1.5\n",
    "\n",
    "data = [julia(r + i*im, -0.07 + 0.66im) for r in domain, i in domain]"
   ]
  },
  {
   "cell_type": "code",
   "execution_count": null,
   "metadata": {
    "collapsed": false
   },
   "outputs": [],
   "source": [
    "data[100:200, 100:200]"
   ]
  },
  {
   "cell_type": "code",
   "execution_count": null,
   "metadata": {
    "collapsed": false
   },
   "outputs": [],
   "source": [
    "Image(cmap[data])"
   ]
  },
  {
   "cell_type": "code",
   "execution_count": null,
   "metadata": {
    "collapsed": false
   },
   "outputs": [],
   "source": [
    "domain = -1.5:0.005:1.5\n",
    "\n",
    "data = [julia(r + i*im, r + i*im) for r in domain-0.5, i in domain]\n",
    "\n",
    "Image(cmap[data])"
   ]
  },
  {
   "cell_type": "code",
   "execution_count": null,
   "metadata": {
    "collapsed": false
   },
   "outputs": [],
   "source": [
    "using Interact"
   ]
  },
  {
   "cell_type": "code",
   "execution_count": null,
   "metadata": {
    "collapsed": false
   },
   "outputs": [],
   "source": [
    "\n",
    "@manipulate for r′ = -0.1:0.01:0.1, i′ = 0.65:0.01:0.85\n",
    "    Image(cmap[[julia(r + i*im, r′ + i′*im) for r=-1.5:.005:1.5, i=-1:.005:1]])\n",
    "end"
   ]
  },
  {
   "cell_type": "code",
   "execution_count": null,
   "metadata": {
    "collapsed": false
   },
   "outputs": [],
   "source": [
    "# let R = -1.5:.005:1.5, I = -1:.005:1\n",
    "#     data = Array{RGB{U8}}(length(R), length(I))\n",
    "#     img = Image(data)\n",
    "    \n",
    "#     @manipulate for r′ = -0.1:0.01:0.1, i′ = 0.65:0.01:0.85\n",
    "#         for (j,r) in enumerate(R), (k,i) in enumerate(I)\n",
    "#             data[j,k] = cmap[julia(r + i*im, r′ + i′*im)]\n",
    "#         end\n",
    "        \n",
    "#         img\n",
    "#     end\n",
    "# end"
   ]
  },
  {
   "cell_type": "markdown",
   "metadata": {},
   "source": [
    "## Animation"
   ]
  },
  {
   "cell_type": "code",
   "execution_count": null,
   "metadata": {
    "collapsed": false
   },
   "outputs": [],
   "source": [
    "@manipulate for r′ = -0.1:0.01:0.1, i′ = map(_->0.65+0.5*sin(time())*0.25, fps(10))\n",
    "    Image([cmap[julia(r + i*im, r′ + i′*im)] for r=-1.5:.005:1.5, i=-1:.005:1])\n",
    "    end"
   ]
  }
 ],
 "metadata": {
  "anaconda-cloud": {},
  "kernelspec": {
   "display_name": "Julia 0.5.0",
   "language": "julia",
   "name": "julia-0.5"
  },
  "language_info": {
   "file_extension": ".jl",
   "mimetype": "application/julia",
   "name": "julia",
   "version": "0.5.0"
  },
  "toc": {
   "nav_menu": {
    "height": "30px",
    "width": "252px"
   },
   "navigate_menu": true,
   "number_sections": true,
   "sideBar": true,
   "threshold": "2",
   "toc_cell": false,
   "toc_section_display": "block",
   "toc_window_display": false
  }
 },
 "nbformat": 4,
 "nbformat_minor": 0
}
