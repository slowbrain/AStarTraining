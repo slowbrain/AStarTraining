{
 "cells": [
  {
   "cell_type": "markdown",
   "metadata": {},
   "source": [
    "# The Newton method"
   ]
  },
  {
   "cell_type": "markdown",
   "metadata": {},
   "source": [
    "The **Newton method** finds roots (zeros) of a nonlinear function $f$ of one variable, i.e. points $x^*$ such that $f(x^*) = 0$. It is an *iterative method*: we start with an arbitrary initial guess $x_0$, and calculate in sequence $x_1$, $x_2$, ... using the following formula:\n",
    "\n",
    "$$ x_{n+1} = x_n - \\frac{f(x_n)}{f'(x_n)}, $$\n",
    "\n",
    "where $f'$ is the derivative of the function $f$."
   ]
  },
  {
   "cell_type": "markdown",
   "metadata": {},
   "source": [
    "## Let's implement the Newton method"
   ]
  },
  {
   "cell_type": "markdown",
   "metadata": {},
   "source": [
    "[1] Implement the Newton method to find roots of a function $f$. Use it to find the two square roots of $2$, i.e. $x$ such that $x^2 -2 = 0$. (You may give the derivative by hand.)\n",
    "\n",
    "Note that you can define a variable with the name $f'$ by writing `f\\prime<TAB>`."
   ]
  },
  {
   "cell_type": "markdown",
   "metadata": {},
   "source": [
    "[2] Use the `ForwardDiff` package to calculate the derivative, using `ForwardDiff.derivative`. \n",
    "\n",
    "[3] Make a function `newton` that takes a function `f` and a starting point `x_0` as arguments, and finds a root.\n",
    "\n",
    "Note that functions are **first-class objects** in Julia, i.e. you can use functions anywhere you would use other types of variables. \n",
    "\n",
    "[4] Use `BigFloat` to find these roots with high precision.\n",
    "\n",
    "[5] Make a function that tries to find all roots in a given interval. Find roots of `sin` in the interval $[-10, 10]$. \n",
    "\n",
    "Optional: Don't repeat roots if they are sufficiently close together."
   ]
  },
  {
   "cell_type": "markdown",
   "metadata": {},
   "source": [
    "## Into the complex plane"
   ]
  },
  {
   "cell_type": "markdown",
   "metadata": {},
   "source": [
    "[6] Use the Newton method to find complex cube roots of $1$, i.e. complex numbers $z$ such that $z^3 = 1$. Starting from a grid of initial conditions $z_0 \\in \\mathbb{C}$, determine which of the roots each reaches. (Put a bound on the maximum number of iterations allowed.) Store the results in a matrix and plot it.\n",
    "\n",
    "[7] Experiment with different complex functions, e.g. other polynomials and `sin`, and with `Interact`.\n",
    "\n",
    "[8] (Optional): To understand what the Newton method does, plot the sequence of points $x_n$ for the real (non-complex) Newton method, together with the points $(x_n, f(x_n))$ and corresponding tangent lines at those points."
   ]
  }
 ],
 "metadata": {
  "kernelspec": {
   "display_name": "Julia 0.5.0",
   "language": "julia",
   "name": "julia-0.5"
  },
  "language_info": {
   "file_extension": ".jl",
   "mimetype": "application/julia",
   "name": "julia",
   "version": "0.5.0"
  },
  "toc": {
   "nav_menu": {
    "height": "30px",
    "width": "252px"
   },
   "navigate_menu": true,
   "number_sections": true,
   "sideBar": true,
   "threshold": "2",
   "toc_cell": false,
   "toc_section_display": "block",
   "toc_window_display": false
  }
 },
 "nbformat": 4,
 "nbformat_minor": 2
}
