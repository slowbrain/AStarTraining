{
 "cells": [
  {
   "cell_type": "code",
   "execution_count": 1,
   "metadata": {
    "collapsed": false
   },
   "outputs": [],
   "source": [
    "# Pkg.add(\"DistributedArrays\")\n",
    "# Pkg.add(\"BenchmarkTools\")"
   ]
  },
  {
   "cell_type": "code",
   "execution_count": 1,
   "metadata": {
    "collapsed": false
   },
   "outputs": [],
   "source": [
    "using BenchmarkTools, DistributedArrays"
   ]
  },
  {
   "cell_type": "code",
   "execution_count": 2,
   "metadata": {
    "collapsed": false
   },
   "outputs": [
    {
     "name": "stdout",
     "output_type": "stream",
     "text": [
      "function add_workers(nproc)\n",
      "    mfile = \"/home/juser/.machines\"\n",
      "    mlines = split(readstring(mfile))\n",
      "    mlines = mlines[1:min(nproc, length(mlines))]\n",
      "    addprocs(mlines; sshflags=\"-o StrictHostKeyChecking=no\", exename=\"julia\")\n",
      "end\n"
     ]
    }
   ],
   "source": [
    "; less .machines.jl"
   ]
  },
  {
   "cell_type": "code",
   "execution_count": 13,
   "metadata": {
    "collapsed": false
   },
   "outputs": [
    {
     "name": "stdout",
     "output_type": "stream",
     "text": [
      "juser@10.100.40.15\n",
      "juser@10.100.40.15\n",
      "juser@10.100.40.15\n",
      "juser@10.100.40.15\n",
      "juser@10.100.40.15\n",
      "juser@10.100.40.15\n",
      "juser@10.100.40.15\n",
      "juser@10.100.40.15\n",
      "juser@10.100.40.15\n",
      "juser@10.100.40.15"
     ]
    }
   ],
   "source": [
    "; less ~/.machines"
   ]
  },
  {
   "cell_type": "code",
   "execution_count": 17,
   "metadata": {
    "collapsed": false
   },
   "outputs": [
    {
     "name": "stderr",
     "output_type": "stream",
     "text": [
      "WARNING: Method definition add_workers(Any) in module Main at /home/juser/.machines.jl:2 overwritten at /home/juser/.machines.jl:2.\n"
     ]
    },
    {
     "data": {
      "text/plain": [
       "11-element Array{Int64,1}:\n",
       "  1\n",
       "  5\n",
       "  6\n",
       "  7\n",
       "  8\n",
       "  9\n",
       " 10\n",
       " 11\n",
       " 12\n",
       " 13\n",
       " 14"
      ]
     },
     "metadata": {},
     "output_type": "display_data"
    },
    {
     "name": "stdout",
     "output_type": "stream",
     "text": [
      "Using 16 workers\n"
     ]
    },
    {
     "name": "stderr",
     "output_type": "stream",
     "text": [
      "WARNING: Method definition run(Any) in module Main at In[3]:21 overwritten at In[17]:21.\n",
      "WARNING: Method definition run_all() in module Main at In[3]:40 overwritten at In[17]:40.\n"
     ]
    },
    {
     "name": "stdout",
     "output_type": "stream",
     "text": [
      "N:1048576; serial:0.000597686; parallel:0.306071148; ratio:0.0019527681844745458\n",
      "N:2097152; serial:0.001331303; parallel:0.000918487; ratio:1.4494521969282093\n",
      "N:4194304; serial:0.002871671; parallel:0.001419987; ratio:2.0223220353425773\n",
      "N:8388608; serial:0.005508586; parallel:0.00229213; ratio:2.4032607225593665\n",
      "N:16777216; serial:0.011351432; parallel:0.003870686; ratio:2.9326667159258073\n",
      "N:33554432; serial:0.022333273; parallel:0.006160412; ratio:3.6252888605502362\n",
      "N:67108864; serial:0.044855413; parallel:0.011226387; ratio:3.9955341821015073\n"
     ]
    },
    {
     "data": {
      "text/plain": [
       "([1048576,2097152,4194304,8388608,16777216,33554432,67108864],Any[(0.000597686,0.306071,0.00195277),(0.0013313,0.000918487,1.44945),(0.00287167,0.00141999,2.02232),(0.00550859,0.00229213,2.40326),(0.0113514,0.00387069,2.93267),(0.0223333,0.00616041,3.62529),(0.0448554,0.0112264,3.99553)])"
      ]
     },
     "execution_count": 17,
     "metadata": {},
     "output_type": "execute_result"
    }
   ],
   "source": [
    "rmprocs(workers())\n",
    "\n",
    "numprocs = 3\n",
    "# try\n",
    "#     numprocs = parse(Int, ARGS[1])\n",
    "# end\n",
    "\n",
    "include(\".machines.jl\")\n",
    "add_workers(numprocs)\n",
    "\n",
    "display(procs())\n",
    "println(\"Using $numprocs workers\")\n",
    "\n",
    "@everywhere using DistributedArrays\n",
    "@everywhere using BenchmarkTools\n",
    "\n",
    "import Base.run\n",
    "\n",
    "function run(N)\n",
    "    \n",
    "    a = rand(N)\n",
    "    da = distribute(a)\n",
    "    da = drand(N)\n",
    "\n",
    "    #serial_bench = @benchmark sum($a)\n",
    "    #parallel_bench = @benchmark sum($da)\n",
    "    \n",
    "    serial_median   = @elapsed sum(a)\n",
    "    parallel_median = @elapsed sum(da)\n",
    "\n",
    "    #serial_median = median(serial_bench.times)\n",
    "    #parallel_median = median(parallel_bench.times)\n",
    "\n",
    "    return (serial_median, parallel_median, \n",
    "                serial_median / parallel_median)\n",
    "#    return parallel_median\n",
    "end\n",
    "\n",
    "function run_all()\n",
    "    Ns = Int[]\n",
    "    all_data = []\n",
    "\n",
    "    \n",
    "    N = 2^20\n",
    "    \n",
    "    while N < 10^8\n",
    "        data = run(N)\n",
    "\n",
    "        push!(Ns, N)\n",
    "        push!(all_data, data)\n",
    "\n",
    "        println(\"N:\", N, \"; serial:\", data[1],\n",
    "        \"; parallel:\", data[2], \"; ratio:\", data[3])\n",
    "\n",
    "        N *= 2\n",
    "    end\n",
    "\n",
    "    return (Ns, all_data)\n",
    "end\n",
    "\n",
    "Ns, all_data = run_all()"
   ]
  },
  {
   "cell_type": "code",
   "execution_count": 23,
   "metadata": {
    "collapsed": false
   },
   "outputs": [
    {
     "data": {
      "text/plain": [
       "(0.006689697,0.003215477,2.0804679989936172)"
      ]
     },
     "execution_count": 23,
     "metadata": {},
     "output_type": "execute_result"
    }
   ],
   "source": [
    "run(10^7)"
   ]
  },
  {
   "cell_type": "code",
   "execution_count": 15,
   "metadata": {
    "collapsed": false
   },
   "outputs": [
    {
     "name": "stderr",
     "output_type": "stream",
     "text": [
      "WARNING: Method definition run2(Any) in module Main at In[13]:5 overwritten at In[15]:5.\n"
     ]
    },
    {
     "data": {
      "text/plain": [
       "run2 (generic function with 1 method)"
      ]
     },
     "execution_count": 15,
     "metadata": {},
     "output_type": "execute_result"
    }
   ],
   "source": [
    "function run2(N)\n",
    "    \n",
    "    # a = rand(N)\n",
    "    # da = distribute(a)\n",
    "    da = drand(N)\n",
    "\n",
    "    #serial_bench = @benchmark sum($a)\n",
    "    #parallel_bench = @benchmark sum($da)\n",
    "    \n",
    "    #serial_median   = @elapsed sum(a)\n",
    "    bench = @benchmark sum($da)\n",
    "    \n",
    "    parallel_median = minimum(bench.times) / N\n",
    "\n",
    "    #serial_median = median(serial_bench.times)\n",
    "    #parallel_median = median(parallel_bench.times)\n",
    "    \n",
    "    #return (serial_median, parallel_median, \n",
    "     #           serial_median / parallel_median)\n",
    "#    return parallel_median\n",
    "end\n"
   ]
  },
  {
   "cell_type": "code",
   "execution_count": 16,
   "metadata": {
    "collapsed": false
   },
   "outputs": [
    {
     "data": {
      "text/plain": [
       "4-element Array{Float64,1}:\n",
       " 0.307297\n",
       " 0.217013\n",
       " 0.200168\n",
       " 0.247958"
      ]
     },
     "execution_count": 16,
     "metadata": {},
     "output_type": "execute_result"
    }
   ],
   "source": [
    "[run2(2^exponent) for exponent in 20:23]"
   ]
  },
  {
   "cell_type": "code",
   "execution_count": 40,
   "metadata": {
    "collapsed": false
   },
   "outputs": [
    {
     "name": "stderr",
     "output_type": "stream",
     "text": [
      "WARNING: Method definition runprod(Any) in module Main at In[32]:5 overwritten at In[40]:5.\n"
     ]
    },
    {
     "data": {
      "text/plain": [
       "runprod (generic function with 1 method)"
      ]
     },
     "execution_count": 40,
     "metadata": {},
     "output_type": "execute_result"
    }
   ],
   "source": [
    "function runprod(N)\n",
    "    \n",
    "    # a = rand(N)\n",
    "    # da = distribute(a)\n",
    "    a = [rand(100,100) for i in 1:N]\n",
    "    da = distribute(a)\n",
    "\n",
    "    serial_median = @elapsed prod(a)\n",
    "    parallel_median = @elapsed prod(da)\n",
    "    \n",
    "    #serial_median   = @elapsed sum(a)\n",
    "    #bench = @elapsed prod(da)\n",
    "    \n",
    "    #parallel_median = minimum(bench.times) / N\n",
    "    #parallel_median = bench / N\n",
    "\n",
    "    #serial_median = median(serial_bench.times)\n",
    "    #parallel_median = median(parallel_bench.times)\n",
    "    \n",
    "    return Dict(\"serial\"=>serial_median, \"parallel\"=>parallel_median, \n",
    "    \"s/p\" => serial_median / parallel_median)\n",
    "#    return parallel_median\n",
    "end\n"
   ]
  },
  {
   "cell_type": "code",
   "execution_count": 41,
   "metadata": {
    "collapsed": false
   },
   "outputs": [
    {
     "data": {
      "text/plain": [
       "Dict{String,Float64} with 3 entries:\n",
       "  \"parallel\" => 0.00103884\n",
       "  \"s/p\"      => 0.725752\n",
       "  \"serial\"   => 0.000753939"
      ]
     },
     "execution_count": 41,
     "metadata": {},
     "output_type": "execute_result"
    }
   ],
   "source": [
    "runprod(10)"
   ]
  },
  {
   "cell_type": "code",
   "execution_count": 34,
   "metadata": {
    "collapsed": false
   },
   "outputs": [
    {
     "name": "stderr",
     "output_type": "stream",
     "text": [
      "WARNING: Method definition add_workers(Any) in module Main at /home/juser/.machines.jl:2 overwritten at /home/juser/.machines.jl:2.\n"
     ]
    },
    {
     "data": {
      "text/plain": [
       "3-element Array{Int64,1}:\n",
       " 15\n",
       " 16\n",
       " 17"
      ]
     },
     "execution_count": 34,
     "metadata": {},
     "output_type": "execute_result"
    }
   ],
   "source": [
    "rmprocs(workers())\n",
    "\n",
    "numprocs = 3\n",
    "# try\n",
    "#     numprocs = parse(Int, ARGS[1])\n",
    "# end\n",
    "\n",
    "include(\".machines.jl\")\n",
    "add_workers(numprocs)\n",
    "\n",
    "\n"
   ]
  },
  {
   "cell_type": "code",
   "execution_count": 35,
   "metadata": {
    "collapsed": false
   },
   "outputs": [
    {
     "data": {
      "text/plain": [
       "3-element Array{Int64,1}:\n",
       " 15\n",
       " 16\n",
       " 17"
      ]
     },
     "execution_count": 35,
     "metadata": {},
     "output_type": "execute_result"
    }
   ],
   "source": [
    "workers()"
   ]
  },
  {
   "cell_type": "code",
   "execution_count": 36,
   "metadata": {
    "collapsed": false
   },
   "outputs": [
    {
     "ename": "LoadError",
     "evalue": "On worker 15:\nUndefVarError: DistributedArrays not defined\n in deserialize at ./serialize.jl:602\n in handle_deserialize at ./serialize.jl:581\n in deserialize at ./serialize.jl:541\n in deserialize_datatype at ./serialize.jl:822\n in handle_deserialize at ./serialize.jl:571\n in deserialize_msg at ./multi.jl:120\n in message_handler_loop at ./multi.jl:1317\n in process_tcp_streams at ./multi.jl:1276\n in #618 at ./event.jl:68\n in #remotecall_fetch#606(::Array{Any,1}, ::Function, ::Function, ::Base.Worker, ::Function, ::Vararg{Any,N}) at ./multi.jl:1070\n in remotecall_fetch(::Function, ::Base.Worker, ::Function, ::Vararg{Any,N}) at ./multi.jl:1062\n in #remotecall_fetch#609(::Array{Any,1}, ::Function, ::Function, ::Int64, ::Function, ::Vararg{Any,N}) at ./multi.jl:1080\n in remotecall_fetch(::Function, ::Int64, ::Function, ::Vararg{Any,N}) at ./multi.jl:1080\n in macro expansion at /home/juser/.julia/v0.5/DistributedArrays/src/core.jl:89 [inlined]\n in (::DistributedArrays.##2#4{Tuple{Int64,Int64},DistributedArrays.##57#59,Tuple{Int64},Array{Int64,1},Array{Tuple{UnitRange{Int64}},1},Array{Array{Int64,1},1},Channel{Any}})() at ./task.jl:360\n\n...and 2 other exceptions.\n",
     "output_type": "error",
     "traceback": [
      "On worker 15:\nUndefVarError: DistributedArrays not defined\n in deserialize at ./serialize.jl:602\n in handle_deserialize at ./serialize.jl:581\n in deserialize at ./serialize.jl:541\n in deserialize_datatype at ./serialize.jl:822\n in handle_deserialize at ./serialize.jl:571\n in deserialize_msg at ./multi.jl:120\n in message_handler_loop at ./multi.jl:1317\n in process_tcp_streams at ./multi.jl:1276\n in #618 at ./event.jl:68\n in #remotecall_fetch#606(::Array{Any,1}, ::Function, ::Function, ::Base.Worker, ::Function, ::Vararg{Any,N}) at ./multi.jl:1070\n in remotecall_fetch(::Function, ::Base.Worker, ::Function, ::Vararg{Any,N}) at ./multi.jl:1062\n in #remotecall_fetch#609(::Array{Any,1}, ::Function, ::Function, ::Int64, ::Function, ::Vararg{Any,N}) at ./multi.jl:1080\n in remotecall_fetch(::Function, ::Int64, ::Function, ::Vararg{Any,N}) at ./multi.jl:1080\n in macro expansion at /home/juser/.julia/v0.5/DistributedArrays/src/core.jl:89 [inlined]\n in (::DistributedArrays.##2#4{Tuple{Int64,Int64},DistributedArrays.##57#59,Tuple{Int64},Array{Int64,1},Array{Tuple{UnitRange{Int64}},1},Array{Array{Int64,1},1},Channel{Any}})() at ./task.jl:360\n\n...and 2 other exceptions.\n",
      "",
      " in sync_end() at ./task.jl:311",
      " in macro expansion at ./task.jl:327 [inlined]",
      " in DistributedArrays.DArray{T,N,A}(::Tuple{Int64,Int64}, ::Function, ::Tuple{Int64}, ::Array{Int64,1}, ::Array{Tuple{UnitRange{Int64}},1}, ::Array{Array{Int64,1},1}) at /home/juser/.julia/v0.5/DistributedArrays/src/core.jl:84",
      " in DistributedArrays.DArray{T,N,A}(::Function, ::Tuple{Int64}, ::Array{Int64,1}, ::Array{Int64,1}) at /home/juser/.julia/v0.5/DistributedArrays/src/core.jl:124",
      " in #distribute#55(::Array{Int64,1}, ::Array{Int64,1}, ::Function, ::Array{Array{Float64,2},1}) at /home/juser/.julia/v0.5/DistributedArrays/src/core.jl:453",
      " in distribute(::Array{Array{Float64,2},1}) at /home/juser/.julia/v0.5/DistributedArrays/src/core.jl:446",
      " in runprod(::Int64) at ./In[32]:6"
     ]
    }
   ],
   "source": [
    "runprod(10)"
   ]
  },
  {
   "cell_type": "code",
   "execution_count": 37,
   "metadata": {
    "collapsed": false
   },
   "outputs": [
    {
     "data": {
      "text/plain": [
       "setup_my_machines_please (generic function with 1 method)"
      ]
     },
     "execution_count": 37,
     "metadata": {},
     "output_type": "execute_result"
    }
   ],
   "source": [
    "function setup_my_machines_please(N)\n",
    "    rmprocs(workers())\n",
    "\n",
    "    numprocs = N\n",
    "    # try\n",
    "    #     numprocs = parse(Int, ARGS[1])\n",
    "    # end\n",
    "\n",
    "    include(\".machines.jl\")\n",
    "    add_workers(numprocs)\n",
    "\n",
    "    display(procs())\n",
    "    println(\"Using $numprocs workers\")\n",
    "\n",
    "    @everywhere using DistributedArrays\n",
    "    @everywhere using BenchmarkTools\n",
    "end"
   ]
  },
  {
   "cell_type": "code",
   "execution_count": 38,
   "metadata": {
    "collapsed": false
   },
   "outputs": [
    {
     "name": "stderr",
     "output_type": "stream",
     "text": [
      "WARNING: Method definition add_workers(Any) in module Main at /home/juser/.machines.jl:2 overwritten at /home/juser/.machines.jl:2.\n"
     ]
    },
    {
     "data": {
      "text/plain": [
       "4-element Array{Int64,1}:\n",
       "  1\n",
       " 18\n",
       " 19\n",
       " 20"
      ]
     },
     "metadata": {},
     "output_type": "display_data"
    },
    {
     "name": "stdout",
     "output_type": "stream",
     "text": [
      "Using 3 workers\n"
     ]
    }
   ],
   "source": [
    "setup_my_machines_please(3)"
   ]
  },
  {
   "cell_type": "code",
   "execution_count": 42,
   "metadata": {
    "collapsed": false
   },
   "outputs": [
    {
     "data": {
      "text/plain": [
       "Dict{String,Float64} with 3 entries:\n",
       "  \"parallel\" => 0.00104227\n",
       "  \"s/p\"      => 0.8285\n",
       "  \"serial\"   => 0.000863522"
      ]
     },
     "execution_count": 42,
     "metadata": {},
     "output_type": "execute_result"
    }
   ],
   "source": [
    "runprod(10)"
   ]
  },
  {
   "cell_type": "code",
   "execution_count": null,
   "metadata": {
    "collapsed": true
   },
   "outputs": [],
   "source": [
    "runprod(10)"
   ]
  },
  {
   "cell_type": "code",
   "execution_count": 43,
   "metadata": {
    "collapsed": false
   },
   "outputs": [
    {
     "data": {
      "text/plain": [
       "runprod (generic function with 2 methods)"
      ]
     },
     "execution_count": 43,
     "metadata": {},
     "output_type": "execute_result"
    }
   ],
   "source": [
    "function runprod(matrix_size, N)\n",
    "    \n",
    "    # a = rand(N)\n",
    "    # da = distribute(a)\n",
    "    a = [rand(matrix_size, matrix_size) for i in 1:N]\n",
    "    da = distribute(a)\n",
    "\n",
    "    serial_median = @elapsed prod(a)\n",
    "    parallel_median = @elapsed prod(da)\n",
    "    \n",
    "    #serial_median   = @elapsed sum(a)\n",
    "    #bench = @elapsed prod(da)\n",
    "    \n",
    "    #parallel_median = minimum(bench.times) / N\n",
    "    #parallel_median = bench / N\n",
    "\n",
    "    #serial_median = median(serial_bench.times)\n",
    "    #parallel_median = median(parallel_bench.times)\n",
    "    \n",
    "    return Dict(\"serial\"=>serial_median, \"parallel\"=>parallel_median, \n",
    "    \"s/p\" => serial_median / parallel_median)\n",
    "#    return parallel_median\n",
    "end\n"
   ]
  },
  {
   "cell_type": "code",
   "execution_count": 44,
   "metadata": {
    "collapsed": false
   },
   "outputs": [
    {
     "data": {
      "text/plain": [
       "Dict{String,Float64} with 3 entries:\n",
       "  \"parallel\" => 0.00127033\n",
       "  \"s/p\"      => 0.583753\n",
       "  \"serial\"   => 0.000741557"
      ]
     },
     "execution_count": 44,
     "metadata": {},
     "output_type": "execute_result"
    }
   ],
   "source": [
    "runprod(100, 10)"
   ]
  },
  {
   "cell_type": "code",
   "execution_count": 45,
   "metadata": {
    "collapsed": false
   },
   "outputs": [
    {
     "data": {
      "text/plain": [
       "Dict{String,Float64} with 3 entries:\n",
       "  \"parallel\" => 0.00435397\n",
       "  \"s/p\"      => 1.27222\n",
       "  \"serial\"   => 0.00553919"
      ]
     },
     "execution_count": 45,
     "metadata": {},
     "output_type": "execute_result"
    }
   ],
   "source": [
    "runprod(200, 10)"
   ]
  },
  {
   "cell_type": "code",
   "execution_count": 46,
   "metadata": {
    "collapsed": false
   },
   "outputs": [
    {
     "data": {
      "text/plain": [
       "Dict{String,Float64} with 3 entries:\n",
       "  \"parallel\" => 0.0242881\n",
       "  \"s/p\"      => 2.05108\n",
       "  \"serial\"   => 0.0498168"
      ]
     },
     "execution_count": 46,
     "metadata": {},
     "output_type": "execute_result"
    }
   ],
   "source": [
    "runprod(400, 10)"
   ]
  },
  {
   "cell_type": "code",
   "execution_count": 49,
   "metadata": {
    "collapsed": false
   },
   "outputs": [
    {
     "data": {
      "text/plain": [
       "Dict{String,Float64} with 3 entries:\n",
       "  \"parallel\" => 1.07692\n",
       "  \"s/p\"      => 2.58291\n",
       "  \"serial\"   => 2.78159"
      ]
     },
     "execution_count": 49,
     "metadata": {},
     "output_type": "execute_result"
    }
   ],
   "source": [
    "runprod(800, 100)"
   ]
  },
  {
   "cell_type": "code",
   "execution_count": 50,
   "metadata": {
    "collapsed": false
   },
   "outputs": [
    {
     "data": {
      "text/plain": [
       "Dict{String,Float64} with 3 entries:\n",
       "  \"parallel\" => 7.47475\n",
       "  \"s/p\"      => 2.83346\n",
       "  \"serial\"   => 21.1794"
      ]
     },
     "execution_count": 50,
     "metadata": {},
     "output_type": "execute_result"
    }
   ],
   "source": [
    "runprod(1600, 100)"
   ]
  },
  {
   "cell_type": "code",
   "execution_count": 51,
   "metadata": {
    "collapsed": false
   },
   "outputs": [
    {
     "name": "stderr",
     "output_type": "stream",
     "text": [
      "WARNING: Method definition add_workers(Any) in module Main at /home/juser/.machines.jl:2 overwritten at /home/juser/.machines.jl:2.\n"
     ]
    },
    {
     "data": {
      "text/plain": [
       "5-element Array{Int64,1}:\n",
       "  1\n",
       " 21\n",
       " 22\n",
       " 23\n",
       " 24"
      ]
     },
     "metadata": {},
     "output_type": "display_data"
    },
    {
     "name": "stdout",
     "output_type": "stream",
     "text": [
      "Using 4 workers\n"
     ]
    }
   ],
   "source": [
    "setup_my_machines_please(4)"
   ]
  },
  {
   "cell_type": "code",
   "execution_count": 52,
   "metadata": {
    "collapsed": false
   },
   "outputs": [
    {
     "data": {
      "text/plain": [
       "Dict{String,Float64} with 3 entries:\n",
       "  \"parallel\" => 1.66087\n",
       "  \"s/p\"      => 1.73844\n",
       "  \"serial\"   => 2.88732"
      ]
     },
     "execution_count": 52,
     "metadata": {},
     "output_type": "execute_result"
    }
   ],
   "source": [
    "runprod(800, 100)"
   ]
  },
  {
   "cell_type": "code",
   "execution_count": null,
   "metadata": {
    "collapsed": true
   },
   "outputs": [],
   "source": [
    "runprod(1600, 100)"
   ]
  },
  {
   "cell_type": "code",
   "execution_count": 2,
   "metadata": {
    "collapsed": true
   },
   "outputs": [],
   "source": [
    "using DistributedArrays"
   ]
  },
  {
   "cell_type": "code",
   "execution_count": null,
   "metadata": {
    "collapsed": true
   },
   "outputs": [],
   "source": [
    "@DArray"
   ]
  },
  {
   "cell_type": "code",
   "execution_count": 16,
   "metadata": {
    "collapsed": false
   },
   "outputs": [
    {
     "name": "stderr",
     "output_type": "stream",
     "text": [
      "WARNING: Method definition runprod_parallel(Any, Any) in module Main at In[14]:6 overwritten at In[16]:6.\n"
     ]
    },
    {
     "data": {
      "text/plain": [
       "runprod_parallel (generic function with 1 method)"
      ]
     },
     "execution_count": 16,
     "metadata": {},
     "output_type": "execute_result"
    }
   ],
   "source": [
    "function runprod_parallel(matrix_size, N)\n",
    "    \n",
    "    # a = rand(N)\n",
    "    # da = distribute(a)\n",
    "    #a = [rand(matrix_size, matrix_size) for i in 1:N]\n",
    "    da = @DArray [rand(matrix_size, matrix_size) for i in 1:N]\n",
    "\n",
    "    #serial_median = @elapsed prod(a)\n",
    "    parallel_median = @elapsed prod(da)\n",
    "    \n",
    "    #serial_median   = @elapsed sum(a)\n",
    "    #bench = @elapsed prod(da)\n",
    "    \n",
    "    #parallel_median = minimum(bench.times) / N\n",
    "    #parallel_median = bench / N\n",
    "\n",
    "    #serial_median = median(serial_bench.times)\n",
    "    #parallel_median = median(parallel_bench.times)\n",
    "    \n",
    "    return Dict(\"matrix_size\"=>matrix_size, \"N\"=>N, \"parallel\"=>parallel_median)\n",
    "#    return parallel_median\n",
    "end\n"
   ]
  },
  {
   "cell_type": "code",
   "execution_count": null,
   "metadata": {
    "collapsed": false
   },
   "outputs": [],
   "source": [
    "data_dicts = [runprod_parallel(matrix_size, 10) for matrix_size in 2.^(5:12)]"
   ]
  },
  {
   "cell_type": "code",
   "execution_count": 1,
   "metadata": {
    "collapsed": false
   },
   "outputs": [
    {
     "ename": "LoadError",
     "evalue": "UndefVarError: data_dicts not defined",
     "output_type": "error",
     "traceback": [
      "UndefVarError: data_dicts not defined",
      "",
      " in anonymous at ./<missing>:?"
     ]
    }
   ],
   "source": [
    "for data in data_dicts\n",
    "    matrix_size = data[\"matrix_size\"]\n",
    "    time = data[\"parallel\"]\n",
    "    N = data[\"N\"]\n",
    "    \n",
    "    println(matrix_size, \"\\t\", time, \"\\t\", time/(2matrix_size^3 * N))\n",
    "end"
   ]
  },
  {
   "cell_type": "markdown",
   "metadata": {},
   "source": [
    "## Dictionaries"
   ]
  },
  {
   "cell_type": "markdown",
   "metadata": {},
   "source": [
    "\"hash table\" / \"associative array\", contructed out of \"pairs\""
   ]
  },
  {
   "cell_type": "code",
   "execution_count": 3,
   "metadata": {
    "collapsed": false
   },
   "outputs": [
    {
     "data": {
      "text/plain": [
       "3=>\"hello\""
      ]
     },
     "execution_count": 3,
     "metadata": {},
     "output_type": "execute_result"
    }
   ],
   "source": [
    "p = 3 => \"hello\""
   ]
  },
  {
   "cell_type": "code",
   "execution_count": 4,
   "metadata": {
    "collapsed": false
   },
   "outputs": [
    {
     "data": {
      "text/plain": [
       "Pair{Int64,String}"
      ]
     },
     "execution_count": 4,
     "metadata": {},
     "output_type": "execute_result"
    }
   ],
   "source": [
    "typeof(p)"
   ]
  },
  {
   "cell_type": "code",
   "execution_count": 5,
   "metadata": {
    "collapsed": false
   },
   "outputs": [
    {
     "data": {
      "text/plain": [
       "Dict{Int64,String} with 2 entries:\n",
       "  3 => \"hello\"\n",
       "  5 => \"goodbye\""
      ]
     },
     "execution_count": 5,
     "metadata": {},
     "output_type": "execute_result"
    }
   ],
   "source": [
    "d = Dict(3 => \"hello\", 5=>\"goodbye\")"
   ]
  },
  {
   "cell_type": "code",
   "execution_count": 6,
   "metadata": {
    "collapsed": false
   },
   "outputs": [
    {
     "data": {
      "text/plain": [
       "\"hello\""
      ]
     },
     "execution_count": 6,
     "metadata": {},
     "output_type": "execute_result"
    }
   ],
   "source": [
    "d[3]"
   ]
  },
  {
   "cell_type": "code",
   "execution_count": 7,
   "metadata": {
    "collapsed": false
   },
   "outputs": [
    {
     "data": {
      "text/plain": [
       "\"goodbye\""
      ]
     },
     "execution_count": 7,
     "metadata": {},
     "output_type": "execute_result"
    }
   ],
   "source": [
    "d[5]"
   ]
  },
  {
   "cell_type": "code",
   "execution_count": 8,
   "metadata": {
    "collapsed": false
   },
   "outputs": [
    {
     "data": {
      "text/plain": [
       "5-element Array{String,1}:\n",
       " \"\"       \n",
       " \"\"       \n",
       " \"hello\"  \n",
       " \"\"       \n",
       " \"goodbye\""
      ]
     },
     "execution_count": 8,
     "metadata": {},
     "output_type": "execute_result"
    }
   ],
   "source": [
    "v = [\"\", \"\", \"hello\", \"\", \"goodbye\"]"
   ]
  },
  {
   "cell_type": "code",
   "execution_count": 9,
   "metadata": {
    "collapsed": false
   },
   "outputs": [
    {
     "data": {
      "text/plain": [
       "\"hello\""
      ]
     },
     "execution_count": 9,
     "metadata": {},
     "output_type": "execute_result"
    }
   ],
   "source": [
    "v[3]"
   ]
  },
  {
   "cell_type": "code",
   "execution_count": 10,
   "metadata": {
    "collapsed": false
   },
   "outputs": [
    {
     "data": {
      "text/plain": [
       "\"goodbye\""
      ]
     },
     "execution_count": 10,
     "metadata": {},
     "output_type": "execute_result"
    }
   ],
   "source": [
    "v[5]"
   ]
  },
  {
   "cell_type": "code",
   "execution_count": 11,
   "metadata": {
    "collapsed": false
   },
   "outputs": [
    {
     "name": "stderr",
     "output_type": "stream",
     "text": [
      "\u001b[1m\u001b[34mINFO: Precompiling module DataStructures.\n",
      "\u001b[0m"
     ]
    },
    {
     "data": {
      "text/html": [
       "<div id=\"interact-js-shim\">\n",
       "    <script charset=\"utf-8\">\n",
       "(function (IPython, $, _, MathJax) {\n",
       "    $.event.special.destroyed = {\n",
       "\tremove: function(o) {\n",
       "\t    if (o.handler) {\n",
       "\t\to.handler.apply(this, arguments)\n",
       "\t    }\n",
       "\t}\n",
       "    }\n",
       "\n",
       "    var OutputArea = IPython.version >= \"4.0.0\" ? require(\"notebook/js/outputarea\").OutputArea : IPython.OutputArea;\n",
       "\n",
       "    var redrawValue = function (container, type, val) {\n",
       "\tvar selector = $(\"<div/>\");\n",
       "\tvar oa = new OutputArea(_.extend(selector, {\n",
       "\t    selector: selector,\n",
       "\t    prompt_area: true,\n",
       "\t    events: IPython.events,\n",
       "\t    keyboard_manager: IPython.keyboard_manager\n",
       "\t})); // Hack to work with IPython 2.1.0\n",
       "\n",
       "\tswitch (type) {\n",
       "\tcase \"image/png\":\n",
       "            var _src = 'data:' + type + ';base64,' + val;\n",
       "\t    $(container).find(\"img\").attr('src', _src);\n",
       "\t    break;\n",
       "\tcase \"text/latex\":\n",
       "\t\tif (MathJax){\n",
       "\t\t\tvar math = MathJax.Hub.getAllJax(container)[0];\n",
       "\t\t\tMathJax.Hub.Queue([\"Text\", math, val.replace(/^\\${1,2}|\\${1,2}$/g, '')]);\n",
       "\t\t\tbreak;\n",
       "\t\t}\n",
       "\tdefault:\n",
       "\t    var toinsert = OutputArea.append_map[type].apply(\n",
       "\t\toa, [val, {}, selector]\n",
       "\t    );\n",
       "\t    $(container).empty().append(toinsert.contents());\n",
       "\t    selector.remove();\n",
       "\t}\n",
       "    }\n",
       "\n",
       "\n",
       "    $(document).ready(function() {\n",
       "\tfunction initComm(evt, data) {\n",
       "\t    var comm_manager = data.kernel.comm_manager;\n",
       "        //_.extend(comm_manager.targets, require(\"widgets/js/widget\"))\n",
       "\t    comm_manager.register_target(\"Signal\", function (comm) {\n",
       "            comm.on_msg(function (msg) {\n",
       "                var val = msg.content.data.value;\n",
       "                $(\".signal-\" + comm.comm_id).each(function() {\n",
       "                var type = $(this).data(\"type\");\n",
       "                if (typeof(val[type]) !== \"undefined\" && val[type] !== null) {\n",
       "                    redrawValue(this, type, val[type], type);\n",
       "                }\n",
       "                });\n",
       "                delete val;\n",
       "                delete msg.content.data.value;\n",
       "            });\n",
       "\t    });\n",
       "\n",
       "\t    // coordingate with Comm and redraw Signals\n",
       "\t    // XXX: Test using Reactive here to improve performance\n",
       "\t    $([IPython.events]).on(\n",
       "\t\t'output_appended.OutputArea', function (event, type, value, md, toinsert) {\n",
       "\t\t    if (md && md.reactive) {\n",
       "                // console.log(md.comm_id);\n",
       "                toinsert.addClass(\"signal-\" + md.comm_id);\n",
       "                toinsert.data(\"type\", type);\n",
       "                // Signal back indicating the mimetype required\n",
       "                var comm_manager = IPython.notebook.kernel.comm_manager;\n",
       "                var comm = comm_manager.comms[md.comm_id];\n",
       "                comm.then(function (c) {\n",
       "                    c.send({action: \"subscribe_mime\",\n",
       "                       mime: type});\n",
       "                    toinsert.bind(\"destroyed\", function() {\n",
       "                        c.send({action: \"unsubscribe_mime\",\n",
       "                               mime: type});\n",
       "                    });\n",
       "                })\n",
       "\t\t    }\n",
       "\t    });\n",
       "\t}\n",
       "\n",
       "\ttry {\n",
       "\t    // try to initialize right away. otherwise, wait on the status_started event.\n",
       "\t    initComm(undefined, IPython.notebook);\n",
       "\t} catch (e) {\n",
       "\t    $([IPython.events]).on('kernel_created.Kernel kernel_created.Session', initComm);\n",
       "\t}\n",
       "    });\n",
       "})(IPython, jQuery, _, MathJax);\n",
       "</script>\n",
       "    <script>\n",
       "        window.interactLoadedFlag = true\n",
       "       $(\"#interact-js-shim\").bind(\"destroyed\", function () {\n",
       "           if (window.interactLoadedFlag) {\n",
       "               console.warn(\"JavaScript required by Interact will be removed if you remove this cell or run using Interact more than once.\")\n",
       "           }\n",
       "       })\n",
       "       $([IPython.events]).on(\"kernel_starting.Kernel kernel_restarting.Kernel\", function () { window.interactLoadedFlag = false })\n",
       "   </script>\n",
       "</div>"
      ]
     },
     "metadata": {},
     "output_type": "display_data"
    }
   ],
   "source": [
    "using Interact"
   ]
  },
  {
   "cell_type": "code",
   "execution_count": 14,
   "metadata": {
    "collapsed": false
   },
   "outputs": [
    {
     "data": {
      "text/html": [],
      "text/plain": [
       "Interact.Options{:ToggleButtons,String}(Signal{String}(hello, nactions=1),\"key\",\"hello\",\"3\",Interact.OptionDict(DataStructures.OrderedDict(\"3\"=>\"hello\",\"5\"=>\"goodbye\"),Dict(\"goodbye\"=>\"5\",\"hello\"=>\"3\")),Any[],Any[],true,\"horizontal\")"
      ]
     },
     "metadata": {},
     "output_type": "display_data"
    },
    {
     "data": {
      "text/plain": [
       "\"hello\""
      ]
     },
     "execution_count": 14,
     "metadata": {
      "comm_id": "1b8287e9-0641-4189-9860-ac5d6f9d5d10",
      "reactive": true
     },
     "output_type": "execute_result"
    },
    {
     "name": "stderr",
     "output_type": "stream",
     "text": [
      "WARNING: both Interact and Base export \"select\"; uses of it in module Main must be qualified\n"
     ]
    }
   ],
   "source": [
    "@manipulate for key in d\n",
    "    key\n",
    "end"
   ]
  },
  {
   "cell_type": "markdown",
   "metadata": {},
   "source": [
    "A dictionary has *keys* and *values*:"
   ]
  },
  {
   "cell_type": "code",
   "execution_count": 15,
   "metadata": {
    "collapsed": false
   },
   "outputs": [
    {
     "data": {
      "text/plain": [
       "Base.KeyIterator for a Dict{Int64,String} with 2 entries. Keys:\n",
       "  3\n",
       "  5"
      ]
     },
     "execution_count": 15,
     "metadata": {},
     "output_type": "execute_result"
    }
   ],
   "source": [
    "keys(d)"
   ]
  },
  {
   "cell_type": "code",
   "execution_count": 16,
   "metadata": {
    "collapsed": false
   },
   "outputs": [
    {
     "data": {
      "text/plain": [
       "Base.ValueIterator for a Dict{Int64,String} with 2 entries. Values:\n",
       "  \"hello\"\n",
       "  \"goodbye\""
      ]
     },
     "execution_count": 16,
     "metadata": {},
     "output_type": "execute_result"
    }
   ],
   "source": [
    "values(d)"
   ]
  },
  {
   "cell_type": "code",
   "execution_count": 17,
   "metadata": {
    "collapsed": false
   },
   "outputs": [
    {
     "data": {
      "text/plain": [
       "2-element Array{Int64,1}:\n",
       " 3\n",
       " 5"
      ]
     },
     "execution_count": 17,
     "metadata": {},
     "output_type": "execute_result"
    }
   ],
   "source": [
    "collect(keys(d))  # make it into an array"
   ]
  },
  {
   "cell_type": "code",
   "execution_count": 18,
   "metadata": {
    "collapsed": false
   },
   "outputs": [
    {
     "data": {
      "text/plain": [
       "Dict{Int64,String} with 2 entries:\n",
       "  3 => \"hello\"\n",
       "  5 => \"goodbye\""
      ]
     },
     "execution_count": 18,
     "metadata": {},
     "output_type": "execute_result"
    }
   ],
   "source": [
    "d"
   ]
  },
  {
   "cell_type": "code",
   "execution_count": 19,
   "metadata": {
    "collapsed": false
   },
   "outputs": [
    {
     "ename": "LoadError",
     "evalue": "KeyError: key 2 not found",
     "output_type": "error",
     "traceback": [
      "KeyError: key 2 not found",
      "",
      " in getindex(::Dict{Int64,String}, ::Int64) at ./dict.jl:688"
     ]
    }
   ],
   "source": [
    "d[2]"
   ]
  },
  {
   "cell_type": "code",
   "execution_count": 20,
   "metadata": {
    "collapsed": false
   },
   "outputs": [
    {
     "data": {
      "text/plain": [
       "\"new\""
      ]
     },
     "execution_count": 20,
     "metadata": {},
     "output_type": "execute_result"
    }
   ],
   "source": [
    "d[2] = \"new\""
   ]
  },
  {
   "cell_type": "code",
   "execution_count": 21,
   "metadata": {
    "collapsed": false
   },
   "outputs": [
    {
     "data": {
      "text/plain": [
       "Dict{Int64,String} with 3 entries:\n",
       "  2 => \"new\"\n",
       "  3 => \"hello\"\n",
       "  5 => \"goodbye\""
      ]
     },
     "execution_count": 21,
     "metadata": {},
     "output_type": "execute_result"
    }
   ],
   "source": [
    "d"
   ]
  },
  {
   "cell_type": "code",
   "execution_count": 22,
   "metadata": {
    "collapsed": false
   },
   "outputs": [
    {
     "data": {
      "text/html": [],
      "text/plain": [
       "Interact.Options{:ToggleButtons,String}(Signal{String}(new, nactions=1),\"key\",\"new\",\"2\",Interact.OptionDict(DataStructures.OrderedDict(\"2\"=>\"new\",\"3\"=>\"hello\",\"5\"=>\"goodbye\"),Dict(\"new\"=>\"2\",\"goodbye\"=>\"5\",\"hello\"=>\"3\")),Any[],Any[],true,\"horizontal\")"
      ]
     },
     "metadata": {},
     "output_type": "display_data"
    },
    {
     "data": {
      "text/plain": [
       "\"new\""
      ]
     },
     "execution_count": 22,
     "metadata": {
      "comm_id": "ba531f91-1fec-4376-ab85-bd4c794b71a3",
      "reactive": true
     },
     "output_type": "execute_result"
    }
   ],
   "source": [
    "@manipulate for key in d\n",
    "    key\n",
    "end"
   ]
  },
  {
   "cell_type": "code",
   "execution_count": 23,
   "metadata": {
    "collapsed": false
   },
   "outputs": [
    {
     "data": {
      "text/plain": [
       "\"negative\""
      ]
     },
     "execution_count": 23,
     "metadata": {},
     "output_type": "execute_result"
    }
   ],
   "source": [
    "d[-1] = \"negative\""
   ]
  },
  {
   "cell_type": "code",
   "execution_count": 24,
   "metadata": {
    "collapsed": false
   },
   "outputs": [
    {
     "data": {
      "text/plain": [
       "Dict{Int64,String} with 4 entries:\n",
       "  2  => \"new\"\n",
       "  3  => \"hello\"\n",
       "  -1 => \"negative\"\n",
       "  5  => \"goodbye\""
      ]
     },
     "execution_count": 24,
     "metadata": {},
     "output_type": "execute_result"
    }
   ],
   "source": [
    "d"
   ]
  },
  {
   "cell_type": "code",
   "execution_count": 25,
   "metadata": {
    "collapsed": false
   },
   "outputs": [
    {
     "ename": "LoadError",
     "evalue": "InexactError()",
     "output_type": "error",
     "traceback": [
      "InexactError()",
      "",
      " in setindex!(::Dict{Int64,String}, ::String, ::Float64) at ./dict.jl:626"
     ]
    }
   ],
   "source": [
    "d[3.1] = \"float\""
   ]
  },
  {
   "cell_type": "markdown",
   "metadata": {},
   "source": [
    "`InexactError` means that 3.1 cannot be \"fitted in\" to an `Int`."
   ]
  },
  {
   "cell_type": "code",
   "execution_count": 26,
   "metadata": {
    "collapsed": false
   },
   "outputs": [
    {
     "data": {
      "text/plain": [
       "\"not sure if float or not\""
      ]
     },
     "execution_count": 26,
     "metadata": {},
     "output_type": "execute_result"
    }
   ],
   "source": [
    "d[7.0] = \"not sure if float or not\""
   ]
  },
  {
   "cell_type": "code",
   "execution_count": 27,
   "metadata": {
    "collapsed": false
   },
   "outputs": [
    {
     "data": {
      "text/plain": [
       "Dict{Int64,String} with 5 entries:\n",
       "  7  => \"not sure if float or not\"\n",
       "  2  => \"new\"\n",
       "  3  => \"hello\"\n",
       "  -1 => \"negative\"\n",
       "  5  => \"goodbye\""
      ]
     },
     "execution_count": 27,
     "metadata": {},
     "output_type": "execute_result"
    }
   ],
   "source": [
    "d"
   ]
  },
  {
   "cell_type": "code",
   "execution_count": 30,
   "metadata": {
    "collapsed": false
   },
   "outputs": [
    {
     "data": {
      "text/plain": [
       "Dict{Any,String} with 2 entries:\n",
       "  \"goodbye\" => \"whatever\"\n",
       "  3         => \"hello\""
      ]
     },
     "execution_count": 30,
     "metadata": {},
     "output_type": "execute_result"
    }
   ],
   "source": [
    "any_dict = Dict(3=>\"hello\", \"goodbye\"=>\"whatever\")"
   ]
  },
  {
   "cell_type": "code",
   "execution_count": 33,
   "metadata": {
    "collapsed": false
   },
   "outputs": [
    {
     "data": {
      "text/plain": [
       "Dict{Any,Any} with 0 entries"
      ]
     },
     "execution_count": 33,
     "metadata": {},
     "output_type": "execute_result"
    }
   ],
   "source": [
    "d = Dict()  # constructor of an empty dictionary"
   ]
  },
  {
   "cell_type": "code",
   "execution_count": 35,
   "metadata": {
    "collapsed": false
   },
   "outputs": [
    {
     "data": {
      "text/plain": [
       "3"
      ]
     },
     "execution_count": 35,
     "metadata": {},
     "output_type": "execute_result"
    }
   ],
   "source": [
    "d[\"hello\"] = 3"
   ]
  },
  {
   "cell_type": "code",
   "execution_count": 36,
   "metadata": {
    "collapsed": false
   },
   "outputs": [
    {
     "data": {
      "text/plain": [
       "Dict{Any,Any} with 1 entry:\n",
       "  \"hello\" => 3"
      ]
     },
     "execution_count": 36,
     "metadata": {},
     "output_type": "execute_result"
    }
   ],
   "source": [
    "d"
   ]
  },
  {
   "cell_type": "markdown",
   "metadata": {},
   "source": [
    "Construct an empty dictionary with given type parameters, e.g. `Float64` and `String`:"
   ]
  },
  {
   "cell_type": "code",
   "execution_count": 38,
   "metadata": {
    "collapsed": false
   },
   "outputs": [
    {
     "data": {
      "text/plain": [
       "Dict{Float64,String}"
      ]
     },
     "execution_count": 38,
     "metadata": {},
     "output_type": "execute_result"
    }
   ],
   "source": [
    "Dict{Float64, String}  # the name of the type"
   ]
  },
  {
   "cell_type": "code",
   "execution_count": 40,
   "metadata": {
    "collapsed": false
   },
   "outputs": [
    {
     "data": {
      "text/plain": [
       "Dict{Float64,String} with 0 entries"
      ]
     },
     "execution_count": 40,
     "metadata": {},
     "output_type": "execute_result"
    }
   ],
   "source": [
    "d = Dict{Float64, String}()  # constructs an object of that type"
   ]
  },
  {
   "cell_type": "code",
   "execution_count": 42,
   "metadata": {
    "collapsed": false
   },
   "outputs": [
    {
     "data": {
      "text/plain": [
       "Dict{Float64,String} with 1 entry:\n",
       "  3.1 => \"hello\""
      ]
     },
     "execution_count": 42,
     "metadata": {},
     "output_type": "execute_result"
    }
   ],
   "source": [
    "push!(d, 3.1=>\"hello\")"
   ]
  },
  {
   "cell_type": "code",
   "execution_count": 43,
   "metadata": {
    "collapsed": false
   },
   "outputs": [
    {
     "data": {
      "text/plain": [
       "\"hello\""
      ]
     },
     "execution_count": 43,
     "metadata": {},
     "output_type": "execute_result"
    }
   ],
   "source": [
    "d[3.1] = \"hello\""
   ]
  },
  {
   "cell_type": "markdown",
   "metadata": {},
   "source": [
    "Can a key have multiple values? No, but: [DataStructures.jl](https://github.com/JuliaLang/DataStructures.jl/)."
   ]
  },
  {
   "cell_type": "markdown",
   "metadata": {},
   "source": [
    "Use a dict as a multi-dict:"
   ]
  },
  {
   "cell_type": "code",
   "execution_count": 45,
   "metadata": {
    "collapsed": false
   },
   "outputs": [
    {
     "data": {
      "text/plain": [
       "Dict{String,Array{Int64,1}} with 2 entries:\n",
       "  \"goodbye\" => Int64[]\n",
       "  \"hello\"   => [3,4]"
      ]
     },
     "execution_count": 45,
     "metadata": {},
     "output_type": "execute_result"
    }
   ],
   "source": [
    "d = Dict(\"hello\" => [3, 4], \"goodbye\" => Int[])"
   ]
  },
  {
   "cell_type": "code",
   "execution_count": 47,
   "metadata": {
    "collapsed": false
   },
   "outputs": [
    {
     "data": {
      "text/plain": [
       "2-element Array{Int64,1}:\n",
       " 3\n",
       " 4"
      ]
     },
     "execution_count": 47,
     "metadata": {},
     "output_type": "execute_result"
    }
   ],
   "source": [
    "d[\"hello\"]"
   ]
  },
  {
   "cell_type": "code",
   "execution_count": 48,
   "metadata": {
    "collapsed": false
   },
   "outputs": [
    {
     "data": {
      "text/plain": [
       "4-element Array{Int64,1}:\n",
       " 3\n",
       " 4\n",
       " 7\n",
       " 3"
      ]
     },
     "execution_count": 48,
     "metadata": {},
     "output_type": "execute_result"
    }
   ],
   "source": [
    "push!(d[\"hello\"], 7, 3)"
   ]
  },
  {
   "cell_type": "code",
   "execution_count": 49,
   "metadata": {
    "collapsed": false
   },
   "outputs": [
    {
     "data": {
      "text/plain": [
       "Dict{String,Array{Int64,1}} with 2 entries:\n",
       "  \"goodbye\" => Int64[]\n",
       "  \"hello\"   => [3,4,7,3]"
      ]
     },
     "execution_count": 49,
     "metadata": {},
     "output_type": "execute_result"
    }
   ],
   "source": [
    "d"
   ]
  },
  {
   "cell_type": "code",
   "execution_count": 50,
   "metadata": {
    "collapsed": false
   },
   "outputs": [
    {
     "data": {
      "text/plain": [
       "Dict{String,Int64} with 2 entries:\n",
       "  \"b\" => 4\n",
       "  \"a\" => 3"
      ]
     },
     "execution_count": 50,
     "metadata": {},
     "output_type": "execute_result"
    }
   ],
   "source": [
    "d1 = Dict(\"a\"=>1, \"b\"=>2)\n",
    "d2 = Dict(\"a\"=>3, \"b\"=>4)"
   ]
  },
  {
   "cell_type": "code",
   "execution_count": 51,
   "metadata": {
    "collapsed": false
   },
   "outputs": [
    {
     "data": {
      "text/plain": [
       "Dict{String,Dict{String,Int64}} with 2 entries:\n",
       "  \"second\" => Dict(\"b\"=>4,\"a\"=>3)\n",
       "  \"first\"  => Dict(\"b\"=>2,\"a\"=>1)"
      ]
     },
     "execution_count": 51,
     "metadata": {},
     "output_type": "execute_result"
    }
   ],
   "source": [
    "d = Dict(\"first\" => d1, \"second\" => d2)"
   ]
  },
  {
   "cell_type": "code",
   "execution_count": 52,
   "metadata": {
    "collapsed": false
   },
   "outputs": [
    {
     "data": {
      "text/plain": [
       "Dict{String,Int64} with 2 entries:\n",
       "  \"b\" => 4\n",
       "  \"a\" => 3"
      ]
     },
     "execution_count": 52,
     "metadata": {},
     "output_type": "execute_result"
    }
   ],
   "source": [
    "d[\"second\"]"
   ]
  },
  {
   "cell_type": "code",
   "execution_count": 54,
   "metadata": {
    "collapsed": false
   },
   "outputs": [
    {
     "data": {
      "text/plain": [
       "Dict{Any,Any} with 0 entries"
      ]
     },
     "execution_count": 54,
     "metadata": {},
     "output_type": "execute_result"
    }
   ],
   "source": [
    "d[\"third\"] = Dict()"
   ]
  },
  {
   "cell_type": "code",
   "execution_count": 55,
   "metadata": {
    "collapsed": false
   },
   "outputs": [
    {
     "data": {
      "text/plain": [
       "Dict{String,Dict{String,Int64}} with 3 entries:\n",
       "  \"second\" => Dict(\"b\"=>4,\"a\"=>3)\n",
       "  \"first\"  => Dict(\"b\"=>2,\"a\"=>1)\n",
       "  \"third\"  => Dict{String,Int64}()"
      ]
     },
     "execution_count": 55,
     "metadata": {},
     "output_type": "execute_result"
    }
   ],
   "source": [
    "d"
   ]
  },
  {
   "cell_type": "code",
   "execution_count": 56,
   "metadata": {
    "collapsed": false
   },
   "outputs": [
    {
     "ename": "LoadError",
     "evalue": "MethodError: Cannot `convert` an object of type Float64 to an object of type String\nThis may have arisen from a call to the constructor String(...),\nsince type constructors fall back to convert methods.",
     "output_type": "error",
     "traceback": [
      "MethodError: Cannot `convert` an object of type Float64 to an object of type String\nThis may have arisen from a call to the constructor String(...),\nsince type constructors fall back to convert methods.",
      "",
      " in convert(::Type{Dict{String,Int64}}, ::Dict{Float64,Int64}) at ./dict.jl:430",
      " in setindex!(::Dict{String,Dict{String,Int64}}, ::Dict{Float64,Int64}, ::String) at ./dict.jl:634"
     ]
    }
   ],
   "source": [
    "d[\"fourth\"] = Dict(3.1 => 17)"
   ]
  },
  {
   "cell_type": "code",
   "execution_count": 61,
   "metadata": {
    "collapsed": false
   },
   "outputs": [
    {
     "data": {
      "text/html": [],
      "text/plain": [
       "Interact.Options{:ToggleButtons,Dict{String,Int64}}(Signal{Dict{String,Int64}}(Dict(\"b\"=>4,\"a\"=>3), nactions=1),\"key\",Dict(\"b\"=>4,\"a\"=>3),\"second\",Interact.OptionDict(DataStructures.OrderedDict(\"second\"=>Dict(\"b\"=>4,\"a\"=>3),\"first\"=>Dict(\"b\"=>2,\"a\"=>1),\"third\"=>Dict{String,Int64}()),Dict(Dict(\"b\"=>2,\"a\"=>1)=>\"first\",Dict{String,Int64}()=>\"third\",Dict(\"b\"=>4,\"a\"=>3)=>\"second\")),Any[],Any[],true,\"horizontal\")"
      ]
     },
     "metadata": {},
     "output_type": "display_data"
    },
    {
     "data": {
      "text/plain": [
       "Dict{String,Int64} with 2 entries:\n",
       "  \"b\" => 4\n",
       "  \"a\" => 3"
      ]
     },
     "execution_count": 61,
     "metadata": {
      "comm_id": "f8594810-71fd-419b-8cb7-4234eb548d52",
      "reactive": true
     },
     "output_type": "execute_result"
    }
   ],
   "source": [
    "@manipulate for key in d\n",
    "    key\n",
    "end"
   ]
  },
  {
   "cell_type": "code",
   "execution_count": 62,
   "metadata": {
    "collapsed": false
   },
   "outputs": [
    {
     "data": {
      "text/plain": [
       "Dict{String,Dict{String,Int64}} with 3 entries:\n",
       "  \"second\" => Dict(\"b\"=>4,\"a\"=>3)\n",
       "  \"first\"  => Dict(\"b\"=>2,\"a\"=>1)\n",
       "  \"third\"  => Dict{String,Int64}()"
      ]
     },
     "execution_count": 62,
     "metadata": {},
     "output_type": "execute_result"
    }
   ],
   "source": [
    "d"
   ]
  },
  {
   "cell_type": "code",
   "execution_count": 67,
   "metadata": {
    "collapsed": false
   },
   "outputs": [
    {
     "data": {
      "text/plain": [
       "1"
      ]
     },
     "execution_count": 67,
     "metadata": {},
     "output_type": "execute_result"
    }
   ],
   "source": [
    "d[\"first\"][\"a\"]  "
   ]
  },
  {
   "cell_type": "code",
   "execution_count": 66,
   "metadata": {
    "collapsed": false
   },
   "outputs": [
    {
     "ename": "LoadError",
     "evalue": "KeyError: key (\"first\",\"a\") not found",
     "output_type": "error",
     "traceback": [
      "KeyError: key (\"first\",\"a\") not found",
      "",
      " in getindex at ./dict.jl:688 [inlined]",
      " in getindex(::Dict{String,Dict{String,Int64}}, ::String, ::String) at ./dict.jl:239"
     ]
    }
   ],
   "source": [
    "d[\"first\", \"a\"]  # not this"
   ]
  },
  {
   "cell_type": "code",
   "execution_count": 68,
   "metadata": {
    "collapsed": false
   },
   "outputs": [
    {
     "data": {
      "text/plain": [
       "0xd468fb40d24a17cf"
      ]
     },
     "execution_count": 68,
     "metadata": {},
     "output_type": "execute_result"
    }
   ],
   "source": [
    "hash([1,2,3])"
   ]
  },
  {
   "cell_type": "code",
   "execution_count": 69,
   "metadata": {
    "collapsed": false
   },
   "outputs": [
    {
     "data": {
      "text/plain": [
       "Dict{Array{Int64,1},String} with 1 entry:\n",
       "  [1,2,3] => \"hello\""
      ]
     },
     "execution_count": 69,
     "metadata": {},
     "output_type": "execute_result"
    }
   ],
   "source": [
    "d = Dict([1,2,3]=>\"hello\")"
   ]
  },
  {
   "cell_type": "code",
   "execution_count": 70,
   "metadata": {
    "collapsed": false
   },
   "outputs": [
    {
     "data": {
      "text/plain": [
       "\"hello\""
      ]
     },
     "execution_count": 70,
     "metadata": {},
     "output_type": "execute_result"
    }
   ],
   "source": [
    "d[[1,2,3]]"
   ]
  },
  {
   "cell_type": "code",
   "execution_count": 71,
   "metadata": {
    "collapsed": false
   },
   "outputs": [
    {
     "data": {
      "text/plain": [
       "Dict{Array{Int64,1},String} with 1 entry:\n",
       "  [1,2,3] => \"hello\""
      ]
     },
     "execution_count": 71,
     "metadata": {},
     "output_type": "execute_result"
    }
   ],
   "source": [
    "d"
   ]
  },
  {
   "cell_type": "code",
   "execution_count": 72,
   "metadata": {
    "collapsed": false
   },
   "outputs": [
    {
     "data": {
      "text/plain": [
       "10-element Array{Dict{Int64,String},1}:\n",
       " Dict(1=>\"1\")  \n",
       " Dict(2=>\"2\")  \n",
       " Dict(3=>\"3\")  \n",
       " Dict(4=>\"4\")  \n",
       " Dict(5=>\"5\")  \n",
       " Dict(6=>\"6\")  \n",
       " Dict(7=>\"7\")  \n",
       " Dict(8=>\"8\")  \n",
       " Dict(9=>\"9\")  \n",
       " Dict(10=>\"10\")"
      ]
     },
     "execution_count": 72,
     "metadata": {},
     "output_type": "execute_result"
    }
   ],
   "source": [
    "v = [Dict(i => string(i)) for i in 1:10 ]"
   ]
  },
  {
   "cell_type": "code",
   "execution_count": 73,
   "metadata": {
    "collapsed": true
   },
   "outputs": [],
   "source": [
    "using DistributedArrays"
   ]
  },
  {
   "cell_type": "code",
   "execution_count": 74,
   "metadata": {
    "collapsed": false
   },
   "outputs": [
    {
     "data": {
      "text/plain": [
       "10-element DistributedArrays.DArray{Dict{Int64,String},1,Array{Dict{Int64,String},1}}:\n",
       " Dict(1=>\"1\")  \n",
       " Dict(2=>\"2\")  \n",
       " Dict(3=>\"3\")  \n",
       " Dict(4=>\"4\")  \n",
       " Dict(5=>\"5\")  \n",
       " Dict(6=>\"6\")  \n",
       " Dict(7=>\"7\")  \n",
       " Dict(8=>\"8\")  \n",
       " Dict(9=>\"9\")  \n",
       " Dict(10=>\"10\")"
      ]
     },
     "execution_count": 74,
     "metadata": {},
     "output_type": "execute_result"
    }
   ],
   "source": [
    "dv = distribute(v)"
   ]
  },
  {
   "cell_type": "code",
   "execution_count": 75,
   "metadata": {
    "collapsed": false
   },
   "outputs": [
    {
     "data": {
      "text/plain": [
       "\"10-element DistributedArrays.DArray{Dict{Int64,String},1,Array{Dict{Int64,String},1}}\""
      ]
     },
     "execution_count": 75,
     "metadata": {},
     "output_type": "execute_result"
    }
   ],
   "source": [
    "summary(dv)"
   ]
  },
  {
   "cell_type": "code",
   "execution_count": 76,
   "metadata": {
    "collapsed": false
   },
   "outputs": [
    {
     "data": {
      "text/plain": [
       "10-element Array{##44#46{Int64},1}:\n",
       " #44\n",
       " #44\n",
       " #44\n",
       " #44\n",
       " #44\n",
       " #44\n",
       " #44\n",
       " #44\n",
       " #44\n",
       " #44"
      ]
     },
     "execution_count": 76,
     "metadata": {},
     "output_type": "execute_result"
    }
   ],
   "source": [
    "vec_functions = [x->i*x for i in 1:10]"
   ]
  },
  {
   "cell_type": "code",
   "execution_count": 78,
   "metadata": {
    "collapsed": false
   },
   "outputs": [
    {
     "data": {
      "text/plain": [
       "10"
      ]
     },
     "execution_count": 78,
     "metadata": {},
     "output_type": "execute_result"
    }
   ],
   "source": [
    "vec_functions[1](10)"
   ]
  },
  {
   "cell_type": "code",
   "execution_count": 79,
   "metadata": {
    "collapsed": false
   },
   "outputs": [
    {
     "data": {
      "text/plain": [
       "20"
      ]
     },
     "execution_count": 79,
     "metadata": {},
     "output_type": "execute_result"
    }
   ],
   "source": [
    "vec_functions[2](10)"
   ]
  },
  {
   "cell_type": "code",
   "execution_count": 80,
   "metadata": {
    "collapsed": false
   },
   "outputs": [
    {
     "data": {
      "text/plain": [
       "10-element DistributedArrays.DArray{##44#46{Int64},1,Array{##44#46{Int64},1}}:\n",
       " #44\n",
       " #44\n",
       " #44\n",
       " #44\n",
       " #44\n",
       " #44\n",
       " #44\n",
       " #44\n",
       " #44\n",
       " #44"
      ]
     },
     "execution_count": 80,
     "metadata": {},
     "output_type": "execute_result"
    }
   ],
   "source": [
    "dfunc = distribute(vec_functions)"
   ]
  },
  {
   "cell_type": "code",
   "execution_count": 82,
   "metadata": {
    "collapsed": false
   },
   "outputs": [
    {
     "data": {
      "text/plain": [
       "10"
      ]
     },
     "execution_count": 82,
     "metadata": {},
     "output_type": "execute_result"
    }
   ],
   "source": [
    "dfunc[1](10)"
   ]
  },
  {
   "cell_type": "code",
   "execution_count": 83,
   "metadata": {
    "collapsed": false
   },
   "outputs": [
    {
     "name": "stderr",
     "output_type": "stream",
     "text": [
      "WARNING: imported binding for values overwritten in module Main\n"
     ]
    },
    {
     "data": {
      "text/plain": [
       "10-element Array{Int64,1}:\n",
       "  1\n",
       "  2\n",
       "  3\n",
       "  4\n",
       "  5\n",
       "  6\n",
       "  7\n",
       "  8\n",
       "  9\n",
       " 10"
      ]
     },
     "execution_count": 83,
     "metadata": {},
     "output_type": "execute_result"
    }
   ],
   "source": [
    "values = [1:10;]"
   ]
  },
  {
   "cell_type": "code",
   "execution_count": 84,
   "metadata": {
    "collapsed": false
   },
   "outputs": [
    {
     "data": {
      "text/plain": [
       "10-element DistributedArrays.DArray{Int64,1,Array{Int64,1}}:\n",
       "  1\n",
       "  2\n",
       "  3\n",
       "  4\n",
       "  5\n",
       "  6\n",
       "  7\n",
       "  8\n",
       "  9\n",
       " 10"
      ]
     },
     "execution_count": 84,
     "metadata": {},
     "output_type": "execute_result"
    }
   ],
   "source": [
    "dvalues = distribute(values)"
   ]
  },
  {
   "cell_type": "code",
   "execution_count": 85,
   "metadata": {
    "collapsed": false
   },
   "outputs": [
    {
     "data": {
      "text/plain": [
       "10-element Array{Int64,1}:\n",
       "   1\n",
       "   4\n",
       "   9\n",
       "  16\n",
       "  25\n",
       "  36\n",
       "  49\n",
       "  64\n",
       "  81\n",
       " 100"
      ]
     },
     "execution_count": 85,
     "metadata": {},
     "output_type": "execute_result"
    }
   ],
   "source": [
    "map( (f,v)->f(v), dfunc, dvalues )"
   ]
  },
  {
   "cell_type": "code",
   "execution_count": null,
   "metadata": {
    "collapsed": true
   },
   "outputs": [],
   "source": []
  }
 ],
 "metadata": {
  "kernelspec": {
   "display_name": "Julia 0.5.0",
   "language": "julia",
   "name": "julia-0.5"
  },
  "language_info": {
   "file_extension": ".jl",
   "mimetype": "application/julia",
   "name": "julia",
   "version": "0.5.0"
  },
  "widgets": {
   "state": {
    "19f56ca7-d586-49b2-b8cd-6d0dc01eb44d": {
     "views": [
      {
       "cell_index": 51
      }
     ]
    },
    "4137f9ac-2ecf-4ba1-8db7-8fe6159eb8ed": {
     "views": [
      {
       "cell_index": 42
      }
     ]
    },
    "a193c311-a887-4e17-ad78-288c0d0f8cae": {
     "views": [
      {
       "cell_index": 79
      }
     ]
    },
    "aab53388-55d6-45d5-9c61-5f8c043fec9a": {
     "views": [
      {
       "cell_index": 79
      }
     ]
    },
    "c2b4c35a-e875-4fd8-87fb-369fe77690b3": {
     "views": [
      {
       "cell_index": 79
      }
     ]
    },
    "dfd2cfc5-4fdd-43d4-aed7-63f59f9ad145": {
     "views": [
      {
       "cell_index": 79
      }
     ]
    }
   },
   "version": "1.2.0"
  }
 },
 "nbformat": 4,
 "nbformat_minor": 2
}
