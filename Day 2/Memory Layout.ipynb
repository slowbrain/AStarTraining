{
 "cells": [
  {
   "cell_type": "markdown",
   "metadata": {},
   "source": [
    "# Using Immutables for Efficiency"
   ]
  },
  {
   "cell_type": "markdown",
   "metadata": {
    "collapsed": true
   },
   "source": [
    "1. When CPU runs an instruction it operates on things in the registers. There are very few of these in a computer, these are the %1s and %2s when you run @code_llvm. If something is not in the CPU registers, the CPU needs to fetch the data from memory: this is SLOW!!!\n",
    "\n",
    "2. The CPU first looks at L1 cache, then L2 cache then Main memory and then Swap space - L1, L2 caches are still small (order of megabytes), but hitting them often will give orders of magnitude performance gain as compared to hitting main memory that often\n",
    "\n",
    "3. The computer optimistically brings things from main memory onto the caches when you access a chunk of data. Hence if you access data that is continuous in memory, they all get asynchronously brought into the cache and your program will be really fast."
   ]
  },
  {
   "cell_type": "markdown",
   "metadata": {},
   "source": [
    "## Memory layout of an array of types"
   ]
  },
  {
   "cell_type": "code",
   "execution_count": 1,
   "metadata": {
    "collapsed": false
   },
   "outputs": [],
   "source": [
    "type Typ\n",
    "    x::Int16\n",
    "    y::Int16\n",
    "end"
   ]
  },
  {
   "cell_type": "markdown",
   "metadata": {},
   "source": [
    "The size of `Typ` is 4 bytes."
   ]
  },
  {
   "cell_type": "code",
   "execution_count": 2,
   "metadata": {
    "collapsed": false
   },
   "outputs": [
    {
     "data": {
      "text/plain": [
       "4"
      ]
     },
     "execution_count": 2,
     "metadata": {},
     "output_type": "execute_result"
    }
   ],
   "source": [
    "sizeof(Typ(2,2))"
   ]
  },
  {
   "cell_type": "code",
   "execution_count": 3,
   "metadata": {
    "collapsed": false
   },
   "outputs": [
    {
     "name": "stdout",
     "output_type": "stream",
     "text": [
      "  0.044205 seconds (1.02 M allocations: 23.743 MB, 21.78% gc time)\n"
     ]
    }
   ],
   "source": [
    "@time typ_arr = [Typ(i%127,i%127) for i=1:10^6];"
   ]
  },
  {
   "cell_type": "markdown",
   "metadata": {},
   "source": [
    "Notice the allocation. And then notice that this array is 2x bigger than it should be!!"
   ]
  },
  {
   "cell_type": "code",
   "execution_count": 4,
   "metadata": {
    "collapsed": false
   },
   "outputs": [
    {
     "data": {
      "text/plain": [
       "8000000"
      ]
     },
     "execution_count": 4,
     "metadata": {},
     "output_type": "execute_result"
    }
   ],
   "source": [
    "sizeof(typ_arr)"
   ]
  },
  {
   "cell_type": "code",
   "execution_count": 5,
   "metadata": {
    "collapsed": false
   },
   "outputs": [
    {
     "data": {
      "text/plain": [
       "8.0"
      ]
     },
     "execution_count": 5,
     "metadata": {},
     "output_type": "execute_result"
    }
   ],
   "source": [
    "sizeof(typ_arr) / 10^6 # bytes per object"
   ]
  },
  {
   "cell_type": "markdown",
   "metadata": {},
   "source": [
    "This is because mutable objects are **passed by reference**!! The objects are being \"boxed\"."
   ]
  },
  {
   "cell_type": "code",
   "execution_count": 6,
   "metadata": {
    "collapsed": false
   },
   "outputs": [],
   "source": [
    "Base.:+(a::Typ, b::Typ) = Typ(a.x+b.x, a.y+b.y)"
   ]
  },
  {
   "cell_type": "markdown",
   "metadata": {},
   "source": [
    "This is to make the following possible:"
   ]
  },
  {
   "cell_type": "code",
   "execution_count": 7,
   "metadata": {
    "collapsed": false
   },
   "outputs": [
    {
     "data": {
      "text/plain": [
       "Typ(42,3)"
      ]
     },
     "execution_count": 7,
     "metadata": {},
     "output_type": "execute_result"
    }
   ],
   "source": [
    "function someone_else_doing_something_else(a::Typ)\n",
    "    a.x = 42\n",
    "end\n",
    "\n",
    "someone_else_doing_something_else(typ_arr[3])\n",
    "typ_arr[3]"
   ]
  },
  {
   "cell_type": "markdown",
   "metadata": {},
   "source": [
    "Sum could also have been much more efficient...."
   ]
  },
  {
   "cell_type": "code",
   "execution_count": 8,
   "metadata": {
    "collapsed": false
   },
   "outputs": [
    {
     "name": "stdout",
     "output_type": "stream",
     "text": [
      "  0.086339 seconds (1.02 M allocations: 16.020 MB, 25.38% gc time)\n"
     ]
    },
    {
     "data": {
      "text/plain": [
       "Typ(19820,19781)"
      ]
     },
     "execution_count": 8,
     "metadata": {},
     "output_type": "execute_result"
    }
   ],
   "source": [
    "@time sum(typ_arr)"
   ]
  },
  {
   "cell_type": "markdown",
   "metadata": {},
   "source": [
    "## Memory layout of an array of Immutables"
   ]
  },
  {
   "cell_type": "code",
   "execution_count": 9,
   "metadata": {
    "collapsed": false
   },
   "outputs": [],
   "source": [
    "immutable Imm\n",
    "    x::Int16\n",
    "    y::Int16\n",
    "end"
   ]
  },
  {
   "cell_type": "code",
   "execution_count": 10,
   "metadata": {
    "collapsed": false
   },
   "outputs": [
    {
     "data": {
      "text/plain": [
       "4"
      ]
     },
     "execution_count": 10,
     "metadata": {},
     "output_type": "execute_result"
    }
   ],
   "source": [
    "sizeof(Imm(2,2))"
   ]
  },
  {
   "cell_type": "code",
   "execution_count": 11,
   "metadata": {
    "collapsed": false
   },
   "outputs": [
    {
     "name": "stdout",
     "output_type": "stream",
     "text": [
      "  0.060103 seconds (18.44 k allocations: 4.649 MB)\n"
     ]
    }
   ],
   "source": [
    "@time imm_arr = [Imm(i%127,i%127) for i=1:10^6];"
   ]
  },
  {
   "cell_type": "code",
   "execution_count": 12,
   "metadata": {
    "collapsed": false
   },
   "outputs": [
    {
     "data": {
      "text/plain": [
       "4000000"
      ]
     },
     "execution_count": 12,
     "metadata": {},
     "output_type": "execute_result"
    }
   ],
   "source": [
    "sizeof(imm_arr)"
   ]
  },
  {
   "cell_type": "markdown",
   "metadata": {},
   "source": [
    "**Seems correct!**"
   ]
  },
  {
   "cell_type": "markdown",
   "metadata": {},
   "source": [
    "Since immutables can never be changed, their value _is_ their identity, the compiler can **pass them by value**"
   ]
  },
  {
   "cell_type": "code",
   "execution_count": 13,
   "metadata": {
    "collapsed": true
   },
   "outputs": [],
   "source": [
    "Base.:+(a::Imm, b::Imm) = Imm(a.x+b.x, a.y+b.y)"
   ]
  },
  {
   "cell_type": "code",
   "execution_count": 14,
   "metadata": {
    "collapsed": false
   },
   "outputs": [
    {
     "name": "stdout",
     "output_type": "stream",
     "text": [
      "  0.079495 seconds (1.00 M allocations: 15.259 MB, 38.53% gc time)\n"
     ]
    },
    {
     "data": {
      "text/plain": [
       "Typ(19820,19781)"
      ]
     },
     "execution_count": 14,
     "metadata": {},
     "output_type": "execute_result"
    }
   ],
   "source": [
    "@time sum(typ_arr)"
   ]
  },
  {
   "cell_type": "markdown",
   "metadata": {},
   "source": [
    "The allocation is the same as adding Float *values*"
   ]
  },
  {
   "cell_type": "code",
   "execution_count": 15,
   "metadata": {
    "collapsed": false
   },
   "outputs": [
    {
     "name": "stdout",
     "output_type": "stream",
     "text": [
      "  0.033010 seconds (13.57 k allocations: 635.952 KB)\n"
     ]
    },
    {
     "data": {
      "text/plain": [
       "499541.1418369091"
      ]
     },
     "execution_count": 15,
     "metadata": {},
     "output_type": "execute_result"
    }
   ],
   "source": [
    "x = rand(10^6)\n",
    "\n",
    "@time sum(x)"
   ]
  },
  {
   "cell_type": "markdown",
   "metadata": {},
   "source": [
    "The compiler can do this optimization because it knows someone else won't be changing the insides of the `Imm` object!"
   ]
  },
  {
   "cell_type": "code",
   "execution_count": 16,
   "metadata": {
    "collapsed": false
   },
   "outputs": [
    {
     "ename": "LoadError",
     "evalue": "type is immutable",
     "output_type": "error",
     "traceback": [
      "type is immutable",
      "",
      " in someone_else_doing_something_else(::Imm) at ./In[16]:2",
      " in execute_request(::ZMQ.Socket, ::IJulia.Msg) at /home/shashi/.julia/v0.5/IJulia/src/execute_request.jl:175",
      " in eventloop(::ZMQ.Socket) at /home/shashi/.julia/v0.5/IJulia/src/eventloop.jl:8",
      " in (::IJulia.##13#19)() at ./task.jl:360"
     ]
    }
   ],
   "source": [
    "function someone_else_doing_something_else(a::Imm)\n",
    "    a.x = 42 # This is not allowed!!\n",
    "end\n",
    "\n",
    "someone_else_doing_something_else(imm_arr[3])"
   ]
  },
  {
   "cell_type": "markdown",
   "metadata": {},
   "source": [
    "If you don't know the type of the insides of an immutable type, you can tack on a type parameter.\n",
    "\n",
    "For example"
   ]
  },
  {
   "cell_type": "code",
   "execution_count": 17,
   "metadata": {
    "collapsed": false
   },
   "outputs": [],
   "source": [
    "immutable ImmParam{T}\n",
    "    x::T\n",
    "    y::T\n",
    "end"
   ]
  },
  {
   "cell_type": "code",
   "execution_count": 18,
   "metadata": {
    "collapsed": false
   },
   "outputs": [
    {
     "data": {
      "text/plain": [
       "32"
      ]
     },
     "execution_count": 18,
     "metadata": {},
     "output_type": "execute_result"
    }
   ],
   "source": [
    "sizeof(ImmParam{Int128}) # sizeof also works on the "
   ]
  },
  {
   "cell_type": "code",
   "execution_count": 19,
   "metadata": {
    "collapsed": false
   },
   "outputs": [
    {
     "data": {
      "text/plain": [
       "2"
      ]
     },
     "execution_count": 19,
     "metadata": {},
     "output_type": "execute_result"
    }
   ],
   "source": [
    "sizeof(ImmParam{Int8})"
   ]
  },
  {
   "cell_type": "code",
   "execution_count": 20,
   "metadata": {
    "collapsed": false
   },
   "outputs": [
    {
     "data": {
      "text/plain": [
       "false"
      ]
     },
     "execution_count": 20,
     "metadata": {},
     "output_type": "execute_result"
    }
   ],
   "source": [
    "ImmParam{Int8} == ImmParam{Int64}"
   ]
  },
  {
   "cell_type": "code",
   "execution_count": 21,
   "metadata": {
    "collapsed": false
   },
   "outputs": [
    {
     "data": {
      "text/plain": [
       "ImmParam{Float64}(1.0,2.0)"
      ]
     },
     "execution_count": 21,
     "metadata": {},
     "output_type": "execute_result"
    }
   ],
   "source": [
    "ImmParam(1.0,2.0) # Julia can automatically infer this"
   ]
  },
  {
   "cell_type": "code",
   "execution_count": 22,
   "metadata": {
    "collapsed": false
   },
   "outputs": [
    {
     "data": {
      "text/plain": [
       "ImmParam{Int64}(1,2)"
      ]
     },
     "execution_count": 22,
     "metadata": {},
     "output_type": "execute_result"
    }
   ],
   "source": [
    "ImmParam(1,2)"
   ]
  },
  {
   "cell_type": "code",
   "execution_count": 23,
   "metadata": {
    "collapsed": false
   },
   "outputs": [
    {
     "ename": "LoadError",
     "evalue": "MethodError: no method matching ImmParam{T}(::Float64, ::Int64)\u001b[0m\nClosest candidates are:\n  ImmParam{T}{T}(::T, \u001b[1m\u001b[31m::T\u001b[0m) at In[17]:2\n  ImmParam{T}{T}(::Any) at sysimg.jl:53\u001b[0m",
     "output_type": "error",
     "traceback": [
      "MethodError: no method matching ImmParam{T}(::Float64, ::Int64)\u001b[0m\nClosest candidates are:\n  ImmParam{T}{T}(::T, \u001b[1m\u001b[31m::T\u001b[0m) at In[17]:2\n  ImmParam{T}{T}(::Any) at sysimg.jl:53\u001b[0m",
      "",
      " in execute_request(::ZMQ.Socket, ::IJulia.Msg) at /home/shashi/.julia/v0.5/IJulia/src/execute_request.jl:175",
      " in eventloop(::ZMQ.Socket) at /home/shashi/.julia/v0.5/IJulia/src/eventloop.jl:8",
      " in (::IJulia.##13#19)() at ./task.jl:360"
     ]
    }
   ],
   "source": [
    "ImmParam(1.0,2)"
   ]
  },
  {
   "cell_type": "markdown",
   "metadata": {},
   "source": [
    "### And! It is aligned tightly!"
   ]
  },
  {
   "cell_type": "code",
   "execution_count": 24,
   "metadata": {
    "collapsed": false
   },
   "outputs": [
    {
     "name": "stdout",
     "output_type": "stream",
     "text": [
      "  0.046420 seconds (20.36 k allocations: 4.710 MB)\n"
     ]
    }
   ],
   "source": [
    "@time imm_par_array_int16 = [ImmParam{Int16}(2,3) for i = 1:10^6];"
   ]
  },
  {
   "cell_type": "code",
   "execution_count": 25,
   "metadata": {
    "collapsed": false
   },
   "outputs": [
    {
     "data": {
      "text/plain": [
       "4000000"
      ]
     },
     "execution_count": 25,
     "metadata": {},
     "output_type": "execute_result"
    }
   ],
   "source": [
    "sizeof(imm_par_array_int16)"
   ]
  },
  {
   "cell_type": "code",
   "execution_count": 26,
   "metadata": {
    "collapsed": false
   },
   "outputs": [
    {
     "name": "stdout",
     "output_type": "stream",
     "text": [
      "  0.095234 seconds (20.35 k allocations: 2.803 MB)\n"
     ]
    }
   ],
   "source": [
    "@time imm_par_array_int8 = [ImmParam{Int8}(2,3) for i = 1:10^6];"
   ]
  },
  {
   "cell_type": "code",
   "execution_count": 27,
   "metadata": {
    "collapsed": false
   },
   "outputs": [
    {
     "data": {
      "text/plain": [
       "2000000"
      ]
     },
     "execution_count": 27,
     "metadata": {},
     "output_type": "execute_result"
    }
   ],
   "source": [
    "sizeof(imm_par_array_int8)"
   ]
  },
  {
   "cell_type": "code",
   "execution_count": 53,
   "metadata": {
    "collapsed": false
   },
   "outputs": [
    {
     "name": "stdout",
     "output_type": "stream",
     "text": [
      "  0.066036 seconds (13.98 k allocations: 31.117 MB, 2.43% gc time)\n"
     ]
    }
   ],
   "source": [
    "@time imm_par_array_cplx = [ImmParam(2+3im,3+2im) for i = 1:10^6];"
   ]
  },
  {
   "cell_type": "code",
   "execution_count": 54,
   "metadata": {
    "collapsed": false
   },
   "outputs": [
    {
     "data": {
      "text/plain": [
       "32000000"
      ]
     },
     "execution_count": 54,
     "metadata": {},
     "output_type": "execute_result"
    }
   ],
   "source": [
    "sizeof(imm_par_array_cplx)"
   ]
  },
  {
   "cell_type": "code",
   "execution_count": 56,
   "metadata": {
    "collapsed": false
   },
   "outputs": [
    {
     "name": "stderr",
     "output_type": "stream",
     "text": [
      "WARNING: Method definition +(Main.ImmParam, Main.ImmParam) in module Main at In[55]:1 overwritten at In[56]:1.\n"
     ]
    }
   ],
   "source": [
    "Base.:+(a::ImmParam, b::ImmParam) = ImmParam(a.x+b.x, a.y+b.y)"
   ]
  },
  {
   "cell_type": "code",
   "execution_count": 62,
   "metadata": {
    "collapsed": false
   },
   "outputs": [
    {
     "name": "stdout",
     "output_type": "stream",
     "text": [
      "  0.043371 seconds (5 allocations: 208 bytes)\n"
     ]
    },
    {
     "data": {
      "text/plain": [
       "ImmParam{Complex{Int64}}(2000000 + 3000000im,3000000 + 2000000im)"
      ]
     },
     "execution_count": 62,
     "metadata": {},
     "output_type": "execute_result"
    }
   ],
   "source": [
    "@time sum(imm_par_array_cplx)"
   ]
  },
  {
   "cell_type": "markdown",
   "metadata": {},
   "source": [
    "## But be careful! Vectors of Heterogeneous types force boxing!"
   ]
  },
  {
   "cell_type": "code",
   "execution_count": 75,
   "metadata": {
    "collapsed": false
   },
   "outputs": [
    {
     "data": {
      "text/plain": [
       "4-element Array{Any,1}:\n",
       "   \"xyzabc\"\n",
       " 1+2im     \n",
       "  1        \n",
       "  1.0      "
      ]
     },
     "execution_count": 75,
     "metadata": {},
     "output_type": "execute_result"
    }
   ],
   "source": [
    "[\"xyzabc\", 1+2im, 1, 1.0]"
   ]
  },
  {
   "cell_type": "code",
   "execution_count": 68,
   "metadata": {
    "collapsed": false
   },
   "outputs": [
    {
     "data": {
      "text/plain": [
       "16"
      ]
     },
     "execution_count": 68,
     "metadata": {},
     "output_type": "execute_result"
    }
   ],
   "source": [
    "[ImmParam(UInt8(1),UInt8(1)), ImmParam(1.0,1.0)] |> sizeof"
   ]
  },
  {
   "cell_type": "code",
   "execution_count": 72,
   "metadata": {
    "collapsed": false
   },
   "outputs": [
    {
     "name": "stdout",
     "output_type": "stream",
     "text": [
      "  0.341083 seconds (3.03 M allocations: 85.310 MB, 50.88% gc time)\n"
     ]
    },
    {
     "data": {
      "text/plain": [
       "1000000-element Array{ImmParam,1}:\n",
       " ImmParam{Float64}(1.0,1.0)\n",
       " ImmParam{UInt8}(0x01,0x01)\n",
       " ImmParam{Float64}(1.0,1.0)\n",
       " ImmParam{UInt8}(0x01,0x01)\n",
       " ImmParam{Float64}(1.0,1.0)\n",
       " ImmParam{UInt8}(0x01,0x01)\n",
       " ImmParam{Float64}(1.0,1.0)\n",
       " ImmParam{UInt8}(0x01,0x01)\n",
       " ImmParam{Float64}(1.0,1.0)\n",
       " ImmParam{UInt8}(0x01,0x01)\n",
       " ImmParam{Float64}(1.0,1.0)\n",
       " ImmParam{UInt8}(0x01,0x01)\n",
       " ImmParam{Float64}(1.0,1.0)\n",
       " ⋮                         \n",
       " ImmParam{Float64}(1.0,1.0)\n",
       " ImmParam{UInt8}(0x01,0x01)\n",
       " ImmParam{Float64}(1.0,1.0)\n",
       " ImmParam{UInt8}(0x01,0x01)\n",
       " ImmParam{Float64}(1.0,1.0)\n",
       " ImmParam{UInt8}(0x01,0x01)\n",
       " ImmParam{Float64}(1.0,1.0)\n",
       " ImmParam{UInt8}(0x01,0x01)\n",
       " ImmParam{Float64}(1.0,1.0)\n",
       " ImmParam{UInt8}(0x01,0x01)\n",
       " ImmParam{Float64}(1.0,1.0)\n",
       " ImmParam{UInt8}(0x01,0x01)"
      ]
     },
     "execution_count": 72,
     "metadata": {},
     "output_type": "execute_result"
    }
   ],
   "source": [
    "@time heter_arr = [i%2 == 0 ? ImmParam(UInt8(1),UInt8(1)) : ImmParam(1.0,1.0) for i = 1:10^6]"
   ]
  },
  {
   "cell_type": "code",
   "execution_count": 74,
   "metadata": {
    "collapsed": false
   },
   "outputs": [
    {
     "name": "stdout",
     "output_type": "stream",
     "text": [
      "  0.267709 seconds (1.00 M allocations: 30.518 MB, 85.09% gc time)\n"
     ]
    },
    {
     "data": {
      "text/plain": [
       "ImmParam{Float64}(1.0e6,1.0e6)"
      ]
     },
     "execution_count": 74,
     "metadata": {},
     "output_type": "execute_result"
    }
   ],
   "source": [
    "@time sum(heter_arr)"
   ]
  },
  {
   "cell_type": "markdown",
   "metadata": {},
   "source": [
    "## Summary\n",
    "\n",
    "- Use immutables wherever you consider something to be a *value*. Use type when something is a *state*.\n",
    "- Never create a large array of mutable objects! Each one is heap-allocated, this kills performance and gives the GC a hard time.\n",
    "- Parameterize if you need to change types"
   ]
  }
 ],
 "metadata": {
  "anaconda-cloud": {},
  "kernelspec": {
   "display_name": "Julia 0.5.0",
   "language": "julia",
   "name": "julia-0.5"
  },
  "language_info": {
   "file_extension": ".jl",
   "mimetype": "application/julia",
   "name": "julia",
   "version": "0.5.0"
  }
 },
 "nbformat": 4,
 "nbformat_minor": 2
}
