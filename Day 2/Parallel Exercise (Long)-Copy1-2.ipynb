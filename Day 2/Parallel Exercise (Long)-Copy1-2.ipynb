{
 "cells": [
  {
   "cell_type": "markdown",
   "metadata": {},
   "source": [
    "# Exercise\n",
    "\n",
    "In this exercise we will do some signal processing on a large database of ECG waveforms."
   ]
  },
  {
   "cell_type": "markdown",
   "metadata": {},
   "source": [
    "## Setup\n",
    "\n",
    "Install the following packages:\n",
    "\n",
    "`MAT`\n",
    "\n",
    "`DistributedArrays`\n",
    "\n",
    "`PyPlot`\n",
    "\n",
    "`Pkg.clone(\"git@github.com:andreasnoack/TSVD.jl.git\")` or\n",
    "\n",
    "`Pkg.clone(\"https://github.com/andreasnoack/TSVD.jl.git\")`"
   ]
  },
  {
   "cell_type": "code",
   "execution_count": 5,
   "metadata": {
    "collapsed": false
   },
   "outputs": [
    {
     "data": {
      "text/plain": [
       "1-element Array{Int64,1}:\n",
       " 2"
      ]
     },
     "execution_count": 5,
     "metadata": {},
     "output_type": "execute_result"
    }
   ],
   "source": [
    "addprocs(1)"
   ]
  },
  {
   "cell_type": "code",
   "execution_count": 2,
   "metadata": {
    "collapsed": false
   },
   "outputs": [],
   "source": [
    "@everywhere using MAT"
   ]
  },
  {
   "cell_type": "code",
   "execution_count": 7,
   "metadata": {
    "collapsed": false
   },
   "outputs": [],
   "source": [
    "@everywhere using TSVD"
   ]
  },
  {
   "cell_type": "code",
   "execution_count": 8,
   "metadata": {
    "collapsed": false
   },
   "outputs": [],
   "source": [
    "@everywhere using DistributedArrays"
   ]
  },
  {
   "cell_type": "code",
   "execution_count": 9,
   "metadata": {
    "collapsed": false
   },
   "outputs": [],
   "source": [
    "# a couple extra definitions to patch into Base\n",
    "\n",
    "@everywhere function Base.hcat{T<:DistributedArrays.DVector}(x::Vector{T})\n",
    "    l    = length(x)\n",
    "    if l == 0\n",
    "        throw(ArgumentError(\"cannot flatten empty vector\"))\n",
    "    else\n",
    "        x1   = x[1]\n",
    "        m, n = size(x1, 1), size(x1, 2)\n",
    "        B    = DArray((m, l*n)) do I\n",
    "            B_local = Array(eltype(x1), map(length, I))\n",
    "            for j = 1:length(I[2])\n",
    "                B_local[:, j] = x[I[2][j]][I[1]]\n",
    "            end\n",
    "            return B_local\n",
    "        end\n",
    "        return B\n",
    "    end\n",
    "end\n",
    "\n",
    "@everywhere Base.procs(A::Array) = fill(myid(), 1, 1)"
   ]
  },
  {
   "cell_type": "markdown",
   "metadata": {},
   "source": [
    "## Loading files"
   ]
  },
  {
   "cell_type": "code",
   "execution_count": 10,
   "metadata": {
    "collapsed": false
   },
   "outputs": [
    {
     "data": {
      "text/plain": [
       "\".\""
      ]
     },
     "execution_count": 10,
     "metadata": {},
     "output_type": "execute_result"
    }
   ],
   "source": [
    "path = \".\""
   ]
  },
  {
   "cell_type": "code",
   "execution_count": 11,
   "metadata": {
    "collapsed": false
   },
   "outputs": [
    {
     "data": {
      "text/plain": [
       "7-element Array{String,1}:\n",
       " \"./.julia\"\n",
       " \"./s00124\"\n",
       " \"./s00177\"\n",
       " \"./s00283\"\n",
       " \"./s00308\"\n",
       " \"./s00377\"\n",
       " \"./s00408\""
      ]
     },
     "execution_count": 11,
     "metadata": {},
     "output_type": "execute_result"
    }
   ],
   "source": [
    "dirs = @fetchfrom 2 filter(isdir, map(t -> joinpath(path, t), readdir(path)))"
   ]
  },
  {
   "cell_type": "code",
   "execution_count": 14,
   "metadata": {
    "collapsed": false
   },
   "outputs": [
    {
     "data": {
      "text/plain": [
       "315-element Array{String,1}:\n",
       " \"./s00124/3255538_0001.mat\"\n",
       " \"./s00124/3255538_0002.mat\"\n",
       " \"./s00124/3255538_0003.mat\"\n",
       " \"./s00124/3255538_0004.mat\"\n",
       " \"./s00124/3255538_0005.mat\"\n",
       " \"./s00124/3255538_0006.mat\"\n",
       " \"./s00124/3526846_0001.mat\"\n",
       " \"./s00124/3526846_0002.mat\"\n",
       " \"./s00124/3526846_0003.mat\"\n",
       " \"./s00124/3526846_0004.mat\"\n",
       " \"./s00124/3526846_0005.mat\"\n",
       " \"./s00124/3526846_0006.mat\"\n",
       " \"./s00124/3526846_0007.mat\"\n",
       " ⋮                          \n",
       " \"./s00408/3083502_0028.mat\"\n",
       " \"./s00408/3083502_0029.mat\"\n",
       " \"./s00408/3083502_0030.mat\"\n",
       " \"./s00408/3985400_0001.mat\"\n",
       " \"./s00408/3985400_0002.mat\"\n",
       " \"./s00408/3985400_0003.mat\"\n",
       " \"./s00408/3985400_0004.mat\"\n",
       " \"./s00408/3985400_0005.mat\"\n",
       " \"./s00408/3985400_0006.mat\"\n",
       " \"./s00408/3985400_0007.mat\"\n",
       " \"./s00408/3985400_0008.mat\"\n",
       " \"./s00408/3985400_0009.mat\""
      ]
     },
     "execution_count": 14,
     "metadata": {},
     "output_type": "execute_result"
    }
   ],
   "source": [
    "fls = @fetchfrom 2 filter(x->endswith(x,\".mat\"),mapreduce(t -> map(s -> joinpath(t, s), readdir(t)), vcat, dirs))"
   ]
  },
  {
   "cell_type": "code",
   "execution_count": 15,
   "metadata": {
    "collapsed": false
   },
   "outputs": [
    {
     "data": {
      "text/plain": [
       "Dict{String,Any} with 3 entries:\n",
       "  \"A\"      => Dict{String,Any}(Pair{String,Any}(\"A\",…\n",
       "  \"tm\"     => [0.0; 0.008; … ; 2759.98; 2759.99]\n",
       "  \"signal\" => [0.8; 0.44; … ; 1.56; 0.6]"
      ]
     },
     "execution_count": 15,
     "metadata": {},
     "output_type": "execute_result"
    }
   ],
   "source": [
    "x = @fetchfrom 2 MAT.matread(fls[1])"
   ]
  },
  {
   "cell_type": "code",
   "execution_count": 17,
   "metadata": {
    "collapsed": false
   },
   "outputs": [
    {
     "name": "stderr",
     "output_type": "stream",
     "text": [
      "INFO: Precompiling module PyPlot.\n",
      "WARNING: Node state is inconsistent: node 2 failed to load cache from /home/juser/.julia/lib/v0.5/PyPlot.ji. Got:\n",
      "WARNING: Module Reexport uuid did not match cache file.\n"
     ]
    }
   ],
   "source": [
    "using PyPlot"
   ]
  },
  {
   "cell_type": "code",
   "execution_count": 19,
   "metadata": {
    "collapsed": false
   },
   "outputs": [
    {
     "data": {
      "image/png": "[encoded data removed]",
      "text/plain": [
       "PyPlot.Figure(PyObject <matplotlib.figure.Figure object at 0x7fe48a4e6c50>)"
      ]
     },
     "metadata": {},
     "output_type": "display_data"
    },
    {
     "data": {
      "text/plain": [
       "1-element Array{Any,1}:\n",
       " PyObject <matplotlib.lines.Line2D object at 0x7fe48425cb10>"
      ]
     },
     "execution_count": 19,
     "metadata": {},
     "output_type": "execute_result"
    }
   ],
   "source": [
    "plot(x[\"signal\"][1:500])"
   ]
  },
  {
   "cell_type": "code",
   "execution_count": null,
   "metadata": {
    "collapsed": true
   },
   "outputs": [],
   "source": [
    "# each file contains a dictionary; we want the \"signal\" key\n",
    "dt = # use `matread` to read all of the files"
   ]
  },
  {
   "cell_type": "markdown",
   "metadata": {},
   "source": [
    "## Forming a matrix"
   ]
  },
  {
   "cell_type": "code",
   "execution_count": null,
   "metadata": {
    "collapsed": true
   },
   "outputs": [],
   "source": [
    "# this converts a vector to size `n` by cutting down or repeating\n",
    "@everywhere pad(v,n) = collect(take(cycle(v),n))"
   ]
  },
  {
   "cell_type": "code",
   "execution_count": null,
   "metadata": {
    "collapsed": true
   },
   "outputs": [],
   "source": [
    "# replace NaNs with zero\n",
    "@everywhere denan!(v) = map!(x->isnan(x) ? zero(x) : x, v)"
   ]
  },
  {
   "cell_type": "code",
   "execution_count": null,
   "metadata": {
    "collapsed": true
   },
   "outputs": [],
   "source": [
    "function makemat(A::DArray, n)\n",
    "    # this function should take a DArray of vectors, pad them to size `n`, denan\n",
    "    # and place them as the columns of a distributed matrix\n",
    "end"
   ]
  },
  {
   "cell_type": "code",
   "execution_count": null,
   "metadata": {
    "collapsed": true
   },
   "outputs": [],
   "source": [
    "A = makemat(dataset, 1000)"
   ]
  },
  {
   "cell_type": "code",
   "execution_count": null,
   "metadata": {
    "collapsed": true
   },
   "outputs": [],
   "source": [
    "B = # use `mapslices` to FFT each column"
   ]
  },
  {
   "cell_type": "code",
   "execution_count": null,
   "metadata": {
    "collapsed": true
   },
   "outputs": [],
   "source": [
    "v0 = DArray(I -> rand(Complex128, length(I[1])), (size(B, 1),), B.pids[:,1])\n",
    "@time U, s, V = TSVD.tsvd(B, 5, initVec = v0, stepSize = 5);"
   ]
  },
  {
   "cell_type": "code",
   "execution_count": null,
   "metadata": {
    "collapsed": true
   },
   "outputs": [],
   "source": [
    "using PyPlot"
   ]
  },
  {
   "cell_type": "code",
   "execution_count": null,
   "metadata": {
    "collapsed": true
   },
   "outputs": [],
   "source": [
    "plot(convert(Array,abs(U)))"
   ]
  }
 ],
 "metadata": {
  "anaconda-cloud": {},
  "kernelspec": {
   "display_name": "Julia 0.5.1-pre",
   "language": "julia",
   "name": "julia-0.5"
  },
  "language_info": {
   "file_extension": ".jl",
   "mimetype": "application/julia",
   "name": "julia",
   "version": "0.5.1"
  }
 },
 "nbformat": 4,
 "nbformat_minor": 1
}
