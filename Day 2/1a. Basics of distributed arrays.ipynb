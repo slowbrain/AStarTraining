{
 "cells": [
  {
   "cell_type": "markdown",
   "metadata": {},
   "source": [
    "\n",
    "\n",
    "# Distributed arrays"
   ]
  },
  {
   "cell_type": "markdown",
   "metadata": {},
   "source": [
    "Parallel computing is a mess: too many types of parallelism:\n",
    "- MPI\n",
    "- CUDA\n",
    "- OpenMP\n",
    "- Threads"
   ]
  },
  {
   "cell_type": "markdown",
   "metadata": {},
   "source": [
    "Idea: `DistributedArrays` *will* be (currently not quite there yet) the best, and easiest, way to do parallel computing. \n",
    "\n",
    "It's an *easy* form of parallelism, when it works."
   ]
  },
  {
   "cell_type": "markdown",
   "metadata": {},
   "source": [
    "An array that lives on several processors -- each processor has a part of the array (a \"local part\"). The array is **partitioned** on the different processors.\n",
    "\n",
    "Note that the idea of referring to a vector as just one object, `v`, was a big deal in Matlab / Python etc.\n",
    "\n",
    "Now `v` will refer to an array that is a more complicated object.\n",
    "\n",
    "A `DistributedArray` will just **look like** (to us) a standard Julia array. The complicated stuff inside is hidden by an **abstraction**."
   ]
  },
  {
   "cell_type": "code",
   "execution_count": 1,
   "metadata": {
    "collapsed": false
   },
   "outputs": [
    {
     "name": "stderr",
     "output_type": "stream",
     "text": [
      "WARNING: replacing module DistributedArrays.\n",
      "WARNING: replacing module DistributedArrays.\n",
      "WARNING: replacing module DistributedArrays.\n",
      "WARNING: replacing module DistributedArrays.\n"
     ]
    }
   ],
   "source": [
    "# Add processes:\n",
    "addprocs(4)\n",
    "\n",
    "# Use package for \"distributed arrays\"\n",
    "@everywhere using DistributedArrays"
   ]
  },
  {
   "cell_type": "code",
   "execution_count": 6,
   "metadata": {
    "collapsed": false
   },
   "outputs": [
    {
     "data": {
      "text/plain": [
       "1000-element Array{Int64,1}:\n",
       "       1\n",
       "       4\n",
       "       9\n",
       "      16\n",
       "      25\n",
       "      36\n",
       "      49\n",
       "      64\n",
       "      81\n",
       "     100\n",
       "     121\n",
       "     144\n",
       "     169\n",
       "       ⋮\n",
       "  978121\n",
       "  980100\n",
       "  982081\n",
       "  984064\n",
       "  986049\n",
       "  988036\n",
       "  990025\n",
       "  992016\n",
       "  994009\n",
       "  996004\n",
       "  998001\n",
       " 1000000"
      ]
     },
     "execution_count": 6,
     "metadata": {},
     "output_type": "execute_result"
    }
   ],
   "source": [
    "# Make some data:\n",
    "\n",
    "a = 1:10^3  # standard Julia array\n",
    "\n",
    "b = map(t->t^2, a)  # standard Julia array.\n",
    "\n",
    "# Equivalent to:\n",
    "a .^ 2  # Matlabby notation"
   ]
  },
  {
   "cell_type": "code",
   "execution_count": 5,
   "metadata": {
    "collapsed": false
   },
   "outputs": [
    {
     "name": "stderr",
     "output_type": "stream",
     "text": [
      "WARNING: Method definition sqr(Any) in module Main at In[4]:11 overwritten at In[5]:11.\n"
     ]
    },
    {
     "data": {
      "text/plain": [
       "1000-element Array{Int64,1}:\n",
       "       1\n",
       "       4\n",
       "       9\n",
       "      16\n",
       "      25\n",
       "      36\n",
       "      49\n",
       "      64\n",
       "      81\n",
       "     100\n",
       "     121\n",
       "     144\n",
       "     169\n",
       "       ⋮\n",
       "  978121\n",
       "  980100\n",
       "  982081\n",
       "  984064\n",
       "  986049\n",
       "  988036\n",
       "  990025\n",
       "  992016\n",
       "  994009\n",
       "  996004\n",
       "  998001\n",
       " 1000000"
      ]
     },
     "execution_count": 5,
     "metadata": {},
     "output_type": "execute_result"
    }
   ],
   "source": [
    "# Equivalent to:\n",
    "sqr(t) = t^2\n",
    "sqr.(a)\n",
    "\n",
    "# Equivalent to\n",
    "(t->t^2).(a)  # too messy"
   ]
  },
  {
   "cell_type": "markdown",
   "metadata": {},
   "source": [
    "**Exercise**: Check that there is no performance difference (within 10%) between these different ways of doing it. If there is, it's probably a bug."
   ]
  },
  {
   "cell_type": "markdown",
   "metadata": {},
   "source": [
    "## Parallelize it (where \"it\" is embarrassingly parallel)"
   ]
  },
  {
   "cell_type": "code",
   "execution_count": 7,
   "metadata": {
    "collapsed": false
   },
   "outputs": [
    {
     "data": {
      "text/plain": [
       "5-element Array{Int64,1}:\n",
       " 1\n",
       " 2\n",
       " 3\n",
       " 4\n",
       " 5"
      ]
     },
     "execution_count": 7,
     "metadata": {},
     "output_type": "execute_result"
    }
   ],
   "source": [
    "procs()"
   ]
  },
  {
   "cell_type": "markdown",
   "metadata": {},
   "source": [
    "One \"master\" process and 4 \"workers\":"
   ]
  },
  {
   "cell_type": "code",
   "execution_count": 9,
   "metadata": {
    "collapsed": false
   },
   "outputs": [
    {
     "data": {
      "text/plain": [
       "4-element Array{Int64,1}:\n",
       " 2\n",
       " 3\n",
       " 4\n",
       " 5"
      ]
     },
     "execution_count": 9,
     "metadata": {},
     "output_type": "execute_result"
    }
   ],
   "source": [
    "workers()"
   ]
  },
  {
   "cell_type": "code",
   "execution_count": 10,
   "metadata": {
    "collapsed": false
   },
   "outputs": [
    {
     "data": {
      "text/plain": [
       "1:1000"
      ]
     },
     "execution_count": 10,
     "metadata": {},
     "output_type": "execute_result"
    }
   ],
   "source": [
    "a  # standard Julia object"
   ]
  },
  {
   "cell_type": "code",
   "execution_count": 11,
   "metadata": {
    "collapsed": false
   },
   "outputs": [
    {
     "data": {
      "text/plain": [
       "1000-element DistributedArrays.DArray{Int64,1,UnitRange{Int64}}:\n",
       "    1\n",
       "    2\n",
       "    3\n",
       "    4\n",
       "    5\n",
       "    6\n",
       "    7\n",
       "    8\n",
       "    9\n",
       "   10\n",
       "   11\n",
       "   12\n",
       "   13\n",
       "    ⋮\n",
       "  989\n",
       "  990\n",
       "  991\n",
       "  992\n",
       "  993\n",
       "  994\n",
       "  995\n",
       "  996\n",
       "  997\n",
       "  998\n",
       "  999\n",
       " 1000"
      ]
     },
     "execution_count": 11,
     "metadata": {},
     "output_type": "execute_result"
    }
   ],
   "source": [
    "# Distribute the data:\n",
    "\n",
    "D = distribute(a)"
   ]
  },
  {
   "cell_type": "code",
   "execution_count": 13,
   "metadata": {
    "collapsed": false
   },
   "outputs": [
    {
     "data": {
      "text/plain": [
       "DistributedArrays.DArray{Int64,1,UnitRange{Int64}}"
      ]
     },
     "execution_count": 13,
     "metadata": {},
     "output_type": "execute_result"
    }
   ],
   "source": [
    "T = typeof(D)"
   ]
  },
  {
   "cell_type": "code",
   "execution_count": 14,
   "metadata": {
    "collapsed": false
   },
   "outputs": [
    {
     "data": {
      "text/plain": [
       "AbstractArray{Int64,1}"
      ]
     },
     "execution_count": 14,
     "metadata": {},
     "output_type": "execute_result"
    }
   ],
   "source": [
    "supertype(T)"
   ]
  },
  {
   "cell_type": "code",
   "execution_count": 18,
   "metadata": {
    "collapsed": false
   },
   "outputs": [
    {
     "name": "stdout",
     "output_type": "stream",
     "text": [
      "[1,2,3,4,5,6,7,8,9,10,11,12,13,14,15,16,17,18,19,20,21,22,23,24,25,26,27,28,29,30,31,32,33,34,35,36,37,38,39,40,41,42,43,44,45,46,47,48,49,50,51,52,53,54,55,56,57,58,59,60,61,62,63,64,65,66,67,68,69,70,71,72,73,74,75,76,77,78,79,80,81,82,83,84,85,86,87,88,89,90,91,92,93,94,95,96,97,98,99,100,101,102,103,104,105,106,107,108,109,110,111,112,113,114,115,116,117,118,119,120,121,122,123,124,125,126,127,128,129,130,131,132,133,134,135,136,137,138,139,140,141,142,143,144,145,146,147,148,149,150,151,152,153,154,155,156,157,158,159,160,161,162,163,164,165,166,167,168,169,170,171,172,173,174,175,176,177,178,179,180,181,182,183,184,185,186,187,188,189,190,191,192,193,194,195,196,197,198,199,200,201,202,203,204,205,206,207,208,209,210,211,212,213,214,215,216,217,218,219,220,221,222,223,224,225,226,227,228,229,230,231,232,233,234,235,236,237,238,239,240,241,242,243,244,245,246,247,248,249,250,251,252,253,254,255,256,257,258,259,260,261,262,263,264,265,266,267,268,269,270,271,272,273,274,275,276,277,278,279,280,281,282,283,284,285,286,287,288,289,290,291,292,293,294,295,296,297,298,299,300,301,302,303,304,305,306,307,308,309,310,311,312,313,314,315,316,317,318,319,320,321,322,323,324,325,326,327,328,329,330,331,332,333,334,335,336,337,338,339,340,341,342,343,344,345,346,347,348,349,350,351,352,353,354,355,356,357,358,359,360,361,362,363,364,365,366,367,368,369,370,371,372,373,374,375,376,377,378,379,380,381,382,383,384,385,386,387,388,389,390,391,392,393,394,395,396,397,398,399,400,401,402,403,404,405,406,407,408,409,410,411,412,413,414,415,416,417,418,419,420,421,422,423,424,425,426,427,428,429,430,431,432,433,434,435,436,437,438,439,440,441,442,443,444,445,446,447,448,449,450,451,452,453,454,455,456,457,458,459,460,461,462,463,464,465,466,467,468,469,470,471,472,473,474,475,476,477,478,479,480,481,482,483,484,485,486,487,488,489,490,491,492,493,494,495,496,497,498,499,500,501,502,503,504,505,506,507,508,509,510,511,512,513,514,515,516,517,518,519,520,521,522,523,524,525,526,527,528,529,530,531,532,533,534,535,536,537,538,539,540,541,542,543,544,545,546,547,548,549,550,551,552,553,554,555,556,557,558,559,560,561,562,563,564,565,566,567,568,569,570,571,572,573,574,575,576,577,578,579,580,581,582,583,584,585,586,587,588,589,590,591,592,593,594,595,596,597,598,599,600,601,602,603,604,605,606,607,608,609,610,611,612,613,614,615,616,617,618,619,620,621,622,623,624,625,626,627,628,629,630,631,632,633,634,635,636,637,638,639,640,641,642,643,644,645,646,647,648,649,650,651,652,653,654,655,656,657,658,659,660,661,662,663,664,665,666,667,668,669,670,671,672,673,674,675,676,677,678,679,680,681,682,683,684,685,686,687,688,689,690,691,692,693,694,695,696,697,698,699,700,701,702,703,704,705,706,707,708,709,710,711,712,713,714,715,716,717,718,719,720,721,722,723,724,725,726,727,728,729,730,731,732,733,734,735,736,737,738,739,740,741,742,743,744,745,746,747,748,749,750,751,752,753,754,755,756,757,758,759,760,761,762,763,764,765,766,767,768,769,770,771,772,773,774,775,776,777,778,779,780,781,782,783,784,785,786,787,788,789,790,791,792,793,794,795,796,797,798,799,800,801,802,803,804,805,806,807,808,809,810,811,812,813,814,815,816,817,818,819,820,821,822,823,824,825,826,827,828,829,830,831,832,833,834,835,836,837,838,839,840,841,842,843,844,845,846,847,848,849,850,851,852,853,854,855,856,857,858,859,860,861,862,863,864,865,866,867,868,869,870,871,872,873,874,875,876,877,878,879,880,881,882,883,884,885,886,887,888,889,890,891,892,893,894,895,896,897,898,899,900,901,902,903,904,905,906,907,908,909,910,911,912,913,914,915,916,917,918,919,920,921,922,923,924,925,926,927,928,929,930,931,932,933,934,935,936,937,938,939,940,941,942,943,944,945,946,947,948,949,950,951,952,953,954,955,956,957,958,959,960,961,962,963,964,965,966,967,968,969,970,971,972,973,974,975,976,977,978,979,980,981,982,983,984,985,986,987,988,989,990,991,992,993,994,995,996,997,998,999,1000]"
     ]
    }
   ],
   "source": [
    "show(D)"
   ]
  },
  {
   "cell_type": "markdown",
   "metadata": {},
   "source": [
    "To get at the information inside the object:\n",
    "\n",
    "    `D.<TAB>`"
   ]
  },
  {
   "cell_type": "code",
   "execution_count": 19,
   "metadata": {
    "collapsed": false
   },
   "outputs": [
    {
     "data": {
      "text/plain": [
       "6-element Array{Symbol,1}:\n",
       " :identity\n",
       " :dims    \n",
       " :pids    \n",
       " :indexes \n",
       " :cuts    \n",
       " :release "
      ]
     },
     "execution_count": 19,
     "metadata": {},
     "output_type": "execute_result"
    }
   ],
   "source": [
    "fieldnames(D)"
   ]
  },
  {
   "cell_type": "markdown",
   "metadata": {},
   "source": [
    "Which piece of the `DArray` is stored on each worker:"
   ]
  },
  {
   "cell_type": "code",
   "execution_count": 20,
   "metadata": {
    "collapsed": false
   },
   "outputs": [
    {
     "data": {
      "text/plain": [
       "4-element Array{Tuple{UnitRange{Int64}},1}:\n",
       " (1:250,)   \n",
       " (251:500,) \n",
       " (501:750,) \n",
       " (751:1000,)"
      ]
     },
     "execution_count": 20,
     "metadata": {},
     "output_type": "execute_result"
    }
   ],
   "source": [
    "D.indexes"
   ]
  },
  {
   "cell_type": "markdown",
   "metadata": {},
   "source": [
    "We want to write the *same* code and have it \"just work\":"
   ]
  },
  {
   "cell_type": "code",
   "execution_count": 28,
   "metadata": {
    "collapsed": false
   },
   "outputs": [
    {
     "data": {
      "text/plain": [
       "1000-element DistributedArrays.DArray{Int64,1,Array{Int64,1}}:\n",
       "       1\n",
       "       4\n",
       "       9\n",
       "      16\n",
       "      25\n",
       "      36\n",
       "      49\n",
       "      64\n",
       "      81\n",
       "     100\n",
       "     121\n",
       "     144\n",
       "     169\n",
       "       ⋮\n",
       "  978121\n",
       "  980100\n",
       "  982081\n",
       "  984064\n",
       "  986049\n",
       "  988036\n",
       "  990025\n",
       "  992016\n",
       "  994009\n",
       "  996004\n",
       "  998001\n",
       " 1000000"
      ]
     },
     "execution_count": 28,
     "metadata": {},
     "output_type": "execute_result"
    }
   ],
   "source": [
    "dD = map(t -> t^2, D)  # dD is the distributed answer"
   ]
  },
  {
   "cell_type": "code",
   "execution_count": 29,
   "metadata": {
    "collapsed": false
   },
   "outputs": [
    {
     "data": {
      "text/plain": [
       "true"
      ]
     },
     "execution_count": 29,
     "metadata": {},
     "output_type": "execute_result"
    }
   ],
   "source": [
    "# apply map to distributed vector (looks identical to non-distributed case)\n",
    "\n",
    "dD == map(t->t^2, a)  # undistributes the array back onto the master node"
   ]
  },
  {
   "cell_type": "code",
   "execution_count": 31,
   "metadata": {
    "collapsed": false
   },
   "outputs": [
    {
     "data": {
      "text/plain": [
       "250-element Array{Int64,1}:\n",
       "  63001\n",
       "  63504\n",
       "  64009\n",
       "  64516\n",
       "  65025\n",
       "  65536\n",
       "  66049\n",
       "  66564\n",
       "  67081\n",
       "  67600\n",
       "  68121\n",
       "  68644\n",
       "  69169\n",
       "      ⋮\n",
       " 239121\n",
       " 240100\n",
       " 241081\n",
       " 242064\n",
       " 243049\n",
       " 244036\n",
       " 245025\n",
       " 246016\n",
       " 247009\n",
       " 248004\n",
       " 249001\n",
       " 250000"
      ]
     },
     "execution_count": 31,
     "metadata": {},
     "output_type": "execute_result"
    }
   ],
   "source": [
    "@fetchfrom 3 localpart(dD)  # the result that worker 2 calculated"
   ]
  },
  {
   "cell_type": "markdown",
   "metadata": {},
   "source": [
    "Remember: NEVER do performance comparisons in global scope, always inside a function. (See later for the reason.)"
   ]
  },
  {
   "cell_type": "code",
   "execution_count": 33,
   "metadata": {
    "collapsed": true
   },
   "outputs": [],
   "source": [
    "using BenchmarkTools"
   ]
  },
  {
   "cell_type": "code",
   "execution_count": 36,
   "metadata": {
    "collapsed": false
   },
   "outputs": [
    {
     "data": {
      "text/plain": [
       "5-element Array{Int64,1}:\n",
       " 1\n",
       " 2\n",
       " 3\n",
       " 4\n",
       " 5"
      ]
     },
     "execution_count": 36,
     "metadata": {},
     "output_type": "execute_result"
    }
   ],
   "source": [
    "procs()"
   ]
  },
  {
   "cell_type": "code",
   "execution_count": 37,
   "metadata": {
    "collapsed": false
   },
   "outputs": [
    {
     "name": "stderr",
     "output_type": "stream",
     "text": [
      "\u001b[1m\u001b[31mWARNING: rmprocs: process 1 not removed\u001b[0m\n"
     ]
    },
    {
     "data": {
      "text/plain": [
       ":ok"
      ]
     },
     "execution_count": 37,
     "metadata": {},
     "output_type": "execute_result"
    }
   ],
   "source": [
    "rmprocs(1:5)"
   ]
  },
  {
   "cell_type": "code",
   "execution_count": 38,
   "metadata": {
    "collapsed": false
   },
   "outputs": [
    {
     "data": {
      "text/plain": [
       "1-element Array{Int64,1}:\n",
       " 1"
      ]
     },
     "execution_count": 38,
     "metadata": {},
     "output_type": "execute_result"
    }
   ],
   "source": [
    "procs()"
   ]
  },
  {
   "cell_type": "code",
   "execution_count": 39,
   "metadata": {
    "collapsed": false
   },
   "outputs": [
    {
     "data": {
      "text/plain": [
       "2-element Array{Int64,1}:\n",
       " 6\n",
       " 7"
      ]
     },
     "execution_count": 39,
     "metadata": {},
     "output_type": "execute_result"
    }
   ],
   "source": [
    "addprocs(2)"
   ]
  },
  {
   "cell_type": "code",
   "execution_count": 40,
   "metadata": {
    "collapsed": true
   },
   "outputs": [],
   "source": [
    "@everywhere begin\n",
    "    using DistributedArrays\n",
    "    using BenchmarkTools\n",
    "end"
   ]
  },
  {
   "cell_type": "code",
   "execution_count": 46,
   "metadata": {
    "collapsed": false
   },
   "outputs": [
    {
     "data": {
      "text/plain": [
       "BenchmarkTools.Trial: \n",
       "  memory estimate:  38.20 mb\n",
       "  allocs estimate:  1503\n",
       "  --------------\n",
       "  minimum time:     46.596 ms (7.82% GC)\n",
       "  median time:      52.485 ms (11.20% GC)\n",
       "  mean time:        52.732 ms (11.01% GC)\n",
       "  maximum time:     59.618 ms (10.84% GC)\n",
       "  --------------\n",
       "  samples:          95\n",
       "  evals/sample:     1\n",
       "  time tolerance:   5.00%\n",
       "  memory tolerance: 1.00%"
      ]
     },
     "metadata": {},
     "output_type": "display_data"
    },
    {
     "name": "stderr",
     "output_type": "stream",
     "text": [
      "WARNING: Method definition compare_timings() in module Main at In[45]:4 overwritten at In[46]:4.\n"
     ]
    },
    {
     "data": {
      "text/plain": [
       "BenchmarkTools.Trial: \n",
       "  memory estimate:  30.14 kb\n",
       "  allocs estimate:  604\n",
       "  --------------\n",
       "  minimum time:     37.893 ms (0.00% GC)\n",
       "  median time:      84.511 ms (0.00% GC)\n",
       "  mean time:        107.572 ms (0.00% GC)\n",
       "  maximum time:     533.922 ms (0.00% GC)\n",
       "  --------------\n",
       "  samples:          47\n",
       "  evals/sample:     1\n",
       "  time tolerance:   5.00%\n",
       "  memory tolerance: 1.00%"
      ]
     },
     "metadata": {},
     "output_type": "display_data"
    }
   ],
   "source": [
    "function compare_timings()\n",
    "    \n",
    "    # serial\n",
    "    a = [rand(100, 100) for i in 1:500]\n",
    "    display(@benchmark map(t->t^2, $a))  # put '$' inside @benchmark\n",
    "    \n",
    "    # parallel\n",
    "    da = distribute(a)\n",
    "    display(@benchmark map(t->t^2, $da))\n",
    "end\n",
    "\n",
    "compare_timings()"
   ]
  },
  {
   "cell_type": "code",
   "execution_count": 47,
   "metadata": {
    "collapsed": false
   },
   "outputs": [
    {
     "data": {
      "text/plain": [
       "BenchmarkTools.Trial: \n",
       "  memory estimate:  782.53 kb\n",
       "  allocs estimate:  33\n",
       "  --------------\n",
       "  minimum time:     647.882 μs (0.00% GC)\n",
       "  median time:      733.827 μs (0.00% GC)\n",
       "  mean time:        908.287 μs (10.05% GC)\n",
       "  maximum time:     4.721 ms (79.06% GC)\n",
       "  --------------\n",
       "  samples:          5495\n",
       "  evals/sample:     1\n",
       "  time tolerance:   5.00%\n",
       "  memory tolerance: 1.00%"
      ]
     },
     "metadata": {},
     "output_type": "display_data"
    },
    {
     "name": "stderr",
     "output_type": "stream",
     "text": [
      "WARNING: Method definition compare_timings() in module Main at In[46]:4 overwritten at In[47]:4.\n"
     ]
    },
    {
     "data": {
      "text/plain": [
       "BenchmarkTools.Trial: \n",
       "  memory estimate:  30.11 kb\n",
       "  allocs estimate:  602\n",
       "  --------------\n",
       "  minimum time:     1.097 ms (0.00% GC)\n",
       "  median time:      1.825 ms (0.00% GC)\n",
       "  mean time:        2.415 ms (0.50% GC)\n",
       "  maximum time:     414.721 ms (0.00% GC)\n",
       "  --------------\n",
       "  samples:          2068\n",
       "  evals/sample:     1\n",
       "  time tolerance:   5.00%\n",
       "  memory tolerance: 1.00%"
      ]
     },
     "metadata": {},
     "output_type": "display_data"
    }
   ],
   "source": [
    "function compare_timings()\n",
    "    \n",
    "    # serial\n",
    "    a = [rand(100, 100) for i in 1:10]\n",
    "    display(@benchmark map(t->t^2, $a))  # put '$' inside @benchmark\n",
    "    \n",
    "    # parallel\n",
    "    da = distribute(a)\n",
    "    display(@benchmark map(t->t^2, $da))\n",
    "end\n",
    "\n",
    "compare_timings()"
   ]
  },
  {
   "cell_type": "code",
   "execution_count": null,
   "metadata": {
    "collapsed": false
   },
   "outputs": [],
   "source": [
    "# Distributed vectors not restricted to numerical types\n",
    "\n",
    "map(t -> Dates.monthname((t - 1) % 12 + 1), D)"
   ]
  },
  {
   "cell_type": "code",
   "execution_count": null,
   "metadata": {
    "collapsed": false
   },
   "outputs": [],
   "source": [
    "# A slightly more complicated example of map and reduce\n",
    "\n",
    "monthString = map(t -> Dates.monthname((t - 1) % 12 + 1) |> s -> s*\" is my favorite month.\\n\", D) |>\n",
    "    t -> reduce(*, Array(t))\n",
    "println(monthString)"
   ]
  },
  {
   "cell_type": "code",
   "execution_count": null,
   "metadata": {
    "collapsed": false
   },
   "outputs": [],
   "source": [
    "# Distributed array comprehension\n",
    "\n",
    "D55 = @DArray [randn(5,5) for i = 1:32]"
   ]
  },
  {
   "cell_type": "code",
   "execution_count": null,
   "metadata": {
    "collapsed": false
   },
   "outputs": [],
   "source": [
    "# Compute singular values of the distributed vector of matrices: \n",
    "\n",
    "Dsvd = map(eigvals, D55)"
   ]
  },
  {
   "cell_type": "code",
   "execution_count": null,
   "metadata": {
    "collapsed": true
   },
   "outputs": [],
   "source": []
  }
 ],
 "metadata": {
  "anaconda-cloud": {},
  "kernelspec": {
   "display_name": "Julia 0.5.0",
   "language": "julia",
   "name": "julia-0.5"
  },
  "language_info": {
   "file_extension": ".jl",
   "mimetype": "application/julia",
   "name": "julia",
   "version": "0.5.0"
  },
  "toc": {
   "nav_menu": {
    "height": "30px",
    "width": "252px"
   },
   "navigate_menu": true,
   "number_sections": true,
   "sideBar": true,
   "threshold": "2",
   "toc_cell": false,
   "toc_section_display": "block",
   "toc_window_display": false
  }
 },
 "nbformat": 4,
 "nbformat_minor": 0
}
