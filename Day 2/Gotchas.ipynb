{
 "cells": [
  {
   "cell_type": "markdown",
   "metadata": {},
   "source": [
    "## A Few Gotchas and How to Handle Them\n",
    "\n",
    "This notebook talks about the several tricky situations in Julia and the ways around them.\n",
    "\n",
    "Original author: Christopher Rackauckas"
   ]
  },
  {
   "cell_type": "markdown",
   "metadata": {},
   "source": [
    "### Why is Julia Fast ?\n",
    "\n",
    "Type specialization + Code compilation"
   ]
  },
  {
   "cell_type": "code",
   "execution_count": 5,
   "metadata": {
    "collapsed": false
   },
   "outputs": [
    {
     "data": {
      "text/plain": [
       "f (generic function with 1 method)"
      ]
     },
     "execution_count": 5,
     "metadata": {},
     "output_type": "execute_result"
    }
   ],
   "source": [
    "function f(a,b)\n",
    "  return 2a+b\n",
    "end"
   ]
  },
  {
   "cell_type": "code",
   "execution_count": 6,
   "metadata": {
    "collapsed": false
   },
   "outputs": [
    {
     "name": "stdout",
     "output_type": "stream",
     "text": [
      "\t.section\t__TEXT,__text,regular,pure_instructions\n",
      "Filename: In[5]\n",
      "\tpushq\t%rbp\n",
      "\tmovq\t%rsp, %rbp\n",
      "Source line: 2\n",
      "\tleaq\t(%rsi,%rdi,2), %rax\n",
      "\tpopq\t%rbp\n",
      "\tretq\n",
      "\tnopw\t(%rax,%rax)\n"
     ]
    }
   ],
   "source": [
    "@code_native f(1,2)"
   ]
  },
  {
   "cell_type": "code",
   "execution_count": 7,
   "metadata": {
    "collapsed": false
   },
   "outputs": [
    {
     "name": "stdout",
     "output_type": "stream",
     "text": [
      "\t.section\t__TEXT,__text,regular,pure_instructions\n",
      "Filename: In[5]\n",
      "\tpushq\t%rbp\n",
      "\tmovq\t%rsp, %rbp\n",
      "Source line: 2\n",
      "\taddsd\t%xmm0, %xmm0\n",
      "\taddsd\t%xmm1, %xmm0\n",
      "\tpopq\t%rbp\n",
      "\tretq\n",
      "\tnop\n"
     ]
    }
   ],
   "source": [
    "@code_native f(1.,2.)"
   ]
  },
  {
   "cell_type": "markdown",
   "metadata": {},
   "source": [
    "### Gotcha : REPL \"Globals\" Have Bad Performance\n",
    "\n",
    "Globals in Julia have awful performance. Not using globals is the first fact in the Performance Tips. However, what newcomers don't realize is that the REPL is the global scope. To see why, recall that Julia has nested scopes. For example, if you have a function inside of a function, then the inner function has all of the variables of the outer function."
   ]
  },
  {
   "cell_type": "code",
   "execution_count": 1,
   "metadata": {
    "collapsed": false
   },
   "outputs": [
    {
     "data": {
      "text/plain": [
       "test (generic function with 1 method)"
      ]
     },
     "execution_count": 1,
     "metadata": {},
     "output_type": "execute_result"
    }
   ],
   "source": [
    "function test(x)\n",
    "    y = x+2\n",
    "    function test2()\n",
    "        y+3\n",
    "    end\n",
    "    test2()\n",
    "end"
   ]
  },
  {
   "cell_type": "markdown",
   "metadata": {},
   "source": [
    "In test2, y is known because it is defined in test. This will all work to give something performant if y is type-stable since test2 could then assume that y is always an integer. But now look at what happens at the highest scope (and thus effectively the global scope):"
   ]
  },
  {
   "cell_type": "code",
   "execution_count": 2,
   "metadata": {
    "collapsed": false
   },
   "outputs": [
    {
     "data": {
      "text/plain": [
       "3.0"
      ]
     },
     "execution_count": 2,
     "metadata": {},
     "output_type": "execute_result"
    }
   ],
   "source": [
    "a = 3\n",
    "function badidea()\n",
    "    a + 2\n",
    "end\n",
    "a = 3.0"
   ]
  },
  {
   "cell_type": "markdown",
   "metadata": {},
   "source": [
    "Because no dispatch is used to specialize badidea, and we can change the type of a at any time, and therefore badidea cannot add optimizations when compiling since the type of a is unknown during compile time. "
   ]
  },
  {
   "cell_type": "code",
   "execution_count": 8,
   "metadata": {
    "collapsed": false
   },
   "outputs": [
    {
     "data": {
      "text/plain": [
       "linearcombo (generic function with 1 method)"
      ]
     },
     "execution_count": 8,
     "metadata": {},
     "output_type": "execute_result"
    }
   ],
   "source": [
    "a=2.0; a=3.0\n",
    "function linearcombo()\n",
    "  return 2a+b\n",
    "end"
   ]
  },
  {
   "cell_type": "code",
   "execution_count": 12,
   "metadata": {
    "collapsed": false
   },
   "outputs": [
    {
     "name": "stdout",
     "output_type": "stream",
     "text": [
      "Variables:\n",
      "  #self#::#linearcombo\n",
      "\n",
      "Body:\n",
      "  begin \n",
      "      return ((2 * Main.a)::ANY + Main.b)::ANY\n",
      "  end::ANY\n"
     ]
    }
   ],
   "source": [
    "@code_warntype linearcombo()"
   ]
  },
  {
   "cell_type": "code",
   "execution_count": 13,
   "metadata": {
    "collapsed": false
   },
   "outputs": [
    {
     "name": "stdout",
     "output_type": "stream",
     "text": [
      "\t.section\t__TEXT,__text,regular,pure_instructions\n",
      "Filename: In[8]\n",
      "\tpushq\t%rbp\n",
      "\tmovq\t%rsp, %rbp\n",
      "\tpushq\t%r15\n",
      "\tpushq\t%r14\n",
      "\tpushq\t%r13\n",
      "\tpushq\t%r12\n",
      "\tpushq\t%rbx\n",
      "\tsubq\t$56, %rsp\n",
      "\tmovabsq\t$4588825784, %rbx       ## imm = 0x11183ECB8\n",
      "\tmovabsq\t$jl_get_ptls_states_fast, %rax\n",
      "\tcallq\t*%rax\n",
      "\tmovq\t%rax, %r14\n",
      "\tleaq\t-64(%rbp), %r13\n",
      "\tmovq\t$0, -80(%rbp)\n",
      "\tmovq\t$0, -48(%rbp)\n",
      "\tmovq\t$0, -56(%rbp)\n",
      "\tmovq\t$0, -64(%rbp)\n",
      "\tmovq\t$10, -96(%rbp)\n",
      "\tmovq\t(%r14), %rax\n",
      "\tmovq\t%rax, -88(%rbp)\n",
      "\tleaq\t-96(%rbp), %rax\n",
      "\tmovq\t%rax, (%r14)\n",
      "\tmovq\t$0, -72(%rbp)\n",
      "Source line: 3\n",
      "\tmovq\t266505840(%rbx), %rax\n",
      "\tmovq\t%rax, -48(%rbp)\n",
      "\tleaq\t183491360(%rbx), %rax\n",
      "\tmovq\t%rax, -64(%rbp)\n",
      "\tleaq\t172987432(%rbx), %rax\n",
      "\tmovq\t%rax, -56(%rbp)\n",
      "\tmovabsq\t$jl_apply_generic, %r15\n",
      "\tmovl\t$3, %esi\n",
      "\tmovq\t%r13, %rdi\n",
      "\tcallq\t*%r15\n",
      "\tmovq\t%rax, %r12\n",
      "\tmovq\t%r12, -80(%rbp)\n",
      "\tmovabsq\t$4753320288, %rax       ## imm = 0x11B51E960\n",
      "\tmovq\t(%rax), %rax\n",
      "\ttestq\t%rax, %rax\n",
      "\tjne\tL222\n",
      "\tleaq\t173102488(%rbx), %rdi\n",
      "\tmovabsq\t$jl_get_binding_or_error, %rax\n",
      "\tmovq\t%rbx, %rsi\n",
      "\tcallq\t*%rax\n",
      "\tmovabsq\t$4753320288, %rcx       ## imm = 0x11B51E960\n",
      "\tmovq\t%rax, (%rcx)\n",
      "L222:\n",
      "\tmovq\t8(%rax), %rax\n",
      "\ttestq\t%rax, %rax\n",
      "\tje\tL287\n",
      "\tmovq\t%rax, -72(%rbp)\n",
      "\taddq\t$177757128, %rbx        ## imm = 0xA985BC8\n",
      "\tmovq\t%rbx, -64(%rbp)\n",
      "\tmovq\t%r12, -56(%rbp)\n",
      "\tmovq\t%rax, -48(%rbp)\n",
      "\tmovl\t$3, %esi\n",
      "\tmovq\t%r13, %rdi\n",
      "\tcallq\t*%r15\n",
      "\tmovq\t-88(%rbp), %rcx\n",
      "\tmovq\t%rcx, (%r14)\n",
      "\taddq\t$56, %rsp\n",
      "\tpopq\t%rbx\n",
      "\tpopq\t%r12\n",
      "\tpopq\t%r13\n",
      "\tpopq\t%r14\n",
      "\tpopq\t%r15\n",
      "\tpopq\t%rbp\n",
      "\tretq\n",
      "L287:\n",
      "\tmovabsq\t$jl_undefined_var_error, %rax\n",
      "\tmovq\t%rbx, %rdi\n",
      "\tcallq\t*%rax\n",
      "\tnop\n"
     ]
    }
   ],
   "source": [
    "@code_native linearcombo()"
   ]
  },
  {
   "cell_type": "markdown",
   "metadata": {},
   "source": [
    "However, Julia allows us to specify variables as *constant*. This means, that, we are committing to maintaining that type. If you change it, you will get an error."
   ]
  },
  {
   "cell_type": "code",
   "execution_count": 3,
   "metadata": {
    "collapsed": false
   },
   "outputs": [
    {
     "name": "stderr",
     "output_type": "stream",
     "text": [
      "WARNING: redefining constant aconst\n"
     ]
    },
    {
     "ename": "LoadError",
     "evalue": "LoadError: invalid redefinition of constant aconst\nwhile loading In[3], in expression starting on line 6",
     "output_type": "error",
     "traceback": [
      "LoadError: invalid redefinition of constant aconst\nwhile loading In[3], in expression starting on line 6",
      ""
     ]
    }
   ],
   "source": [
    "const aconst = 3\n",
    "function notasbadidea()\n",
    "    aconst + 2\n",
    "end\n",
    "aconst = 4 # Works\n",
    "aconst = 3.0 # Fails"
   ]
  },
  {
   "cell_type": "markdown",
   "metadata": {},
   "source": [
    "The best way to avoid this is to declare variables within functions."
   ]
  },
  {
   "cell_type": "code",
   "execution_count": 4,
   "metadata": {
    "collapsed": false
   },
   "outputs": [
    {
     "name": "stdout",
     "output_type": "stream",
     "text": [
      "  0.000000 seconds\n",
      "  0.000000 seconds\n"
     ]
    }
   ],
   "source": [
    "function timetest()\n",
    "    a = 3.0\n",
    "    @time for i = 1:4\n",
    "        a += i\n",
    "    end\n",
    "end\n",
    "timetest() # First time compiles\n",
    "timetest()"
   ]
  },
  {
   "cell_type": "markdown",
   "metadata": {},
   "source": [
    "This is a very easy problem to fall for: don't benchmark or time things in the REPL's global scope. Always wrap things in a function or declare them as const. There is a developer thread to make the global performance less awful but, given the information from this notebook, you can already see that it will never be \"not awful\", it will just be \"less awful\"."
   ]
  },
  {
   "cell_type": "markdown",
   "metadata": {},
   "source": [
    "### Gotcha : Type-Instabilities\n",
    "\n",
    "What happens when your types can change?\n",
    "\n",
    "If you guessed \"well, you can't really specialize the compiled code in that case either\", then you are correct. This kind of problem is known as a type-instability. These can show up in many different ways, but one common example is that you initialize a value in a way that is easy, but not necessarily that type that it should be. For example, let's look at:"
   ]
  },
  {
   "cell_type": "code",
   "execution_count": 6,
   "metadata": {
    "collapsed": false
   },
   "outputs": [
    {
     "name": "stderr",
     "output_type": "stream",
     "text": [
      "WARNING: Method definition g() in module Main at In[5]:2 overwritten at In[6]:2.\n"
     ]
    },
    {
     "data": {
      "text/plain": [
       "g (generic function with 1 method)"
      ]
     },
     "execution_count": 6,
     "metadata": {},
     "output_type": "execute_result"
    }
   ],
   "source": [
    "function g()\n",
    "    x = 1\n",
    "    for i = 1:10\n",
    "        x = x/2\n",
    "    end\n",
    "    return x\n",
    "end"
   ]
  },
  {
   "cell_type": "markdown",
   "metadata": {},
   "source": [
    "Notice that \"1/2\" is a floating point number in Julia. Therefore it we started with \"x=1\", it will change types from an integer to a floating point number, and thus the function has to compile the inner loop as though it can be either type. If we instead had the function:"
   ]
  },
  {
   "cell_type": "code",
   "execution_count": 7,
   "metadata": {
    "collapsed": false
   },
   "outputs": [
    {
     "data": {
      "text/plain": [
       "h (generic function with 1 method)"
      ]
     },
     "execution_count": 7,
     "metadata": {},
     "output_type": "execute_result"
    }
   ],
   "source": [
    "function h()\n",
    "    x = 1.0\n",
    "    for i = 1:10\n",
    "        x = x/2\n",
    "    end\n",
    "    return x\n",
    "end"
   ]
  },
  {
   "cell_type": "markdown",
   "metadata": {},
   "source": [
    "then the whole function can optimally compile knowing x will stay a floating point number (this ability for the compiler to judge types is known as type inference). We can check the compiled code to see the difference:"
   ]
  },
  {
   "cell_type": "raw",
   "metadata": {},
   "source": [
    "pushq\t%rbp\n",
    "movq\t%rsp, %rbp\n",
    "pushq\t%r15\n",
    "pushq\t%r14\n",
    "pushq\t%r13\n",
    "pushq\t%r12\n",
    "pushq\t%rsi\n",
    "pushq\t%rdi\n",
    "pushq\t%rbx\n",
    "subq\t$136, %rsp\n",
    "movl\t$2147565728, %ebx       # imm = 0x800140A0\n",
    "movabsq\t$jl_get_ptls_states, %rax\n",
    "callq\t*%rax\n",
    "movq\t%rax, -152(%rbp)\n",
    "vxorps\t%xmm0, %xmm0, %xmm0\n",
    "vmovups\t%xmm0, -80(%rbp)\n",
    "movq\t$0, -64(%rbp)\n",
    "vxorps\t%ymm0, %ymm0, %ymm0\n",
    "vmovups\t%ymm0, -128(%rbp)\n",
    "movq\t$0, -96(%rbp)\n",
    "movq\t$18, -144(%rbp)\n",
    "movq\t(%rax), %rcx\n",
    "movq\t%rcx, -136(%rbp)\n",
    "leaq\t-144(%rbp), %rcx\n",
    "movq\t%rcx, (%rax)\n",
    "movq\t$0, -88(%rbp)\n",
    "Source line: 4\n",
    "movq\t%rbx, -104(%rbp)\n",
    "movl\t$10, %edi\n",
    "leaq\t477872(%rbx), %r13\n",
    "leaq\t10039728(%rbx), %r15\n",
    "leaq\t8958904(%rbx), %r14\n",
    "leaq\t64(%rbx), %r12\n",
    "leaq\t10126032(%rbx), %rax\n",
    "movq\t%rax, -160(%rbp)\n",
    "nopw\t(%rax,%rax)\n",
    "L176:\n",
    "movq\t%rbx, -128(%rbp)\n",
    "movq\t-8(%rbx), %rax\n",
    "andq\t$-16, %rax\n",
    "movq\t%r15, %rcx\n",
    "cmpq\t%r13, %rax\n",
    "je\tL272\n",
    "movq\t%rbx, -96(%rbp)\n",
    "movq\t-160(%rbp), %rcx\n",
    "cmpq\t$2147419568, %rax       # imm = 0x7FFF05B0\n",
    "je\tL272\n",
    "movq\t%rbx, -72(%rbp)\n",
    "movq\t%r14, -80(%rbp)\n",
    "movq\t%r12, -64(%rbp)\n",
    "movl\t$3, %edx\n",
    "leaq\t-80(%rbp), %rcx\n",
    "movabsq\t$jl_apply_generic, %rax\n",
    "vzeroupper\n",
    "callq\t*%rax\n",
    "movq\t%rax, -88(%rbp)\n",
    "jmp\tL317\n",
    "nopw\t%cs:(%rax,%rax)\n",
    "L272:\n",
    "movq\t%rcx, -120(%rbp)\n",
    "movq\t%rbx, -72(%rbp)\n",
    "movq\t%r14, -80(%rbp)\n",
    "movq\t%r12, -64(%rbp)\n",
    "movl\t$3, %r8d\n",
    "leaq\t-80(%rbp), %rdx\n",
    "movabsq\t$jl_invoke, %rax\n",
    "vzeroupper\n",
    "callq\t*%rax\n",
    "movq\t%rax, -112(%rbp)\n",
    "L317:\n",
    "movq\t(%rax), %rsi\n",
    "movl\t$1488, %edx             # imm = 0x5D0\n",
    "movl\t$16, %r8d\n",
    "movq\t-152(%rbp), %rcx\n",
    "movabsq\t$jl_gc_pool_alloc, %rax\n",
    "callq\t*%rax\n",
    "movq\t%rax, %rbx\n",
    "movq\t%r13, -8(%rbx)\n",
    "movq\t%rsi, (%rbx)\n",
    "movq\t%rbx, -104(%rbp)\n",
    "Source line: 3\n",
    "addq\t$-1, %rdi\n",
    "jne\tL176\n",
    "Source line: 6\n",
    "movq\t-136(%rbp), %rax\n",
    "movq\t-152(%rbp), %rcx\n",
    "movq\t%rax, (%rcx)\n",
    "movq\t%rbx, %rax\n",
    "addq\t$136, %rsp\n",
    "popq\t%rbx\n",
    "popq\t%rdi\n",
    "popq\t%rsi\n",
    "popq\t%r12\n",
    "popq\t%r13\n",
    "popq\t%r14\n",
    "popq\t%r15\n",
    "popq\t%rbp\n",
    "retq\n",
    "nop"
   ]
  },
  {
   "cell_type": "markdown",
   "metadata": {},
   "source": [
    "Versus:"
   ]
  },
  {
   "cell_type": "raw",
   "metadata": {},
   "source": [
    "pushq\t%rbp\n",
    "movq\t%rsp, %rbp\n",
    "movabsq\t$567811336, %rax        # imm = 0x21D81D08\n",
    "Source line: 6\n",
    "vmovsd\t(%rax), %xmm0           # xmm0 = mem[0],zero\n",
    "popq\t%rbp\n",
    "retq\n",
    "nopw\t%cs:(%rax,%rax)"
   ]
  },
  {
   "cell_type": "markdown",
   "metadata": {},
   "source": [
    "Notice how many fewer computational steps are required to compute the same value!"
   ]
  },
  {
   "cell_type": "markdown",
   "metadata": {},
   "source": [
    "### How to Find and Deal with Type-Instabilities\n",
    "\n",
    "At this point you might ask, \"well, why not just use C so you don't have to try and find these instabilities?\" The answer is:\n",
    "\n",
    "1. They are easy to find\n",
    "2. They can be useful\n",
    "3. You can handle necessary instabilities with function barriers"
   ]
  },
  {
   "cell_type": "markdown",
   "metadata": {},
   "source": [
    "### How to Find Type-Instabilities\n",
    "\n",
    "Julia gives you the macro @code_warntype to show you where type instabilities are. For example, if we use this on the \"g\" function we created:"
   ]
  },
  {
   "cell_type": "code",
   "execution_count": 8,
   "metadata": {
    "collapsed": false
   },
   "outputs": [
    {
     "name": "stdout",
     "output_type": "stream",
     "text": [
      "Variables:\n",
      "  #self#::#g\n",
      "  x::ANY\n",
      "  #temp#@_3::Int64\n",
      "  i::Int64\n",
      "  #temp#@_5::LambdaInfo\n",
      "  #temp#@_6::Float64\n",
      "\n",
      "Body:\n",
      "  begin \n",
      "      x::ANY = 1 # line 3:\n",
      "      SSAValue(2) = (Base.select_value)((Base.sle_int)(1,10)::Bool,10,(Base.box)(Int64,(Base.sub_int)(1,1)))::Int64\n",
      "      #temp#@_3::Int64 = 1\n",
      "      5: \n",
      "      unless (Base.box)(Base.Bool,(Base.not_int)((#temp#@_3::Int64 === (Base.box)(Int64,(Base.add_int)(SSAValue(2),1)))::Bool)) goto 30\n",
      "      SSAValue(3) = #temp#@_3::Int64\n",
      "      SSAValue(4) = (Base.box)(Int64,(Base.add_int)(#temp#@_3::Int64,1))\n",
      "      i::Int64 = SSAValue(3)\n",
      "      #temp#@_3::Int64 = SSAValue(4) # line 4:\n",
      "      unless (Core.isa)(x::UNION{FLOAT64,INT64},Float64)::ANY goto 15\n",
      "      #temp#@_5::LambdaInfo = LambdaInfo for /(::Float64, ::Int64)\n",
      "      goto 24\n",
      "      15: \n",
      "      unless (Core.isa)(x::UNION{FLOAT64,INT64},Int64)::ANY goto 19\n",
      "      #temp#@_5::LambdaInfo = LambdaInfo for /(::Int64, ::Int64)\n",
      "      goto 24\n",
      "      19: \n",
      "      goto 21\n",
      "      21: \n",
      "      #temp#@_6::Float64 = (x::UNION{FLOAT64,INT64} / 2)::Float64\n",
      "      goto 26\n",
      "      24: \n",
      "      #temp#@_6::Float64 = $(Expr(:invoke, :(#temp#@_5), :(Main./), :(x::Union{Float64,Int64}), 2))\n",
      "      26: \n",
      "      x::ANY = #temp#@_6::Float64\n",
      "      28: \n",
      "      goto 5\n",
      "      30:  # line 6:\n",
      "      return x::UNION{FLOAT64,INT64}\n",
      "  end::UNION{FLOAT64,INT64}\n"
     ]
    }
   ],
   "source": [
    "@code_warntype g()"
   ]
  },
  {
   "cell_type": "markdown",
   "metadata": {},
   "source": [
    "Notice that it tells us at the top that the type of x is \"ANY\". It will capitalize any type which is not inferred as a \"strict type\", i.e. it is an abstract type which needs to be boxed/checked at each step. We see that at the end we return x as a \"UNION{FLOAT64,INT64}\", which is another non-strict type. This tells us that the type of x changed, causing the difficulty. If we instead look at the @code_warntype for h, we get all strict types:"
   ]
  },
  {
   "cell_type": "code",
   "execution_count": 9,
   "metadata": {
    "collapsed": false
   },
   "outputs": [
    {
     "name": "stdout",
     "output_type": "stream",
     "text": [
      "Variables:\n",
      "  #self#::#h\n",
      "  x::Float64\n",
      "  #temp#::Int64\n",
      "  i::Int64\n",
      "\n",
      "Body:\n",
      "  begin \n",
      "      x::Float64 = 1.0 # line 3:\n",
      "      SSAValue(2) = (Base.select_value)((Base.sle_int)(1,10)::Bool,10,(Base.box)(Int64,(Base.sub_int)(1,1)))::Int64\n",
      "      #temp#::Int64 = 1\n",
      "      5: \n",
      "      unless (Base.box)(Base.Bool,(Base.not_int)((#temp#::Int64 === (Base.box)(Int64,(Base.add_int)(SSAValue(2),1)))::Bool)) goto 15\n",
      "      SSAValue(3) = #temp#::Int64\n",
      "      SSAValue(4) = (Base.box)(Int64,(Base.add_int)(#temp#::Int64,1))\n",
      "      i::Int64 = SSAValue(3)\n",
      "      #temp#::Int64 = SSAValue(4) # line 4:\n",
      "      x::Float64 = (Base.box)(Base.Float64,(Base.div_float)(x::Float64,(Base.box)(Float64,(Base.sitofp)(Float64,2))))\n",
      "      13: \n",
      "      goto 5\n",
      "      15:  # line 6:\n",
      "      return x::Float64\n",
      "  end::Float64\n"
     ]
    }
   ],
   "source": [
    "@code_warntype h()"
   ]
  },
  {
   "cell_type": "markdown",
   "metadata": {},
   "source": [
    "Indicating that this function is type stable and will compile to essentially optimal C code. Thus type-instabilities are not hard to find. What's harder is to find the right design."
   ]
  },
  {
   "cell_type": "markdown",
   "metadata": {},
   "source": [
    "### Why Allow Type-Instabilities?\n",
    "\n",
    "This is an age old question which has lead to dynamically-typed languages dominating the scripting language playing field. The idea is that, in many cases you want to make a tradeoff between performance and robustness. For example, you may want to read a table from a webpage which has numbers all mixed together with integers and floating point numbers. In Julia, you can write your function such that if they were all integers, it will compile well, and if they were all floating point numbers, it will also compile well. And if they're mixed? It will still work. That's the flexibility/convenience we know and love from a language like Python/R. But Julia will explicitly tell you (via @code_warntype) when you are making this performance tradeoff.\n",
    "\n",
    "### How to Handle Type-Instabilities\n",
    "\n",
    "There are a few ways to handle type-instabilities. First of all, if you like something like C/Fortran where your types are declared and can't change (thus ensuring type-stability), you can do that in Julia. You can declare your types in a function with the following syntax:"
   ]
  },
  {
   "cell_type": "raw",
   "metadata": {},
   "source": [
    "local a::Int64 = 5"
   ]
  },
  {
   "cell_type": "markdown",
   "metadata": {},
   "source": [
    "This makes \"a\" an 64-bit integer, and if future code tries to change it, an error will be thrown (or a proper conversion will be done. But since the conversion will not automatically round, it will most likely throw errors). Sprinkle these around your code and you will get type stability the C/Fortran way.\n",
    "A less heavy handed way to handle this is with type-assertions. This is where you put the same syntax on the other side of the equals sign. For example:"
   ]
  },
  {
   "cell_type": "raw",
   "metadata": {},
   "source": [
    "a = (b/c)::Float64"
   ]
  },
  {
   "cell_type": "markdown",
   "metadata": {},
   "source": [
    "This says \"calculate b/c, and make sure that the output is a Float64. If it's not, try to do an auto-conversion. If it can't easily convert, throw an error\". Putting these around will help you make sure you know the types which are involved.\n",
    "\n",
    "However, there are cases where type instabilities are necessary. For example, let's say you want to have a robust code, but the user gives you something crazy like:"
   ]
  },
  {
   "cell_type": "code",
   "execution_count": 14,
   "metadata": {
    "collapsed": false
   },
   "outputs": [
    {
     "data": {
      "text/plain": [
       "1"
      ]
     },
     "execution_count": 14,
     "metadata": {},
     "output_type": "execute_result"
    }
   ],
   "source": [
    "arr = Vector{Union{Int64,Float64}}(4)\n",
    "arr[1]=4\n",
    "arr[2]=2.0\n",
    "arr[3]=3.2\n",
    "arr[4]=1"
   ]
  },
  {
   "cell_type": "code",
   "execution_count": 1,
   "metadata": {
    "collapsed": false
   },
   "outputs": [
    {
     "data": {
      "text/plain": [
       "1.0"
      ]
     },
     "execution_count": 1,
     "metadata": {},
     "output_type": "execute_result"
    }
   ],
   "source": [
    "arr = zeros(Union{Int64, Float64}, 10^5)\n",
    "arr[rand(1:10^5, 5000)] = 1.0"
   ]
  },
  {
   "cell_type": "markdown",
   "metadata": {},
   "source": [
    "which is a 10^5-element array of both integers and floating point numbers. The actual element type for the array is \"Union{Int64,Float64}\" which we saw before was a non-strict type which can lead to issues. The compiler only knows that each value can be either an integer or a floating point number, but not which element is which type."
   ]
  },
  {
   "cell_type": "code",
   "execution_count": 2,
   "metadata": {
    "collapsed": false
   },
   "outputs": [
    {
     "data": {
      "text/plain": [
       "foo (generic function with 1 method)"
      ]
     },
     "execution_count": 2,
     "metadata": {},
     "output_type": "execute_result"
    }
   ],
   "source": [
    "function foo{T,N}(array::Array{T,N})\n",
    "  for i in eachindex(array)\n",
    "    val = array[i]\n",
    "    x = [val+i+j for i = 1:10,j = 1:10]\n",
    "    svdvals(x)\n",
    "  end\n",
    "end"
   ]
  },
  {
   "cell_type": "code",
   "execution_count": 3,
   "metadata": {
    "collapsed": false
   },
   "outputs": [
    {
     "data": {
      "text/plain": [
       "foo2 (generic function with 1 method)"
      ]
     },
     "execution_count": 3,
     "metadata": {},
     "output_type": "execute_result"
    }
   ],
   "source": [
    "function inner_foo{T<:Number}(val::T)\n",
    "  x = [val+i+j for i = 1:10,j = 1:10]\n",
    "    svdvals(x)\n",
    "end\n",
    " \n",
    "function foo2{T,N}(array::Array{T,N})\n",
    "  for i in eachindex(array)\n",
    "    inner_foo(array[i])\n",
    "  end\n",
    "end"
   ]
  },
  {
   "cell_type": "code",
   "execution_count": 11,
   "metadata": {
    "collapsed": false
   },
   "outputs": [
    {
     "name": "stderr",
     "output_type": "stream",
     "text": [
      "INFO: Recompiling stale cache file /Applications/JuliaPro-0.5.0.2.app/Contents/Resources/pkgs-0.5.0.2/lib/v0.5/HDF5.ji for module HDF5.\n",
      "INFO: Recompiling stale cache file /Applications/JuliaPro-0.5.0.2.app/Contents/Resources/pkgs-0.5.0.2/lib/v0.5/JLD.ji for module JLD.\n"
     ]
    }
   ],
   "source": [
    "using BenchmarkTools"
   ]
  },
  {
   "cell_type": "code",
   "execution_count": 12,
   "metadata": {
    "collapsed": false
   },
   "outputs": [
    {
     "data": {
      "text/plain": [
       "BenchmarkTools.Trial: \n",
       "  memory estimate:  1.26 gb\n",
       "  allocs estimate:  3471200\n",
       "  --------------\n",
       "  minimum time:     2.472 s (4.39% GC)\n",
       "  median time:      2.660 s (4.97% GC)\n",
       "  mean time:        2.660 s (4.97% GC)\n",
       "  maximum time:     2.848 s (5.48% GC)\n",
       "  --------------\n",
       "  samples:          2\n",
       "  evals/sample:     1\n",
       "  time tolerance:   5.00%\n",
       "  memory tolerance: 1.00%"
      ]
     },
     "execution_count": 12,
     "metadata": {},
     "output_type": "execute_result"
    }
   ],
   "source": [
    "@benchmark foo(arr)"
   ]
  },
  {
   "cell_type": "code",
   "execution_count": 13,
   "metadata": {
    "collapsed": false
   },
   "outputs": [
    {
     "data": {
      "text/plain": [
       "BenchmarkTools.Trial: \n",
       "  memory estimate:  1.22 gb\n",
       "  allocs estimate:  1900000\n",
       "  --------------\n",
       "  minimum time:     1.643 s (6.68% GC)\n",
       "  median time:      1.648 s (6.79% GC)\n",
       "  mean time:        1.649 s (6.80% GC)\n",
       "  maximum time:     1.658 s (6.78% GC)\n",
       "  --------------\n",
       "  samples:          4\n",
       "  evals/sample:     1\n",
       "  time tolerance:   5.00%\n",
       "  memory tolerance: 1.00%"
      ]
     },
     "execution_count": 13,
     "metadata": {},
     "output_type": "execute_result"
    }
   ],
   "source": [
    "@benchmark foo2(arr)"
   ]
  },
  {
   "cell_type": "markdown",
   "metadata": {},
   "source": [
    "### Gotcha : How Expressions Break Up"
   ]
  },
  {
   "cell_type": "markdown",
   "metadata": {},
   "source": [
    "In Julia, there are many cases where expressions will continue if they are not finished. For this reason line-continuation operators are not necessary: Julia will just read until the expression is finished.\n",
    "\n",
    "Easy rule, right? Just make sure you remember how functions finish. For example:"
   ]
  },
  {
   "cell_type": "code",
   "execution_count": 11,
   "metadata": {
    "collapsed": false
   },
   "outputs": [
    {
     "data": {
      "text/plain": [
       "63"
      ]
     },
     "execution_count": 11,
     "metadata": {},
     "output_type": "execute_result"
    }
   ],
   "source": [
    "a = 2 + 3 + 4 + 5 + 6 + 7\n",
    "   +8 + 9 + 10+ 11+ 12+ 13"
   ]
  },
  {
   "cell_type": "markdown",
   "metadata": {},
   "source": [
    "looks like it will evaluate to 90, but instead it gives 63."
   ]
  },
  {
   "cell_type": "code",
   "execution_count": 12,
   "metadata": {
    "collapsed": false
   },
   "outputs": [
    {
     "data": {
      "text/plain": [
       "90"
      ]
     },
     "execution_count": 12,
     "metadata": {},
     "output_type": "execute_result"
    }
   ],
   "source": [
    "a = 2 + 3 + 4 + 5 + 6 + 7 +\n",
    "    8 + 9 + 10+ 11+ 12+ 13"
   ]
  },
  {
   "cell_type": "markdown",
   "metadata": {},
   "source": [
    "This will make a=90 as we wanted. This might trip you up the first time, but then you'll get used to it.\n",
    "\n",
    "The more difficult issue deals with array definitions. For example:"
   ]
  },
  {
   "cell_type": "code",
   "execution_count": 13,
   "metadata": {
    "collapsed": false
   },
   "outputs": [
    {
     "data": {
      "text/plain": [
       "1-element Array{Array{Float64,1},1}:\n",
       " [-0.187914,-0.259496]"
      ]
     },
     "execution_count": 13,
     "metadata": {},
     "output_type": "execute_result"
    }
   ],
   "source": [
    "x = rand(2,2)\n",
    "a = [cos(2*pi.*x[:,1]).*cos(2*pi.*x[:,2])./(4*pi) -sin(2.*x[:,1]).*sin(2.*x[:,2])./(4)]\n",
    "b = [cos(2*pi.*x[:,1]).*cos(2*pi.*x[:,2])./(4*pi) - sin(2.*x[:,1]).*sin(2.*x[:,2])./(4)]"
   ]
  },
  {
   "cell_type": "markdown",
   "metadata": {},
   "source": [
    "at glance you might think a and b are the same, but they are not! The first will give you a (2,2) matrix, while the second is a (1-dimensional) vector of size 2. To see what the issue is, here's a simpler version:"
   ]
  },
  {
   "cell_type": "code",
   "execution_count": 14,
   "metadata": {
    "collapsed": false
   },
   "outputs": [
    {
     "data": {
      "text/plain": [
       "1-element Array{Int64,1}:\n",
       " -1"
      ]
     },
     "execution_count": 14,
     "metadata": {},
     "output_type": "execute_result"
    }
   ],
   "source": [
    "a = [1 -2]\n",
    "b = [1 - 2]"
   ]
  },
  {
   "cell_type": "markdown",
   "metadata": {},
   "source": [
    "In the first case there are two numbers: \"1\" and \"-2\". In the second there is an expression: \"1-2\" (which is evaluated to give the array [-1]). This is because of the special syntax for array definitions. It's usually really lovely to write:"
   ]
  },
  {
   "cell_type": "code",
   "execution_count": 15,
   "metadata": {
    "collapsed": false
   },
   "outputs": [
    {
     "data": {
      "text/plain": [
       "2×4 Array{Int64,2}:\n",
       " 1   2  3  -4\n",
       " 2  -3  1   4"
      ]
     },
     "execution_count": 15,
     "metadata": {},
     "output_type": "execute_result"
    }
   ],
   "source": [
    "a = [1 2 3 -4\n",
    "     2 -3 1 4]"
   ]
  },
  {
   "cell_type": "markdown",
   "metadata": {},
   "source": [
    "and get the 2x4 matrix that you'd expect. However, this is the tradeoff that occurs. However, this issue is also easy to avoid: instead of concatenating using a space (i.e. in a whitespace-sensitive manner), instead use the \"hcat\" function:"
   ]
  },
  {
   "cell_type": "code",
   "execution_count": 16,
   "metadata": {
    "collapsed": false
   },
   "outputs": [
    {
     "data": {
      "text/plain": [
       "2×2 Array{Float64,2}:\n",
       "  0.0431695  -0.231084\n",
       " -0.0173947  -0.242101"
      ]
     },
     "execution_count": 16,
     "metadata": {},
     "output_type": "execute_result"
    }
   ],
   "source": [
    "a = hcat(cos(2*pi.*x[:,1]).*cos(2*pi.*x[:,2])./(4*pi),-sin(2.*x[:,1]).*sin(2.*x[:,2])./(4))"
   ]
  },
  {
   "cell_type": "markdown",
   "metadata": {},
   "source": [
    "Problem Solved!"
   ]
  },
  {
   "cell_type": "markdown",
   "metadata": {},
   "source": [
    "### Gotcha #5: Views, Copy, and Deepcopy"
   ]
  },
  {
   "cell_type": "markdown",
   "metadata": {},
   "source": [
    "One way in which Julia gets good performance is by working with \"views\". An \"Array\" is actually a \"view\" to the contiguous block of memory which is used to store the values. The \"value\" of the array is its pointer to the memory location (and its type information). This gives interesting (and useful) behavior. For example, if we run the following code:"
   ]
  },
  {
   "cell_type": "code",
   "execution_count": 17,
   "metadata": {
    "collapsed": false
   },
   "outputs": [
    {
     "data": {
      "text/plain": [
       "1"
      ]
     },
     "execution_count": 17,
     "metadata": {},
     "output_type": "execute_result"
    }
   ],
   "source": [
    "a = [3;4;5]\n",
    "b = a\n",
    "b[1] = 1"
   ]
  },
  {
   "cell_type": "markdown",
   "metadata": {},
   "source": [
    "then at the end we will have that \"a\" is the array \"[1;4;5]\", i.e. changing \"b\" changes \"a\". The reason is \"b=a\" set the value of \"b\" to the value of \"a\". Since the value of an array is its pointer to the memory location, what \"b\" actually gets is not a new array, rather it gets the pointer to the same memory location (which is why changing \"b\" changes \"a\").\n",
    "\n",
    "This is very useful because it also allows you to keep the same array in many different forms. For example, we can have both a matrix and the vector form of the matrix using:"
   ]
  },
  {
   "cell_type": "code",
   "execution_count": 18,
   "metadata": {
    "collapsed": false
   },
   "outputs": [
    {
     "data": {
      "text/plain": [
       "4-element Array{Float64,1}:\n",
       " 0.461209\n",
       " 0.79796 \n",
       " 0.765534\n",
       " 0.489954"
      ]
     },
     "execution_count": 18,
     "metadata": {},
     "output_type": "execute_result"
    }
   ],
   "source": [
    "a = rand(2,2) # Makes a random 2x2 matrix\n",
    "b = vec(a) # Makes a view to the 2x2 matrix which is a 1-dimensional array"
   ]
  },
  {
   "cell_type": "markdown",
   "metadata": {},
   "source": [
    "Now \"b\" is a vector, but changing \"b\" still changes \"a\", where \"b\" is indexed by reading down the columns. Notice that this whole time, no arrays have been copied, and therefore these operations have been excessively cheap (meaning, there's no reason to avoid them in performance sensitive code).\n",
    "\n",
    "Now some details. Notice that the syntax for slicing an array will create a copy when on the right-hand side. For example:"
   ]
  },
  {
   "cell_type": "code",
   "execution_count": 19,
   "metadata": {
    "collapsed": false
   },
   "outputs": [
    {
     "data": {
      "text/plain": [
       "2-element Array{Float64,1}:\n",
       " 0.461209\n",
       " 0.79796 "
      ]
     },
     "execution_count": 19,
     "metadata": {},
     "output_type": "execute_result"
    }
   ],
   "source": [
    "c = a[1:2,1]"
   ]
  },
  {
   "cell_type": "markdown",
   "metadata": {},
   "source": [
    "will create a new array, and point \"c\" to that new array (thus changing \"c\" won't change \"a\"). This can be necessary behavior, however note that copying arrays is an expensive operation that should be avoided whenever possible. Thus we would instead create more complicated views using:"
   ]
  },
  {
   "cell_type": "code",
   "execution_count": 20,
   "metadata": {
    "collapsed": false
   },
   "outputs": [
    {
     "data": {
      "text/plain": [
       "2-element SubArray{Float64,1,Array{Float64,2},Tuple{UnitRange{Int64},Int64},true}:\n",
       " 0.461209\n",
       " 0.79796 "
      ]
     },
     "execution_count": 20,
     "metadata": {},
     "output_type": "execute_result"
    }
   ],
   "source": [
    "d = @view a[1:2,1]\n",
    "e = view(a,1:2,1)"
   ]
  },
  {
   "cell_type": "markdown",
   "metadata": {},
   "source": [
    "Both \"d\" and \"e\" are the same thing, and changing either \"d\" or \"e\" will change \"a\" because both will not copy the array, just make a new variable which is a Vector that only points to the first column of \"a\". (Another function which creates views is \"reshape\" which lets you reshape an array.)\n",
    "\n",
    "If this syntax is on the left-hand side, then it's a view. For example:"
   ]
  },
  {
   "cell_type": "code",
   "execution_count": 21,
   "metadata": {
    "collapsed": false
   },
   "outputs": [
    {
     "data": {
      "text/plain": [
       "2-element Array{Int64,1}:\n",
       " 1\n",
       " 2"
      ]
     },
     "execution_count": 21,
     "metadata": {},
     "output_type": "execute_result"
    }
   ],
   "source": [
    "a[1:2,1] = [1;2]"
   ]
  },
  {
   "cell_type": "markdown",
   "metadata": {},
   "source": [
    "will change \"a\" because, on the left-hand side, \"a[1:2,1]\" is the same as \"view(a,1:2,1)\" which points to the same memory as \"a\".\n",
    "\n",
    "What if we need to make copies? Then we can use the copy function:"
   ]
  },
  {
   "cell_type": "code",
   "execution_count": 22,
   "metadata": {
    "collapsed": false
   },
   "outputs": [
    {
     "data": {
      "text/plain": [
       "2×2 Array{Float64,2}:\n",
       " 1.0  0.765534\n",
       " 2.0  0.489954"
      ]
     },
     "execution_count": 22,
     "metadata": {},
     "output_type": "execute_result"
    }
   ],
   "source": [
    "b = copy(a)"
   ]
  },
  {
   "cell_type": "markdown",
   "metadata": {},
   "source": [
    "Now since \"b\" is a copy of \"a\" and not a view, changing \"b\" will not change \"a\". If we had already defined \"a\", there's a handy in-place copy \"copy!(b,a)\" which will essentially loop through and write the values of \"a\" to the locations of \"a\" (but this requires that \"b\" is already defined and is the right size).\n",
    "\n",
    "But now let's make a slightly more complicated array. For example, let's make a \"Vector{Vector}\":"
   ]
  },
  {
   "cell_type": "code",
   "execution_count": 23,
   "metadata": {
    "collapsed": false
   },
   "outputs": [
    {
     "data": {
      "text/plain": [
       "3-element Array{Int64,1}:\n",
       " 4\n",
       " 5\n",
       " 6"
      ]
     },
     "execution_count": 23,
     "metadata": {},
     "output_type": "execute_result"
    }
   ],
   "source": [
    "a = Vector{Vector{Float64}}(2)\n",
    "a[1] = [1;2;3]\n",
    "a[2] = [4;5;6]"
   ]
  },
  {
   "cell_type": "markdown",
   "metadata": {},
   "source": [
    "Each element of \"a\" is a vector. What happens when we copy a?"
   ]
  },
  {
   "cell_type": "code",
   "execution_count": 24,
   "metadata": {
    "collapsed": false
   },
   "outputs": [
    {
     "data": {
      "text/plain": [
       "10"
      ]
     },
     "execution_count": 24,
     "metadata": {},
     "output_type": "execute_result"
    }
   ],
   "source": [
    "b = copy(a)\n",
    "b[1][1] = 10"
   ]
  },
  {
   "cell_type": "markdown",
   "metadata": {},
   "source": [
    "Notice that this will change a[1][1] to 10 as well! Why did this happen? What happened is we used \"copy\" to copy the values of \"a\". But the values of \"a\" were arrays, so we copied the pointers to memory locations over to \"b\", so \"b\" actually points to the same arrays. To fix this, we instead use \"deepcopy\":"
   ]
  },
  {
   "cell_type": "code",
   "execution_count": 25,
   "metadata": {
    "collapsed": false
   },
   "outputs": [
    {
     "data": {
      "text/plain": [
       "2-element Array{Array{Float64,1},1}:\n",
       " [10.0,2.0,3.0]\n",
       " [4.0,5.0,6.0] "
      ]
     },
     "execution_count": 25,
     "metadata": {},
     "output_type": "execute_result"
    }
   ],
   "source": [
    "b = deepcopy(a)"
   ]
  },
  {
   "cell_type": "markdown",
   "metadata": {},
   "source": [
    "This recursively calls copy in such a manner that we avoid this issue. Again, the rules of Julia are very simple and there's no magic, but sometimes you need to pay closer attention."
   ]
  },
  {
   "cell_type": "code",
   "execution_count": 1,
   "metadata": {
    "collapsed": false
   },
   "outputs": [],
   "source": [
    "using BenchmarkTools\n",
    "const x = rand(1000, 1000, 10);\n",
    "const y = zeros(1000, 1000);"
   ]
  },
  {
   "cell_type": "code",
   "execution_count": 2,
   "metadata": {
    "collapsed": false
   },
   "outputs": [
    {
     "data": {
      "text/plain": [
       "BenchmarkTools.Trial: \n",
       "  memory estimate:  152.59 mb\n",
       "  allocs estimate:  60\n",
       "  --------------\n",
       "  minimum time:     70.534 ms (24.12% GC)\n",
       "  median time:      79.008 ms (23.94% GC)\n",
       "  mean time:        79.675 ms (23.54% GC)\n",
       "  maximum time:     89.337 ms (25.42% GC)\n",
       "  --------------\n",
       "  samples:          63\n",
       "  evals/sample:     1\n",
       "  time tolerance:   5.00%\n",
       "  memory tolerance: 1.00%"
      ]
     },
     "execution_count": 2,
     "metadata": {},
     "output_type": "execute_result"
    }
   ],
   "source": [
    "function bench(a::Matrix{Float64}, b::Matrix{Float64})\n",
    "    for i = 1:10\n",
    "        b += a[:,:,i]\n",
    "    end\n",
    "end\n",
    "@benchmark bench(x, y)"
   ]
  },
  {
   "cell_type": "code",
   "execution_count": 4,
   "metadata": {
    "collapsed": false
   },
   "outputs": [
    {
     "name": "stderr",
     "output_type": "stream",
     "text": [
      "WARNING: Method definition bench2(Any, Any) in module Main at In[3]:2 overwritten at In[4]:2.\n"
     ]
    },
    {
     "data": {
      "text/plain": [
       "BenchmarkTools.Trial: \n",
       "  memory estimate:  76.30 mb\n",
       "  allocs estimate:  40\n",
       "  --------------\n",
       "  minimum time:     43.617 ms (20.86% GC)\n",
       "  median time:      47.300 ms (22.05% GC)\n",
       "  mean time:        48.197 ms (22.50% GC)\n",
       "  maximum time:     75.847 ms (20.19% GC)\n",
       "  --------------\n",
       "  samples:          104\n",
       "  evals/sample:     1\n",
       "  time tolerance:   5.00%\n",
       "  memory tolerance: 1.00%"
      ]
     },
     "execution_count": 4,
     "metadata": {},
     "output_type": "execute_result"
    }
   ],
   "source": [
    "function bench2(a::Matrix{Float64}, b::Matrix{Float64})\n",
    "    for i = 1:10\n",
    "        b += view(a, :, :, i)\n",
    "    end\n",
    "end\n",
    "@benchmark bench2(x, y)"
   ]
  },
  {
   "cell_type": "code",
   "execution_count": 5,
   "metadata": {
    "collapsed": true
   },
   "outputs": [],
   "source": [
    "using BenchmarkTools\n",
    "const c = rand(1000, 1000, 3);\n",
    "const d = [-1 0 1; 1 0 1; 0 -1 0];"
   ]
  },
  {
   "cell_type": "code",
   "execution_count": 15,
   "metadata": {
    "collapsed": false
   },
   "outputs": [
    {
     "name": "stderr",
     "output_type": "stream",
     "text": [
      "WARNING: Method definition stencil(Any, Any) in module Main at In[14]:2 overwritten at In[15]:2.\n"
     ]
    },
    {
     "data": {
      "text/plain": [
       "BenchmarkTools.Trial: \n",
       "  memory estimate:  2.45 gb\n",
       "  allocs estimate:  59760240\n",
       "  --------------\n",
       "  minimum time:     4.478 s (5.02% GC)\n",
       "  median time:      4.581 s (5.20% GC)\n",
       "  mean time:        4.581 s (5.20% GC)\n",
       "  maximum time:     4.684 s (5.37% GC)\n",
       "  --------------\n",
       "  samples:          2\n",
       "  evals/sample:     1\n",
       "  time tolerance:   5.00%\n",
       "  memory tolerance: 1.00%"
      ]
     },
     "execution_count": 15,
     "metadata": {},
     "output_type": "execute_result"
    }
   ],
   "source": [
    "function stencil(c::Matrix{Float64}, d::Matrix{Float64})\n",
    "    for k = 1:3\n",
    "        for j = 2:size(c, 2)-1\n",
    "            for i = 2:size(c, 1)-1\n",
    "                c[j-1:j+1, i-1:i+1, k] = c[j-1:j+1, i-1:i+1, k] .* d\n",
    "            end\n",
    "        end\n",
    "    end\n",
    "    c\n",
    "end\n",
    "@benchmark stencil(c, d)"
   ]
  },
  {
   "cell_type": "code",
   "execution_count": 16,
   "metadata": {
    "collapsed": false
   },
   "outputs": [
    {
     "name": "stderr",
     "output_type": "stream",
     "text": [
      "WARNING: Method definition stencil(Any, Any) in module Main at In[15]:2 overwritten at In[16]:2.\n"
     ]
    },
    {
     "data": {
      "text/plain": [
       "BenchmarkTools.Trial: \n",
       "  memory estimate:  1.96 gb\n",
       "  allocs estimate:  50796204\n",
       "  --------------\n",
       "  minimum time:     4.021 s (5.06% GC)\n",
       "  median time:      4.385 s (5.64% GC)\n",
       "  mean time:        4.385 s (5.64% GC)\n",
       "  maximum time:     4.749 s (6.13% GC)\n",
       "  --------------\n",
       "  samples:          2\n",
       "  evals/sample:     1\n",
       "  time tolerance:   5.00%\n",
       "  memory tolerance: 1.00%"
      ]
     },
     "execution_count": 16,
     "metadata": {},
     "output_type": "execute_result"
    }
   ],
   "source": [
    "function stencilview(c::Matrix{Float64}, d::Matrix{Float64})\n",
    "    for k = 1:3\n",
    "        for j = 2:size(c, 2)-1\n",
    "            for i = 2:size(c, 1)-1\n",
    "                c[j-1:j+1, i-1:i+1, k] = view(c, j-1:j+1, i-1:i+1, k) .* d\n",
    "            end\n",
    "        end\n",
    "    end\n",
    "    c\n",
    "end\n",
    "@benchmark stencilview(c, d)"
   ]
  },
  {
   "cell_type": "markdown",
   "metadata": {},
   "source": [
    "### Gotcha : Temporary Allocations, Vectorization, and In-Place Functions"
   ]
  },
  {
   "cell_type": "markdown",
   "metadata": {},
   "source": [
    "In MATLAB/Python/R, you're told to use vectorization. Vectorized codes give \"temporary allocations\" (i.e. they make middle-man arrays which aren't needed, and as noted before, array allocations are expensive and slow down your code!).\n",
    "\n",
    "For this reason, you will want to fuse your vectorized operations and write them in-place in order to avoid allocations. What do I mean by in-place? An in-place function is one that updates a value instead of returning a value. If you're going to continually operate on an array, this will allow you to keep using the same array, instead of creating new arrays each iteration. For example, if you wrote:"
   ]
  },
  {
   "cell_type": "code",
   "execution_count": 29,
   "metadata": {
    "collapsed": false
   },
   "outputs": [
    {
     "data": {
      "text/plain": [
       "inner (generic function with 1 method)"
      ]
     },
     "execution_count": 29,
     "metadata": {},
     "output_type": "execute_result"
    }
   ],
   "source": [
    "function f()\n",
    "    x = [1;5;6]\n",
    "    for i = 1:10\n",
    "        x = x + inner(x)\n",
    "    end\n",
    "    return x\n",
    "end\n",
    "function inner(x)\n",
    "    return 2x\n",
    "end"
   ]
  },
  {
   "cell_type": "markdown",
   "metadata": {},
   "source": [
    "then each time inner is called, it will create a new array to return \"2x\" in. Clearly we don't need to keep making new arrays. So instead we could have a cache array \"y\" which will hold the output like so:"
   ]
  },
  {
   "cell_type": "code",
   "execution_count": 30,
   "metadata": {
    "collapsed": false
   },
   "outputs": [
    {
     "data": {
      "text/plain": [
       "inner! (generic function with 1 method)"
      ]
     },
     "execution_count": 30,
     "metadata": {},
     "output_type": "execute_result"
    }
   ],
   "source": [
    "function f_inplace()\n",
    "    x = [1;5;6]\n",
    "    y = Vector{Int64}(3)\n",
    "    for i = 1:10\n",
    "        inner(y,x)\n",
    "        for i in 1:3\n",
    "            x[i] = x[i] + y[i]\n",
    "        end\n",
    "        copy!(y,x)\n",
    "    end\n",
    "    return x\n",
    "end\n",
    "\n",
    "function inner!(y,x)\n",
    "    for i=1:3\n",
    "        y[i] = 2*x[i]\n",
    "    end\n",
    "    nothing\n",
    "end"
   ]
  },
  {
   "cell_type": "markdown",
   "metadata": {},
   "source": [
    "Let's dig into what's happening here. \"inner!(y,x)\" doesn't return anything, but it changes \"y\". Since \"y\" is an array, the value of \"y\" is the pointer to the actual array, and since in the function those values were changed, \"inner!(y,x)\" will have \"silently\" changed the values of \"y\". Functions which do this are called in-place. They are usually denoted with a \"!\", and usually change the first argument (this is just by convention). So there is no array allocation when \"inner!(y,x)\" is called.\n",
    "\n",
    "In the same way, \"copy!(y,x)\" is an in-place function which writes the values of \"x\" to \"y\", updating it. As you can see, this means that every operation only changes the values of the arrays. Only two arrays are ever created: the initial array for \"x\" and the initial array for \"y\". The first function created a new array every since time \"x + inner(x)\" was called, and thus 11 arrays were created in the first function. Since array allocations are expensive, the second function will run faster than the first function.\n",
    "\n",
    "It's nice that we can get fast, but the syntax bloated a little when we had to write out the loops. That's where loop-fusion comes in. In Julia v0.5, you can now use the \".\" symbol to vectorize any function (also known as broadcasting because it is actually calling the \"broadcast\" function). While it's cool that \"f.(x)\" is the same thing as applying \"f\" to each value of \"x\", what's cooler is that the loops fuse. If you just applied \"f\" to \"x\" and made a new array, then \"x=x+f.(x)\" would have a copy. However, what we can instead do is designate everything as array functions:"
   ]
  },
  {
   "cell_type": "markdown",
   "metadata": {
    "collapsed": false
   },
   "source": [
    "`x .= x .+ f.(x)`"
   ]
  },
  {
   "cell_type": "code",
   "execution_count": 22,
   "metadata": {
    "collapsed": false
   },
   "outputs": [
    {
     "name": "stderr",
     "output_type": "stream",
     "text": [
      "WARNING: Method definition stencilunroll(Array{Float64, 2}, Array{Float64, 2}) in module Main at In[21]:2 overwritten at In[22]:2.\n"
     ]
    },
    {
     "data": {
      "text/plain": [
       "BenchmarkTools.Trial: \n",
       "  memory estimate:  0.00 bytes\n",
       "  allocs estimate:  0\n",
       "  --------------\n",
       "  minimum time:     351.918 ms (0.00% GC)\n",
       "  median time:      372.079 ms (0.00% GC)\n",
       "  mean time:        432.163 ms (0.00% GC)\n",
       "  maximum time:     647.453 ms (0.00% GC)\n",
       "  --------------\n",
       "  samples:          12\n",
       "  evals/sample:     1\n",
       "  time tolerance:   5.00%\n",
       "  memory tolerance: 1.00%"
      ]
     },
     "execution_count": 22,
     "metadata": {},
     "output_type": "execute_result"
    }
   ],
   "source": [
    "function stencilunroll(c::Matrix{Float64}, d::Matrix{Float64})\n",
    "    for k = 1:3\n",
    "        for j = 2:size(c, 2)-1\n",
    "            for i = 2:size(c, 1)-1\n",
    "                for l = j-1:j+1, xx = 1:3\n",
    "                    for m = i-1:i+1, yy = 1:3\n",
    "                        c[l, m, k] = c[l, m, k] * d[xx,yy]\n",
    "                    end\n",
    "                end\n",
    "            end\n",
    "        end\n",
    "    end\n",
    "    c\n",
    "end\n",
    "@benchmark stencilunroll(c, d)"
   ]
  },
  {
   "cell_type": "markdown",
   "metadata": {},
   "source": [
    "### Gotcha : Not Building the System Image for your Hardware"
   ]
  },
  {
   "cell_type": "markdown",
   "metadata": {},
   "source": [
    "I was following all of these rules thinking I was a Julia champ, and then one day I realized that not every compiler optimization was actually happening. What was going on?\n",
    "\n",
    "It turns out that the pre-built binaries that you get via the downloads off the Julia site are toned-down in their capabilities in order to be usable on a wider variety of machines. This includes the binaries you get from Linux when you do \"apt-get install\" or \"yum install\". Thus, unless you built Julia from source, your Julia is likely not as fast as it could be.\n",
    "\n",
    "To customize the system image for your system's specific architecture, just run the following code in Julia:"
   ]
  },
  {
   "cell_type": "markdown",
   "metadata": {
    "collapsed": false
   },
   "source": [
    "```\n",
    "include(joinpath(dirname(JULIA_HOME),\"share\",\"julia\",\"build_sysimg.jl\"));\n",
    "build_sysimg(force=true)\n",
    "```"
   ]
  },
  {
   "cell_type": "markdown",
   "metadata": {},
   "source": [
    "If you're on Windows, you may need to run this code first:"
   ]
  },
  {
   "cell_type": "markdown",
   "metadata": {
    "collapsed": true
   },
   "source": [
    "`Pkg.add(\"WinRPM\"); WinRPM.install(\"gcc\")`"
   ]
  },
  {
   "cell_type": "markdown",
   "metadata": {},
   "source": [
    "And on any system, you may need to have administrator privileges. This will take a little bit but when it's done, your install will be tuned to your system, giving you all of the optimizations available."
   ]
  }
 ],
 "metadata": {
  "kernelspec": {
   "display_name": "Julia 0.5.0",
   "language": "julia",
   "name": "julia-0.5"
  },
  "language_info": {
   "file_extension": ".jl",
   "mimetype": "application/julia",
   "name": "julia",
   "version": "0.5.0"
  }
 },
 "nbformat": 4,
 "nbformat_minor": 0
}
