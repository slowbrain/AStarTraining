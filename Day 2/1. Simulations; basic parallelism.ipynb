{
 "cells": [
  {
   "cell_type": "markdown",
   "metadata": {},
   "source": [
    "# Review of Day 1\n",
    "\n",
    "During Day 1, we introduced Julia basics, and saw that Julia has the following features:\n",
    "\n",
    "- Familiar syntax\n",
    "- Easy to make generic code (\"write once, run everywhere\")\n",
    "- Julia is fast\n",
    "\n",
    "Day 2 will be about Performance and Parallelism.\n",
    "We will see how to profile code, some performance gotchas, and several ways to parallelize code using Julia."
   ]
  },
  {
   "cell_type": "markdown",
   "metadata": {},
   "source": [
    "# Simulations: profiling and performance\n",
    "## Random walks\n",
    "\n",
    "In this notebook, we will look at one of the simplest types of Monte Carlo numerical simulation, random walks.\n",
    "\n",
    "In the simplest random walk, a particle starts at $0$ and jumps to the left ($-1$) or the right ($+1$) with equal probability.\n",
    "\n",
    "The following is a simple implementation of a single random walk:"
   ]
  },
  {
   "cell_type": "code",
   "execution_count": null,
   "metadata": {
    "collapsed": true
   },
   "outputs": [],
   "source": [
    "numsteps = 1000\n",
    "pos = 0 \n",
    "for j in 1:numsteps\n",
    "            \n",
    "    if rand() < 0.5\n",
    "        step = -1\n",
    "    else\n",
    "        step = +1\n",
    "    end\n",
    "            \n",
    "    pos += step \n",
    "end"
   ]
  },
  {
   "cell_type": "markdown",
   "metadata": {},
   "source": [
    "The code seems to execute almost instantaneously, but we should **profile** (time) it:"
   ]
  },
  {
   "cell_type": "code",
   "execution_count": null,
   "metadata": {
    "collapsed": false
   },
   "outputs": [],
   "source": [
    "@time begin\n",
    "    numsteps = 1000\n",
    "    pos = 0 \n",
    "    for j in 1:numsteps\n",
    "\n",
    "        if rand() < 0.5\n",
    "            step = -1\n",
    "        else\n",
    "            step = +1\n",
    "        end\n",
    "\n",
    "        pos += step \n",
    "    end\n",
    "end"
   ]
  },
  {
   "cell_type": "markdown",
   "metadata": {},
   "source": [
    "Although it's fast, it seems to be allocating memory unexpectedly."
   ]
  },
  {
   "cell_type": "markdown",
   "metadata": {},
   "source": [
    "Let's wrap it in a function, which is good programming practice, and allows us to have `numsteps` as a paramater.\n",
    "It turns out to have an additional, important effect in Julia."
   ]
  },
  {
   "cell_type": "code",
   "execution_count": null,
   "metadata": {
    "collapsed": false
   },
   "outputs": [],
   "source": [
    "\"\"\"Single 1D random walk from the origin.\n",
    "Returns the final position after `numsteps` steps.\"\"\"\n",
    "function walk(numsteps=1000)  # default value of the parameter\n",
    "    \n",
    "    pos = 0 \n",
    "    \n",
    "    for j in 1:numsteps\n",
    "\n",
    "        if rand() < 0.5   # can replace by rand(Bool)\n",
    "            step = -1\n",
    "        else\n",
    "            step = +1\n",
    "        end\n",
    "\n",
    "        pos += step \n",
    "    end\n",
    "    \n",
    "    return pos\n",
    "    \n",
    "end"
   ]
  },
  {
   "cell_type": "code",
   "execution_count": null,
   "metadata": {
    "collapsed": false
   },
   "outputs": [],
   "source": [
    "@time walk(1000)"
   ]
  },
  {
   "cell_type": "code",
   "execution_count": null,
   "metadata": {
    "collapsed": false
   },
   "outputs": [],
   "source": [
    "@time walk(1000)"
   ]
  },
  {
   "cell_type": "markdown",
   "metadata": {},
   "source": [
    "Messages: \n",
    "- Wrap everything in a function\n",
    "- Run the function once, before timing only on the *second* run"
   ]
  },
  {
   "cell_type": "markdown",
   "metadata": {},
   "source": [
    "Now we run it several times to collect data:"
   ]
  },
  {
   "cell_type": "code",
   "execution_count": null,
   "metadata": {
    "collapsed": false
   },
   "outputs": [],
   "source": [
    "numsteps   = 1000\n",
    "numwalkers = 10000\n",
    "\n",
    "@time data = [walk(numsteps) for i in 1:numwalkers]  # final positions"
   ]
  },
  {
   "cell_type": "markdown",
   "metadata": {},
   "source": [
    "A population of simple random walks should have mean $0$ and variance equal to the total time. Let's check it:"
   ]
  },
  {
   "cell_type": "code",
   "execution_count": null,
   "metadata": {
    "collapsed": false
   },
   "outputs": [],
   "source": [
    "mean(data)"
   ]
  },
  {
   "cell_type": "code",
   "execution_count": null,
   "metadata": {
    "collapsed": false
   },
   "outputs": [],
   "source": [
    "var(data), numsteps"
   ]
  },
  {
   "cell_type": "code",
   "execution_count": null,
   "metadata": {
    "collapsed": false
   },
   "outputs": [],
   "source": [
    "≈(var(data), numsteps, rtol=1e-2)"
   ]
  },
  {
   "cell_type": "markdown",
   "metadata": {},
   "source": [
    "We can plot the histogram:"
   ]
  },
  {
   "cell_type": "code",
   "execution_count": null,
   "metadata": {
    "collapsed": false
   },
   "outputs": [],
   "source": [
    "using Plots; gr()\n",
    "\n",
    "histogram(data, nbins=100)"
   ]
  },
  {
   "cell_type": "markdown",
   "metadata": {},
   "source": [
    "Again, however, the high number of allocations is suspect -- in Julia, this is usually a warning that there is a \"type instability\". We again try wrapping it in a function, even though it seems so simple:"
   ]
  },
  {
   "cell_type": "code",
   "execution_count": null,
   "metadata": {
    "collapsed": false
   },
   "outputs": [],
   "source": [
    "function run_walks(numwalkers, numsteps)\n",
    "\n",
    "    data = [walk(numsteps) for i in 1:numwalkers]\n",
    "\n",
    "    return data\n",
    "end"
   ]
  },
  {
   "cell_type": "code",
   "execution_count": null,
   "metadata": {
    "collapsed": false
   },
   "outputs": [],
   "source": [
    "numsteps   = 1000\n",
    "numwalkers = 10000\n",
    "\n",
    "data = run_walks(1, 1)  # compile the function\n",
    "\n",
    "# now profile it:\n",
    "@time data = run_walks(numwalkers, numsteps);  "
   ]
  },
  {
   "cell_type": "code",
   "execution_count": null,
   "metadata": {
    "collapsed": false
   },
   "outputs": [],
   "source": [
    "var(data)"
   ]
  },
  {
   "cell_type": "markdown",
   "metadata": {},
   "source": [
    "# DistributedArrays "
   ]
  },
  {
   "cell_type": "markdown",
   "metadata": {},
   "source": [
    "Jump to [notebook 1a.](1a. Basics of distributed arrays.ipynb) for the basics of distributed arrays in Julia."
   ]
  },
  {
   "cell_type": "markdown",
   "metadata": {},
   "source": [
    "# Basic parallelism"
   ]
  },
  {
   "cell_type": "code",
   "execution_count": null,
   "metadata": {
    "collapsed": false
   },
   "outputs": [],
   "source": [
    "addprocs(2)"
   ]
  },
  {
   "cell_type": "code",
   "execution_count": null,
   "metadata": {
    "collapsed": false
   },
   "outputs": [],
   "source": [
    "@everywhere using DistributedArrays"
   ]
  },
  {
   "cell_type": "code",
   "execution_count": null,
   "metadata": {
    "collapsed": false
   },
   "outputs": [],
   "source": [
    "@everywhere function walk(numsteps)\n",
    "    pos = 0\n",
    "\n",
    "    for j in 1:numsteps\n",
    "        \n",
    "        if rand(Bool)  # NB\n",
    "            step = -1\n",
    "        else\n",
    "            step = +1\n",
    "        end\n",
    "        \n",
    "        pos += step # ifelse(rand() < 0.5, -1, +1)\n",
    "    end\n",
    "    \n",
    "    return pos\n",
    "end"
   ]
  },
  {
   "cell_type": "code",
   "execution_count": null,
   "metadata": {
    "collapsed": false
   },
   "outputs": [],
   "source": [
    "walkers = distribute(1:numwalkers);"
   ]
  },
  {
   "cell_type": "code",
   "execution_count": null,
   "metadata": {
    "collapsed": false
   },
   "outputs": [],
   "source": [
    "walkers.indexes"
   ]
  },
  {
   "cell_type": "code",
   "execution_count": null,
   "metadata": {
    "collapsed": false
   },
   "outputs": [],
   "source": [
    "@everywhere begin\n",
    "    numsteps   = 10000\n",
    "    numwalkers = 100000 \n",
    "end\n",
    "\n",
    "walkers = distribute(1:numwalkers);\n",
    "\n",
    "@time positions = map( _ -> walk(numsteps), walkers)"
   ]
  },
  {
   "cell_type": "code",
   "execution_count": null,
   "metadata": {
    "collapsed": false
   },
   "outputs": [],
   "source": [
    "positions"
   ]
  },
  {
   "cell_type": "code",
   "execution_count": null,
   "metadata": {
    "collapsed": false
   },
   "outputs": [],
   "source": [
    "mean(positions)"
   ]
  },
  {
   "cell_type": "code",
   "execution_count": null,
   "metadata": {
    "collapsed": true
   },
   "outputs": [],
   "source": [
    "var(positions)"
   ]
  },
  {
   "cell_type": "code",
   "execution_count": null,
   "metadata": {
    "collapsed": false
   },
   "outputs": [],
   "source": [
    "squared_positions = map(x->x^2, positions);"
   ]
  },
  {
   "cell_type": "code",
   "execution_count": null,
   "metadata": {
    "collapsed": false
   },
   "outputs": [],
   "source": [
    "mean(squared_positions) ≈ var(positions)"
   ]
  },
  {
   "cell_type": "markdown",
   "metadata": {},
   "source": [
    "# Another example: random matrices"
   ]
  },
  {
   "cell_type": "code",
   "execution_count": null,
   "metadata": {
    "collapsed": false
   },
   "outputs": [],
   "source": [
    "using Plots; gr()"
   ]
  },
  {
   "cell_type": "code",
   "execution_count": null,
   "metadata": {
    "collapsed": false
   },
   "outputs": [],
   "source": [
    "addprocs(4)"
   ]
  },
  {
   "cell_type": "code",
   "execution_count": null,
   "metadata": {
    "collapsed": false
   },
   "outputs": [],
   "source": [
    "@everywhere begin\n",
    "    using DistributedArrays\n",
    "    using StatsBase\n",
    "    using Plots\n",
    "end"
   ]
  },
  {
   "cell_type": "code",
   "execution_count": null,
   "metadata": {
    "collapsed": false
   },
   "outputs": [],
   "source": [
    "@everywhere function stochastic(β = 2, n = 200)\n",
    "    h = n ^ -(1/3)\n",
    "    x = 0:h:10\n",
    "    N = length(x)\n",
    "    d = (-2 / h^2 .- x) + 2*sqrt(h*β) * randn(N) # diagonal\n",
    "    e = ones(N - 1) / h^2                     # subdiagonal\n",
    "  \n",
    "    eigvals(SymTridiagonal(d, e))[N]        # smallest negative eigenvalue\n",
    "end"
   ]
  },
  {
   "cell_type": "markdown",
   "metadata": {},
   "source": [
    "Serial version:"
   ]
  },
  {
   "cell_type": "code",
   "execution_count": null,
   "metadata": {
    "collapsed": false
   },
   "outputs": [],
   "source": [
    "println(\"Serial version\")\n",
    "\n",
    "t = 10000\n",
    "p = plot()\n",
    "for β = [1,2,4,10,20]\n",
    "    \n",
    "    z = fit(Histogram, [stochastic(β) for i = 1:t], -4:0.01:1).weights\n",
    "    plot!(midpoints(-4:0.01:1), z / sum(z) / 0.01)\n",
    "end\n",
    "p"
   ]
  },
  {
   "cell_type": "markdown",
   "metadata": {},
   "source": [
    "A related parallel construct: `@parallel`. This does a \"reduce\" operation."
   ]
  },
  {
   "cell_type": "code",
   "execution_count": null,
   "metadata": {
    "collapsed": false
   },
   "outputs": [],
   "source": [
    "println(\"@parallel version\")\n",
    "\n",
    "@everywhere t = 10000\n",
    "\n",
    "p = plot()\n",
    "\n",
    "for β = [1,2,4,10,20]\n",
    "    \n",
    "    z = @parallel (+) for p = 1:nprocs()\n",
    "        fit(Histogram, [stochastic(β) for i = 1:t], -4:0.01:1).weights\n",
    "    end\n",
    "    \n",
    "    plot!(midpoints(-4:0.01:1), z / sum(z) / 0.01)\n",
    "end\n",
    "\n",
    "p"
   ]
  },
  {
   "cell_type": "code",
   "execution_count": null,
   "metadata": {
    "collapsed": false
   },
   "outputs": [],
   "source": [
    "function dhist(x; closed=:left, nbins=10)\n",
    "    \n",
    "    hist_parts = DArray(p->fit(Histogram, localpart(x), closed=closed, nbins=nbins).weights, (nbins*length(x.pids),))\n",
    "    \n",
    "    reduce(+, map(pid -> @fetchfrom(pid, localpart(hist_parts)), hist_parts.pids))\n",
    "      \n",
    "end"
   ]
  },
  {
   "cell_type": "code",
   "execution_count": null,
   "metadata": {
    "collapsed": false
   },
   "outputs": [],
   "source": [
    "a = randn(10000)\n",
    "d = distribute(a)\n",
    "\n",
    "dhist(d)"
   ]
  },
  {
   "cell_type": "code",
   "execution_count": null,
   "metadata": {
    "collapsed": true
   },
   "outputs": [],
   "source": []
  }
 ],
 "metadata": {
  "anaconda-cloud": {},
  "kernelspec": {
   "display_name": "Julia 0.5.0",
   "language": "julia",
   "name": "julia-0.5"
  },
  "language_info": {
   "file_extension": ".jl",
   "mimetype": "application/julia",
   "name": "julia",
   "version": "0.5.0"
  },
  "toc": {
   "nav_menu": {
    "height": "30px",
    "width": "252px"
   },
   "navigate_menu": true,
   "number_sections": true,
   "sideBar": true,
   "threshold": "2",
   "toc_cell": false,
   "toc_section_display": "block",
   "toc_window_display": false
  }
 },
 "nbformat": 4,
 "nbformat_minor": 2
}
