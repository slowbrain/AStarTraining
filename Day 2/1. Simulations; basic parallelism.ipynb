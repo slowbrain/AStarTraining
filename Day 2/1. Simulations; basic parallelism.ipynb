{
 "cells": [
  {
   "cell_type": "markdown",
   "metadata": {},
   "source": [
    "# Review of Day 1\n",
    "\n",
    "During Day 1, we introduced Julia basics, and saw that Julia has the following features:\n",
    "\n",
    "- Familiar syntax\n",
    "- Easy to make generic code (\"write once, run everywhere\")\n",
    "- Julia is fast\n",
    "\n",
    "Day 2 will be about Performance and Parallelism.\n",
    "We will see how to profile code, some performance gotchas, and several ways to parallelize code using Julia."
   ]
  },
  {
   "cell_type": "markdown",
   "metadata": {},
   "source": [
    "# Simulations: profiling and performance\n",
    "## Random walks\n",
    "\n",
    "In this notebook, we will look at one of the simplest types of Monte Carlo numerical simulation, random walks.\n",
    "\n",
    "In the simplest random walk, a particle starts at $0$ and jumps to the left ($-1$) or the right ($+1$) with equal probability.\n",
    "\n",
    "The following is a simple implementation of a single random walk:"
   ]
  },
  {
   "cell_type": "code",
   "execution_count": 55,
   "metadata": {
    "collapsed": false
   },
   "outputs": [
    {
     "data": {
      "text/plain": [
       "-26"
      ]
     },
     "execution_count": 55,
     "metadata": {},
     "output_type": "execute_result"
    }
   ],
   "source": [
    "numsteps = 1000\n",
    "pos = 0 \n",
    "\n",
    "for j in 1:numsteps\n",
    "            \n",
    "    if rand() < 0.5\n",
    "        step = -1\n",
    "    else\n",
    "        step = +1\n",
    "    end\n",
    "            \n",
    "    pos += step \n",
    "    \n",
    "end\n",
    "\n",
    "pos"
   ]
  },
  {
   "cell_type": "markdown",
   "metadata": {},
   "source": [
    "The code seems to execute almost instantaneously, but we should **profile** (time) it:"
   ]
  },
  {
   "cell_type": "code",
   "execution_count": 59,
   "metadata": {
    "collapsed": false
   },
   "outputs": [
    {
     "data": {
      "text/plain": [
       "8128"
      ]
     },
     "execution_count": 59,
     "metadata": {},
     "output_type": "execute_result"
    }
   ],
   "source": [
    "memory = @allocated rand(1000)"
   ]
  },
  {
   "cell_type": "code",
   "execution_count": 60,
   "metadata": {
    "collapsed": false
   },
   "outputs": [
    {
     "data": {
      "text/plain": [
       "8128"
      ]
     },
     "execution_count": 60,
     "metadata": {},
     "output_type": "execute_result"
    }
   ],
   "source": [
    "memory"
   ]
  },
  {
   "cell_type": "code",
   "execution_count": 61,
   "metadata": {
    "collapsed": false
   },
   "outputs": [
    {
     "data": {
      "text/html": [
       "<div id=\"interact-js-shim\">\n",
       "    <script charset=\"utf-8\">\n",
       "(function (IPython, $, _, MathJax) {\n",
       "    $.event.special.destroyed = {\n",
       "\tremove: function(o) {\n",
       "\t    if (o.handler) {\n",
       "\t\to.handler.apply(this, arguments)\n",
       "\t    }\n",
       "\t}\n",
       "    }\n",
       "\n",
       "    var OutputArea = IPython.version >= \"4.0.0\" ? require(\"notebook/js/outputarea\").OutputArea : IPython.OutputArea;\n",
       "\n",
       "    var redrawValue = function (container, type, val) {\n",
       "\tvar selector = $(\"<div/>\");\n",
       "\tvar oa = new OutputArea(_.extend(selector, {\n",
       "\t    selector: selector,\n",
       "\t    prompt_area: true,\n",
       "\t    events: IPython.events,\n",
       "\t    keyboard_manager: IPython.keyboard_manager\n",
       "\t})); // Hack to work with IPython 2.1.0\n",
       "\n",
       "\tswitch (type) {\n",
       "\tcase \"image/png\":\n",
       "            var _src = 'data:' + type + ';base64,' + val;\n",
       "\t    $(container).find(\"img\").attr('src', _src);\n",
       "\t    break;\n",
       "\tdefault:\n",
       "\t    var toinsert = OutputArea.append_map[type].apply(\n",
       "\t\toa, [val, {}, selector]\n",
       "\t    );\n",
       "\t    $(container).empty().append(toinsert.contents());\n",
       "\t    selector.remove();\n",
       "\t}\n",
       "\tif (type === \"text/latex\" && MathJax) {\n",
       "\t    MathJax.Hub.Queue([\"Typeset\", MathJax.Hub, toinsert.get(0)]);\n",
       "\t}\n",
       "    }\n",
       "\n",
       "\n",
       "    $(document).ready(function() {\n",
       "\tfunction initComm(evt, data) {\n",
       "\t    var comm_manager = data.kernel.comm_manager;\n",
       "        //_.extend(comm_manager.targets, require(\"widgets/js/widget\"))\n",
       "\t    comm_manager.register_target(\"Signal\", function (comm) {\n",
       "            comm.on_msg(function (msg) {\n",
       "                //Widgets.log(\"message received\", msg);\n",
       "                var val = msg.content.data.value;\n",
       "                $(\".signal-\" + comm.comm_id).each(function() {\n",
       "                var type = $(this).data(\"type\");\n",
       "                if (val[type]) {\n",
       "                    redrawValue(this, type, val[type], type);\n",
       "                }\n",
       "                });\n",
       "                delete val;\n",
       "                delete msg.content.data.value;\n",
       "            });\n",
       "\t    });\n",
       "\n",
       "\t    // coordingate with Comm and redraw Signals\n",
       "\t    // XXX: Test using Reactive here to improve performance\n",
       "\t    $([IPython.events]).on(\n",
       "\t\t'output_appended.OutputArea', function (event, type, value, md, toinsert) {\n",
       "\t\t    if (md && md.reactive) {\n",
       "                // console.log(md.comm_id);\n",
       "                toinsert.addClass(\"signal-\" + md.comm_id);\n",
       "                toinsert.data(\"type\", type);\n",
       "                // Signal back indicating the mimetype required\n",
       "                var comm_manager = IPython.notebook.kernel.comm_manager;\n",
       "                var comm = comm_manager.comms[md.comm_id];\n",
       "                comm.then(function (c) {\n",
       "                    c.send({action: \"subscribe_mime\",\n",
       "                       mime: type});\n",
       "                    toinsert.bind(\"destroyed\", function() {\n",
       "                        c.send({action: \"unsubscribe_mime\",\n",
       "                               mime: type});\n",
       "                    });\n",
       "                })\n",
       "\t\t    }\n",
       "\t    });\n",
       "\t}\n",
       "\n",
       "\ttry {\n",
       "\t    // try to initialize right away. otherwise, wait on the status_started event.\n",
       "\t    initComm(undefined, IPython.notebook);\n",
       "\t} catch (e) {\n",
       "\t    $([IPython.events]).on('kernel_created.Kernel kernel_created.Session', initComm);\n",
       "\t}\n",
       "    });\n",
       "})(IPython, jQuery, _, MathJax);\n",
       "</script>\n",
       "    <script>\n",
       "        window.interactLoadedFlag = true\n",
       "       $(\"#interact-js-shim\").bind(\"destroyed\", function () {\n",
       "           if (window.interactLoadedFlag) {\n",
       "               console.warn(\"JavaScript required by Interact will be removed if you remove this cell or run using Interact more than once.\")\n",
       "           }\n",
       "       })\n",
       "       $([IPython.events]).on(\"kernel_starting.Kernel kernel_restarting.Kernel\", function () { window.interactLoadedFlag = false })\n",
       "   </script>\n",
       "</div>"
      ]
     },
     "metadata": {},
     "output_type": "display_data"
    },
    {
     "name": "stderr",
     "output_type": "stream",
     "text": [
      "WARNING: using Interact.select in module Main conflicts with an existing identifier.\n"
     ]
    }
   ],
   "source": [
    "using Interact"
   ]
  },
  {
   "cell_type": "code",
   "execution_count": 63,
   "metadata": {
    "collapsed": false
   },
   "outputs": [
    {
     "name": "stderr",
     "output_type": "stream",
     "text": [
      "WARNING: imported binding for values overwritten in module Main\n"
     ]
    },
    {
     "data": {
      "text/plain": [
       "5-element Array{Int64,1}:\n",
       "     1000\n",
       "    10000\n",
       "   100000\n",
       "  1000000\n",
       " 10000000"
      ]
     },
     "execution_count": 63,
     "metadata": {},
     "output_type": "execute_result"
    }
   ],
   "source": [
    "exponents = 3:7\n",
    "values = [10^k for k in exponents]"
   ]
  },
  {
   "cell_type": "code",
   "execution_count": 64,
   "metadata": {
    "collapsed": false
   },
   "outputs": [
    {
     "data": {
      "text/html": [],
      "text/plain": [
       "Interact.Slider{Int64}(Signal{Int64}(5, nactions=0),\"k\",5,3:7,\"d\",true)"
      ]
     },
     "metadata": {},
     "output_type": "display_data"
    },
    {
     "data": {
      "text/plain": [
       "800096"
      ]
     },
     "execution_count": 64,
     "metadata": {
      "comm_id": "a9563ede-e448-4a39-82e4-bab75d7e69ac",
      "reactive": true
     },
     "output_type": "execute_result"
    }
   ],
   "source": [
    "@manipulate for k in exponents\n",
    "    @allocated rand(10^k)\n",
    "end"
   ]
  },
  {
   "cell_type": "markdown",
   "metadata": {},
   "source": [
    "You might expect exactly $8*(10^k)$, but there is a bit of overhead in a Julia array (80 bytes?)"
   ]
  },
  {
   "cell_type": "code",
   "execution_count": 56,
   "metadata": {
    "collapsed": false
   },
   "outputs": [
    {
     "name": "stdout",
     "output_type": "stream",
     "text": [
      "  0.000186 seconds (1.98 k allocations: 46.578 KB)\n"
     ]
    }
   ],
   "source": [
    "@time begin\n",
    "    \n",
    "    numsteps = 1000\n",
    "    pos = 0 \n",
    "    for j in 1:numsteps\n",
    "\n",
    "        if rand() < 0.5\n",
    "            step = -1\n",
    "        else\n",
    "            step = +1\n",
    "        end\n",
    "\n",
    "        pos += step \n",
    "    end\n",
    "    \n",
    "end"
   ]
  },
  {
   "cell_type": "code",
   "execution_count": 65,
   "metadata": {
    "collapsed": false
   },
   "outputs": [
    {
     "data": {
      "text/plain": [
       "0.00406933"
      ]
     },
     "execution_count": 65,
     "metadata": {},
     "output_type": "execute_result"
    }
   ],
   "source": [
    "@elapsed sin(10)"
   ]
  },
  {
   "cell_type": "code",
   "execution_count": 66,
   "metadata": {
    "collapsed": false
   },
   "outputs": [
    {
     "data": {
      "text/plain": [
       "0"
      ]
     },
     "execution_count": 66,
     "metadata": {},
     "output_type": "execute_result"
    }
   ],
   "source": [
    "@allocated sin(10)"
   ]
  },
  {
   "cell_type": "markdown",
   "metadata": {},
   "source": [
    "Although it's fast, it seems to be allocating memory unexpectedly. This is a **warning** of a possible **type instability**."
   ]
  },
  {
   "cell_type": "markdown",
   "metadata": {},
   "source": [
    "Let's wrap it in a function, which is good programming practice, and allows us to have `numsteps` as a paramater.\n",
    "It turns out to have an additional, important effect in Julia."
   ]
  },
  {
   "cell_type": "code",
   "execution_count": 1,
   "metadata": {
    "collapsed": false
   },
   "outputs": [
    {
     "data": {
      "text/plain": [
       "walk"
      ]
     },
     "execution_count": 1,
     "metadata": {},
     "output_type": "execute_result"
    }
   ],
   "source": [
    "\"\"\"Single 1D random walk from the origin.\n",
    "Returns the final position after `numsteps` steps.\"\"\"\n",
    "function walk(numsteps=1000)  # default value of the parameter\n",
    "    \n",
    "    pos = 0 \n",
    "    \n",
    "    for j in 1:numsteps\n",
    "\n",
    "        if rand() < 0.5   # can replace by rand(Bool)\n",
    "            step = -1\n",
    "        else\n",
    "            step = +1\n",
    "        end\n",
    "\n",
    "        pos += step \n",
    "    end\n",
    "    \n",
    "    return pos\n",
    "    \n",
    "end"
   ]
  },
  {
   "cell_type": "code",
   "execution_count": 68,
   "metadata": {
    "collapsed": false
   },
   "outputs": [
    {
     "name": "stdout",
     "output_type": "stream",
     "text": [
      "  0.007574 seconds (2.86 k allocations: 130.777 KB)\n"
     ]
    },
    {
     "data": {
      "text/plain": [
       "16"
      ]
     },
     "execution_count": 68,
     "metadata": {},
     "output_type": "execute_result"
    }
   ],
   "source": [
    "@time walk(1)"
   ]
  },
  {
   "cell_type": "code",
   "execution_count": 69,
   "metadata": {
    "collapsed": false
   },
   "outputs": [
    {
     "name": "stdout",
     "output_type": "stream",
     "text": [
      "  0.000011 seconds (4 allocations: 160 bytes)\n"
     ]
    },
    {
     "data": {
      "text/plain": [
       "-12"
      ]
     },
     "execution_count": 69,
     "metadata": {},
     "output_type": "execute_result"
    }
   ],
   "source": [
    "@time walk(1000)"
   ]
  },
  {
   "cell_type": "code",
   "execution_count": 70,
   "metadata": {
    "collapsed": false
   },
   "outputs": [
    {
     "name": "stdout",
     "output_type": "stream",
     "text": [
      "  0.000011 seconds (4 allocations: 160 bytes)\n"
     ]
    },
    {
     "data": {
      "text/plain": [
       "-46"
      ]
     },
     "execution_count": 70,
     "metadata": {},
     "output_type": "execute_result"
    }
   ],
   "source": [
    "@time walk(1000)"
   ]
  },
  {
   "cell_type": "code",
   "execution_count": 74,
   "metadata": {
    "collapsed": false
   },
   "outputs": [
    {
     "data": {
      "text/html": [],
      "text/plain": [
       "Interact.Slider{Int64}(Signal{Int64}(6, nactions=0),\"k\",6,3:10,\"d\",true)"
      ]
     },
     "metadata": {},
     "output_type": "display_data"
    },
    {
     "data": {
      "text/plain": [
       "-2.11911269820074"
      ]
     },
     "execution_count": 74,
     "metadata": {
      "comm_id": "da6f5a83-b21a-4224-aa4f-b5d5ccd1a34e",
      "reactive": true
     },
     "output_type": "execute_result"
    }
   ],
   "source": [
    "@manipulate for k in 3:10\n",
    "    log10(@elapsed walk(10^k))\n",
    "end"
   ]
  },
  {
   "cell_type": "code",
   "execution_count": 81,
   "metadata": {
    "collapsed": false
   },
   "outputs": [
    {
     "data": {
      "text/plain": [
       "2"
      ]
     },
     "execution_count": 81,
     "metadata": {},
     "output_type": "execute_result"
    }
   ],
   "source": [
    "rand(1:10)"
   ]
  },
  {
   "cell_type": "code",
   "execution_count": 82,
   "metadata": {
    "collapsed": false
   },
   "outputs": [
    {
     "data": {
      "text/plain": [
       "Bool"
      ]
     },
     "execution_count": 82,
     "metadata": {},
     "output_type": "execute_result"
    }
   ],
   "source": [
    "a = true\n",
    "typeof(a)"
   ]
  },
  {
   "cell_type": "code",
   "execution_count": 92,
   "metadata": {
    "collapsed": false
   },
   "outputs": [
    {
     "data": {
      "text/plain": [
       "false"
      ]
     },
     "execution_count": 92,
     "metadata": {},
     "output_type": "execute_result"
    }
   ],
   "source": [
    "rand(Bool)"
   ]
  },
  {
   "cell_type": "code",
   "execution_count": 93,
   "metadata": {
    "collapsed": false
   },
   "outputs": [
    {
     "data": {
      "text/html": [
       "rand(T::<b>Type</b>) at <a href=\"https://github.com/JuliaLang/julia/tree/3c9d75391c72d7c32eea75ff187ce77b2d5effc8/base/random.jl#L228\" target=\"_blank\">random.jl:228</a>"
      ],
      "text/plain": [
       "rand(T::Type) at random.jl:228"
      ]
     },
     "execution_count": 93,
     "metadata": {},
     "output_type": "execute_result"
    }
   ],
   "source": [
    "@which rand(Bool)"
   ]
  },
  {
   "cell_type": "code",
   "execution_count": 94,
   "metadata": {
    "collapsed": true
   },
   "outputs": [],
   "source": [
    "@edit rand(Bool)"
   ]
  },
  {
   "cell_type": "code",
   "execution_count": 96,
   "metadata": {
    "collapsed": false
   },
   "outputs": [
    {
     "data": {
      "text/plain": [
       "\"vim\""
      ]
     },
     "execution_count": 96,
     "metadata": {},
     "output_type": "execute_result"
    }
   ],
   "source": [
    "ENV[\"EDITOR\"] = \"vim\""
   ]
  },
  {
   "cell_type": "code",
   "execution_count": null,
   "metadata": {
    "collapsed": false
   },
   "outputs": [
    {
     "name": "stderr",
     "output_type": "stream",
     "text": [
      "Vim: Warning: Output is not to a terminal\n",
      "Vim: Warning: Input is not from a terminal\n"
     ]
    },
    {
     "name": "stdout",
     "output_type": "stream",
     "text": [
      "\u001b[?1049h\u001b[?1h\u001b=\u001b[1;30r\u001b[?12;25h\u001b[?12l\u001b[?25h\u001b[27m\u001b[m\u001b[H\u001b[2J\u001b[?25l\u001b[30;1H\u001b[97m\u001b[41mE325: ATTENTION\u001b[m\r",
      "\r\n",
      "Found a swap file by the name \"/Applications/Julia-0.5.app/Contents/Resources/j\r",
      "\r\n",
      "\u001b[29;80Hu\u001b[30;1Hlia/bin/../share/julia/base/.random.jl.swp\"\r",
      "\r\n",
      "\u001b[10Cowned by: dpsanders   dated: Sun Jan 15 12:52:05 2017\r",
      "\r\n",
      "\u001b[9Cfile name: /Applications/Julia-0.5.app/Contents/Resources/julia/share/\r",
      "\r\n",
      "\u001b[29;80Hj\u001b[30;1Hulia/base/random.jl\r",
      "\r\n",
      "\u001b[10Cmodified: no\r",
      "\r\n",
      "\u001b[9Cuser name: dpsanders   host name: Davids-MacBook-Pro-6.local\r",
      "\r\n",
      "\u001b[8Cprocess ID: 51414\r",
      "\r\n",
      "While opening file \"/Applications/Julia-0.5.app/Contents/Resources/julia/bin/..\r",
      "\r\n",
      "\u001b[29;80H/\u001b[30;1Hshare/julia/base/random.jl\"\r",
      "\r\n",
      "\u001b[13Cdated: Tue Sep 20 11:56:57 2016\r",
      "\r\n",
      "\r\n",
      "(1) Another program may be editing the same file.  If this is the case,\r",
      "\r\n",
      "    be careful not to end up with two different instances of the same\r",
      "\r\n",
      "    file when making changes.  Quit, or continue with caution.\r",
      "\r\n",
      "(2) An edit session for this file crashed.\r",
      "\r\n",
      "    If this is the case, use \":recover\" or \"vim -r /Applications/Julia-0.5.app/\r",
      "\r\n",
      "\u001b[29;80HC\u001b[30;1Hontents/Resources/julia/bin/../share/julia/base/random.jl\"\r",
      "\r\n",
      "    to recover the changes (see \":help recovery\").\r",
      "\r\n",
      "    If you did this already, delete the swap file \"/Applications/Julia-0.5.app/\r",
      "\r\n",
      "\u001b[29;80HC\u001b[30;1Hontents/Resources/julia/bin/../share/julia/base/.random.jl.swp\"\r",
      "\r\n",
      "    to avoid this message.\r",
      "\r\n",
      "\r\n",
      "\u001b[38;5;121mSwap file \"/Applications/Julia-0.5.app/Contents/Resources/julia/bin/../share/ju\u001b[m\r",
      "\r\n",
      "\u001b[29;80H\u001b[38;5;121ml\u001b[30;1Hia/base/.random.jl.swp\" already exists!\u001b[m\r",
      "\r\n",
      "\u001b[38;5;121m[O]pen Read-Only, (E)dit anyway, (R)ecover, (D)elete it, (Q)uit, (A)bort: \u001b[?12l\u001b[?25h"
     ]
    }
   ],
   "source": [
    "@edit rand(Bool)"
   ]
  },
  {
   "cell_type": "code",
   "execution_count": 95,
   "metadata": {
    "collapsed": false
   },
   "outputs": [
    {
     "data": {
      "text/plain": [
       "Base.EnvHash with 35 entries:\n",
       "  \"FONTCONFIG_PATH\"            => \"/Applications/Julia-0.5.app/Contents/Resourc…\n",
       "  \"TERM_PROGRAM_VERSION\"       => \"3.0.12\"\n",
       "  \"TMPDIR\"                     => \"/var/folders/h0/68t1xc991mq20mrkn6yy6n5h0000…\n",
       "  \"LOGNAME\"                    => \"dpsanders\"\n",
       "  \"USER\"                       => \"dpsanders\"\n",
       "  \"HOME\"                       => \"/Users/dpsanders\"\n",
       "  \"PATH\"                       => \"/Applications/Julia-0.5.app/Contents/Resourc…\n",
       "  \"CLICOLOR\"                   => \"1\"\n",
       "  \"DISPLAY\"                    => \"/private/tmp/com.apple.launchd.I4LZaH4k5G/or…\n",
       "  \"TERM_PROGRAM\"               => \"iTerm.app\"\n",
       "  \"LANG\"                       => \"en_US.UTF-8\"\n",
       "  \"TK_LIBRARY\"                 => \"/System/Library/Frameworks/Tk.framework/Vers…\n",
       "  \"TERM\"                       => \"xterm-256color\"\n",
       "  \"SHELL\"                      => \"/bin/bash\"\n",
       "  \"COLORFGBG\"                  => \"7;0\"\n",
       "  \"SHLVL\"                      => \"1\"\n",
       "  \"XPC_FLAGS\"                  => \"0x0\"\n",
       "  \"ITERM_SESSION_ID\"           => \"w0t0p0:B43DF645-9732-4EB9-87C4-C33238FAD4BC\"\n",
       "  \"EDITOR\"                     => \"atom\"\n",
       "  \"TERM_SESSION_ID\"            => \"w0t0p0:B43DF645-9732-4EB9-87C4-C33238FAD4BC\"\n",
       "  \"XPC_SERVICE_NAME\"           => \"0\"\n",
       "  \"JPY_PARENT_PID\"             => \"99536\"\n",
       "  \"SSH_AUTH_SOCK\"              => \"/private/tmp/com.apple.launchd.AmJHlSVvkd/Li…\n",
       "  \"Apple_PubSub_Socket_Render\" => \"/private/tmp/com.apple.launchd.AGN7RupCuC/Re…\n",
       "  \"ITERM_PROFILE\"              => \"Default\"\n",
       "  ⋮                            => ⋮"
      ]
     },
     "execution_count": 95,
     "metadata": {},
     "output_type": "execute_result"
    }
   ],
   "source": [
    "ENV"
   ]
  },
  {
   "cell_type": "markdown",
   "metadata": {},
   "source": [
    "Messages: \n",
    "- Wrap everything in a function\n",
    "- Run the function once, before timing only on the *second* run"
   ]
  },
  {
   "cell_type": "markdown",
   "metadata": {},
   "source": [
    "## Interlude on vectors: collecting data"
   ]
  },
  {
   "cell_type": "markdown",
   "metadata": {},
   "source": [
    "Now we run it several times to collect data:"
   ]
  },
  {
   "cell_type": "code",
   "execution_count": 2,
   "metadata": {
    "collapsed": false
   },
   "outputs": [
    {
     "data": {
      "text/plain": [
       "-24"
      ]
     },
     "execution_count": 2,
     "metadata": {},
     "output_type": "execute_result"
    }
   ],
   "source": [
    "walk()"
   ]
  },
  {
   "cell_type": "code",
   "execution_count": 5,
   "metadata": {
    "collapsed": false
   },
   "outputs": [
    {
     "data": {
      "text/plain": [
       "10-element Array{Int64,1}:\n",
       "  120\n",
       " -152\n",
       " -112\n",
       "   16\n",
       "  138\n",
       "   74\n",
       "  198\n",
       "  -96\n",
       "  -74\n",
       "   58"
      ]
     },
     "execution_count": 5,
     "metadata": {},
     "output_type": "execute_result"
    }
   ],
   "source": [
    "numsteps = 10000\n",
    "data = [walk(numsteps) for i in 1:10]"
   ]
  },
  {
   "cell_type": "markdown",
   "metadata": {},
   "source": [
    "Another possibility:"
   ]
  },
  {
   "cell_type": "code",
   "execution_count": 6,
   "metadata": {
    "collapsed": false
   },
   "outputs": [
    {
     "data": {
      "text/plain": [
       "0-element Array{Any,1}"
      ]
     },
     "execution_count": 6,
     "metadata": {},
     "output_type": "execute_result"
    }
   ],
   "source": [
    "[ ]"
   ]
  },
  {
   "cell_type": "code",
   "execution_count": 9,
   "metadata": {
    "collapsed": false
   },
   "outputs": [
    {
     "data": {
      "text/plain": [
       "0-element Array{Int64,1}"
      ]
     },
     "execution_count": 9,
     "metadata": {},
     "output_type": "execute_result"
    }
   ],
   "source": [
    "Int[ ]   # better for performance"
   ]
  },
  {
   "cell_type": "code",
   "execution_count": 10,
   "metadata": {
    "collapsed": false
   },
   "outputs": [
    {
     "data": {
      "text/plain": [
       "1-element Array{Int64,1}:\n",
       " 0"
      ]
     },
     "execution_count": 10,
     "metadata": {},
     "output_type": "execute_result"
    }
   ],
   "source": [
    "[ 0 ]"
   ]
  },
  {
   "cell_type": "code",
   "execution_count": 12,
   "metadata": {
    "collapsed": false
   },
   "outputs": [
    {
     "data": {
      "text/plain": [
       "2-element Array{Float64,1}:\n",
       " 0.0\n",
       " 1.0"
      ]
     },
     "execution_count": 12,
     "metadata": {},
     "output_type": "execute_result"
    }
   ],
   "source": [
    "[ 0, 1.0 ]  # it promotes everything to a common type"
   ]
  },
  {
   "cell_type": "code",
   "execution_count": 14,
   "metadata": {
    "collapsed": false
   },
   "outputs": [
    {
     "data": {
      "text/plain": [
       "3-element Array{Any,1}:\n",
       " 0       \n",
       " 1.0     \n",
       "  \"hello\""
      ]
     },
     "execution_count": 14,
     "metadata": {},
     "output_type": "execute_result"
    }
   ],
   "source": [
    "v = [ 0, 1.0, \"hello\"]"
   ]
  },
  {
   "cell_type": "code",
   "execution_count": 15,
   "metadata": {
    "collapsed": false
   },
   "outputs": [
    {
     "data": {
      "text/plain": [
       "4-element Array{Any,1}:\n",
       "     0       \n",
       "     1.0     \n",
       "      \"hello\"\n",
       " false       "
      ]
     },
     "execution_count": 15,
     "metadata": {},
     "output_type": "execute_result"
    }
   ],
   "source": [
    "push!(v, false)"
   ]
  },
  {
   "cell_type": "code",
   "execution_count": 16,
   "metadata": {
    "collapsed": false
   },
   "outputs": [
    {
     "data": {
      "text/plain": [
       "4-element Array{Any,1}:\n",
       "     0       \n",
       "     1.0     \n",
       "      \"hello\"\n",
       " false       "
      ]
     },
     "execution_count": 16,
     "metadata": {},
     "output_type": "execute_result"
    }
   ],
   "source": [
    "v"
   ]
  },
  {
   "cell_type": "markdown",
   "metadata": {},
   "source": [
    "The \"bang\" (`!`) is a convention that means that the function **modifies** its (first) argument."
   ]
  },
  {
   "cell_type": "code",
   "execution_count": 18,
   "metadata": {
    "collapsed": false
   },
   "outputs": [
    {
     "data": {
      "text/plain": [
       "0-element Array{Int64,1}"
      ]
     },
     "execution_count": 18,
     "metadata": {},
     "output_type": "execute_result"
    }
   ],
   "source": [
    "data = Int[ ]   # empty array of `Int`s"
   ]
  },
  {
   "cell_type": "code",
   "execution_count": 20,
   "metadata": {
    "collapsed": false
   },
   "outputs": [
    {
     "data": {
      "text/plain": [
       "3"
      ]
     },
     "execution_count": 20,
     "metadata": {},
     "output_type": "execute_result"
    }
   ],
   "source": [
    "x = 3"
   ]
  },
  {
   "cell_type": "code",
   "execution_count": 21,
   "metadata": {
    "collapsed": false
   },
   "outputs": [
    {
     "name": "stdout",
     "output_type": "stream",
     "text": [
      "3"
     ]
    }
   ],
   "source": [
    "show(x)"
   ]
  },
  {
   "cell_type": "code",
   "execution_count": 22,
   "metadata": {
    "collapsed": false
   },
   "outputs": [
    {
     "name": "stdout",
     "output_type": "stream",
     "text": [
      "x = 3\n"
     ]
    },
    {
     "data": {
      "text/plain": [
       "3"
      ]
     },
     "execution_count": 22,
     "metadata": {},
     "output_type": "execute_result"
    }
   ],
   "source": [
    "@show x"
   ]
  },
  {
   "cell_type": "code",
   "execution_count": 23,
   "metadata": {
    "collapsed": false
   },
   "outputs": [
    {
     "name": "stdout",
     "output_type": "stream",
     "text": [
      "data = [2]\n",
      "data = [2,78]\n",
      "data = [2,78,-26]\n",
      "data = [2,78,-26,14]\n",
      "data = [2,78,-26,14,-8]\n",
      "data = [2,78,-26,14,-8,40]\n",
      "data = [2,78,-26,14,-8,40,54]\n",
      "data = [2,78,-26,14,-8,40,54,14]\n",
      "data = [2,78,-26,14,-8,40,54,14,-10]\n",
      "data = [2,78,-26,14,-8,40,54,14,-10,-58]\n"
     ]
    },
    {
     "data": {
      "text/plain": [
       "10-element Array{Int64,1}:\n",
       "   2\n",
       "  78\n",
       " -26\n",
       "  14\n",
       "  -8\n",
       "  40\n",
       "  54\n",
       "  14\n",
       " -10\n",
       " -58"
      ]
     },
     "execution_count": 23,
     "metadata": {},
     "output_type": "execute_result"
    }
   ],
   "source": [
    "data = Int[ ]   # empty array of `Int`s\n",
    "\n",
    "numwalkers = 10\n",
    "\n",
    "for i in 1:numwalkers\n",
    "    pos = walk()\n",
    "    push!(data, pos)\n",
    "    @show data\n",
    "end\n",
    "\n",
    "data"
   ]
  },
  {
   "cell_type": "markdown",
   "metadata": {},
   "source": [
    "Alternative: pre-allocate the array"
   ]
  },
  {
   "cell_type": "code",
   "execution_count": 24,
   "metadata": {
    "collapsed": false
   },
   "outputs": [
    {
     "data": {
      "text/plain": [
       "10-element Array{Float64,1}:\n",
       " 0.0\n",
       " 0.0\n",
       " 0.0\n",
       " 0.0\n",
       " 0.0\n",
       " 0.0\n",
       " 0.0\n",
       " 0.0\n",
       " 0.0\n",
       " 0.0"
      ]
     },
     "execution_count": 24,
     "metadata": {},
     "output_type": "execute_result"
    }
   ],
   "source": [
    "numwalkers = 10\n",
    "\n",
    "data = zeros(numwalkers)"
   ]
  },
  {
   "cell_type": "code",
   "execution_count": 25,
   "metadata": {
    "collapsed": false
   },
   "outputs": [
    {
     "data": {
      "text/plain": [
       "10-element Array{Int64,1}:\n",
       " 0\n",
       " 0\n",
       " 0\n",
       " 0\n",
       " 0\n",
       " 0\n",
       " 0\n",
       " 0\n",
       " 0\n",
       " 0"
      ]
     },
     "execution_count": 25,
     "metadata": {},
     "output_type": "execute_result"
    }
   ],
   "source": [
    "data = zeros(Int, numwalkers)"
   ]
  },
  {
   "cell_type": "code",
   "execution_count": 26,
   "metadata": {
    "collapsed": false
   },
   "outputs": [
    {
     "data": {
      "text/plain": [
       "10-element Array{Int64,1}:\n",
       "    4726803984\n",
       "            13\n",
       "    4647731232\n",
       "    4728607248\n",
       "             0\n",
       "    4726933952\n",
       "    4726934032\n",
       "    4726804016\n",
       "    4726934112\n",
       " 1099528470529"
      ]
     },
     "execution_count": 26,
     "metadata": {},
     "output_type": "execute_result"
    }
   ],
   "source": [
    "data = Vector{Int}(numwalkers)  # fills with random garbage; cf. malloc"
   ]
  },
  {
   "cell_type": "code",
   "execution_count": 27,
   "metadata": {
    "collapsed": false
   },
   "outputs": [
    {
     "name": "stdout",
     "output_type": "stream",
     "text": [
      "data = [44,13,4647731232,4728608784,0,4727617776,4727617856,4727334832,4727617936,1099528470529]\n",
      "data = [44,-12,4647731232,4728608784,0,4727617776,4727617856,4727334832,4727617936,1099528470529]\n",
      "data = [44,-12,-2,4728608784,0,4727617776,4727617856,4727334832,4727617936,1099528470529]\n",
      "data = [44,-12,-2,-62,0,4727617776,4727617856,4727334832,4727617936,1099528470529]\n",
      "data = [44,-12,-2,-62,34,4727617776,4727617856,4727334832,4727617936,1099528470529]\n",
      "data = [44,-12,-2,-62,34,-24,4727617856,4727334832,4727617936,1099528470529]\n",
      "data = [44,-12,-2,-62,34,-24,42,4727334832,4727617936,1099528470529]\n",
      "data = [44,-12,-2,-62,34,-24,42,14,4727617936,1099528470529]\n",
      "data = [44,-12,-2,-62,34,-24,42,14,-36,1099528470529]\n",
      "data = [44,-12,-2,-62,34,-24,42,14,-36,22]\n"
     ]
    },
    {
     "data": {
      "text/plain": [
       "10-element Array{Int64,1}:\n",
       "  44\n",
       " -12\n",
       "  -2\n",
       " -62\n",
       "  34\n",
       " -24\n",
       "  42\n",
       "  14\n",
       " -36\n",
       "  22"
      ]
     },
     "execution_count": 27,
     "metadata": {},
     "output_type": "execute_result"
    }
   ],
   "source": [
    "data = Vector{Int}(numwalkers)  # fills with random garbage; cf. malloc\n",
    "\n",
    "for i in 1:numwalkers\n",
    "    pos = walk()\n",
    "    data[i] = pos  # this does **not** automatically grow the array (as it would in Matlab)\n",
    "    @show data\n",
    "end\n",
    "\n",
    "data"
   ]
  },
  {
   "cell_type": "code",
   "execution_count": 28,
   "metadata": {
    "collapsed": false
   },
   "outputs": [
    {
     "name": "stdout",
     "output_type": "stream",
     "text": [
      "data = [44]\n",
      "data = [44,30]\n",
      "data = [44,30,-30]\n",
      "data = [44,30,-30,48]\n",
      "data = [44,30,-30,48,24]\n",
      "data = [44,30,-30,48,24,-18]\n",
      "data = [44,30,-30,48,24,-18,56]\n",
      "data = [44,30,-30,48,24,-18,56,18]\n",
      "data = [44,30,-30,48,24,-18,56,18,4]\n",
      "data = [44,30,-30,48,24,-18,56,18,4,4]\n"
     ]
    },
    {
     "data": {
      "text/plain": [
       "10-element Array{Int64,1}:\n",
       "  44\n",
       "  30\n",
       " -30\n",
       "  48\n",
       "  24\n",
       " -18\n",
       "  56\n",
       "  18\n",
       "   4\n",
       "   4"
      ]
     },
     "execution_count": 28,
     "metadata": {},
     "output_type": "execute_result"
    }
   ],
   "source": [
    "data = Int[] # fills with random garbage; cf. malloc\n",
    "\n",
    "for i in 1:numwalkers\n",
    "    pos = walk()\n",
    "    data = [data; pos]  # common Matlabism\n",
    "    @show data\n",
    "end\n",
    "\n",
    "data"
   ]
  },
  {
   "cell_type": "code",
   "execution_count": 29,
   "metadata": {
    "collapsed": false
   },
   "outputs": [
    {
     "data": {
      "text/plain": [
       "method1 (generic function with 1 method)"
      ]
     },
     "execution_count": 29,
     "metadata": {},
     "output_type": "execute_result"
    }
   ],
   "source": [
    "function method1(N)  # Matlabism\n",
    "    data = Int[] \n",
    "\n",
    "    for i in 1:N\n",
    "        pos = walk()\n",
    "        data = [data; pos]  \n",
    "    end\n",
    "    \n",
    "    data  # will return data\n",
    "end"
   ]
  },
  {
   "cell_type": "code",
   "execution_count": 30,
   "metadata": {
    "collapsed": false
   },
   "outputs": [
    {
     "data": {
      "text/plain": [
       "method2 (generic function with 1 method)"
      ]
     },
     "execution_count": 30,
     "metadata": {},
     "output_type": "execute_result"
    }
   ],
   "source": [
    "function method2(N)  # push!\n",
    "    data = Int[ ]   \n",
    "\n",
    "    for i in 1:N\n",
    "        pos = walk()\n",
    "        push!(data, pos)\n",
    "    end\n",
    "\n",
    "    data\n",
    "end"
   ]
  },
  {
   "cell_type": "code",
   "execution_count": 31,
   "metadata": {
    "collapsed": false
   },
   "outputs": [
    {
     "data": {
      "text/plain": [
       "method3 (generic function with 1 method)"
      ]
     },
     "execution_count": 31,
     "metadata": {},
     "output_type": "execute_result"
    }
   ],
   "source": [
    "function method3(N)  # preallocate\n",
    "    data = zeros(Int, N)  \n",
    "\n",
    "    for i in 1:N\n",
    "        pos = walk()\n",
    "        data[i] = pos\n",
    "    end\n",
    "\n",
    "    data\n",
    "end"
   ]
  },
  {
   "cell_type": "markdown",
   "metadata": {},
   "source": [
    "First thing to do when profiling in Julia: run the functions once each"
   ]
  },
  {
   "cell_type": "code",
   "execution_count": 32,
   "metadata": {
    "collapsed": false
   },
   "outputs": [
    {
     "data": {
      "text/plain": [
       "1-element Array{Int64,1}:\n",
       " -36"
      ]
     },
     "execution_count": 32,
     "metadata": {},
     "output_type": "execute_result"
    }
   ],
   "source": [
    "method1(1)\n",
    "method2(1)\n",
    "method3(1)"
   ]
  },
  {
   "cell_type": "code",
   "execution_count": 34,
   "metadata": {
    "collapsed": false,
    "scrolled": true
   },
   "outputs": [
    {
     "name": "stdout",
     "output_type": "stream",
     "text": [
      " 18.783738 seconds (5.89 M allocations: 37.447 GB, 12.79% gc time)\n",
      "  0.804275 seconds (21 allocations: 2.001 MB, 0.23% gc time)\n",
      "  0.780113 seconds (6 allocations: 781.484 KB)\n"
     ]
    },
    {
     "data": {
      "text/plain": [
       "100000-element Array{Int64,1}:\n",
       " -18\n",
       "  56\n",
       "  20\n",
       "  24\n",
       " -56\n",
       " -20\n",
       "  42\n",
       " -22\n",
       "  16\n",
       " -10\n",
       "  16\n",
       " -32\n",
       "  18\n",
       "   ⋮\n",
       " -10\n",
       "  -8\n",
       "  -4\n",
       " -34\n",
       "  36\n",
       " -52\n",
       "  44\n",
       "  -6\n",
       "  30\n",
       "  52\n",
       "  16\n",
       " -28"
      ]
     },
     "execution_count": 34,
     "metadata": {},
     "output_type": "execute_result"
    }
   ],
   "source": [
    "N = 100000\n",
    "@time method1(N)\n",
    "@time method2(N)\n",
    "@time method3(N)"
   ]
  },
  {
   "cell_type": "markdown",
   "metadata": {},
   "source": [
    "The correct way to profile is with `@benchmark` from `BenchmarkTools.jl`"
   ]
  },
  {
   "cell_type": "code",
   "execution_count": 37,
   "metadata": {
    "collapsed": false
   },
   "outputs": [
    {
     "data": {
      "text/plain": [
       "BenchmarkTools.Trial: \n",
       "  memory estimate:  401.29 mb\n",
       "  allocs estimate:  581300\n",
       "  --------------\n",
       "  minimum time:     380.563 ms (12.89% GC)\n",
       "  median time:      423.159 ms (12.63% GC)\n",
       "  mean time:        455.725 ms (15.49% GC)\n",
       "  maximum time:     669.648 ms (29.66% GC)\n",
       "  --------------\n",
       "  samples:          11\n",
       "  evals/sample:     1\n",
       "  time tolerance:   5.00%\n",
       "  memory tolerance: 1.00%"
      ]
     },
     "metadata": {},
     "output_type": "display_data"
    },
    {
     "data": {
      "text/plain": [
       "BenchmarkTools.Trial: \n",
       "  memory estimate:  256.70 kb\n",
       "  allocs estimate:  14\n",
       "  --------------\n",
       "  minimum time:     74.918 ms (0.00% GC)\n",
       "  median time:      79.899 ms (0.00% GC)\n",
       "  mean time:        79.730 ms (0.00% GC)\n",
       "  maximum time:     84.844 ms (0.00% GC)\n",
       "  --------------\n",
       "  samples:          63\n",
       "  evals/sample:     1\n",
       "  time tolerance:   5.00%\n",
       "  memory tolerance: 1.00%"
      ]
     },
     "metadata": {},
     "output_type": "display_data"
    },
    {
     "data": {
      "text/plain": [
       "BenchmarkTools.Trial: \n",
       "  memory estimate:  78.20 kb\n",
       "  allocs estimate:  2\n",
       "  --------------\n",
       "  minimum time:     73.927 ms (0.00% GC)\n",
       "  median time:      78.467 ms (0.00% GC)\n",
       "  mean time:        79.268 ms (0.00% GC)\n",
       "  maximum time:     95.222 ms (0.00% GC)\n",
       "  --------------\n",
       "  samples:          64\n",
       "  evals/sample:     1\n",
       "  time tolerance:   5.00%\n",
       "  memory tolerance: 1.00%"
      ]
     },
     "metadata": {},
     "output_type": "display_data"
    }
   ],
   "source": [
    "using BenchmarkTools\n",
    "\n",
    "N = 10000\n",
    "display(@benchmark method1(N))\n",
    "display(@benchmark method2(N))\n",
    "display(@benchmark method3(N))"
   ]
  },
  {
   "cell_type": "markdown",
   "metadata": {},
   "source": [
    "## Collecting the random walk data"
   ]
  },
  {
   "cell_type": "code",
   "execution_count": 39,
   "metadata": {
    "collapsed": false
   },
   "outputs": [
    {
     "name": "stdout",
     "output_type": "stream",
     "text": [
      "  0.101981 seconds (12.15 k allocations: 621.639 KB)\n"
     ]
    },
    {
     "data": {
      "text/plain": [
       "10000-element Array{Int64,1}:\n",
       " -10\n",
       "   8\n",
       " -52\n",
       " -36\n",
       "   2\n",
       "  -4\n",
       "  34\n",
       "   2\n",
       "  32\n",
       " -14\n",
       " -38\n",
       "  36\n",
       " -22\n",
       "   ⋮\n",
       " -34\n",
       " -40\n",
       "  28\n",
       " -10\n",
       "  38\n",
       "  12\n",
       "  -2\n",
       "  -2\n",
       "  42\n",
       "  18\n",
       "  50\n",
       "  18"
      ]
     },
     "execution_count": 39,
     "metadata": {},
     "output_type": "execute_result"
    }
   ],
   "source": [
    "numsteps   = 1000\n",
    "numwalkers = 10000\n",
    "\n",
    "@time data = [walk(numsteps) for i in 1:numwalkers]  # final positions"
   ]
  },
  {
   "cell_type": "markdown",
   "metadata": {},
   "source": [
    "### Let's do statistics"
   ]
  },
  {
   "cell_type": "markdown",
   "metadata": {},
   "source": [
    "A population of simple random walks should have mean $0$ and variance equal to the total time. Let's check it:"
   ]
  },
  {
   "cell_type": "code",
   "execution_count": 44,
   "metadata": {
    "collapsed": false
   },
   "outputs": [
    {
     "data": {
      "text/plain": [
       "-0.2056"
      ]
     },
     "execution_count": 44,
     "metadata": {},
     "output_type": "execute_result"
    }
   ],
   "source": [
    "mean(data)  # mean should be 0 for simple (unbiased) random walks"
   ]
  },
  {
   "cell_type": "code",
   "execution_count": 46,
   "metadata": {
    "collapsed": false
   },
   "outputs": [
    {
     "data": {
      "text/plain": [
       "(1020.6405926992701,1000)"
      ]
     },
     "execution_count": 46,
     "metadata": {},
     "output_type": "execute_result"
    }
   ],
   "source": [
    "var(data), numsteps  # variance should be exactly the number of steps"
   ]
  },
  {
   "cell_type": "code",
   "execution_count": 49,
   "metadata": {
    "collapsed": false
   },
   "outputs": [
    {
     "data": {
      "text/plain": [
       "true"
      ]
     },
     "execution_count": 49,
     "metadata": {},
     "output_type": "execute_result"
    }
   ],
   "source": [
    "≈(var(data), numsteps, rtol=3e-2)  # relative tolerance"
   ]
  },
  {
   "cell_type": "markdown",
   "metadata": {},
   "source": [
    "We can plot the histogram:"
   ]
  },
  {
   "cell_type": "code",
   "execution_count": 50,
   "metadata": {
    "collapsed": false
   },
   "outputs": [
    {
     "data": {
      "text/html": [
       "<?xml version=\"1.0\" encoding=\"utf-8\"?>\n",
       "<svg xmlns=\"http://www.w3.org/2000/svg\" xmlns:xlink=\"http://www.w3.org/1999/xlink\" width=\"600\" height=\"400\" viewBox=\"0 0 600 400\">\n",
       "<defs>\n",
       "  <clipPath id=\"clip00\">\n",
       "    <rect x=\"0\" y=\"0\" width=\"600\" height=\"400\"/>\n",
       "  </clipPath>\n",
       "</defs>\n",
       "<polygon clip-path=\"url(#clip00)\" points=\"\n",
       "0,400 600,400 600,0 0,0 \n",
       "  \" fill=\"#ffffff\" fill-opacity=\"1\"/>\n",
       "<defs>\n",
       "  <clipPath id=\"clip01\">\n",
       "    <rect x=\"120\" y=\"0\" width=\"421\" height=\"400\"/>\n",
       "  </clipPath>\n",
       "</defs>\n",
       "<polygon clip-path=\"url(#clip00)\" points=\"\n",
       "30.6037,384.952 596.063,384.952 596.063,3.93701 30.6037,3.93701 \n",
       "  \" fill=\"#ffffff\" fill-opacity=\"1\"/>\n",
       "<defs>\n",
       "  <clipPath id=\"clip02\">\n",
       "    <rect x=\"30\" y=\"3\" width=\"566\" height=\"382\"/>\n",
       "  </clipPath>\n",
       "</defs>\n",
       "<polyline clip-path=\"url(#clip02)\" style=\"stroke:#00002d; stroke-width:0.8; stroke-opacity:0.5; fill:none\" stroke-dasharray=\"1, 2\" points=\"\n",
       "  116.907,379.237 116.907,9.65223 \n",
       "  \"/>\n",
       "<polyline clip-path=\"url(#clip02)\" style=\"stroke:#00002d; stroke-width:0.8; stroke-opacity:0.5; fill:none\" stroke-dasharray=\"1, 2\" points=\"\n",
       "  323.672,379.237 323.672,9.65223 \n",
       "  \"/>\n",
       "<polyline clip-path=\"url(#clip02)\" style=\"stroke:#00002d; stroke-width:0.8; stroke-opacity:0.5; fill:none\" stroke-dasharray=\"1, 2\" points=\"\n",
       "  530.436,379.237 530.436,9.65223 \n",
       "  \"/>\n",
       "<polyline clip-path=\"url(#clip02)\" style=\"stroke:#00002d; stroke-width:0.8; stroke-opacity:0.5; fill:none\" stroke-dasharray=\"1, 2\" points=\"\n",
       "  39.0856,384.952 587.581,384.952 \n",
       "  \"/>\n",
       "<polyline clip-path=\"url(#clip02)\" style=\"stroke:#00002d; stroke-width:0.8; stroke-opacity:0.5; fill:none\" stroke-dasharray=\"1, 2\" points=\"\n",
       "  39.0856,308.596 587.581,308.596 \n",
       "  \"/>\n",
       "<polyline clip-path=\"url(#clip02)\" style=\"stroke:#00002d; stroke-width:0.8; stroke-opacity:0.5; fill:none\" stroke-dasharray=\"1, 2\" points=\"\n",
       "  39.0856,232.241 587.581,232.241 \n",
       "  \"/>\n",
       "<polyline clip-path=\"url(#clip02)\" style=\"stroke:#00002d; stroke-width:0.8; stroke-opacity:0.5; fill:none\" stroke-dasharray=\"1, 2\" points=\"\n",
       "  39.0856,155.885 587.581,155.885 \n",
       "  \"/>\n",
       "<polyline clip-path=\"url(#clip02)\" style=\"stroke:#00002d; stroke-width:0.8; stroke-opacity:0.5; fill:none\" stroke-dasharray=\"1, 2\" points=\"\n",
       "  39.0856,79.5291 587.581,79.5291 \n",
       "  \"/>\n",
       "<polyline clip-path=\"url(#clip02)\" style=\"stroke:#00002d; stroke-width:0.8; stroke-opacity:1; fill:none\" points=\"\n",
       "  30.6037,384.952 596.063,384.952 \n",
       "  \"/>\n",
       "<polyline clip-path=\"url(#clip02)\" style=\"stroke:#00002d; stroke-width:0.8; stroke-opacity:1; fill:none\" points=\"\n",
       "  116.907,384.952 116.907,379.237 \n",
       "  \"/>\n",
       "<polyline clip-path=\"url(#clip02)\" style=\"stroke:#00002d; stroke-width:0.8; stroke-opacity:1; fill:none\" points=\"\n",
       "  323.672,384.952 323.672,379.237 \n",
       "  \"/>\n",
       "<polyline clip-path=\"url(#clip02)\" style=\"stroke:#00002d; stroke-width:0.8; stroke-opacity:1; fill:none\" points=\"\n",
       "  530.436,384.952 530.436,379.237 \n",
       "  \"/>\n",
       "<polyline clip-path=\"url(#clip02)\" style=\"stroke:#00002d; stroke-width:0.8; stroke-opacity:1; fill:none\" points=\"\n",
       "  30.6037,384.952 30.6037,3.93701 \n",
       "  \"/>\n",
       "<polyline clip-path=\"url(#clip02)\" style=\"stroke:#00002d; stroke-width:0.8; stroke-opacity:1; fill:none\" points=\"\n",
       "  30.6037,384.952 39.0856,384.952 \n",
       "  \"/>\n",
       "<polyline clip-path=\"url(#clip02)\" style=\"stroke:#00002d; stroke-width:0.8; stroke-opacity:1; fill:none\" points=\"\n",
       "  30.6037,308.596 39.0856,308.596 \n",
       "  \"/>\n",
       "<polyline clip-path=\"url(#clip02)\" style=\"stroke:#00002d; stroke-width:0.8; stroke-opacity:1; fill:none\" points=\"\n",
       "  30.6037,232.241 39.0856,232.241 \n",
       "  \"/>\n",
       "<polyline clip-path=\"url(#clip02)\" style=\"stroke:#00002d; stroke-width:0.8; stroke-opacity:1; fill:none\" points=\"\n",
       "  30.6037,155.885 39.0856,155.885 \n",
       "  \"/>\n",
       "<polyline clip-path=\"url(#clip02)\" style=\"stroke:#00002d; stroke-width:0.8; stroke-opacity:1; fill:none\" points=\"\n",
       "  30.6037,79.5291 39.0856,79.5291 \n",
       "  \"/>\n",
       "<g clip-path=\"url(#clip00)\">\n",
       "<text style=\"fill:#00002d; fill-opacity:1; font-family:Arial,Helvetica Neue,Helvetica,sans-serif; font-size:12; text-anchor:middle;\" transform=\"rotate(0, 116.907, 396.952)\" x=\"116.907\" y=\"396.952\">-100</text>\n",
       "</g>\n",
       "<g clip-path=\"url(#clip00)\">\n",
       "<text style=\"fill:#00002d; fill-opacity:1; font-family:Arial,Helvetica Neue,Helvetica,sans-serif; font-size:12; text-anchor:middle;\" transform=\"rotate(0, 323.672, 396.952)\" x=\"323.672\" y=\"396.952\">0</text>\n",
       "</g>\n",
       "<g clip-path=\"url(#clip00)\">\n",
       "<text style=\"fill:#00002d; fill-opacity:1; font-family:Arial,Helvetica Neue,Helvetica,sans-serif; font-size:12; text-anchor:middle;\" transform=\"rotate(0, 530.436, 396.952)\" x=\"530.436\" y=\"396.952\">100</text>\n",
       "</g>\n",
       "<g clip-path=\"url(#clip00)\">\n",
       "<text style=\"fill:#00002d; fill-opacity:1; font-family:Arial,Helvetica Neue,Helvetica,sans-serif; font-size:12; text-anchor:end;\" transform=\"rotate(0, 29.4037, 389.452)\" x=\"29.4037\" y=\"389.452\">0</text>\n",
       "</g>\n",
       "<g clip-path=\"url(#clip00)\">\n",
       "<text style=\"fill:#00002d; fill-opacity:1; font-family:Arial,Helvetica Neue,Helvetica,sans-serif; font-size:12; text-anchor:end;\" transform=\"rotate(0, 29.4037, 313.096)\" x=\"29.4037\" y=\"313.096\">100</text>\n",
       "</g>\n",
       "<g clip-path=\"url(#clip00)\">\n",
       "<text style=\"fill:#00002d; fill-opacity:1; font-family:Arial,Helvetica Neue,Helvetica,sans-serif; font-size:12; text-anchor:end;\" transform=\"rotate(0, 29.4037, 236.741)\" x=\"29.4037\" y=\"236.741\">200</text>\n",
       "</g>\n",
       "<g clip-path=\"url(#clip00)\">\n",
       "<text style=\"fill:#00002d; fill-opacity:1; font-family:Arial,Helvetica Neue,Helvetica,sans-serif; font-size:12; text-anchor:end;\" transform=\"rotate(0, 29.4037, 160.385)\" x=\"29.4037\" y=\"160.385\">300</text>\n",
       "</g>\n",
       "<g clip-path=\"url(#clip00)\">\n",
       "<text style=\"fill:#00002d; fill-opacity:1; font-family:Arial,Helvetica Neue,Helvetica,sans-serif; font-size:12; text-anchor:end;\" transform=\"rotate(0, 29.4037, 84.0291)\" x=\"29.4037\" y=\"84.0291\">400</text>\n",
       "</g>\n",
       "<polygon clip-path=\"url(#clip02)\" points=\"\n",
       "46.6072,384.188 46.6072,384.952 51.9418,384.952 51.9418,384.188 46.6072,384.188 46.6072,384.188 \n",
       "  \" fill=\"#0099ff\" fill-opacity=\"1\"/>\n",
       "<polyline clip-path=\"url(#clip02)\" style=\"stroke:#00002d; stroke-width:0.8; stroke-opacity:1; fill:none\" points=\"\n",
       "  46.6072,384.188 46.6072,384.952 51.9418,384.952 51.9418,384.188 46.6072,384.188 \n",
       "  \"/>\n",
       "<polygon clip-path=\"url(#clip02)\" points=\"\n",
       "51.9418,384.952 51.9418,384.952 57.2763,384.952 57.2763,384.952 51.9418,384.952 51.9418,384.952 \n",
       "  \" fill=\"#0099ff\" fill-opacity=\"1\"/>\n",
       "<polyline clip-path=\"url(#clip02)\" style=\"stroke:#00002d; stroke-width:0.8; stroke-opacity:1; fill:none\" points=\"\n",
       "  51.9418,384.952 51.9418,384.952 57.2763,384.952 51.9418,384.952 \n",
       "  \"/>\n",
       "<polygon clip-path=\"url(#clip02)\" points=\"\n",
       "57.2763,384.952 57.2763,384.952 62.6108,384.952 62.6108,384.952 57.2763,384.952 57.2763,384.952 \n",
       "  \" fill=\"#0099ff\" fill-opacity=\"1\"/>\n",
       "<polyline clip-path=\"url(#clip02)\" style=\"stroke:#00002d; stroke-width:0.8; stroke-opacity:1; fill:none\" points=\"\n",
       "  57.2763,384.952 57.2763,384.952 62.6108,384.952 57.2763,384.952 \n",
       "  \"/>\n",
       "<polygon clip-path=\"url(#clip02)\" points=\"\n",
       "62.6108,384.952 62.6108,384.952 67.9453,384.952 67.9453,384.952 62.6108,384.952 62.6108,384.952 \n",
       "  \" fill=\"#0099ff\" fill-opacity=\"1\"/>\n",
       "<polyline clip-path=\"url(#clip02)\" style=\"stroke:#00002d; stroke-width:0.8; stroke-opacity:1; fill:none\" points=\"\n",
       "  62.6108,384.952 62.6108,384.952 67.9453,384.952 62.6108,384.952 \n",
       "  \"/>\n",
       "<polygon clip-path=\"url(#clip02)\" points=\"\n",
       "67.9453,384.952 67.9453,384.952 73.2798,384.952 73.2798,384.952 67.9453,384.952 67.9453,384.952 \n",
       "  \" fill=\"#0099ff\" fill-opacity=\"1\"/>\n",
       "<polyline clip-path=\"url(#clip02)\" style=\"stroke:#00002d; stroke-width:0.8; stroke-opacity:1; fill:none\" points=\"\n",
       "  67.9453,384.952 67.9453,384.952 73.2798,384.952 67.9453,384.952 \n",
       "  \"/>\n",
       "<polygon clip-path=\"url(#clip02)\" points=\"\n",
       "73.2798,384.952 73.2798,384.952 78.6144,384.952 78.6144,384.952 73.2798,384.952 73.2798,384.952 \n",
       "  \" fill=\"#0099ff\" fill-opacity=\"1\"/>\n",
       "<polyline clip-path=\"url(#clip02)\" style=\"stroke:#00002d; stroke-width:0.8; stroke-opacity:1; fill:none\" points=\"\n",
       "  73.2798,384.952 73.2798,384.952 78.6144,384.952 73.2798,384.952 \n",
       "  \"/>\n",
       "<polygon clip-path=\"url(#clip02)\" points=\"\n",
       "78.6144,384.952 78.6144,384.952 83.9489,384.952 83.9489,384.952 78.6144,384.952 78.6144,384.952 \n",
       "  \" fill=\"#0099ff\" fill-opacity=\"1\"/>\n",
       "<polyline clip-path=\"url(#clip02)\" style=\"stroke:#00002d; stroke-width:0.8; stroke-opacity:1; fill:none\" points=\"\n",
       "  78.6144,384.952 78.6144,384.952 83.9489,384.952 78.6144,384.952 \n",
       "  \"/>\n",
       "<polygon clip-path=\"url(#clip02)\" points=\"\n",
       "83.9489,384.952 83.9489,384.952 89.2834,384.952 89.2834,384.952 83.9489,384.952 83.9489,384.952 \n",
       "  \" fill=\"#0099ff\" fill-opacity=\"1\"/>\n",
       "<polyline clip-path=\"url(#clip02)\" style=\"stroke:#00002d; stroke-width:0.8; stroke-opacity:1; fill:none\" points=\"\n",
       "  83.9489,384.952 83.9489,384.952 89.2834,384.952 83.9489,384.952 \n",
       "  \"/>\n",
       "<polygon clip-path=\"url(#clip02)\" points=\"\n",
       "89.2834,384.952 89.2834,384.952 94.6179,384.952 94.6179,384.952 89.2834,384.952 89.2834,384.952 \n",
       "  \" fill=\"#0099ff\" fill-opacity=\"1\"/>\n",
       "<polyline clip-path=\"url(#clip02)\" style=\"stroke:#00002d; stroke-width:0.8; stroke-opacity:1; fill:none\" points=\"\n",
       "  89.2834,384.952 89.2834,384.952 94.6179,384.952 89.2834,384.952 \n",
       "  \"/>\n",
       "<polygon clip-path=\"url(#clip02)\" points=\"\n",
       "94.6179,384.952 94.6179,384.952 99.9525,384.952 99.9525,384.952 94.6179,384.952 94.6179,384.952 \n",
       "  \" fill=\"#0099ff\" fill-opacity=\"1\"/>\n",
       "<polyline clip-path=\"url(#clip02)\" style=\"stroke:#00002d; stroke-width:0.8; stroke-opacity:1; fill:none\" points=\"\n",
       "  94.6179,384.952 94.6179,384.952 99.9525,384.952 94.6179,384.952 \n",
       "  \"/>\n",
       "<polygon clip-path=\"url(#clip02)\" points=\"\n",
       "99.9525,384.188 99.9525,384.952 105.287,384.952 105.287,384.188 99.9525,384.188 99.9525,384.188 \n",
       "  \" fill=\"#0099ff\" fill-opacity=\"1\"/>\n",
       "<polyline clip-path=\"url(#clip02)\" style=\"stroke:#00002d; stroke-width:0.8; stroke-opacity:1; fill:none\" points=\"\n",
       "  99.9525,384.188 99.9525,384.952 105.287,384.952 105.287,384.188 99.9525,384.188 \n",
       "  \"/>\n",
       "<polygon clip-path=\"url(#clip02)\" points=\"\n",
       "105.287,384.188 105.287,384.952 110.622,384.952 110.622,384.188 105.287,384.188 105.287,384.188 \n",
       "  \" fill=\"#0099ff\" fill-opacity=\"1\"/>\n",
       "<polyline clip-path=\"url(#clip02)\" style=\"stroke:#00002d; stroke-width:0.8; stroke-opacity:1; fill:none\" points=\"\n",
       "  105.287,384.188 105.287,384.952 110.622,384.952 110.622,384.188 105.287,384.188 \n",
       "  \"/>\n",
       "<polygon clip-path=\"url(#clip02)\" points=\"\n",
       "110.622,384.952 110.622,384.952 115.956,384.952 115.956,384.952 110.622,384.952 110.622,384.952 \n",
       "  \" fill=\"#0099ff\" fill-opacity=\"1\"/>\n",
       "<polyline clip-path=\"url(#clip02)\" style=\"stroke:#00002d; stroke-width:0.8; stroke-opacity:1; fill:none\" points=\"\n",
       "  110.622,384.952 110.622,384.952 115.956,384.952 110.622,384.952 \n",
       "  \"/>\n",
       "<polygon clip-path=\"url(#clip02)\" points=\"\n",
       "115.956,384.188 115.956,384.952 121.291,384.952 121.291,384.188 115.956,384.188 115.956,384.188 \n",
       "  \" fill=\"#0099ff\" fill-opacity=\"1\"/>\n",
       "<polyline clip-path=\"url(#clip02)\" style=\"stroke:#00002d; stroke-width:0.8; stroke-opacity:1; fill:none\" points=\"\n",
       "  115.956,384.188 115.956,384.952 121.291,384.952 121.291,384.188 115.956,384.188 \n",
       "  \"/>\n",
       "<polygon clip-path=\"url(#clip02)\" points=\"\n",
       "121.291,383.425 121.291,384.952 126.625,384.952 126.625,383.425 121.291,383.425 121.291,383.425 \n",
       "  \" fill=\"#0099ff\" fill-opacity=\"1\"/>\n",
       "<polyline clip-path=\"url(#clip02)\" style=\"stroke:#00002d; stroke-width:0.8; stroke-opacity:1; fill:none\" points=\"\n",
       "  121.291,383.425 121.291,384.952 126.625,384.952 126.625,383.425 121.291,383.425 \n",
       "  \"/>\n",
       "<polygon clip-path=\"url(#clip02)\" points=\"\n",
       "126.625,383.425 126.625,384.952 131.96,384.952 131.96,383.425 126.625,383.425 126.625,383.425 \n",
       "  \" fill=\"#0099ff\" fill-opacity=\"1\"/>\n",
       "<polyline clip-path=\"url(#clip02)\" style=\"stroke:#00002d; stroke-width:0.8; stroke-opacity:1; fill:none\" points=\"\n",
       "  126.625,383.425 126.625,384.952 131.96,384.952 131.96,383.425 126.625,383.425 \n",
       "  \"/>\n",
       "<polygon clip-path=\"url(#clip02)\" points=\"\n",
       "131.96,382.661 131.96,384.952 137.294,384.952 137.294,382.661 131.96,382.661 131.96,382.661 \n",
       "  \" fill=\"#0099ff\" fill-opacity=\"1\"/>\n",
       "<polyline clip-path=\"url(#clip02)\" style=\"stroke:#00002d; stroke-width:0.8; stroke-opacity:1; fill:none\" points=\"\n",
       "  131.96,382.661 131.96,384.952 137.294,384.952 137.294,382.661 131.96,382.661 \n",
       "  \"/>\n",
       "<polygon clip-path=\"url(#clip02)\" points=\"\n",
       "137.294,378.08 137.294,384.952 142.629,384.952 142.629,378.08 137.294,378.08 137.294,378.08 \n",
       "  \" fill=\"#0099ff\" fill-opacity=\"1\"/>\n",
       "<polyline clip-path=\"url(#clip02)\" style=\"stroke:#00002d; stroke-width:0.8; stroke-opacity:1; fill:none\" points=\"\n",
       "  137.294,378.08 137.294,384.952 142.629,384.952 142.629,378.08 137.294,378.08 \n",
       "  \"/>\n",
       "<polygon clip-path=\"url(#clip02)\" points=\"\n",
       "142.629,382.661 142.629,384.952 147.963,384.952 147.963,382.661 142.629,382.661 142.629,382.661 \n",
       "  \" fill=\"#0099ff\" fill-opacity=\"1\"/>\n",
       "<polyline clip-path=\"url(#clip02)\" style=\"stroke:#00002d; stroke-width:0.8; stroke-opacity:1; fill:none\" points=\"\n",
       "  142.629,382.661 142.629,384.952 147.963,384.952 147.963,382.661 142.629,382.661 \n",
       "  \"/>\n",
       "<polygon clip-path=\"url(#clip02)\" points=\"\n",
       "147.963,378.843 147.963,384.952 153.298,384.952 153.298,378.843 147.963,378.843 147.963,378.843 \n",
       "  \" fill=\"#0099ff\" fill-opacity=\"1\"/>\n",
       "<polyline clip-path=\"url(#clip02)\" style=\"stroke:#00002d; stroke-width:0.8; stroke-opacity:1; fill:none\" points=\"\n",
       "  147.963,378.843 147.963,384.952 153.298,384.952 153.298,378.843 147.963,378.843 \n",
       "  \"/>\n",
       "<polygon clip-path=\"url(#clip02)\" points=\"\n",
       "153.298,367.39 153.298,384.952 158.632,384.952 158.632,367.39 153.298,367.39 153.298,367.39 \n",
       "  \" fill=\"#0099ff\" fill-opacity=\"1\"/>\n",
       "<polyline clip-path=\"url(#clip02)\" style=\"stroke:#00002d; stroke-width:0.8; stroke-opacity:1; fill:none\" points=\"\n",
       "  153.298,367.39 153.298,384.952 158.632,384.952 158.632,367.39 153.298,367.39 \n",
       "  \"/>\n",
       "<polygon clip-path=\"url(#clip02)\" points=\"\n",
       "158.632,374.262 158.632,384.952 163.967,384.952 163.967,374.262 158.632,374.262 158.632,374.262 \n",
       "  \" fill=\"#0099ff\" fill-opacity=\"1\"/>\n",
       "<polyline clip-path=\"url(#clip02)\" style=\"stroke:#00002d; stroke-width:0.8; stroke-opacity:1; fill:none\" points=\"\n",
       "  158.632,374.262 158.632,384.952 163.967,384.952 163.967,374.262 158.632,374.262 \n",
       "  \"/>\n",
       "<polygon clip-path=\"url(#clip02)\" points=\"\n",
       "163.967,371.971 163.967,384.952 169.301,384.952 169.301,371.971 163.967,371.971 163.967,371.971 \n",
       "  \" fill=\"#0099ff\" fill-opacity=\"1\"/>\n",
       "<polyline clip-path=\"url(#clip02)\" style=\"stroke:#00002d; stroke-width:0.8; stroke-opacity:1; fill:none\" points=\"\n",
       "  163.967,371.971 163.967,384.952 169.301,384.952 169.301,371.971 163.967,371.971 \n",
       "  \"/>\n",
       "<polygon clip-path=\"url(#clip02)\" points=\"\n",
       "169.301,371.208 169.301,384.952 174.636,384.952 174.636,371.208 169.301,371.208 169.301,371.208 \n",
       "  \" fill=\"#0099ff\" fill-opacity=\"1\"/>\n",
       "<polyline clip-path=\"url(#clip02)\" style=\"stroke:#00002d; stroke-width:0.8; stroke-opacity:1; fill:none\" points=\"\n",
       "  169.301,371.208 169.301,384.952 174.636,384.952 174.636,371.208 169.301,371.208 \n",
       "  \"/>\n",
       "<polygon clip-path=\"url(#clip02)\" points=\"\n",
       "174.636,352.119 174.636,384.952 179.97,384.952 179.97,352.119 174.636,352.119 174.636,352.119 \n",
       "  \" fill=\"#0099ff\" fill-opacity=\"1\"/>\n",
       "<polyline clip-path=\"url(#clip02)\" style=\"stroke:#00002d; stroke-width:0.8; stroke-opacity:1; fill:none\" points=\"\n",
       "  174.636,352.119 174.636,384.952 179.97,384.952 179.97,352.119 174.636,352.119 \n",
       "  \"/>\n",
       "<polygon clip-path=\"url(#clip02)\" points=\"\n",
       "179.97,365.863 179.97,384.952 185.305,384.952 185.305,365.863 179.97,365.863 179.97,365.863 \n",
       "  \" fill=\"#0099ff\" fill-opacity=\"1\"/>\n",
       "<polyline clip-path=\"url(#clip02)\" style=\"stroke:#00002d; stroke-width:0.8; stroke-opacity:1; fill:none\" points=\"\n",
       "  179.97,365.863 179.97,384.952 185.305,384.952 185.305,365.863 179.97,365.863 \n",
       "  \"/>\n",
       "<polygon clip-path=\"url(#clip02)\" points=\"\n",
       "185.305,362.045 185.305,384.952 190.639,384.952 190.639,362.045 185.305,362.045 185.305,362.045 \n",
       "  \" fill=\"#0099ff\" fill-opacity=\"1\"/>\n",
       "<polyline clip-path=\"url(#clip02)\" style=\"stroke:#00002d; stroke-width:0.8; stroke-opacity:1; fill:none\" points=\"\n",
       "  185.305,362.045 185.305,384.952 190.639,384.952 190.639,362.045 185.305,362.045 \n",
       "  \"/>\n",
       "<polygon clip-path=\"url(#clip02)\" points=\"\n",
       "190.639,320.813 190.639,384.952 195.974,384.952 195.974,320.813 190.639,320.813 190.639,320.813 \n",
       "  \" fill=\"#0099ff\" fill-opacity=\"1\"/>\n",
       "<polyline clip-path=\"url(#clip02)\" style=\"stroke:#00002d; stroke-width:0.8; stroke-opacity:1; fill:none\" points=\"\n",
       "  190.639,320.813 190.639,384.952 195.974,384.952 195.974,320.813 190.639,320.813 \n",
       "  \"/>\n",
       "<polygon clip-path=\"url(#clip02)\" points=\"\n",
       "195.974,352.119 195.974,384.952 201.308,384.952 201.308,352.119 195.974,352.119 195.974,352.119 \n",
       "  \" fill=\"#0099ff\" fill-opacity=\"1\"/>\n",
       "<polyline clip-path=\"url(#clip02)\" style=\"stroke:#00002d; stroke-width:0.8; stroke-opacity:1; fill:none\" points=\"\n",
       "  195.974,352.119 195.974,384.952 201.308,384.952 201.308,352.119 195.974,352.119 \n",
       "  \"/>\n",
       "<polygon clip-path=\"url(#clip02)\" points=\"\n",
       "201.308,349.828 201.308,384.952 206.643,384.952 206.643,349.828 201.308,349.828 201.308,349.828 \n",
       "  \" fill=\"#0099ff\" fill-opacity=\"1\"/>\n",
       "<polyline clip-path=\"url(#clip02)\" style=\"stroke:#00002d; stroke-width:0.8; stroke-opacity:1; fill:none\" points=\"\n",
       "  201.308,349.828 201.308,384.952 206.643,384.952 206.643,349.828 201.308,349.828 \n",
       "  \"/>\n",
       "<polygon clip-path=\"url(#clip02)\" points=\"\n",
       "206.643,345.247 206.643,384.952 211.977,384.952 211.977,345.247 206.643,345.247 206.643,345.247 \n",
       "  \" fill=\"#0099ff\" fill-opacity=\"1\"/>\n",
       "<polyline clip-path=\"url(#clip02)\" style=\"stroke:#00002d; stroke-width:0.8; stroke-opacity:1; fill:none\" points=\"\n",
       "  206.643,345.247 206.643,384.952 211.977,384.952 211.977,345.247 206.643,345.247 \n",
       "  \"/>\n",
       "<polygon clip-path=\"url(#clip02)\" points=\"\n",
       "211.977,294.089 211.977,384.952 217.312,384.952 217.312,294.089 211.977,294.089 211.977,294.089 \n",
       "  \" fill=\"#0099ff\" fill-opacity=\"1\"/>\n",
       "<polyline clip-path=\"url(#clip02)\" style=\"stroke:#00002d; stroke-width:0.8; stroke-opacity:1; fill:none\" points=\"\n",
       "  211.977,294.089 211.977,384.952 217.312,384.952 217.312,294.089 211.977,294.089 \n",
       "  \"/>\n",
       "<polygon clip-path=\"url(#clip02)\" points=\"\n",
       "217.312,323.104 217.312,384.952 222.646,384.952 222.646,323.104 217.312,323.104 217.312,323.104 \n",
       "  \" fill=\"#0099ff\" fill-opacity=\"1\"/>\n",
       "<polyline clip-path=\"url(#clip02)\" style=\"stroke:#00002d; stroke-width:0.8; stroke-opacity:1; fill:none\" points=\"\n",
       "  217.312,323.104 217.312,384.952 222.646,384.952 222.646,323.104 217.312,323.104 \n",
       "  \"/>\n",
       "<polygon clip-path=\"url(#clip02)\" points=\"\n",
       "222.646,323.867 222.646,384.952 227.981,384.952 227.981,323.867 222.646,323.867 222.646,323.867 \n",
       "  \" fill=\"#0099ff\" fill-opacity=\"1\"/>\n",
       "<polyline clip-path=\"url(#clip02)\" style=\"stroke:#00002d; stroke-width:0.8; stroke-opacity:1; fill:none\" points=\"\n",
       "  222.646,323.867 222.646,384.952 227.981,384.952 227.981,323.867 222.646,323.867 \n",
       "  \"/>\n",
       "<polygon clip-path=\"url(#clip02)\" points=\"\n",
       "227.981,233.004 227.981,384.952 233.316,384.952 233.316,233.004 227.981,233.004 227.981,233.004 \n",
       "  \" fill=\"#0099ff\" fill-opacity=\"1\"/>\n",
       "<polyline clip-path=\"url(#clip02)\" style=\"stroke:#00002d; stroke-width:0.8; stroke-opacity:1; fill:none\" points=\"\n",
       "  227.981,233.004 227.981,384.952 233.316,384.952 233.316,233.004 227.981,233.004 \n",
       "  \"/>\n",
       "<polygon clip-path=\"url(#clip02)\" points=\"\n",
       "233.316,300.961 233.316,384.952 238.65,384.952 238.65,300.961 233.316,300.961 233.316,300.961 \n",
       "  \" fill=\"#0099ff\" fill-opacity=\"1\"/>\n",
       "<polyline clip-path=\"url(#clip02)\" style=\"stroke:#00002d; stroke-width:0.8; stroke-opacity:1; fill:none\" points=\"\n",
       "  233.316,300.961 233.316,384.952 238.65,384.952 238.65,300.961 233.316,300.961 \n",
       "  \"/>\n",
       "<polygon clip-path=\"url(#clip02)\" points=\"\n",
       "238.65,291.034 238.65,384.952 243.985,384.952 243.985,291.034 238.65,291.034 238.65,291.034 \n",
       "  \" fill=\"#0099ff\" fill-opacity=\"1\"/>\n",
       "<polyline clip-path=\"url(#clip02)\" style=\"stroke:#00002d; stroke-width:0.8; stroke-opacity:1; fill:none\" points=\"\n",
       "  238.65,291.034 238.65,384.952 243.985,384.952 243.985,291.034 238.65,291.034 \n",
       "  \"/>\n",
       "<polygon clip-path=\"url(#clip02)\" points=\"\n",
       "243.985,203.225 243.985,384.952 249.319,384.952 249.319,203.225 243.985,203.225 243.985,203.225 \n",
       "  \" fill=\"#0099ff\" fill-opacity=\"1\"/>\n",
       "<polyline clip-path=\"url(#clip02)\" style=\"stroke:#00002d; stroke-width:0.8; stroke-opacity:1; fill:none\" points=\"\n",
       "  243.985,203.225 243.985,384.952 249.319,384.952 249.319,203.225 243.985,203.225 \n",
       "  \"/>\n",
       "<polygon clip-path=\"url(#clip02)\" points=\"\n",
       "249.319,263.546 249.319,384.952 254.654,384.952 254.654,263.546 249.319,263.546 249.319,263.546 \n",
       "  \" fill=\"#0099ff\" fill-opacity=\"1\"/>\n",
       "<polyline clip-path=\"url(#clip02)\" style=\"stroke:#00002d; stroke-width:0.8; stroke-opacity:1; fill:none\" points=\"\n",
       "  249.319,263.546 249.319,384.952 254.654,384.952 254.654,263.546 249.319,263.546 \n",
       "  \"/>\n",
       "<polygon clip-path=\"url(#clip02)\" points=\"\n",
       "254.654,272.709 254.654,384.952 259.988,384.952 259.988,272.709 254.654,272.709 254.654,272.709 \n",
       "  \" fill=\"#0099ff\" fill-opacity=\"1\"/>\n",
       "<polyline clip-path=\"url(#clip02)\" style=\"stroke:#00002d; stroke-width:0.8; stroke-opacity:1; fill:none\" points=\"\n",
       "  254.654,272.709 254.654,384.952 259.988,384.952 259.988,272.709 254.654,272.709 \n",
       "  \"/>\n",
       "<polygon clip-path=\"url(#clip02)\" points=\"\n",
       "259.988,275 259.988,384.952 265.323,384.952 265.323,275 259.988,275 259.988,275 \n",
       "  \" fill=\"#0099ff\" fill-opacity=\"1\"/>\n",
       "<polyline clip-path=\"url(#clip02)\" style=\"stroke:#00002d; stroke-width:0.8; stroke-opacity:1; fill:none\" points=\"\n",
       "  259.988,275 259.988,384.952 265.323,384.952 265.323,275 259.988,275 \n",
       "  \"/>\n",
       "<polygon clip-path=\"url(#clip02)\" points=\"\n",
       "265.323,105.49 265.323,384.952 270.657,384.952 270.657,105.49 265.323,105.49 265.323,105.49 \n",
       "  \" fill=\"#0099ff\" fill-opacity=\"1\"/>\n",
       "<polyline clip-path=\"url(#clip02)\" style=\"stroke:#00002d; stroke-width:0.8; stroke-opacity:1; fill:none\" points=\"\n",
       "  265.323,105.49 265.323,384.952 270.657,384.952 270.657,105.49 265.323,105.49 \n",
       "  \"/>\n",
       "<polygon clip-path=\"url(#clip02)\" points=\"\n",
       "270.657,236.822 270.657,384.952 275.992,384.952 275.992,236.822 270.657,236.822 270.657,236.822 \n",
       "  \" fill=\"#0099ff\" fill-opacity=\"1\"/>\n",
       "<polyline clip-path=\"url(#clip02)\" style=\"stroke:#00002d; stroke-width:0.8; stroke-opacity:1; fill:none\" points=\"\n",
       "  270.657,236.822 270.657,384.952 275.992,384.952 275.992,236.822 270.657,236.822 \n",
       "  \"/>\n",
       "<polygon clip-path=\"url(#clip02)\" points=\"\n",
       "275.992,239.113 275.992,384.952 281.326,384.952 281.326,239.113 275.992,239.113 275.992,239.113 \n",
       "  \" fill=\"#0099ff\" fill-opacity=\"1\"/>\n",
       "<polyline clip-path=\"url(#clip02)\" style=\"stroke:#00002d; stroke-width:0.8; stroke-opacity:1; fill:none\" points=\"\n",
       "  275.992,239.113 275.992,384.952 281.326,384.952 281.326,239.113 275.992,239.113 \n",
       "  \"/>\n",
       "<polygon clip-path=\"url(#clip02)\" points=\"\n",
       "281.326,63.4944 281.326,384.952 286.661,384.952 286.661,63.4944 281.326,63.4944 281.326,63.4944 \n",
       "  \" fill=\"#0099ff\" fill-opacity=\"1\"/>\n",
       "<polyline clip-path=\"url(#clip02)\" style=\"stroke:#00002d; stroke-width:0.8; stroke-opacity:1; fill:none\" points=\"\n",
       "  281.326,63.4944 281.326,384.952 286.661,384.952 286.661,63.4944 281.326,63.4944 \n",
       "  \"/>\n",
       "<polygon clip-path=\"url(#clip02)\" points=\"\n",
       "286.661,200.171 286.661,384.952 291.995,384.952 291.995,200.171 286.661,200.171 286.661,200.171 \n",
       "  \" fill=\"#0099ff\" fill-opacity=\"1\"/>\n",
       "<polyline clip-path=\"url(#clip02)\" style=\"stroke:#00002d; stroke-width:0.8; stroke-opacity:1; fill:none\" points=\"\n",
       "  286.661,200.171 286.661,384.952 291.995,384.952 291.995,200.171 286.661,200.171 \n",
       "  \"/>\n",
       "<polygon clip-path=\"url(#clip02)\" points=\"\n",
       "291.995,192.536 291.995,384.952 297.33,384.952 297.33,192.536 291.995,192.536 291.995,192.536 \n",
       "  \" fill=\"#0099ff\" fill-opacity=\"1\"/>\n",
       "<polyline clip-path=\"url(#clip02)\" style=\"stroke:#00002d; stroke-width:0.8; stroke-opacity:1; fill:none\" points=\"\n",
       "  291.995,192.536 291.995,384.952 297.33,384.952 297.33,192.536 291.995,192.536 \n",
       "  \"/>\n",
       "<polygon clip-path=\"url(#clip02)\" points=\"\n",
       "297.33,203.225 297.33,384.952 302.664,384.952 302.664,203.225 297.33,203.225 297.33,203.225 \n",
       "  \" fill=\"#0099ff\" fill-opacity=\"1\"/>\n",
       "<polyline clip-path=\"url(#clip02)\" style=\"stroke:#00002d; stroke-width:0.8; stroke-opacity:1; fill:none\" points=\"\n",
       "  297.33,203.225 297.33,384.952 302.664,384.952 302.664,203.225 297.33,203.225 \n",
       "  \"/>\n",
       "<polygon clip-path=\"url(#clip02)\" points=\"\n",
       "302.664,46.6962 302.664,384.952 307.999,384.952 307.999,46.6962 302.664,46.6962 302.664,46.6962 \n",
       "  \" fill=\"#0099ff\" fill-opacity=\"1\"/>\n",
       "<polyline clip-path=\"url(#clip02)\" style=\"stroke:#00002d; stroke-width:0.8; stroke-opacity:1; fill:none\" points=\"\n",
       "  302.664,46.6962 302.664,384.952 307.999,384.952 307.999,46.6962 302.664,46.6962 \n",
       "  \"/>\n",
       "<polygon clip-path=\"url(#clip02)\" points=\"\n",
       "307.999,203.225 307.999,384.952 313.333,384.952 313.333,203.225 307.999,203.225 307.999,203.225 \n",
       "  \" fill=\"#0099ff\" fill-opacity=\"1\"/>\n",
       "<polyline clip-path=\"url(#clip02)\" style=\"stroke:#00002d; stroke-width:0.8; stroke-opacity:1; fill:none\" points=\"\n",
       "  307.999,203.225 307.999,384.952 313.333,384.952 313.333,203.225 307.999,203.225 \n",
       "  \"/>\n",
       "<polygon clip-path=\"url(#clip02)\" points=\"\n",
       "313.333,178.028 313.333,384.952 318.668,384.952 318.668,178.028 313.333,178.028 313.333,178.028 \n",
       "  \" fill=\"#0099ff\" fill-opacity=\"1\"/>\n",
       "<polyline clip-path=\"url(#clip02)\" style=\"stroke:#00002d; stroke-width:0.8; stroke-opacity:1; fill:none\" points=\"\n",
       "  313.333,178.028 313.333,384.952 318.668,384.952 318.668,178.028 313.333,178.028 \n",
       "  \"/>\n",
       "<polygon clip-path=\"url(#clip02)\" points=\"\n",
       "318.668,6.22768 318.668,384.952 324.002,384.952 324.002,6.22768 318.668,6.22768 318.668,6.22768 \n",
       "  \" fill=\"#0099ff\" fill-opacity=\"1\"/>\n",
       "<polyline clip-path=\"url(#clip02)\" style=\"stroke:#00002d; stroke-width:0.8; stroke-opacity:1; fill:none\" points=\"\n",
       "  318.668,6.22768 318.668,384.952 324.002,384.952 324.002,6.22768 318.668,6.22768 \n",
       "  \"/>\n",
       "<polygon clip-path=\"url(#clip02)\" points=\"\n",
       "324.002,202.462 324.002,384.952 329.337,384.952 329.337,202.462 324.002,202.462 324.002,202.462 \n",
       "  \" fill=\"#0099ff\" fill-opacity=\"1\"/>\n",
       "<polyline clip-path=\"url(#clip02)\" style=\"stroke:#00002d; stroke-width:0.8; stroke-opacity:1; fill:none\" points=\"\n",
       "  324.002,202.462 324.002,384.952 329.337,384.952 329.337,202.462 324.002,202.462 \n",
       "  \"/>\n",
       "<polygon clip-path=\"url(#clip02)\" points=\"\n",
       "329.337,190.245 329.337,384.952 334.671,384.952 334.671,190.245 329.337,190.245 329.337,190.245 \n",
       "  \" fill=\"#0099ff\" fill-opacity=\"1\"/>\n",
       "<polyline clip-path=\"url(#clip02)\" style=\"stroke:#00002d; stroke-width:0.8; stroke-opacity:1; fill:none\" points=\"\n",
       "  329.337,190.245 329.337,384.952 334.671,384.952 334.671,190.245 329.337,190.245 \n",
       "  \"/>\n",
       "<polygon clip-path=\"url(#clip02)\" points=\"\n",
       "334.671,183.373 334.671,384.952 340.006,384.952 340.006,183.373 334.671,183.373 334.671,183.373 \n",
       "  \" fill=\"#0099ff\" fill-opacity=\"1\"/>\n",
       "<polyline clip-path=\"url(#clip02)\" style=\"stroke:#00002d; stroke-width:0.8; stroke-opacity:1; fill:none\" points=\"\n",
       "  334.671,183.373 334.671,384.952 340.006,384.952 340.006,183.373 334.671,183.373 \n",
       "  \"/>\n",
       "<polygon clip-path=\"url(#clip02)\" points=\"\n",
       "340.006,3.93701 340.006,384.952 345.34,384.952 345.34,3.93701 340.006,3.93701 340.006,3.93701 \n",
       "  \" fill=\"#0099ff\" fill-opacity=\"1\"/>\n",
       "<polyline clip-path=\"url(#clip02)\" style=\"stroke:#00002d; stroke-width:0.8; stroke-opacity:1; fill:none\" points=\"\n",
       "  340.006,3.93701 340.006,384.952 345.34,384.952 345.34,3.93701 340.006,3.93701 \n",
       "  \"/>\n",
       "<polygon clip-path=\"url(#clip02)\" points=\"\n",
       "345.34,220.787 345.34,384.952 350.675,384.952 350.675,220.787 345.34,220.787 345.34,220.787 \n",
       "  \" fill=\"#0099ff\" fill-opacity=\"1\"/>\n",
       "<polyline clip-path=\"url(#clip02)\" style=\"stroke:#00002d; stroke-width:0.8; stroke-opacity:1; fill:none\" points=\"\n",
       "  345.34,220.787 345.34,384.952 350.675,384.952 350.675,220.787 345.34,220.787 \n",
       "  \"/>\n",
       "<polygon clip-path=\"url(#clip02)\" points=\"\n",
       "350.675,215.442 350.675,384.952 356.01,384.952 356.01,215.442 350.675,215.442 350.675,215.442 \n",
       "  \" fill=\"#0099ff\" fill-opacity=\"1\"/>\n",
       "<polyline clip-path=\"url(#clip02)\" style=\"stroke:#00002d; stroke-width:0.8; stroke-opacity:1; fill:none\" points=\"\n",
       "  350.675,215.442 350.675,384.952 356.01,384.952 356.01,215.442 350.675,215.442 \n",
       "  \"/>\n",
       "<polygon clip-path=\"url(#clip02)\" points=\"\n",
       "356.01,71.13 356.01,384.952 361.344,384.952 361.344,71.13 356.01,71.13 356.01,71.13 \n",
       "  \" fill=\"#0099ff\" fill-opacity=\"1\"/>\n",
       "<polyline clip-path=\"url(#clip02)\" style=\"stroke:#00002d; stroke-width:0.8; stroke-opacity:1; fill:none\" points=\"\n",
       "  356.01,71.13 356.01,384.952 361.344,384.952 361.344,71.13 356.01,71.13 \n",
       "  \"/>\n",
       "<polygon clip-path=\"url(#clip02)\" points=\"\n",
       "361.344,234.531 361.344,384.952 366.679,384.952 366.679,234.531 361.344,234.531 361.344,234.531 \n",
       "  \" fill=\"#0099ff\" fill-opacity=\"1\"/>\n",
       "<polyline clip-path=\"url(#clip02)\" style=\"stroke:#00002d; stroke-width:0.8; stroke-opacity:1; fill:none\" points=\"\n",
       "  361.344,234.531 361.344,384.952 366.679,384.952 366.679,234.531 361.344,234.531 \n",
       "  \"/>\n",
       "<polygon clip-path=\"url(#clip02)\" points=\"\n",
       "366.679,245.221 366.679,384.952 372.013,384.952 372.013,245.221 366.679,245.221 366.679,245.221 \n",
       "  \" fill=\"#0099ff\" fill-opacity=\"1\"/>\n",
       "<polyline clip-path=\"url(#clip02)\" style=\"stroke:#00002d; stroke-width:0.8; stroke-opacity:1; fill:none\" points=\"\n",
       "  366.679,245.221 366.679,384.952 372.013,384.952 372.013,245.221 366.679,245.221 \n",
       "  \"/>\n",
       "<polygon clip-path=\"url(#clip02)\" points=\"\n",
       "372.013,250.566 372.013,384.952 377.348,384.952 377.348,250.566 372.013,250.566 372.013,250.566 \n",
       "  \" fill=\"#0099ff\" fill-opacity=\"1\"/>\n",
       "<polyline clip-path=\"url(#clip02)\" style=\"stroke:#00002d; stroke-width:0.8; stroke-opacity:1; fill:none\" points=\"\n",
       "  372.013,250.566 372.013,384.952 377.348,384.952 377.348,250.566 372.013,250.566 \n",
       "  \"/>\n",
       "<polygon clip-path=\"url(#clip02)\" points=\"\n",
       "377.348,121.525 377.348,384.952 382.682,384.952 382.682,121.525 377.348,121.525 377.348,121.525 \n",
       "  \" fill=\"#0099ff\" fill-opacity=\"1\"/>\n",
       "<polyline clip-path=\"url(#clip02)\" style=\"stroke:#00002d; stroke-width:0.8; stroke-opacity:1; fill:none\" points=\"\n",
       "  377.348,121.525 377.348,384.952 382.682,384.952 382.682,121.525 377.348,121.525 \n",
       "  \"/>\n",
       "<polygon clip-path=\"url(#clip02)\" points=\"\n",
       "382.682,262.019 382.682,384.952 388.017,384.952 388.017,262.019 382.682,262.019 382.682,262.019 \n",
       "  \" fill=\"#0099ff\" fill-opacity=\"1\"/>\n",
       "<polyline clip-path=\"url(#clip02)\" style=\"stroke:#00002d; stroke-width:0.8; stroke-opacity:1; fill:none\" points=\"\n",
       "  382.682,262.019 382.682,384.952 388.017,384.952 388.017,262.019 382.682,262.019 \n",
       "  \"/>\n",
       "<polygon clip-path=\"url(#clip02)\" points=\"\n",
       "388.017,271.182 388.017,384.952 393.351,384.952 393.351,271.182 388.017,271.182 388.017,271.182 \n",
       "  \" fill=\"#0099ff\" fill-opacity=\"1\"/>\n",
       "<polyline clip-path=\"url(#clip02)\" style=\"stroke:#00002d; stroke-width:0.8; stroke-opacity:1; fill:none\" points=\"\n",
       "  388.017,271.182 388.017,384.952 393.351,384.952 393.351,271.182 388.017,271.182 \n",
       "  \"/>\n",
       "<polygon clip-path=\"url(#clip02)\" points=\"\n",
       "393.351,178.792 393.351,384.952 398.686,384.952 398.686,178.792 393.351,178.792 393.351,178.792 \n",
       "  \" fill=\"#0099ff\" fill-opacity=\"1\"/>\n",
       "<polyline clip-path=\"url(#clip02)\" style=\"stroke:#00002d; stroke-width:0.8; stroke-opacity:1; fill:none\" points=\"\n",
       "  393.351,178.792 393.351,384.952 398.686,384.952 398.686,178.792 393.351,178.792 \n",
       "  \"/>\n",
       "<polygon clip-path=\"url(#clip02)\" points=\"\n",
       "398.686,278.817 398.686,384.952 404.02,384.952 404.02,278.817 398.686,278.817 398.686,278.817 \n",
       "  \" fill=\"#0099ff\" fill-opacity=\"1\"/>\n",
       "<polyline clip-path=\"url(#clip02)\" style=\"stroke:#00002d; stroke-width:0.8; stroke-opacity:1; fill:none\" points=\"\n",
       "  398.686,278.817 398.686,384.952 404.02,384.952 404.02,278.817 398.686,278.817 \n",
       "  \"/>\n",
       "<polygon clip-path=\"url(#clip02)\" points=\"\n",
       "404.02,291.034 404.02,384.952 409.355,384.952 409.355,291.034 404.02,291.034 404.02,291.034 \n",
       "  \" fill=\"#0099ff\" fill-opacity=\"1\"/>\n",
       "<polyline clip-path=\"url(#clip02)\" style=\"stroke:#00002d; stroke-width:0.8; stroke-opacity:1; fill:none\" points=\"\n",
       "  404.02,291.034 404.02,384.952 409.355,384.952 409.355,291.034 404.02,291.034 \n",
       "  \"/>\n",
       "<polygon clip-path=\"url(#clip02)\" points=\"\n",
       "409.355,255.147 409.355,384.952 414.689,384.952 414.689,255.147 409.355,255.147 409.355,255.147 \n",
       "  \" fill=\"#0099ff\" fill-opacity=\"1\"/>\n",
       "<polyline clip-path=\"url(#clip02)\" style=\"stroke:#00002d; stroke-width:0.8; stroke-opacity:1; fill:none\" points=\"\n",
       "  409.355,255.147 409.355,384.952 414.689,384.952 414.689,255.147 409.355,255.147 \n",
       "  \"/>\n",
       "<polygon clip-path=\"url(#clip02)\" points=\"\n",
       "414.689,321.577 414.689,384.952 420.024,384.952 420.024,321.577 414.689,321.577 414.689,321.577 \n",
       "  \" fill=\"#0099ff\" fill-opacity=\"1\"/>\n",
       "<polyline clip-path=\"url(#clip02)\" style=\"stroke:#00002d; stroke-width:0.8; stroke-opacity:1; fill:none\" points=\"\n",
       "  414.689,321.577 414.689,384.952 420.024,384.952 420.024,321.577 414.689,321.577 \n",
       "  \"/>\n",
       "<polygon clip-path=\"url(#clip02)\" points=\"\n",
       "420.024,327.685 420.024,384.952 425.358,384.952 425.358,327.685 420.024,327.685 420.024,327.685 \n",
       "  \" fill=\"#0099ff\" fill-opacity=\"1\"/>\n",
       "<polyline clip-path=\"url(#clip02)\" style=\"stroke:#00002d; stroke-width:0.8; stroke-opacity:1; fill:none\" points=\"\n",
       "  420.024,327.685 420.024,384.952 425.358,384.952 425.358,327.685 420.024,327.685 \n",
       "  \"/>\n",
       "<polygon clip-path=\"url(#clip02)\" points=\"\n",
       "425.358,332.266 425.358,384.952 430.693,384.952 430.693,332.266 425.358,332.266 425.358,332.266 \n",
       "  \" fill=\"#0099ff\" fill-opacity=\"1\"/>\n",
       "<polyline clip-path=\"url(#clip02)\" style=\"stroke:#00002d; stroke-width:0.8; stroke-opacity:1; fill:none\" points=\"\n",
       "  425.358,332.266 425.358,384.952 430.693,384.952 430.693,332.266 425.358,332.266 \n",
       "  \"/>\n",
       "<polygon clip-path=\"url(#clip02)\" points=\"\n",
       "430.693,287.217 430.693,384.952 436.027,384.952 436.027,287.217 430.693,287.217 430.693,287.217 \n",
       "  \" fill=\"#0099ff\" fill-opacity=\"1\"/>\n",
       "<polyline clip-path=\"url(#clip02)\" style=\"stroke:#00002d; stroke-width:0.8; stroke-opacity:1; fill:none\" points=\"\n",
       "  430.693,287.217 430.693,384.952 436.027,384.952 436.027,287.217 430.693,287.217 \n",
       "  \"/>\n",
       "<polygon clip-path=\"url(#clip02)\" points=\"\n",
       "436.027,339.138 436.027,384.952 441.362,384.952 441.362,339.138 436.027,339.138 436.027,339.138 \n",
       "  \" fill=\"#0099ff\" fill-opacity=\"1\"/>\n",
       "<polyline clip-path=\"url(#clip02)\" style=\"stroke:#00002d; stroke-width:0.8; stroke-opacity:1; fill:none\" points=\"\n",
       "  436.027,339.138 436.027,384.952 441.362,384.952 441.362,339.138 436.027,339.138 \n",
       "  \"/>\n",
       "<polygon clip-path=\"url(#clip02)\" points=\"\n",
       "441.362,340.666 441.362,384.952 446.696,384.952 446.696,340.666 441.362,340.666 441.362,340.666 \n",
       "  \" fill=\"#0099ff\" fill-opacity=\"1\"/>\n",
       "<polyline clip-path=\"url(#clip02)\" style=\"stroke:#00002d; stroke-width:0.8; stroke-opacity:1; fill:none\" points=\"\n",
       "  441.362,340.666 441.362,384.952 446.696,384.952 446.696,340.666 441.362,340.666 \n",
       "  \"/>\n",
       "<polygon clip-path=\"url(#clip02)\" points=\"\n",
       "446.696,323.867 446.696,384.952 452.031,384.952 452.031,323.867 446.696,323.867 446.696,323.867 \n",
       "  \" fill=\"#0099ff\" fill-opacity=\"1\"/>\n",
       "<polyline clip-path=\"url(#clip02)\" style=\"stroke:#00002d; stroke-width:0.8; stroke-opacity:1; fill:none\" points=\"\n",
       "  446.696,323.867 446.696,384.952 452.031,384.952 452.031,323.867 446.696,323.867 \n",
       "  \"/>\n",
       "<polygon clip-path=\"url(#clip02)\" points=\"\n",
       "452.031,357.464 452.031,384.952 457.365,384.952 457.365,357.464 452.031,357.464 452.031,357.464 \n",
       "  \" fill=\"#0099ff\" fill-opacity=\"1\"/>\n",
       "<polyline clip-path=\"url(#clip02)\" style=\"stroke:#00002d; stroke-width:0.8; stroke-opacity:1; fill:none\" points=\"\n",
       "  452.031,357.464 452.031,384.952 457.365,384.952 457.365,357.464 452.031,357.464 \n",
       "  \"/>\n",
       "<polygon clip-path=\"url(#clip02)\" points=\"\n",
       "457.365,361.282 457.365,384.952 462.7,384.952 462.7,361.282 457.365,361.282 457.365,361.282 \n",
       "  \" fill=\"#0099ff\" fill-opacity=\"1\"/>\n",
       "<polyline clip-path=\"url(#clip02)\" style=\"stroke:#00002d; stroke-width:0.8; stroke-opacity:1; fill:none\" points=\"\n",
       "  457.365,361.282 457.365,384.952 462.7,384.952 462.7,361.282 457.365,361.282 \n",
       "  \"/>\n",
       "<polygon clip-path=\"url(#clip02)\" points=\"\n",
       "462.7,362.809 462.7,384.952 468.034,384.952 468.034,362.809 462.7,362.809 462.7,362.809 \n",
       "  \" fill=\"#0099ff\" fill-opacity=\"1\"/>\n",
       "<polyline clip-path=\"url(#clip02)\" style=\"stroke:#00002d; stroke-width:0.8; stroke-opacity:1; fill:none\" points=\"\n",
       "  462.7,362.809 462.7,384.952 468.034,384.952 468.034,362.809 462.7,362.809 \n",
       "  \"/>\n",
       "<polygon clip-path=\"url(#clip02)\" points=\"\n",
       "468.034,353.646 468.034,384.952 473.369,384.952 473.369,353.646 468.034,353.646 468.034,353.646 \n",
       "  \" fill=\"#0099ff\" fill-opacity=\"1\"/>\n",
       "<polyline clip-path=\"url(#clip02)\" style=\"stroke:#00002d; stroke-width:0.8; stroke-opacity:1; fill:none\" points=\"\n",
       "  468.034,353.646 468.034,384.952 473.369,384.952 473.369,353.646 468.034,353.646 \n",
       "  \"/>\n",
       "<polygon clip-path=\"url(#clip02)\" points=\"\n",
       "473.369,371.208 473.369,384.952 478.704,384.952 478.704,371.208 473.369,371.208 473.369,371.208 \n",
       "  \" fill=\"#0099ff\" fill-opacity=\"1\"/>\n",
       "<polyline clip-path=\"url(#clip02)\" style=\"stroke:#00002d; stroke-width:0.8; stroke-opacity:1; fill:none\" points=\"\n",
       "  473.369,371.208 473.369,384.952 478.704,384.952 478.704,371.208 473.369,371.208 \n",
       "  \"/>\n",
       "<polygon clip-path=\"url(#clip02)\" points=\"\n",
       "478.704,372.735 478.704,384.952 484.038,384.952 484.038,372.735 478.704,372.735 478.704,372.735 \n",
       "  \" fill=\"#0099ff\" fill-opacity=\"1\"/>\n",
       "<polyline clip-path=\"url(#clip02)\" style=\"stroke:#00002d; stroke-width:0.8; stroke-opacity:1; fill:none\" points=\"\n",
       "  478.704,372.735 478.704,384.952 484.038,384.952 484.038,372.735 478.704,372.735 \n",
       "  \"/>\n",
       "<polygon clip-path=\"url(#clip02)\" points=\"\n",
       "484.038,369.681 484.038,384.952 489.373,384.952 489.373,369.681 484.038,369.681 484.038,369.681 \n",
       "  \" fill=\"#0099ff\" fill-opacity=\"1\"/>\n",
       "<polyline clip-path=\"url(#clip02)\" style=\"stroke:#00002d; stroke-width:0.8; stroke-opacity:1; fill:none\" points=\"\n",
       "  484.038,369.681 484.038,384.952 489.373,384.952 489.373,369.681 484.038,369.681 \n",
       "  \"/>\n",
       "<polygon clip-path=\"url(#clip02)\" points=\"\n",
       "489.373,375.789 489.373,384.952 494.707,384.952 494.707,375.789 489.373,375.789 489.373,375.789 \n",
       "  \" fill=\"#0099ff\" fill-opacity=\"1\"/>\n",
       "<polyline clip-path=\"url(#clip02)\" style=\"stroke:#00002d; stroke-width:0.8; stroke-opacity:1; fill:none\" points=\"\n",
       "  489.373,375.789 489.373,384.952 494.707,384.952 494.707,375.789 489.373,375.789 \n",
       "  \"/>\n",
       "<polygon clip-path=\"url(#clip02)\" points=\"\n",
       "494.707,378.08 494.707,384.952 500.042,384.952 500.042,378.08 494.707,378.08 494.707,378.08 \n",
       "  \" fill=\"#0099ff\" fill-opacity=\"1\"/>\n",
       "<polyline clip-path=\"url(#clip02)\" style=\"stroke:#00002d; stroke-width:0.8; stroke-opacity:1; fill:none\" points=\"\n",
       "  494.707,378.08 494.707,384.952 500.042,384.952 500.042,378.08 494.707,378.08 \n",
       "  \"/>\n",
       "<polygon clip-path=\"url(#clip02)\" points=\"\n",
       "500.042,381.134 500.042,384.952 505.376,384.952 505.376,381.134 500.042,381.134 500.042,381.134 \n",
       "  \" fill=\"#0099ff\" fill-opacity=\"1\"/>\n",
       "<polyline clip-path=\"url(#clip02)\" style=\"stroke:#00002d; stroke-width:0.8; stroke-opacity:1; fill:none\" points=\"\n",
       "  500.042,381.134 500.042,384.952 505.376,384.952 505.376,381.134 500.042,381.134 \n",
       "  \"/>\n",
       "<polygon clip-path=\"url(#clip02)\" points=\"\n",
       "505.376,379.607 505.376,384.952 510.711,384.952 510.711,379.607 505.376,379.607 505.376,379.607 \n",
       "  \" fill=\"#0099ff\" fill-opacity=\"1\"/>\n",
       "<polyline clip-path=\"url(#clip02)\" style=\"stroke:#00002d; stroke-width:0.8; stroke-opacity:1; fill:none\" points=\"\n",
       "  505.376,379.607 505.376,384.952 510.711,384.952 510.711,379.607 505.376,379.607 \n",
       "  \"/>\n",
       "<polygon clip-path=\"url(#clip02)\" points=\"\n",
       "510.711,381.898 510.711,384.952 516.045,384.952 516.045,381.898 510.711,381.898 510.711,381.898 \n",
       "  \" fill=\"#0099ff\" fill-opacity=\"1\"/>\n",
       "<polyline clip-path=\"url(#clip02)\" style=\"stroke:#00002d; stroke-width:0.8; stroke-opacity:1; fill:none\" points=\"\n",
       "  510.711,381.898 510.711,384.952 516.045,384.952 516.045,381.898 510.711,381.898 \n",
       "  \"/>\n",
       "<polygon clip-path=\"url(#clip02)\" points=\"\n",
       "516.045,382.661 516.045,384.952 521.38,384.952 521.38,382.661 516.045,382.661 516.045,382.661 \n",
       "  \" fill=\"#0099ff\" fill-opacity=\"1\"/>\n",
       "<polyline clip-path=\"url(#clip02)\" style=\"stroke:#00002d; stroke-width:0.8; stroke-opacity:1; fill:none\" points=\"\n",
       "  516.045,382.661 516.045,384.952 521.38,384.952 521.38,382.661 516.045,382.661 \n",
       "  \"/>\n",
       "<polygon clip-path=\"url(#clip02)\" points=\"\n",
       "521.38,379.607 521.38,384.952 526.714,384.952 526.714,379.607 521.38,379.607 521.38,379.607 \n",
       "  \" fill=\"#0099ff\" fill-opacity=\"1\"/>\n",
       "<polyline clip-path=\"url(#clip02)\" style=\"stroke:#00002d; stroke-width:0.8; stroke-opacity:1; fill:none\" points=\"\n",
       "  521.38,379.607 521.38,384.952 526.714,384.952 526.714,379.607 521.38,379.607 \n",
       "  \"/>\n",
       "<polygon clip-path=\"url(#clip02)\" points=\"\n",
       "526.714,382.661 526.714,384.952 532.049,384.952 532.049,382.661 526.714,382.661 526.714,382.661 \n",
       "  \" fill=\"#0099ff\" fill-opacity=\"1\"/>\n",
       "<polyline clip-path=\"url(#clip02)\" style=\"stroke:#00002d; stroke-width:0.8; stroke-opacity:1; fill:none\" points=\"\n",
       "  526.714,382.661 526.714,384.952 532.049,384.952 532.049,382.661 526.714,382.661 \n",
       "  \"/>\n",
       "<polygon clip-path=\"url(#clip02)\" points=\"\n",
       "532.049,384.188 532.049,384.952 537.383,384.952 537.383,384.188 532.049,384.188 532.049,384.188 \n",
       "  \" fill=\"#0099ff\" fill-opacity=\"1\"/>\n",
       "<polyline clip-path=\"url(#clip02)\" style=\"stroke:#00002d; stroke-width:0.8; stroke-opacity:1; fill:none\" points=\"\n",
       "  532.049,384.188 532.049,384.952 537.383,384.952 537.383,384.188 532.049,384.188 \n",
       "  \"/>\n",
       "<polygon clip-path=\"url(#clip02)\" points=\"\n",
       "537.383,384.188 537.383,384.952 542.718,384.952 542.718,384.188 537.383,384.188 537.383,384.188 \n",
       "  \" fill=\"#0099ff\" fill-opacity=\"1\"/>\n",
       "<polyline clip-path=\"url(#clip02)\" style=\"stroke:#00002d; stroke-width:0.8; stroke-opacity:1; fill:none\" points=\"\n",
       "  537.383,384.188 537.383,384.952 542.718,384.952 542.718,384.188 537.383,384.188 \n",
       "  \"/>\n",
       "<polygon clip-path=\"url(#clip02)\" points=\"\n",
       "542.718,383.425 542.718,384.952 548.052,384.952 548.052,383.425 542.718,383.425 542.718,383.425 \n",
       "  \" fill=\"#0099ff\" fill-opacity=\"1\"/>\n",
       "<polyline clip-path=\"url(#clip02)\" style=\"stroke:#00002d; stroke-width:0.8; stroke-opacity:1; fill:none\" points=\"\n",
       "  542.718,383.425 542.718,384.952 548.052,384.952 548.052,383.425 542.718,383.425 \n",
       "  \"/>\n",
       "<polygon clip-path=\"url(#clip02)\" points=\"\n",
       "548.052,384.188 548.052,384.952 553.387,384.952 553.387,384.188 548.052,384.188 548.052,384.188 \n",
       "  \" fill=\"#0099ff\" fill-opacity=\"1\"/>\n",
       "<polyline clip-path=\"url(#clip02)\" style=\"stroke:#00002d; stroke-width:0.8; stroke-opacity:1; fill:none\" points=\"\n",
       "  548.052,384.188 548.052,384.952 553.387,384.952 553.387,384.188 548.052,384.188 \n",
       "  \"/>\n",
       "<polygon clip-path=\"url(#clip02)\" points=\"\n",
       "553.387,384.188 553.387,384.952 558.721,384.952 558.721,384.188 553.387,384.188 553.387,384.188 \n",
       "  \" fill=\"#0099ff\" fill-opacity=\"1\"/>\n",
       "<polyline clip-path=\"url(#clip02)\" style=\"stroke:#00002d; stroke-width:0.8; stroke-opacity:1; fill:none\" points=\"\n",
       "  553.387,384.188 553.387,384.952 558.721,384.952 558.721,384.188 553.387,384.188 \n",
       "  \"/>\n",
       "<polygon clip-path=\"url(#clip02)\" points=\"\n",
       "558.721,382.661 558.721,384.952 564.056,384.952 564.056,382.661 558.721,382.661 558.721,382.661 \n",
       "  \" fill=\"#0099ff\" fill-opacity=\"1\"/>\n",
       "<polyline clip-path=\"url(#clip02)\" style=\"stroke:#00002d; stroke-width:0.8; stroke-opacity:1; fill:none\" points=\"\n",
       "  558.721,382.661 558.721,384.952 564.056,384.952 564.056,382.661 558.721,382.661 \n",
       "  \"/>\n",
       "<polygon clip-path=\"url(#clip02)\" points=\"\n",
       "564.056,384.952 564.056,384.952 569.39,384.952 569.39,384.952 564.056,384.952 564.056,384.952 \n",
       "  \" fill=\"#0099ff\" fill-opacity=\"1\"/>\n",
       "<polyline clip-path=\"url(#clip02)\" style=\"stroke:#00002d; stroke-width:0.8; stroke-opacity:1; fill:none\" points=\"\n",
       "  564.056,384.952 564.056,384.952 569.39,384.952 564.056,384.952 \n",
       "  \"/>\n",
       "<polygon clip-path=\"url(#clip02)\" points=\"\n",
       "569.39,384.952 569.39,384.952 574.725,384.952 574.725,384.952 569.39,384.952 569.39,384.952 \n",
       "  \" fill=\"#0099ff\" fill-opacity=\"1\"/>\n",
       "<polyline clip-path=\"url(#clip02)\" style=\"stroke:#00002d; stroke-width:0.8; stroke-opacity:1; fill:none\" points=\"\n",
       "  569.39,384.952 569.39,384.952 574.725,384.952 569.39,384.952 \n",
       "  \"/>\n",
       "<polygon clip-path=\"url(#clip02)\" points=\"\n",
       "574.725,384.188 574.725,384.952 580.059,384.952 580.059,384.188 574.725,384.188 574.725,384.188 \n",
       "  \" fill=\"#0099ff\" fill-opacity=\"1\"/>\n",
       "<polyline clip-path=\"url(#clip02)\" style=\"stroke:#00002d; stroke-width:0.8; stroke-opacity:1; fill:none\" points=\"\n",
       "  574.725,384.188 574.725,384.952 580.059,384.952 580.059,384.188 574.725,384.188 \n",
       "  \"/>\n",
       "<polygon clip-path=\"url(#clip00)\" points=\"\n",
       "505.547,55.057 578.063,55.057 578.063,24.817 505.547,24.817 \n",
       "  \" fill=\"#ffffff\" fill-opacity=\"1\"/>\n",
       "<polyline clip-path=\"url(#clip00)\" style=\"stroke:#00002d; stroke-width:0.8; stroke-opacity:1; fill:none\" points=\"\n",
       "  505.547,55.057 578.063,55.057 578.063,24.817 505.547,24.817 505.547,55.057 \n",
       "  \"/>\n",
       "<polygon clip-path=\"url(#clip00)\" points=\"\n",
       "511.547,45.985 547.547,45.985 547.547,33.889 511.547,33.889 511.547,45.985 \n",
       "  \" fill=\"#0099ff\" fill-opacity=\"1\"/>\n",
       "<polyline clip-path=\"url(#clip00)\" style=\"stroke:#00002d; stroke-width:0.8; stroke-opacity:1; fill:none\" points=\"\n",
       "  511.547,45.985 547.547,45.985 547.547,33.889 511.547,33.889 511.547,45.985 \n",
       "  \"/>\n",
       "<g clip-path=\"url(#clip00)\">\n",
       "<text style=\"fill:#00002d; fill-opacity:1; font-family:Arial,Helvetica Neue,Helvetica,sans-serif; font-size:12; text-anchor:start;\" transform=\"rotate(0, 553.547, 44.437)\" x=\"553.547\" y=\"44.437\">y1</text>\n",
       "</g>\n",
       "</svg>\n"
      ]
     },
     "execution_count": 50,
     "metadata": {},
     "output_type": "execute_result"
    }
   ],
   "source": [
    "using Plots; gr()\n",
    "\n",
    "histogram(data, nbins=100)"
   ]
  },
  {
   "cell_type": "markdown",
   "metadata": {},
   "source": [
    "Again, however, the high number of allocations is suspect -- in Julia, this is usually a warning that there is a \"type instability\". We again try wrapping it in a function, even though it seems so simple:"
   ]
  },
  {
   "cell_type": "code",
   "execution_count": 40,
   "metadata": {
    "collapsed": false
   },
   "outputs": [
    {
     "data": {
      "text/plain": [
       "run_walks (generic function with 1 method)"
      ]
     },
     "execution_count": 40,
     "metadata": {},
     "output_type": "execute_result"
    }
   ],
   "source": [
    "function run_walks(numwalkers, numsteps)\n",
    "\n",
    "    data = [walk(numsteps) for i in 1:numwalkers]\n",
    "\n",
    "    return data\n",
    "end"
   ]
  },
  {
   "cell_type": "code",
   "execution_count": 42,
   "metadata": {
    "collapsed": false
   },
   "outputs": [
    {
     "name": "stdout",
     "output_type": "stream",
     "text": [
      "  0.077005 seconds (7 allocations: 78.375 KB)\n"
     ]
    }
   ],
   "source": [
    "numsteps   = 1000\n",
    "numwalkers = 10000\n",
    "\n",
    "data = run_walks(1, 1)  # compile the function\n",
    "\n",
    "# now profile it:\n",
    "@time data = run_walks(numwalkers, numsteps);  "
   ]
  },
  {
   "cell_type": "markdown",
   "metadata": {},
   "source": [
    "Summary:\n",
    "- Simple simulation\n",
    "- Put everything in a function\n",
    "- Collect data using comprehensions or `push!`\n",
    "- Use `@time` (on the second run) or `@benchmark` to profile"
   ]
  },
  {
   "cell_type": "markdown",
   "metadata": {},
   "source": [
    "# DistributedArrays "
   ]
  },
  {
   "cell_type": "markdown",
   "metadata": {},
   "source": [
    "Jump to [notebook 1a.](1a. Basics of distributed arrays.ipynb) for the basics of distributed arrays in Julia."
   ]
  },
  {
   "cell_type": "markdown",
   "metadata": {},
   "source": [
    "# Basic parallelism"
   ]
  },
  {
   "cell_type": "code",
   "execution_count": null,
   "metadata": {
    "collapsed": false
   },
   "outputs": [],
   "source": [
    "addprocs(2)"
   ]
  },
  {
   "cell_type": "code",
   "execution_count": null,
   "metadata": {
    "collapsed": false
   },
   "outputs": [],
   "source": [
    "@everywhere using DistributedArrays"
   ]
  },
  {
   "cell_type": "code",
   "execution_count": null,
   "metadata": {
    "collapsed": false
   },
   "outputs": [],
   "source": [
    "@everywhere function walk(numsteps)\n",
    "    pos = 0\n",
    "\n",
    "    for j in 1:numsteps\n",
    "        \n",
    "        if rand(Bool)  # NB\n",
    "            step = -1\n",
    "        else\n",
    "            step = +1\n",
    "        end\n",
    "        \n",
    "        pos += step # ifelse(rand() < 0.5, -1, +1)\n",
    "    end\n",
    "    \n",
    "    return pos\n",
    "end"
   ]
  },
  {
   "cell_type": "code",
   "execution_count": null,
   "metadata": {
    "collapsed": false
   },
   "outputs": [],
   "source": [
    "walkers = distribute(1:numwalkers);"
   ]
  },
  {
   "cell_type": "code",
   "execution_count": null,
   "metadata": {
    "collapsed": false
   },
   "outputs": [],
   "source": [
    "walkers.indexes"
   ]
  },
  {
   "cell_type": "code",
   "execution_count": null,
   "metadata": {
    "collapsed": false
   },
   "outputs": [],
   "source": [
    "@everywhere begin\n",
    "    numsteps   = 10000\n",
    "    numwalkers = 100000 \n",
    "end\n",
    "\n",
    "walkers = distribute(1:numwalkers);\n",
    "\n",
    "@time positions = map( _ -> walk(numsteps), walkers)"
   ]
  },
  {
   "cell_type": "code",
   "execution_count": null,
   "metadata": {
    "collapsed": false
   },
   "outputs": [],
   "source": [
    "positions"
   ]
  },
  {
   "cell_type": "code",
   "execution_count": null,
   "metadata": {
    "collapsed": false
   },
   "outputs": [],
   "source": [
    "mean(positions)"
   ]
  },
  {
   "cell_type": "code",
   "execution_count": null,
   "metadata": {
    "collapsed": true
   },
   "outputs": [],
   "source": [
    "var(positions)"
   ]
  },
  {
   "cell_type": "code",
   "execution_count": null,
   "metadata": {
    "collapsed": false
   },
   "outputs": [],
   "source": [
    "squared_positions = map(x->x^2, positions);"
   ]
  },
  {
   "cell_type": "code",
   "execution_count": null,
   "metadata": {
    "collapsed": false
   },
   "outputs": [],
   "source": [
    "mean(squared_positions) ≈ var(positions)"
   ]
  },
  {
   "cell_type": "markdown",
   "metadata": {},
   "source": [
    "# Another example: random matrices"
   ]
  },
  {
   "cell_type": "code",
   "execution_count": null,
   "metadata": {
    "collapsed": false
   },
   "outputs": [],
   "source": [
    "using Plots; gr()"
   ]
  },
  {
   "cell_type": "code",
   "execution_count": null,
   "metadata": {
    "collapsed": false
   },
   "outputs": [],
   "source": [
    "addprocs(4)"
   ]
  },
  {
   "cell_type": "code",
   "execution_count": null,
   "metadata": {
    "collapsed": false
   },
   "outputs": [],
   "source": [
    "@everywhere begin\n",
    "    using DistributedArrays\n",
    "    using StatsBase\n",
    "    using Plots\n",
    "end"
   ]
  },
  {
   "cell_type": "code",
   "execution_count": null,
   "metadata": {
    "collapsed": false
   },
   "outputs": [],
   "source": [
    "@everywhere function stochastic(β = 2, n = 200)\n",
    "    h = n ^ -(1/3)\n",
    "    x = 0:h:10\n",
    "    N = length(x)\n",
    "    d = (-2 / h^2 .- x) + 2*sqrt(h*β) * randn(N) # diagonal\n",
    "    e = ones(N - 1) / h^2                     # subdiagonal\n",
    "  \n",
    "    eigvals(SymTridiagonal(d, e))[N]        # smallest negative eigenvalue\n",
    "end"
   ]
  },
  {
   "cell_type": "markdown",
   "metadata": {},
   "source": [
    "Serial version:"
   ]
  },
  {
   "cell_type": "code",
   "execution_count": null,
   "metadata": {
    "collapsed": false
   },
   "outputs": [],
   "source": [
    "println(\"Serial version\")\n",
    "\n",
    "t = 10000\n",
    "p = plot()\n",
    "for β = [1,2,4,10,20]\n",
    "    \n",
    "    z = fit(Histogram, [stochastic(β) for i = 1:t], -4:0.01:1).weights\n",
    "    plot!(midpoints(-4:0.01:1), z / sum(z) / 0.01)\n",
    "end\n",
    "p"
   ]
  },
  {
   "cell_type": "markdown",
   "metadata": {},
   "source": [
    "A related parallel construct: `@parallel`. This does a \"reduce\" operation."
   ]
  },
  {
   "cell_type": "code",
   "execution_count": null,
   "metadata": {
    "collapsed": false
   },
   "outputs": [],
   "source": [
    "println(\"@parallel version\")\n",
    "\n",
    "@everywhere t = 10000\n",
    "\n",
    "p = plot()\n",
    "\n",
    "for β = [1,2,4,10,20]\n",
    "    \n",
    "    z = @parallel (+) for p = 1:nprocs()\n",
    "        fit(Histogram, [stochastic(β) for i = 1:t], -4:0.01:1).weights\n",
    "    end\n",
    "    \n",
    "    plot!(midpoints(-4:0.01:1), z / sum(z) / 0.01)\n",
    "end\n",
    "\n",
    "p"
   ]
  },
  {
   "cell_type": "code",
   "execution_count": null,
   "metadata": {
    "collapsed": false
   },
   "outputs": [],
   "source": [
    "function dhist(x; closed=:left, nbins=10)\n",
    "    \n",
    "    hist_parts = DArray(p->fit(Histogram, localpart(x), closed=closed, nbins=nbins).weights, (nbins*length(x.pids),))\n",
    "    \n",
    "    reduce(+, map(pid -> @fetchfrom(pid, localpart(hist_parts)), hist_parts.pids))\n",
    "      \n",
    "end"
   ]
  },
  {
   "cell_type": "code",
   "execution_count": null,
   "metadata": {
    "collapsed": false
   },
   "outputs": [],
   "source": [
    "a = randn(10000)\n",
    "d = distribute(a)\n",
    "\n",
    "dhist(d)"
   ]
  },
  {
   "cell_type": "code",
   "execution_count": null,
   "metadata": {
    "collapsed": true
   },
   "outputs": [],
   "source": []
  }
 ],
 "metadata": {
  "anaconda-cloud": {},
  "kernelspec": {
   "display_name": "Julia 0.5.0",
   "language": "julia",
   "name": "julia-0.5"
  },
  "language_info": {
   "file_extension": ".jl",
   "mimetype": "application/julia",
   "name": "julia",
   "version": "0.5.0"
  },
  "toc": {
   "nav_menu": {
    "height": "30px",
    "width": "252px"
   },
   "navigate_menu": true,
   "number_sections": true,
   "sideBar": true,
   "threshold": "2",
   "toc_cell": false,
   "toc_section_display": "block",
   "toc_window_display": false
  },
  "widgets": {
   "state": {
    "26b738b3-1381-40c8-a4e4-4891c4af6f2f": {
     "views": [
      {
       "cell_index": 19
      }
     ]
    },
    "313ac77c-1e20-40ed-98a5-73eaa9f12ff1": {
     "views": [
      {
       "cell_index": 8
      }
     ]
    }
   },
   "version": "1.2.0"
  }
 },
 "nbformat": 4,
 "nbformat_minor": 2
}
