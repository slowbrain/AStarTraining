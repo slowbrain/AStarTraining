{
 "cells": [
  {
   "cell_type": "code",
   "execution_count": 1,
   "metadata": {
    "collapsed": false
   },
   "outputs": [],
   "source": [
    "# Pkg.add(\"DistributedArrays\")\n",
    "# Pkg.add(\"BenchmarkTools\")"
   ]
  },
  {
   "cell_type": "code",
   "execution_count": 1,
   "metadata": {
    "collapsed": false
   },
   "outputs": [],
   "source": [
    "using BenchmarkTools, DistributedArrays"
   ]
  },
  {
   "cell_type": "code",
   "execution_count": 10,
   "metadata": {
    "collapsed": false
   },
   "outputs": [
    {
     "name": "stdout",
     "output_type": "stream",
     "text": [
      "Using 3 workers\n"
     ]
    },
    {
     "name": "stderr",
     "output_type": "stream",
     "text": [
      "WARNING: Method definition add_workers(Any) in module Main at /home/juser/.machines.jl:2 overwritten at /home/juser/.machines.jl:2.\n"
     ]
    },
    {
     "data": {
      "text/plain": [
       "4-element Array{Int64,1}:\n",
       "  1\n",
       " 26\n",
       " 27\n",
       " 28"
      ]
     },
     "metadata": {},
     "output_type": "display_data"
    },
    {
     "name": "stderr",
     "output_type": "stream",
     "text": [
      "WARNING: Method definition run(Any) in module Main at In[9]:24 overwritten at In[10]:24.\n",
      "WARNING: Method definition run_all() in module Main at In[9]:43 overwritten at In[10]:43.\n"
     ]
    },
    {
     "name": "stdout",
     "output_type": "stream",
     "text": [
      "N:1048576; serial:0.000775949; parallel:0.318721877; ratio:0.002434564603169678\n",
      "N:2097152; serial:0.001372713; parallel:0.001092923; ratio:1.2560015664415518\n",
      "N:4194304; serial:0.00276338; parallel:0.001640407; ratio:1.6845697439720753\n",
      "N:8388608; serial:0.0065086; parallel:0.002881631; ratio:2.258651437328374\n",
      "N:16777216; serial:0.011373443; parallel:0.004955292; ratio:2.295211462815915\n",
      "N:33554432; serial:0.021115154; parallel:0.009153588; ratio:2.3067625503791516\n",
      "N:67108864; serial:0.044882957; parallel:0.017691862; ratio:2.536926695449015\n"
     ]
    },
    {
     "data": {
      "text/plain": [
       "([1048576,2097152,4194304,8388608,16777216,33554432,67108864],Any[(0.000775949,0.318722,0.00243456),(0.00137271,0.00109292,1.256),(0.00276338,0.00164041,1.68457),(0.0065086,0.00288163,2.25865),(0.0113734,0.00495529,2.29521),(0.0211152,0.00915359,2.30676),(0.044883,0.0176919,2.53693)])"
      ]
     },
     "execution_count": 10,
     "metadata": {},
     "output_type": "execute_result"
    }
   ],
   "source": [
    "# println(\"Using $numprocs processors\")\n",
    "\n",
    "rmprocs(workers())\n",
    "\n",
    "numprocs = 3\n",
    "try\n",
    "    numprocs = parse(Int, ARGS[1])\n",
    "end\n",
    "\n",
    "println(\"Using $numprocs workers\")\n",
    "\n",
    "include(\".machines.jl\")\n",
    "add_workers(numprocs)\n",
    "\n",
    "display(procs())\n",
    "\n",
    "@everywhere using DistributedArrays\n",
    "@everywhere using BenchmarkTools\n",
    "\n",
    "import Base.run\n",
    "\n",
    "function run(N)\n",
    "    \n",
    "    a = rand(N)\n",
    "    da = distribute(a)\n",
    "    # da = drand(N)\n",
    "\n",
    "    #serial_bench = @benchmark sum($a)\n",
    "    #parallel_bench = @benchmark sum($da)\n",
    "    \n",
    "    serial_median   = @elapsed sum(a)\n",
    "    parallel_median = @elapsed sum(da)\n",
    "\n",
    "    #serial_median = median(serial_bench.times)\n",
    "    #parallel_median = median(parallel_bench.times)\n",
    "\n",
    "    return (serial_median, parallel_median, \n",
    "                serial_median / parallel_median)\n",
    "#    return parallel_median\n",
    "end\n",
    "\n",
    "function run_all()\n",
    "    Ns = Int[]\n",
    "    all_data = []\n",
    "\n",
    "    N = 2^20\n",
    "    \n",
    "    while N < 10^8\n",
    "        data = run(N)\n",
    "\n",
    "        push!(Ns, N)\n",
    "        push!(all_data, data)\n",
    "\n",
    "        println(\"N:\", N, \"; serial:\", data[1],\n",
    "        \"; parallel:\", data[2], \"; ratio:\", data[3])\n",
    "\n",
    "        N *= 2\n",
    "    end\n",
    "\n",
    "    return (Ns, all_data)\n",
    "end\n",
    "\n",
    "Ns, all_data = run_all()"
   ]
  },
  {
   "cell_type": "code",
   "execution_count": null,
   "metadata": {
    "collapsed": true
   },
   "outputs": [],
   "source": []
  }
 ],
 "metadata": {
  "kernelspec": {
   "display_name": "Julia 0.5.0",
   "language": "julia",
   "name": "julia-0.5"
  },
  "language_info": {
   "file_extension": ".jl",
   "mimetype": "application/julia",
   "name": "julia",
   "version": "0.5.0"
  }
 },
 "nbformat": 4,
 "nbformat_minor": 2
}
